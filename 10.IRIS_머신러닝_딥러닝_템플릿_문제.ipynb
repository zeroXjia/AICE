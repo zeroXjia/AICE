{
 "cells": [
  {
   "cell_type": "markdown",
   "metadata": {
    "id": "JEYaVs-2FZbG"
   },
   "source": [
    "# 머신러닝, 딥러닝 IRIS템플릿(HARD)"
   ]
  },
  {
   "cell_type": "markdown",
   "metadata": {
    "id": "YXy59gFnGy91"
   },
   "source": [
    "## > 머신러닝, 딥러닝 IRIS템플릿 목적\n",
    "- 간단하게 쉽게 머신러닝, 딥러닝 모델링 만들기\n",
    "- 잘 몰라도 아래 순서에 맞게 , 이런식으로 실행하면 되겠구나 느끼기\n",
    "- 여러분이 처음 한다고 생각하고 템플릿 작성함"
   ]
  },
  {
   "cell_type": "markdown",
   "metadata": {
    "id": "38_o3kptFiCu"
   },
   "source": [
    "## > 모델링 프로세스\n",
    "1. 데이터 가져오기\n",
    "2. 데이터 분석\n",
    "3. X , y 나누기\n",
    "4. 머신러닝 모델링\n",
    "5. 딥러닝 모델링\n",
    "6. 딥러닝 성능 평가"
   ]
  },
  {
   "cell_type": "markdown",
   "metadata": {
    "id": "ClCquuufGhTN"
   },
   "source": [
    "---"
   ]
  },
  {
   "cell_type": "markdown",
   "metadata": {
    "id": "lZV4wkNeGdMI"
   },
   "source": [
    "# 1. 데이터 가져오기\n",
    "- 먼저, 데이터가 있어야 모델링을 만들수 있다.\n",
    "- 데이터 가져오는 방법에는 여러가지 있다.\n",
    " - 본인 데이터를 직접 올리는 방법\n",
    " - 기존에 제공하는 데이터 가져다 쓰는 방법"
   ]
  },
  {
   "cell_type": "code",
   "execution_count": 1,
   "metadata": {
    "id": "bVGzC0YIFQR7"
   },
   "outputs": [],
   "source": [
    "# 필요한 라이브러리 가져오기\n",
    "# 그냥 무조건 가져온다고 생각하자 : pandas, numpy, seaborn, matplotlib.pyplot\n",
    "# seaborn 설치가 되어 있지 않으면 라이브러리는 설치 필요 : !pip install seaborn\n",
    "\n",
    "import pandas as pd\n",
    "import numpy as np\n",
    "import seaborn as sns\n",
    "import matplotlib.pyplot as plt\n",
    "%config InlineBackend.figure_format = 'retina'\n"
   ]
  },
  {
   "cell_type": "code",
   "execution_count": 2,
   "metadata": {
    "colab": {
     "base_uri": "https://localhost:8080/"
    },
    "executionInfo": {
     "elapsed": 361,
     "status": "ok",
     "timestamp": 1651032992553,
     "user": {
      "displayName": "yunwoo oh",
      "userId": "01035531558844683999"
     },
     "user_tz": -540
    },
    "id": "GGckugMNFYRv",
    "outputId": "92a236b3-f922-4d77-f67f-ede21ae2810f"
   },
   "outputs": [
    {
     "data": {
      "text/plain": [
       "['anagrams',\n",
       " 'anscombe',\n",
       " 'attention',\n",
       " 'brain_networks',\n",
       " 'car_crashes',\n",
       " 'diamonds',\n",
       " 'dots',\n",
       " 'dowjones',\n",
       " 'exercise',\n",
       " 'flights',\n",
       " 'fmri',\n",
       " 'geyser',\n",
       " 'glue',\n",
       " 'healthexp',\n",
       " 'iris',\n",
       " 'mpg',\n",
       " 'penguins',\n",
       " 'planets',\n",
       " 'seaice',\n",
       " 'taxis',\n",
       " 'tips',\n",
       " 'titanic']"
      ]
     },
     "execution_count": 2,
     "metadata": {},
     "output_type": "execute_result"
    }
   ],
   "source": [
    "# Seaborn에서 제공하는 데이터셋 확인하기\n",
    "sns.get_dataset_names()"
   ]
  },
  {
   "cell_type": "markdown",
   "metadata": {
    "id": "CTUqlObRLA7s"
   },
   "source": [
    "#### IRIS 데이터셋 가져오기"
   ]
  },
  {
   "cell_type": "code",
   "execution_count": 3,
   "metadata": {
    "id": "LcXCrk84FYUX"
   },
   "outputs": [],
   "source": [
    "# 많이 사용하는 데이터는 'iris' , 'tips' , 'titanic'\n",
    "# 그중에서 iris 데이터셋 가져오기 \n",
    "# seaborn load_dataset('iris') 함수 활용 : 결과 iris 저장\n",
    "\n",
    "iris = sns.load_dataset('iris')\n"
   ]
  },
  {
   "cell_type": "code",
   "execution_count": 4,
   "metadata": {
    "colab": {
     "base_uri": "https://localhost:8080/"
    },
    "executionInfo": {
     "elapsed": 346,
     "status": "ok",
     "timestamp": 1651033245088,
     "user": {
      "displayName": "yunwoo oh",
      "userId": "01035531558844683999"
     },
     "user_tz": -540
    },
    "id": "cM8-QlrsP3s3",
    "outputId": "79db4ceb-9b5b-47a2-9575-aa00c96cfecb"
   },
   "outputs": [
    {
     "data": {
      "text/plain": [
       "pandas.core.frame.DataFrame"
      ]
     },
     "execution_count": 4,
     "metadata": {},
     "output_type": "execute_result"
    }
   ],
   "source": [
    "type(iris)"
   ]
  },
  {
   "cell_type": "code",
   "execution_count": 5,
   "metadata": {
    "colab": {
     "base_uri": "https://localhost:8080/",
     "height": 206
    },
    "executionInfo": {
     "elapsed": 6,
     "status": "ok",
     "timestamp": 1649058433685,
     "user": {
      "displayName": "yunwoo oh",
      "userId": "01035531558844683999"
     },
     "user_tz": -540
    },
    "id": "UoTVDJjAFYW-",
    "outputId": "6c94fc09-1e0b-4651-eec6-1ac5cb715dfa"
   },
   "outputs": [
    {
     "data": {
      "text/html": [
       "<div>\n",
       "<style scoped>\n",
       "    .dataframe tbody tr th:only-of-type {\n",
       "        vertical-align: middle;\n",
       "    }\n",
       "\n",
       "    .dataframe tbody tr th {\n",
       "        vertical-align: top;\n",
       "    }\n",
       "\n",
       "    .dataframe thead th {\n",
       "        text-align: right;\n",
       "    }\n",
       "</style>\n",
       "<table border=\"1\" class=\"dataframe\">\n",
       "  <thead>\n",
       "    <tr style=\"text-align: right;\">\n",
       "      <th></th>\n",
       "      <th>sepal_length</th>\n",
       "      <th>sepal_width</th>\n",
       "      <th>petal_length</th>\n",
       "      <th>petal_width</th>\n",
       "      <th>species</th>\n",
       "    </tr>\n",
       "  </thead>\n",
       "  <tbody>\n",
       "    <tr>\n",
       "      <th>0</th>\n",
       "      <td>5.1</td>\n",
       "      <td>3.5</td>\n",
       "      <td>1.4</td>\n",
       "      <td>0.2</td>\n",
       "      <td>setosa</td>\n",
       "    </tr>\n",
       "    <tr>\n",
       "      <th>1</th>\n",
       "      <td>4.9</td>\n",
       "      <td>3.0</td>\n",
       "      <td>1.4</td>\n",
       "      <td>0.2</td>\n",
       "      <td>setosa</td>\n",
       "    </tr>\n",
       "    <tr>\n",
       "      <th>2</th>\n",
       "      <td>4.7</td>\n",
       "      <td>3.2</td>\n",
       "      <td>1.3</td>\n",
       "      <td>0.2</td>\n",
       "      <td>setosa</td>\n",
       "    </tr>\n",
       "    <tr>\n",
       "      <th>3</th>\n",
       "      <td>4.6</td>\n",
       "      <td>3.1</td>\n",
       "      <td>1.5</td>\n",
       "      <td>0.2</td>\n",
       "      <td>setosa</td>\n",
       "    </tr>\n",
       "    <tr>\n",
       "      <th>4</th>\n",
       "      <td>5.0</td>\n",
       "      <td>3.6</td>\n",
       "      <td>1.4</td>\n",
       "      <td>0.2</td>\n",
       "      <td>setosa</td>\n",
       "    </tr>\n",
       "  </tbody>\n",
       "</table>\n",
       "</div>"
      ],
      "text/plain": [
       "   sepal_length  sepal_width  petal_length  petal_width species\n",
       "0           5.1          3.5           1.4          0.2  setosa\n",
       "1           4.9          3.0           1.4          0.2  setosa\n",
       "2           4.7          3.2           1.3          0.2  setosa\n",
       "3           4.6          3.1           1.5          0.2  setosa\n",
       "4           5.0          3.6           1.4          0.2  setosa"
      ]
     },
     "execution_count": 5,
     "metadata": {},
     "output_type": "execute_result"
    }
   ],
   "source": [
    "# 가져온 iris 데이터 앞 5개 확인 하기\n",
    "# 자동으로 판다스 데이터프레임 형식으로 읽어짐\n",
    "\n",
    "iris.head()\n"
   ]
  },
  {
   "cell_type": "markdown",
   "metadata": {
    "id": "t1vfYoEGKq9D"
   },
   "source": [
    "![IRIS](https://blog.kakaocdn.net/dn/CJCHb/btqS1WqufxB/IMgacd6IXsCl2LLgm1lykK/img.png)"
   ]
  },
  {
   "cell_type": "markdown",
   "metadata": {
    "id": "gtGYasrCJlMV"
   },
   "source": [
    "# 2. 데이터 분석\n",
    "- 눈으로 데이터 수치를 보고 어떤 흐름인지 파악할수 있지만,\n",
    "- 시각화를 통한다면 쉽게 흐름을 파악할수 있으니, 할수 있으면 사용해라.\n",
    "- 여러분에게는 어려울수 있으니, 아, 이렇게 데이터를 가지고 시각화를 할수 있구나 느낀면 된다."
   ]
  },
  {
   "cell_type": "code",
   "execution_count": 9,
   "metadata": {
    "colab": {
     "base_uri": "https://localhost:8080/"
    },
    "executionInfo": {
     "elapsed": 426,
     "status": "ok",
     "timestamp": 1651033523535,
     "user": {
      "displayName": "yunwoo oh",
      "userId": "01035531558844683999"
     },
     "user_tz": -540
    },
    "id": "QJ1YjKp2FYZu",
    "outputId": "d9de89f6-6faf-4f62-b348-fc7cb9751c1c"
   },
   "outputs": [
    {
     "data": {
      "text/plain": [
       "setosa        50\n",
       "versicolor    50\n",
       "virginica     50\n",
       "Name: species, dtype: int64"
      ]
     },
     "execution_count": 9,
     "metadata": {},
     "output_type": "execute_result"
    }
   ],
   "source": [
    "# 간단하게 시각화해 보기\n",
    "# 여러분은 잘 모르지만, 나중에 이렇게 시각화를 할수 있구나 알기\n",
    "\n",
    "# value_counts 함수 이용해서 species 컬럼에 대한 분포 확인\n",
    "\n",
    "iris['species'].value_counts()\n"
   ]
  },
  {
   "cell_type": "code",
   "execution_count": 10,
   "metadata": {
    "colab": {
     "base_uri": "https://localhost:8080/",
     "height": 322
    },
    "executionInfo": {
     "elapsed": 389,
     "status": "ok",
     "timestamp": 1651033700010,
     "user": {
      "displayName": "yunwoo oh",
      "userId": "01035531558844683999"
     },
     "user_tz": -540
    },
    "id": "pjk6u_Jo4key",
    "outputId": "4a4e29da-431e-4786-b1ae-7d13e42f8734"
   },
   "outputs": [
    {
     "name": "stderr",
     "output_type": "stream",
     "text": [
      "C:\\Users\\User\\anaconda3\\lib\\site-packages\\seaborn\\_decorators.py:36: FutureWarning: Pass the following variable as a keyword arg: x. From version 0.12, the only valid positional argument will be `data`, and passing other arguments without an explicit keyword will result in an error or misinterpretation.\n",
      "  warnings.warn(\n"
     ]
    },
    {
     "data": {
      "text/plain": [
       "<AxesSubplot:xlabel='species', ylabel='count'>"
      ]
     },
     "execution_count": 10,
     "metadata": {},
     "output_type": "execute_result"
    },
    {
     "data": {
      "image/png": "[encoded data removed]",
      "text/plain": [
       "<Figure size 640x480 with 1 Axes>"
      ]
     },
     "metadata": {
      "image/png": {
       "height": 432,
       "width": 562
      }
     },
     "output_type": "display_data"
    }
   ],
   "source": [
    "# value_counts 함수 이용해서 species 컬럼에 대한 분포 확인값을 bar 차트 그리기\n",
    "\n",
    "\n",
    "sns.countplot(iris['species'])"
   ]
  },
  {
   "cell_type": "code",
   "execution_count": 13,
   "metadata": {},
   "outputs": [
    {
     "data": {
      "text/plain": [
       "<AxesSubplot:>"
      ]
     },
     "execution_count": 13,
     "metadata": {},
     "output_type": "execute_result"
    },
    {
     "data": {
      "image/png": "[encoded data removed]",
      "text/plain": [
       "<Figure size 640x480 with 1 Axes>"
      ]
     },
     "metadata": {
      "image/png": {
       "height": 467,
       "width": 543
      }
     },
     "output_type": "display_data"
    }
   ],
   "source": [
    "iris['species'].value_counts().plot(kind='bar')\n"
   ]
  },
  {
   "cell_type": "code",
   "execution_count": 17,
   "metadata": {
    "colab": {
     "base_uri": "https://localhost:8080/",
     "height": 298
    },
    "executionInfo": {
     "elapsed": 439,
     "status": "ok",
     "timestamp": 1651033780246,
     "user": {
      "displayName": "yunwoo oh",
      "userId": "01035531558844683999"
     },
     "user_tz": -540
    },
    "id": "GjyHj5GzFYcm",
    "outputId": "1910617b-e40a-43e3-b11d-e1b4ebdad649"
   },
   "outputs": [
    {
     "data": {
      "text/plain": [
       "<AxesSubplot:xlabel='sepal_length', ylabel='petal_length'>"
      ]
     },
     "execution_count": 17,
     "metadata": {},
     "output_type": "execute_result"
    },
    {
     "data": {
      "image/png": "[encoded data removed]",
      "text/plain": [
       "<Figure size 640x480 with 1 Axes>"
      ]
     },
     "metadata": {
      "image/png": {
       "height": 433,
       "width": 555
      }
     },
     "output_type": "display_data"
    }
   ],
   "source": [
    "# 판다스 plot 함수 활용해 산점도(scatter) 그래프 시각화해 보기\n",
    "# 입력 : kind='scatter', x='sepal_length', y='petal_length'\n",
    "\n",
    "\n",
    "iris.plot(kind='scatter', x='sepal_length', y='petal_length')"
   ]
  },
  {
   "cell_type": "code",
   "execution_count": 18,
   "metadata": {
    "colab": {
     "base_uri": "https://localhost:8080/",
     "height": 298
    },
    "executionInfo": {
     "elapsed": 449,
     "status": "ok",
     "timestamp": 1651033925186,
     "user": {
      "displayName": "yunwoo oh",
      "userId": "01035531558844683999"
     },
     "user_tz": -540
    },
    "id": "-f4EDiaIFYfO",
    "outputId": "86a9fe73-46db-49da-b190-8b31406bc45f"
   },
   "outputs": [
    {
     "data": {
      "text/plain": [
       "<AxesSubplot:xlabel='sepal_length', ylabel='petal_length'>"
      ]
     },
     "execution_count": 18,
     "metadata": {},
     "output_type": "execute_result"
    },
    {
     "data": {
      "image/png": "[encoded data removed]",
      "text/plain": [
       "<Figure size 640x480 with 1 Axes>"
      ]
     },
     "metadata": {
      "image/png": {
       "height": 433,
       "width": 555
      }
     },
     "output_type": "display_data"
    }
   ],
   "source": [
    "# 이번에는 seaborn scatterplot 함수 활용해서 산점도 그리기\n",
    "# 입력 : data=iris, x='sepal_length', y='petal_length', hue='species'\n",
    "\n",
    "# 위와 똑같은 그래프지만, 붓꽃 종류로 분류해서 그래프\n",
    "# 붓꽃 종류 3가지가 구분되어 보입니다. \n",
    "\n",
    "\n",
    "sns.scatterplot(data=iris, x='sepal_length', y='petal_length', hue='species')"
   ]
  },
  {
   "cell_type": "markdown",
   "metadata": {
    "id": "oOZzwql-M_RC"
   },
   "source": [
    "---"
   ]
  },
  {
   "cell_type": "markdown",
   "metadata": {
    "id": "Dso_eoKDM_HS"
   },
   "source": [
    "# 3. X, y 나누기\n",
    "- 지도학습 경우 데이터와 정답이 있어야 합니다.\n",
    "- 데이터에 해당하는 X와 정답에 해당하는 y가 있어야 합니다.\n",
    "- 아래와 같이 판다스를 이용하면 X, y를 쉽게 나눌수 있어요"
   ]
  },
  {
   "cell_type": "code",
   "execution_count": 19,
   "metadata": {
    "colab": {
     "base_uri": "https://localhost:8080/",
     "height": 143
    },
    "executionInfo": {
     "elapsed": 373,
     "status": "ok",
     "timestamp": 1651034047002,
     "user": {
      "displayName": "yunwoo oh",
      "userId": "01035531558844683999"
     },
     "user_tz": -540
    },
    "id": "Cv1pnGNEJdcX",
    "outputId": "75892b48-4dfa-4ceb-a968-72ced09a8b9a"
   },
   "outputs": [
    {
     "data": {
      "text/html": [
       "<div>\n",
       "<style scoped>\n",
       "    .dataframe tbody tr th:only-of-type {\n",
       "        vertical-align: middle;\n",
       "    }\n",
       "\n",
       "    .dataframe tbody tr th {\n",
       "        vertical-align: top;\n",
       "    }\n",
       "\n",
       "    .dataframe thead th {\n",
       "        text-align: right;\n",
       "    }\n",
       "</style>\n",
       "<table border=\"1\" class=\"dataframe\">\n",
       "  <thead>\n",
       "    <tr style=\"text-align: right;\">\n",
       "      <th></th>\n",
       "      <th>sepal_length</th>\n",
       "      <th>sepal_width</th>\n",
       "      <th>petal_length</th>\n",
       "      <th>petal_width</th>\n",
       "      <th>species</th>\n",
       "    </tr>\n",
       "  </thead>\n",
       "  <tbody>\n",
       "    <tr>\n",
       "      <th>145</th>\n",
       "      <td>6.7</td>\n",
       "      <td>3.0</td>\n",
       "      <td>5.2</td>\n",
       "      <td>2.3</td>\n",
       "      <td>virginica</td>\n",
       "    </tr>\n",
       "    <tr>\n",
       "      <th>146</th>\n",
       "      <td>6.3</td>\n",
       "      <td>2.5</td>\n",
       "      <td>5.0</td>\n",
       "      <td>1.9</td>\n",
       "      <td>virginica</td>\n",
       "    </tr>\n",
       "    <tr>\n",
       "      <th>147</th>\n",
       "      <td>6.5</td>\n",
       "      <td>3.0</td>\n",
       "      <td>5.2</td>\n",
       "      <td>2.0</td>\n",
       "      <td>virginica</td>\n",
       "    </tr>\n",
       "    <tr>\n",
       "      <th>148</th>\n",
       "      <td>6.2</td>\n",
       "      <td>3.4</td>\n",
       "      <td>5.4</td>\n",
       "      <td>2.3</td>\n",
       "      <td>virginica</td>\n",
       "    </tr>\n",
       "    <tr>\n",
       "      <th>149</th>\n",
       "      <td>5.9</td>\n",
       "      <td>3.0</td>\n",
       "      <td>5.1</td>\n",
       "      <td>1.8</td>\n",
       "      <td>virginica</td>\n",
       "    </tr>\n",
       "  </tbody>\n",
       "</table>\n",
       "</div>"
      ],
      "text/plain": [
       "     sepal_length  sepal_width  petal_length  petal_width    species\n",
       "145           6.7          3.0           5.2          2.3  virginica\n",
       "146           6.3          2.5           5.0          1.9  virginica\n",
       "147           6.5          3.0           5.2          2.0  virginica\n",
       "148           6.2          3.4           5.4          2.3  virginica\n",
       "149           5.9          3.0           5.1          1.8  virginica"
      ]
     },
     "execution_count": 19,
     "metadata": {},
     "output_type": "execute_result"
    }
   ],
   "source": [
    "# IRIS 데이터 뒤 5개 보기\n",
    "\n",
    "\n",
    "iris.tail(5)"
   ]
  },
  {
   "cell_type": "code",
   "execution_count": 20,
   "metadata": {
    "id": "jezSR6XXJdfF"
   },
   "outputs": [],
   "source": [
    "# X 분리 : 판다스 drop 함수 활용\n",
    "# 입력 : 'species', axis=1\n",
    "\n",
    "target = 'species'\n",
    "\n",
    "x = iris.drop(target, axis=1)"
   ]
  },
  {
   "cell_type": "code",
   "execution_count": 21,
   "metadata": {
    "colab": {
     "base_uri": "https://localhost:8080/",
     "height": 442
    },
    "executionInfo": {
     "elapsed": 421,
     "status": "ok",
     "timestamp": 1651034319756,
     "user": {
      "displayName": "yunwoo oh",
      "userId": "01035531558844683999"
     },
     "user_tz": -540
    },
    "id": "Mn-HcV07Jdhk",
    "outputId": "79e0553e-05e8-46ad-8c01-c6a06093c0dd"
   },
   "outputs": [
    {
     "data": {
      "text/html": [
       "<div>\n",
       "<style scoped>\n",
       "    .dataframe tbody tr th:only-of-type {\n",
       "        vertical-align: middle;\n",
       "    }\n",
       "\n",
       "    .dataframe tbody tr th {\n",
       "        vertical-align: top;\n",
       "    }\n",
       "\n",
       "    .dataframe thead th {\n",
       "        text-align: right;\n",
       "    }\n",
       "</style>\n",
       "<table border=\"1\" class=\"dataframe\">\n",
       "  <thead>\n",
       "    <tr style=\"text-align: right;\">\n",
       "      <th></th>\n",
       "      <th>sepal_length</th>\n",
       "      <th>sepal_width</th>\n",
       "      <th>petal_length</th>\n",
       "      <th>petal_width</th>\n",
       "    </tr>\n",
       "  </thead>\n",
       "  <tbody>\n",
       "    <tr>\n",
       "      <th>0</th>\n",
       "      <td>5.1</td>\n",
       "      <td>3.5</td>\n",
       "      <td>1.4</td>\n",
       "      <td>0.2</td>\n",
       "    </tr>\n",
       "    <tr>\n",
       "      <th>1</th>\n",
       "      <td>4.9</td>\n",
       "      <td>3.0</td>\n",
       "      <td>1.4</td>\n",
       "      <td>0.2</td>\n",
       "    </tr>\n",
       "    <tr>\n",
       "      <th>2</th>\n",
       "      <td>4.7</td>\n",
       "      <td>3.2</td>\n",
       "      <td>1.3</td>\n",
       "      <td>0.2</td>\n",
       "    </tr>\n",
       "    <tr>\n",
       "      <th>3</th>\n",
       "      <td>4.6</td>\n",
       "      <td>3.1</td>\n",
       "      <td>1.5</td>\n",
       "      <td>0.2</td>\n",
       "    </tr>\n",
       "    <tr>\n",
       "      <th>4</th>\n",
       "      <td>5.0</td>\n",
       "      <td>3.6</td>\n",
       "      <td>1.4</td>\n",
       "      <td>0.2</td>\n",
       "    </tr>\n",
       "    <tr>\n",
       "      <th>...</th>\n",
       "      <td>...</td>\n",
       "      <td>...</td>\n",
       "      <td>...</td>\n",
       "      <td>...</td>\n",
       "    </tr>\n",
       "    <tr>\n",
       "      <th>145</th>\n",
       "      <td>6.7</td>\n",
       "      <td>3.0</td>\n",
       "      <td>5.2</td>\n",
       "      <td>2.3</td>\n",
       "    </tr>\n",
       "    <tr>\n",
       "      <th>146</th>\n",
       "      <td>6.3</td>\n",
       "      <td>2.5</td>\n",
       "      <td>5.0</td>\n",
       "      <td>1.9</td>\n",
       "    </tr>\n",
       "    <tr>\n",
       "      <th>147</th>\n",
       "      <td>6.5</td>\n",
       "      <td>3.0</td>\n",
       "      <td>5.2</td>\n",
       "      <td>2.0</td>\n",
       "    </tr>\n",
       "    <tr>\n",
       "      <th>148</th>\n",
       "      <td>6.2</td>\n",
       "      <td>3.4</td>\n",
       "      <td>5.4</td>\n",
       "      <td>2.3</td>\n",
       "    </tr>\n",
       "    <tr>\n",
       "      <th>149</th>\n",
       "      <td>5.9</td>\n",
       "      <td>3.0</td>\n",
       "      <td>5.1</td>\n",
       "      <td>1.8</td>\n",
       "    </tr>\n",
       "  </tbody>\n",
       "</table>\n",
       "<p>150 rows × 4 columns</p>\n",
       "</div>"
      ],
      "text/plain": [
       "     sepal_length  sepal_width  petal_length  petal_width\n",
       "0             5.1          3.5           1.4          0.2\n",
       "1             4.9          3.0           1.4          0.2\n",
       "2             4.7          3.2           1.3          0.2\n",
       "3             4.6          3.1           1.5          0.2\n",
       "4             5.0          3.6           1.4          0.2\n",
       "..            ...          ...           ...          ...\n",
       "145           6.7          3.0           5.2          2.3\n",
       "146           6.3          2.5           5.0          1.9\n",
       "147           6.5          3.0           5.2          2.0\n",
       "148           6.2          3.4           5.4          2.3\n",
       "149           5.9          3.0           5.1          1.8\n",
       "\n",
       "[150 rows x 4 columns]"
      ]
     },
     "execution_count": 21,
     "metadata": {},
     "output_type": "execute_result"
    }
   ],
   "source": [
    "# 분리된 X 확인 : 데이터 타입이 데이터프레임 확인\n",
    "\n",
    "\n",
    "x"
   ]
  },
  {
   "cell_type": "code",
   "execution_count": 22,
   "metadata": {
    "colab": {
     "base_uri": "https://localhost:8080/"
    },
    "executionInfo": {
     "elapsed": 4,
     "status": "ok",
     "timestamp": 1651034384279,
     "user": {
      "displayName": "yunwoo oh",
      "userId": "01035531558844683999"
     },
     "user_tz": -540
    },
    "id": "hh6e4OZlJdkc",
    "outputId": "e593eba6-9491-43c0-f73d-c5913089d17b"
   },
   "outputs": [],
   "source": [
    "# y 분리 : 'species' 컬럼값만 분리\n",
    "\n",
    "y = iris.loc[:, target]"
   ]
  },
  {
   "cell_type": "code",
   "execution_count": 23,
   "metadata": {
    "colab": {
     "base_uri": "https://localhost:8080/"
    },
    "executionInfo": {
     "elapsed": 355,
     "status": "ok",
     "timestamp": 1651034406471,
     "user": {
      "displayName": "yunwoo oh",
      "userId": "01035531558844683999"
     },
     "user_tz": -540
    },
    "id": "Ljxia0PhJdnF",
    "outputId": "14476d1a-abf4-416c-a931-ac925d1fafd9"
   },
   "outputs": [
    {
     "data": {
      "text/plain": [
       "0         setosa\n",
       "1         setosa\n",
       "2         setosa\n",
       "3         setosa\n",
       "4         setosa\n",
       "         ...    \n",
       "145    virginica\n",
       "146    virginica\n",
       "147    virginica\n",
       "148    virginica\n",
       "149    virginica\n",
       "Name: species, Length: 150, dtype: object"
      ]
     },
     "execution_count": 23,
     "metadata": {},
     "output_type": "execute_result"
    }
   ],
   "source": [
    "# 분리된 y 확인 : 데이터 타입이 Series 확인\n",
    "# y 값이 문자열로 되어 있음 확인\n",
    "\n",
    "\n",
    "y"
   ]
  },
  {
   "cell_type": "code",
   "execution_count": 24,
   "metadata": {
    "id": "-kLzENc671o4"
   },
   "outputs": [],
   "source": [
    "# Series, DataFrame 형태를 numpy array 변경하기 \n",
    "# 뒤쪽에서 타입이 맞지 않아서 에러 날수 있기 때문에\n",
    "# X.values , y.values --> X , y 입력\n",
    "\n",
    "x = x.values\n",
    "y = y.values"
   ]
  },
  {
   "cell_type": "code",
   "execution_count": 25,
   "metadata": {
    "colab": {
     "base_uri": "https://localhost:8080/"
    },
    "executionInfo": {
     "elapsed": 360,
     "status": "ok",
     "timestamp": 1651034515754,
     "user": {
      "displayName": "yunwoo oh",
      "userId": "01035531558844683999"
     },
     "user_tz": -540
    },
    "id": "HwjKovQR74xz",
    "outputId": "a8ceb3dd-c09c-44c1-d6e8-75f71e7927d6"
   },
   "outputs": [
    {
     "name": "stdout",
     "output_type": "stream",
     "text": [
      "[[5.1 3.5 1.4 0.2]\n",
      " [4.9 3.  1.4 0.2]]\n",
      "['setosa' 'setosa']\n"
     ]
    }
   ],
   "source": [
    "print(x[:2])\n",
    "print(y[:2])"
   ]
  },
  {
   "cell_type": "code",
   "execution_count": 26,
   "metadata": {
    "id": "le1exTjdgshL"
   },
   "outputs": [],
   "source": [
    "# y값이 숫자가 아니기에 컴퓨터가 잘 이해하지 못해 숫자로 변환\n",
    "# setosa --> 0, versicolor --> 1, virginica --> 2 : LabelEncoding\n",
    "\n",
    "from sklearn.preprocessing import LabelEncoder"
   ]
  },
  {
   "cell_type": "code",
   "execution_count": 27,
   "metadata": {
    "colab": {
     "base_uri": "https://localhost:8080/"
    },
    "executionInfo": {
     "elapsed": 5,
     "status": "ok",
     "timestamp": 1651034765222,
     "user": {
      "displayName": "yunwoo oh",
      "userId": "01035531558844683999"
     },
     "user_tz": -540
    },
    "id": "rqGnqD9y7W4N",
    "outputId": "a3a9b51e-e2d8-4ce9-b9bb-0599f1d6e535"
   },
   "outputs": [
    {
     "name": "stdout",
     "output_type": "stream",
     "text": [
      "['setosa' 'versicolor' 'virginica']\n"
     ]
    }
   ],
   "source": [
    "# 1. LabelEncoder 함수 정의 : le\n",
    "# 2. y값에 대해 fit_transform 함수 이용해서 라벨인코딩 수행하고 다시 y에 저장\n",
    "# 3. le.classes_ 출력해서 어떤 라벨들이 인코딩 되었는지 확인\n",
    "\n",
    "le = LabelEncoder()\n",
    "y = le.fit_transform(y)\n",
    "print(le.classes_)"
   ]
  },
  {
   "cell_type": "code",
   "execution_count": 28,
   "metadata": {
    "colab": {
     "base_uri": "https://localhost:8080/"
    },
    "executionInfo": {
     "elapsed": 372,
     "status": "ok",
     "timestamp": 1651034804915,
     "user": {
      "displayName": "yunwoo oh",
      "userId": "01035531558844683999"
     },
     "user_tz": -540
    },
    "id": "AXSTso9o8FpV",
    "outputId": "4c4b69bd-c2fc-4a2f-c721-e33339321ca5"
   },
   "outputs": [
    {
     "data": {
      "text/plain": [
       "array([0, 0, 0, 0, 0, 0, 0, 0, 0, 0])"
      ]
     },
     "execution_count": 28,
     "metadata": {},
     "output_type": "execute_result"
    }
   ],
   "source": [
    "# y값들이 라벨인코딩되어 숫자로 표현됨 확인\n",
    "\n",
    "y[:10]"
   ]
  },
  {
   "cell_type": "markdown",
   "metadata": {
    "id": "D09MIrrx4XPT"
   },
   "source": [
    "---"
   ]
  },
  {
   "cell_type": "markdown",
   "metadata": {
    "id": "fn-wa12h4XkZ"
   },
   "source": [
    "# 4. 머신러닝 모델링\n",
    "- DecisionTree 결정트리\n",
    "- RandomForest 앙상블"
   ]
  },
  {
   "cell_type": "markdown",
   "metadata": {
    "id": "QjxLNoAM9Y48"
   },
   "source": [
    "#### DecisionTree"
   ]
  },
  {
   "cell_type": "markdown",
   "metadata": {
    "id": "U5m8_YDK47kF"
   },
   "source": [
    "![결정트리](http://gavinln.github.io/blog-site/img/decision_trees/tree-depth-2.png)"
   ]
  },
  {
   "cell_type": "code",
   "execution_count": 29,
   "metadata": {
    "id": "p_Y2A6im6H7m"
   },
   "outputs": [],
   "source": [
    "# DecisionTree 머신러닝 모델링\n",
    "from sklearn.tree import DecisionTreeClassifier"
   ]
  },
  {
   "cell_type": "code",
   "execution_count": 30,
   "metadata": {
    "colab": {
     "base_uri": "https://localhost:8080/"
    },
    "executionInfo": {
     "elapsed": 359,
     "status": "ok",
     "timestamp": 1651034998056,
     "user": {
      "displayName": "yunwoo oh",
      "userId": "01035531558844683999"
     },
     "user_tz": -540
    },
    "id": "dQ6Up1i6Jdqs",
    "outputId": "87f2563b-1f18-4dbc-a11c-f90278ae46cb"
   },
   "outputs": [
    {
     "data": {
      "text/plain": [
       "1.0"
      ]
     },
     "execution_count": 30,
     "metadata": {},
     "output_type": "execute_result"
    }
   ],
   "source": [
    "# 1. DecisionTreeClassifier 모델 정의 -> dt 저장\n",
    "# 2. dt 모델 학습 : X, y\n",
    "# 3. dt 모델 성능확인 : X, y\n",
    "\n",
    "model = DecisionTreeClassifier()\n",
    "model.fit(x,y)\n",
    "model.score(x,y)\n"
   ]
  },
  {
   "cell_type": "markdown",
   "metadata": {
    "id": "M5rch0yM9c1b"
   },
   "source": [
    "#### RandomForest"
   ]
  },
  {
   "cell_type": "markdown",
   "metadata": {
    "id": "fb45zXH99gzk"
   },
   "source": [
    "![RandomForest](https://img1.daumcdn.net/thumb/R1280x0/?scode=mtistory2&fname=https%3A%2F%2Fblog.kakaocdn.net%2Fdn%2FdDE2Rk%2FbtqvUzlulvU%2F6UbCGO8rHAhDJDCE3dyRr0%2Fimg.png)"
   ]
  },
  {
   "cell_type": "code",
   "execution_count": 31,
   "metadata": {
    "id": "h0H_nWss6Y6N"
   },
   "outputs": [],
   "source": [
    "# RandomForest 머신러닝 모델링\n",
    "from sklearn.ensemble import RandomForestClassifier"
   ]
  },
  {
   "cell_type": "code",
   "execution_count": 32,
   "metadata": {
    "colab": {
     "base_uri": "https://localhost:8080/"
    },
    "executionInfo": {
     "elapsed": 438,
     "status": "ok",
     "timestamp": 1651035838605,
     "user": {
      "displayName": "yunwoo oh",
      "userId": "01035531558844683999"
     },
     "user_tz": -540
    },
    "id": "zN6yO2Zj9f5D",
    "outputId": "c1e33e19-ff80-489c-b766-da82fe496741"
   },
   "outputs": [
    {
     "data": {
      "text/plain": [
       "1.0"
      ]
     },
     "execution_count": 32,
     "metadata": {},
     "output_type": "execute_result"
    }
   ],
   "source": [
    "# 1. RandomForestClassifier 모델 정의 -> rf 저장\n",
    "# 2. rf 모델 학습 : X, y\n",
    "# 3. rf 모델 성능확인 : X, y\n",
    "\n",
    "model_rf = RandomForestClassifier()\n",
    "model_rf.fit(x,y)\n",
    "model_rf.score(x,y)\n"
   ]
  },
  {
   "cell_type": "code",
   "execution_count": 35,
   "metadata": {
    "colab": {
     "base_uri": "https://localhost:8080/"
    },
    "executionInfo": {
     "elapsed": 370,
     "status": "ok",
     "timestamp": 1651035908136,
     "user": {
      "displayName": "yunwoo oh",
      "userId": "01035531558844683999"
     },
     "user_tz": -540
    },
    "id": "uGttRcJxZ7lx",
    "outputId": "8da05728-9fc4-4fcb-c4fe-12a002e548f7"
   },
   "outputs": [
    {
     "data": {
      "text/plain": [
       "array([0, 0, 0, 0, 0, 0, 0, 0, 0, 0, 0, 0, 0, 0, 0, 0, 0, 0, 0, 0, 0, 0,\n",
       "       0, 0, 0, 0, 0, 0, 0, 0, 0, 0, 0, 0, 0, 0, 0, 0, 0, 0, 0, 0, 0, 0,\n",
       "       0, 0, 0, 0, 0, 0, 1, 1, 1, 1, 1, 1, 1, 1, 1, 1, 1, 1, 1, 1, 1, 1,\n",
       "       1, 1, 1, 1, 1, 1, 1, 1, 1, 1, 1, 1, 1, 1, 1, 1, 1, 1, 1, 1, 1, 1,\n",
       "       1, 1, 1, 1, 1, 1, 1, 1, 1, 1, 1, 1, 2, 2, 2, 2, 2, 2, 2, 2, 2, 2,\n",
       "       2, 2, 2, 2, 2, 2, 2, 2, 2, 2, 2, 2, 2, 2, 2, 2, 2, 2, 2, 2, 2, 2,\n",
       "       2, 2, 2, 2, 2, 2, 2, 2, 2, 2, 2, 2, 2, 2, 2, 2, 2, 2])"
      ]
     },
     "execution_count": 35,
     "metadata": {},
     "output_type": "execute_result"
    }
   ],
   "source": [
    "model_rf.predict(x)"
   ]
  },
  {
   "cell_type": "code",
   "execution_count": 36,
   "metadata": {
    "colab": {
     "base_uri": "https://localhost:8080/"
    },
    "executionInfo": {
     "elapsed": 353,
     "status": "ok",
     "timestamp": 1651036025475,
     "user": {
      "displayName": "yunwoo oh",
      "userId": "01035531558844683999"
     },
     "user_tz": -540
    },
    "id": "qjst9z3i8PTu",
    "outputId": "e9739a69-9b91-441e-da3a-6c26a80b66bd"
   },
   "outputs": [
    {
     "name": "stdout",
     "output_type": "stream",
     "text": [
      "[5.9 3.  5.1 1.8]\n",
      "2\n"
     ]
    }
   ],
   "source": [
    "# 150\t라인 샘플 데이터 와 정답 출력\n",
    "# setosa --> 0, versicolor --> 1, virginica --> 2\n",
    "\n",
    "\n",
    "print(x[149])\n",
    "print(y[149])"
   ]
  },
  {
   "cell_type": "code",
   "execution_count": 39,
   "metadata": {
    "colab": {
     "base_uri": "https://localhost:8080/"
    },
    "executionInfo": {
     "elapsed": 4,
     "status": "ok",
     "timestamp": 1651036124163,
     "user": {
      "displayName": "yunwoo oh",
      "userId": "01035531558844683999"
     },
     "user_tz": -540
    },
    "id": "P0yLt7db9f2z",
    "outputId": "5461699a-3515-43e2-8c5f-91030a7219e2"
   },
   "outputs": [
    {
     "name": "stdout",
     "output_type": "stream",
     "text": [
      "[2]\n"
     ]
    }
   ],
   "source": [
    "# 150\t라인 샘플 데이터을 모델 입력해서 예측하기\n",
    "# rf 모델의 predict 함수 활용\n",
    "# 입력 : [X[149]], 결과 : pred 저장\n",
    "# pred 결과 출력\n",
    "pred = model_rf.predict([x[149]])\n",
    "print(pred)\n",
    "\n"
   ]
  },
  {
   "cell_type": "markdown",
   "metadata": {
    "id": "1U_4IXyG5WJf"
   },
   "source": [
    "---"
   ]
  },
  {
   "cell_type": "markdown",
   "metadata": {
    "id": "9tXPnSlN5WCw"
   },
   "source": [
    "# 5. 딥러닝 모델링"
   ]
  },
  {
   "cell_type": "code",
   "execution_count": 40,
   "metadata": {
    "id": "yGZebTd6FYii"
   },
   "outputs": [],
   "source": [
    "# 딥러닝 필요한 라이브러리 가져오기\n",
    "\n",
    "import tensorflow as tf\n",
    "from tensorflow.keras.models import Sequential\n",
    "from tensorflow.keras.layers import Dense"
   ]
  },
  {
   "cell_type": "markdown",
   "metadata": {
    "id": "TSCCMe-o5gyW"
   },
   "source": [
    "![DNN](https://t1.daumcdn.net/cfile/tistory/9976DE33598420B531)"
   ]
  },
  {
   "cell_type": "code",
   "execution_count": 43,
   "metadata": {
    "colab": {
     "base_uri": "https://localhost:8080/"
    },
    "executionInfo": {
     "elapsed": 380,
     "status": "ok",
     "timestamp": 1651036489292,
     "user": {
      "displayName": "yunwoo oh",
      "userId": "01035531558844683999"
     },
     "user_tz": -540
    },
    "id": "Q9oj9TspFYla",
    "outputId": "95fcc8bc-92f4-482b-d75e-0932ecbdadfc"
   },
   "outputs": [
    {
     "name": "stdout",
     "output_type": "stream",
     "text": [
      "Model: \"sequential\"\n",
      "_________________________________________________________________\n",
      " Layer (type)                Output Shape              Param #   \n",
      "=================================================================\n",
      " dense_3 (Dense)             (None, 4)                 20        \n",
      "                                                                 \n",
      " dense_4 (Dense)             (None, 6)                 30        \n",
      "                                                                 \n",
      " dense_5 (Dense)             (None, 3)                 21        \n",
      "                                                                 \n",
      "=================================================================\n",
      "Total params: 71\n",
      "Trainable params: 71\n",
      "Non-trainable params: 0\n",
      "_________________________________________________________________\n"
     ]
    }
   ],
   "source": [
    "# Sequential 모델 만들기 --> model 변수 저장\n",
    "# input layer : (4, )\n",
    "# hidden layer : 6 unit , activation='relu'\n",
    "# output layer : 3 unit , activation='softmax'\n",
    "\n",
    "n = x.shape[1]\n",
    "\n",
    "\n",
    "model = Sequential([Dense(4, input_shape=(n,), activation='relu')\n",
    "                  , Dense(6, activation='relu')\n",
    "                  , Dense(3, activation='softmax')])\n",
    "\n",
    "model.summary()\n"
   ]
  },
  {
   "cell_type": "code",
   "execution_count": 64,
   "metadata": {
    "id": "GH1c25hG5lx-"
   },
   "outputs": [],
   "source": [
    "# 모델 컴파일 : compile\n",
    "# loss='sparse_categorical_crossentropy'\n",
    "# optimizer='adam'\n",
    "# metrics=['accuracy']\n",
    "\n",
    "\n",
    "model.compile(optimizer='adam', loss='sparse_categorical_crossentropy', metrics=['accuracy'])\n"
   ]
  },
  {
   "cell_type": "code",
   "execution_count": 65,
   "metadata": {
    "colab": {
     "base_uri": "https://localhost:8080/"
    },
    "executionInfo": {
     "elapsed": 1228,
     "status": "ok",
     "timestamp": 1651037001045,
     "user": {
      "displayName": "yunwoo oh",
      "userId": "01035531558844683999"
     },
     "user_tz": -540
    },
    "id": "k30Hv3Hp9IFh",
    "outputId": "7a3eb101-aee7-4f02-8171-634c7249250a"
   },
   "outputs": [
    {
     "name": "stdout",
     "output_type": "stream",
     "text": [
      "Epoch 1/10\n",
      "19/19 [==============================] - 1s 2ms/step - loss: 0.0680 - accuracy: 0.9667\n",
      "Epoch 2/10\n",
      "19/19 [==============================] - 0s 2ms/step - loss: 0.0661 - accuracy: 0.9733\n",
      "Epoch 3/10\n",
      "19/19 [==============================] - 0s 2ms/step - loss: 0.0637 - accuracy: 0.9733\n",
      "Epoch 4/10\n",
      "19/19 [==============================] - 0s 2ms/step - loss: 0.0648 - accuracy: 0.9733\n",
      "Epoch 5/10\n",
      "19/19 [==============================] - 0s 2ms/step - loss: 0.0706 - accuracy: 0.9733\n",
      "Epoch 6/10\n",
      "19/19 [==============================] - 0s 2ms/step - loss: 0.0667 - accuracy: 0.9667\n",
      "Epoch 7/10\n",
      "19/19 [==============================] - 0s 2ms/step - loss: 0.0674 - accuracy: 0.9800\n",
      "Epoch 8/10\n",
      "19/19 [==============================] - 0s 2ms/step - loss: 0.0668 - accuracy: 0.9667\n",
      "Epoch 9/10\n",
      "19/19 [==============================] - 0s 2ms/step - loss: 0.0649 - accuracy: 0.9733\n",
      "Epoch 10/10\n",
      "19/19 [==============================] - 0s 2ms/step - loss: 0.0645 - accuracy: 0.9733\n"
     ]
    }
   ],
   "source": [
    "# 모델 학습 : fit\n",
    "# X, y, epochs=10, batch_size=8\n",
    "# 학습결과 저장 : history\n",
    "\n",
    "\n",
    "history = model.fit(x, y, epochs=10, batch_size=8).history\n",
    "\n"
   ]
  },
  {
   "cell_type": "markdown",
   "metadata": {
    "id": "LKCU29k38hnN"
   },
   "source": [
    "### 생각보자 정확도가 높지않네.. 좀더 공부시키자.."
   ]
  },
  {
   "cell_type": "code",
   "execution_count": 66,
   "metadata": {
    "colab": {
     "base_uri": "https://localhost:8080/"
    },
    "executionInfo": {
     "elapsed": 2966,
     "status": "ok",
     "timestamp": 1651037086291,
     "user": {
      "displayName": "yunwoo oh",
      "userId": "01035531558844683999"
     },
     "user_tz": -540
    },
    "id": "lQVPJjrb8rzb",
    "outputId": "8e67b1da-e0c8-416c-a0a9-ca40c9946c4c"
   },
   "outputs": [
    {
     "name": "stdout",
     "output_type": "stream",
     "text": [
      "Epoch 1/50\n",
      "19/19 [==============================] - 0s 2ms/step - loss: 0.0643 - accuracy: 0.9733\n",
      "Epoch 2/50\n",
      "19/19 [==============================] - 0s 2ms/step - loss: 0.0631 - accuracy: 0.9733\n",
      "Epoch 3/50\n",
      "19/19 [==============================] - 0s 2ms/step - loss: 0.0631 - accuracy: 0.9733\n",
      "Epoch 4/50\n",
      "19/19 [==============================] - 0s 2ms/step - loss: 0.0645 - accuracy: 0.9733\n",
      "Epoch 5/50\n",
      "19/19 [==============================] - 0s 2ms/step - loss: 0.0621 - accuracy: 0.9733\n",
      "Epoch 6/50\n",
      "19/19 [==============================] - 0s 2ms/step - loss: 0.0638 - accuracy: 0.9800\n",
      "Epoch 7/50\n",
      "19/19 [==============================] - 0s 2ms/step - loss: 0.0621 - accuracy: 0.9800\n",
      "Epoch 8/50\n",
      "19/19 [==============================] - 0s 2ms/step - loss: 0.0660 - accuracy: 0.9667\n",
      "Epoch 9/50\n",
      "19/19 [==============================] - 0s 2ms/step - loss: 0.0607 - accuracy: 0.9667\n",
      "Epoch 10/50\n",
      "19/19 [==============================] - 0s 2ms/step - loss: 0.0644 - accuracy: 0.9800\n",
      "Epoch 11/50\n",
      "19/19 [==============================] - 0s 2ms/step - loss: 0.0650 - accuracy: 0.9667\n",
      "Epoch 12/50\n",
      "19/19 [==============================] - 0s 2ms/step - loss: 0.0671 - accuracy: 0.9800\n",
      "Epoch 13/50\n",
      "19/19 [==============================] - 0s 2ms/step - loss: 0.0665 - accuracy: 0.9667\n",
      "Epoch 14/50\n",
      "19/19 [==============================] - 0s 2ms/step - loss: 0.0609 - accuracy: 0.9733\n",
      "Epoch 15/50\n",
      "19/19 [==============================] - 0s 2ms/step - loss: 0.0642 - accuracy: 0.9800\n",
      "Epoch 16/50\n",
      "19/19 [==============================] - 0s 2ms/step - loss: 0.0625 - accuracy: 0.9733\n",
      "Epoch 17/50\n",
      "19/19 [==============================] - 0s 2ms/step - loss: 0.0655 - accuracy: 0.9733\n",
      "Epoch 18/50\n",
      "19/19 [==============================] - 0s 2ms/step - loss: 0.0620 - accuracy: 0.9800\n",
      "Epoch 19/50\n",
      "19/19 [==============================] - 0s 2ms/step - loss: 0.0620 - accuracy: 0.9800\n",
      "Epoch 20/50\n",
      "19/19 [==============================] - 0s 2ms/step - loss: 0.0626 - accuracy: 0.9733\n",
      "Epoch 21/50\n",
      "19/19 [==============================] - 0s 2ms/step - loss: 0.0635 - accuracy: 0.9733\n",
      "Epoch 22/50\n",
      "19/19 [==============================] - 0s 2ms/step - loss: 0.0611 - accuracy: 0.9733\n",
      "Epoch 23/50\n",
      "19/19 [==============================] - 0s 2ms/step - loss: 0.0617 - accuracy: 0.9733\n",
      "Epoch 24/50\n",
      "19/19 [==============================] - 0s 2ms/step - loss: 0.0641 - accuracy: 0.9733\n",
      "Epoch 25/50\n",
      "19/19 [==============================] - 0s 2ms/step - loss: 0.0629 - accuracy: 0.9733\n",
      "Epoch 26/50\n",
      "19/19 [==============================] - 0s 2ms/step - loss: 0.0621 - accuracy: 0.9733\n",
      "Epoch 27/50\n",
      "19/19 [==============================] - 0s 2ms/step - loss: 0.0618 - accuracy: 0.9733\n",
      "Epoch 28/50\n",
      "19/19 [==============================] - 0s 2ms/step - loss: 0.0609 - accuracy: 0.9733\n",
      "Epoch 29/50\n",
      "19/19 [==============================] - 0s 2ms/step - loss: 0.0637 - accuracy: 0.9667\n",
      "Epoch 30/50\n",
      "19/19 [==============================] - 0s 2ms/step - loss: 0.0607 - accuracy: 0.9733\n",
      "Epoch 31/50\n",
      "19/19 [==============================] - 0s 2ms/step - loss: 0.0613 - accuracy: 0.9733\n",
      "Epoch 32/50\n",
      "19/19 [==============================] - 0s 2ms/step - loss: 0.0619 - accuracy: 0.9800\n",
      "Epoch 33/50\n",
      "19/19 [==============================] - 0s 2ms/step - loss: 0.0609 - accuracy: 0.9667\n",
      "Epoch 34/50\n",
      "19/19 [==============================] - 0s 2ms/step - loss: 0.0616 - accuracy: 0.9733\n",
      "Epoch 35/50\n",
      "19/19 [==============================] - 0s 2ms/step - loss: 0.0615 - accuracy: 0.9733\n",
      "Epoch 36/50\n",
      "19/19 [==============================] - 0s 2ms/step - loss: 0.0610 - accuracy: 0.9733\n",
      "Epoch 37/50\n",
      "19/19 [==============================] - 0s 2ms/step - loss: 0.0620 - accuracy: 0.9667\n",
      "Epoch 38/50\n",
      "19/19 [==============================] - 0s 2ms/step - loss: 0.0613 - accuracy: 0.9733\n",
      "Epoch 39/50\n",
      "19/19 [==============================] - 0s 2ms/step - loss: 0.0609 - accuracy: 0.9800\n",
      "Epoch 40/50\n",
      "19/19 [==============================] - 0s 2ms/step - loss: 0.0613 - accuracy: 0.9733\n",
      "Epoch 41/50\n",
      "19/19 [==============================] - 0s 2ms/step - loss: 0.0603 - accuracy: 0.9733\n",
      "Epoch 42/50\n",
      "19/19 [==============================] - 0s 2ms/step - loss: 0.0616 - accuracy: 0.9733\n",
      "Epoch 43/50\n",
      "19/19 [==============================] - 0s 2ms/step - loss: 0.0612 - accuracy: 0.9733\n",
      "Epoch 44/50\n",
      "19/19 [==============================] - 0s 2ms/step - loss: 0.0598 - accuracy: 0.9733\n",
      "Epoch 45/50\n",
      "19/19 [==============================] - 0s 2ms/step - loss: 0.0611 - accuracy: 0.9733\n",
      "Epoch 46/50\n",
      "19/19 [==============================] - 0s 2ms/step - loss: 0.0599 - accuracy: 0.9733\n",
      "Epoch 47/50\n",
      "19/19 [==============================] - 0s 2ms/step - loss: 0.0606 - accuracy: 0.9733\n",
      "Epoch 48/50\n",
      "19/19 [==============================] - 0s 2ms/step - loss: 0.0620 - accuracy: 0.9667\n",
      "Epoch 49/50\n",
      "19/19 [==============================] - 0s 2ms/step - loss: 0.0609 - accuracy: 0.9733\n",
      "Epoch 50/50\n",
      "19/19 [==============================] - 0s 2ms/step - loss: 0.0607 - accuracy: 0.9733\n"
     ]
    }
   ],
   "source": [
    "# epochs 횟수 증가하여 모델 학습 : fit\n",
    "# X, y, epochs=50, batch_size=8 --> epochs 50으로 변경\n",
    "# 학습결과 저장 : history\n",
    "\n",
    "\n",
    "history = model.fit(x, y, epochs=50, batch_size=8)\n"
   ]
  },
  {
   "cell_type": "markdown",
   "metadata": {
    "id": "lXayjZaA515j"
   },
   "source": [
    "---"
   ]
  },
  {
   "cell_type": "markdown",
   "metadata": {
    "id": "-368-McM51w8"
   },
   "source": [
    "# 6. 딥러닝 성능 평가"
   ]
  },
  {
   "cell_type": "code",
   "execution_count": null,
   "metadata": {
    "colab": {
     "base_uri": "https://localhost:8080/",
     "height": 295
    },
    "executionInfo": {
     "elapsed": 422,
     "status": "ok",
     "timestamp": 1651037373408,
     "user": {
      "displayName": "yunwoo oh",
      "userId": "01035531558844683999"
     },
     "user_tz": -540
    },
    "id": "F3Q5YHap5lvG",
    "outputId": "cbb8563b-3b98-46ff-b522-0dd4d723a803"
   },
   "outputs": [
    {
     "data": {
      "image/png": "[encoded data removed]",
      "text/plain": [
       "<Figure size 432x288 with 1 Axes>"
      ]
     },
     "metadata": {
      "needs_background": "light"
     },
     "output_type": "display_data"
    }
   ],
   "source": [
    "# matplotlib 이용하여 그래프 그리기\n",
    "# 1. plot 그리기 : 입력  history.history['loss'], 'r'\n",
    "# 2. plot 그리기 : 입력  history.history['accuracy'], 'b'\n",
    "# 3. title : 'Loss and Accuracy'\n",
    "# 4. xlabel : \"Epochs\"\n",
    "# 5. ylabel : \"Loss\"\n",
    "# 6. legend : [\"Loss\", \"Accuracy\"]\n",
    "# 7. plt.show()\n",
    "\n",
    "plt.plot(history.history['loss'], 'r')\n",
    "plt.plot(history.history['accuracy'], 'b')\n",
    "plt.title('Loss and Accuracy')\n",
    "plt.xlabel(\"Epochs\")\n",
    "plt.ylabel(\"Loss\")\n",
    "plt.legend([\"Loss\", \"Accuracy\"])\n",
    "plt.show()\n",
    "\n",
    "\n"
   ]
  }
 ],
 "metadata": {
  "colab": {
   "authorship_tag": "ABX9TyPT+EN61PSzy7xUS/xs301E",
   "provenance": [
    {
     "file_id": "100WgAWSo5XRBX--WD7-r3ztd9uQhTql9",
     "timestamp": 1649060205482
    }
   ]
  },
  "kernelspec": {
   "display_name": "Python 3 (ipykernel)",
   "language": "python",
   "name": "python3"
  },
  "language_info": {
   "codemirror_mode": {
    "name": "ipython",
    "version": 3
   },
   "file_extension": ".py",
   "mimetype": "text/x-python",
   "name": "python",
   "nbconvert_exporter": "python",
   "pygments_lexer": "ipython3",
   "version": "3.9.13"
  }
 },
 "nbformat": 4,
 "nbformat_minor": 4
}
