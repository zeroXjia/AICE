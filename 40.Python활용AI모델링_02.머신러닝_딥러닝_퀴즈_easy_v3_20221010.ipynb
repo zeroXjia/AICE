{
 "cells": [
  {
   "cell_type": "markdown",
   "metadata": {
    "id": "-8SbOMdy0FT4"
   },
   "source": [
    "# [실습-퀴즈] Python을 활용한 AI 모델링 - 머신러닝 파트\n",
    "+ 이번시간에는 Python을 활용한 AI 모델링에서 머신러닝에 대해 실습해 보겠습니다.\n",
    "+ 머신러닝 모델에는 아래와 같이 모델들이 있습니다.\n",
    " + 단일 분류예측 모델 : LogisticRegression, KNN, DecisionTree\n",
    " + 앙상블(Ensemble) 모델 : RandomForest, XGBoost, LGBM\n",
    "+ 솔직히, 머신러닝이 딥러닝보다 코딩하기 쉽습니다. 4줄 템플릿에 맞쳐 코딩하면 되기 때문입니다.\n",
    "+ 한가지 당부 드리고 싶은 말은 \"백문이불여일타\" 입니다. \n",
    "+ 이론보다 실습이 더 많은 시간과 노력이 투자 되어야 합니다."
   ]
  },
  {
   "cell_type": "markdown",
   "metadata": {
    "id": "CB9Zcdvv0FT9"
   },
   "source": [
    "## 학습목차\n",
    "1. 머신러닝 모델 프로세스\n",
    " - 데이터 가져오기\n",
    " - 데이터 전처리\n",
    " - Train, Test 데이터셋 분할\n",
    " - 데이터 정규화\n",
    " - 단일 분류예측 모델 : LogisticRegression, KNN, DecisionTree\n",
    " - 앙상블(Ensemble) 모델 : RandomForest, XGBoost, LGBM \n",
    "2. 재현율 성능이 너무 안나온다. 어떻게 해결할수 있을까?\n"
   ]
  },
  {
   "cell_type": "markdown",
   "metadata": {
    "id": "V085LH_00FT-"
   },
   "source": [
    "#  \n",
    "# 1. 머신러닝 모델 프로세스\n",
    "① 라이브러리 임포트(import)  \n",
    "② 데이터 가져오기(Loading the data)  \n",
    "③ 탐색적 데이터 분석(Exploratory Data Analysis)  \n",
    "④ 데이터 전처리(Data PreProcessing) : 데이터타입 변환, Null 데이터 처리, 누락데이터 처리, \n",
    "더미특성 생성, 특성 추출 (feature engineering) 등  \n",
    "⑤ Train, Test  데이터셋 분할  \n",
    "⑥ 데이터 정규화(Normalizing the Data)  \n",
    "⑦ 모델 개발(Creating the Model)  \n",
    "⑧ 모델 성능 평가"
   ]
  },
  {
   "cell_type": "markdown",
   "metadata": {
    "id": "AY9RWMZE0FT_"
   },
   "source": [
    "## ① 라이브러리 임포트"
   ]
  },
  {
   "cell_type": "markdown",
   "metadata": {
    "id": "ZARhtnLw0FUA"
   },
   "source": [
    "##### 필요 라이브러리 임포트"
   ]
  },
  {
   "cell_type": "code",
   "execution_count": 4,
   "metadata": {
    "id": "VY4TxgQj0FUA"
   },
   "outputs": [],
   "source": [
    "import numpy as np\n",
    "import pandas as pd\n",
    "import matplotlib.pyplot as plt"
   ]
  },
  {
   "cell_type": "markdown",
   "metadata": {
    "id": "WLHB9VMx0FUC"
   },
   "source": [
    "## ② 데이터 로드"
   ]
  },
  {
   "cell_type": "markdown",
   "metadata": {
    "id": "UVuC6FaG0FUD"
   },
   "source": [
    "#### data_v1_save.csv 파일 읽어오기"
   ]
  },
  {
   "cell_type": "code",
   "execution_count": 5,
   "metadata": {
    "id": "HvNm0L830FUD"
   },
   "outputs": [],
   "source": [
    "# 앞쪽 전처리에서 저장한 cust_data.csv 파일 읽기\n",
    "df = pd.read_csv('data_v1_save.csv')"
   ]
  },
  {
   "cell_type": "markdown",
   "metadata": {
    "id": "4V5lNvqe0FUE"
   },
   "source": [
    "## ③ 데이터 분석"
   ]
  },
  {
   "cell_type": "code",
   "execution_count": 6,
   "metadata": {
    "colab": {
     "base_uri": "https://localhost:8080/"
    },
    "executionInfo": {
     "elapsed": 23,
     "status": "ok",
     "timestamp": 1645514160931,
     "user": {
      "displayName": "yunwoo oh",
      "photoUrl": "https://lh3.googleusercontent.com/a/default-user=s64",
      "userId": "01035531558844683999"
     },
     "user_tz": -540
    },
    "id": "_6v_Ai8e0FUF",
    "outputId": "82f96fa1-3d53-4ca9-f25a-762571b70c02"
   },
   "outputs": [
    {
     "name": "stdout",
     "output_type": "stream",
     "text": [
      "<class 'pandas.core.frame.DataFrame'>\n",
      "RangeIndex: 7027 entries, 0 to 7026\n",
      "Data columns (total 17 columns):\n",
      " #   Column            Non-Null Count  Dtype  \n",
      "---  ------            --------------  -----  \n",
      " 0   gender            7027 non-null   object \n",
      " 1   Partner           7027 non-null   object \n",
      " 2   Dependents        7027 non-null   object \n",
      " 3   tenure            7027 non-null   int64  \n",
      " 4   MultipleLines     7027 non-null   object \n",
      " 5   InternetService   7027 non-null   object \n",
      " 6   OnlineSecurity    7027 non-null   object \n",
      " 7   OnlineBackup      7027 non-null   object \n",
      " 8   TechSupport       7027 non-null   object \n",
      " 9   StreamingTV       7027 non-null   object \n",
      " 10  StreamingMovies   7027 non-null   object \n",
      " 11  Contract          7027 non-null   object \n",
      " 12  PaperlessBilling  7027 non-null   object \n",
      " 13  PaymentMethod     7027 non-null   object \n",
      " 14  MonthlyCharges    7027 non-null   float64\n",
      " 15  TotalCharges      7027 non-null   float64\n",
      " 16  Churn             7027 non-null   int64  \n",
      "dtypes: float64(2), int64(2), object(13)\n",
      "memory usage: 933.4+ KB\n"
     ]
    }
   ],
   "source": [
    "# 17컬럼, 7,027 라인\n",
    "df.info()"
   ]
  },
  {
   "cell_type": "code",
   "execution_count": 7,
   "metadata": {
    "colab": {
     "base_uri": "https://localhost:8080/",
     "height": 374
    },
    "executionInfo": {
     "elapsed": 21,
     "status": "ok",
     "timestamp": 1645514160931,
     "user": {
      "displayName": "yunwoo oh",
      "photoUrl": "https://lh3.googleusercontent.com/a/default-user=s64",
      "userId": "01035531558844683999"
     },
     "user_tz": -540
    },
    "id": "IwQH_hhO0FUG",
    "outputId": "da1f3f21-7695-4556-c77e-e6b90b20ba86"
   },
   "outputs": [
    {
     "data": {
      "text/html": [
       "<div>\n",
       "<style scoped>\n",
       "    .dataframe tbody tr th:only-of-type {\n",
       "        vertical-align: middle;\n",
       "    }\n",
       "\n",
       "    .dataframe tbody tr th {\n",
       "        vertical-align: top;\n",
       "    }\n",
       "\n",
       "    .dataframe thead th {\n",
       "        text-align: right;\n",
       "    }\n",
       "</style>\n",
       "<table border=\"1\" class=\"dataframe\">\n",
       "  <thead>\n",
       "    <tr style=\"text-align: right;\">\n",
       "      <th></th>\n",
       "      <th>gender</th>\n",
       "      <th>Partner</th>\n",
       "      <th>Dependents</th>\n",
       "      <th>tenure</th>\n",
       "      <th>MultipleLines</th>\n",
       "      <th>InternetService</th>\n",
       "      <th>OnlineSecurity</th>\n",
       "      <th>OnlineBackup</th>\n",
       "      <th>TechSupport</th>\n",
       "      <th>StreamingTV</th>\n",
       "      <th>StreamingMovies</th>\n",
       "      <th>Contract</th>\n",
       "      <th>PaperlessBilling</th>\n",
       "      <th>PaymentMethod</th>\n",
       "      <th>MonthlyCharges</th>\n",
       "      <th>TotalCharges</th>\n",
       "      <th>Churn</th>\n",
       "    </tr>\n",
       "  </thead>\n",
       "  <tbody>\n",
       "    <tr>\n",
       "      <th>7022</th>\n",
       "      <td>Female</td>\n",
       "      <td>No</td>\n",
       "      <td>No</td>\n",
       "      <td>72</td>\n",
       "      <td>No</td>\n",
       "      <td>No</td>\n",
       "      <td>No internet service</td>\n",
       "      <td>No internet service</td>\n",
       "      <td>No internet service</td>\n",
       "      <td>No internet service</td>\n",
       "      <td>No internet service</td>\n",
       "      <td>Two year</td>\n",
       "      <td>Yes</td>\n",
       "      <td>Bank transfer (automatic)</td>\n",
       "      <td>21.15</td>\n",
       "      <td>1419.40</td>\n",
       "      <td>0</td>\n",
       "    </tr>\n",
       "    <tr>\n",
       "      <th>7023</th>\n",
       "      <td>Male</td>\n",
       "      <td>Yes</td>\n",
       "      <td>Yes</td>\n",
       "      <td>24</td>\n",
       "      <td>Yes</td>\n",
       "      <td>DSL</td>\n",
       "      <td>Yes</td>\n",
       "      <td>No</td>\n",
       "      <td>Yes</td>\n",
       "      <td>Yes</td>\n",
       "      <td>Yes</td>\n",
       "      <td>One year</td>\n",
       "      <td>Yes</td>\n",
       "      <td>Mailed check</td>\n",
       "      <td>84.80</td>\n",
       "      <td>1990.50</td>\n",
       "      <td>0</td>\n",
       "    </tr>\n",
       "    <tr>\n",
       "      <th>7024</th>\n",
       "      <td>Female</td>\n",
       "      <td>Yes</td>\n",
       "      <td>Yes</td>\n",
       "      <td>72</td>\n",
       "      <td>Yes</td>\n",
       "      <td>Fiber optic</td>\n",
       "      <td>No</td>\n",
       "      <td>Yes</td>\n",
       "      <td>No</td>\n",
       "      <td>Yes</td>\n",
       "      <td>Yes</td>\n",
       "      <td>One year</td>\n",
       "      <td>Yes</td>\n",
       "      <td>Credit card (automatic)</td>\n",
       "      <td>103.20</td>\n",
       "      <td>7362.90</td>\n",
       "      <td>0</td>\n",
       "    </tr>\n",
       "    <tr>\n",
       "      <th>7025</th>\n",
       "      <td>Female</td>\n",
       "      <td>Yes</td>\n",
       "      <td>Yes</td>\n",
       "      <td>11</td>\n",
       "      <td>No phone service</td>\n",
       "      <td>DSL</td>\n",
       "      <td>Yes</td>\n",
       "      <td>No</td>\n",
       "      <td>No</td>\n",
       "      <td>No</td>\n",
       "      <td>No</td>\n",
       "      <td>Month-to-month</td>\n",
       "      <td>Yes</td>\n",
       "      <td>Electronic check</td>\n",
       "      <td>29.60</td>\n",
       "      <td>346.45</td>\n",
       "      <td>0</td>\n",
       "    </tr>\n",
       "    <tr>\n",
       "      <th>7026</th>\n",
       "      <td>Male</td>\n",
       "      <td>Yes</td>\n",
       "      <td>No</td>\n",
       "      <td>4</td>\n",
       "      <td>Yes</td>\n",
       "      <td>Fiber optic</td>\n",
       "      <td>No</td>\n",
       "      <td>No</td>\n",
       "      <td>No</td>\n",
       "      <td>No</td>\n",
       "      <td>No</td>\n",
       "      <td>Month-to-month</td>\n",
       "      <td>Yes</td>\n",
       "      <td>Mailed check</td>\n",
       "      <td>74.40</td>\n",
       "      <td>306.60</td>\n",
       "      <td>1</td>\n",
       "    </tr>\n",
       "  </tbody>\n",
       "</table>\n",
       "</div>"
      ],
      "text/plain": [
       "      gender Partner Dependents  tenure     MultipleLines InternetService  \\\n",
       "7022  Female      No         No      72                No              No   \n",
       "7023    Male     Yes        Yes      24               Yes             DSL   \n",
       "7024  Female     Yes        Yes      72               Yes     Fiber optic   \n",
       "7025  Female     Yes        Yes      11  No phone service             DSL   \n",
       "7026    Male     Yes         No       4               Yes     Fiber optic   \n",
       "\n",
       "           OnlineSecurity         OnlineBackup          TechSupport  \\\n",
       "7022  No internet service  No internet service  No internet service   \n",
       "7023                  Yes                   No                  Yes   \n",
       "7024                   No                  Yes                   No   \n",
       "7025                  Yes                   No                   No   \n",
       "7026                   No                   No                   No   \n",
       "\n",
       "              StreamingTV      StreamingMovies        Contract  \\\n",
       "7022  No internet service  No internet service        Two year   \n",
       "7023                  Yes                  Yes        One year   \n",
       "7024                  Yes                  Yes        One year   \n",
       "7025                   No                   No  Month-to-month   \n",
       "7026                   No                   No  Month-to-month   \n",
       "\n",
       "     PaperlessBilling              PaymentMethod  MonthlyCharges  \\\n",
       "7022              Yes  Bank transfer (automatic)           21.15   \n",
       "7023              Yes               Mailed check           84.80   \n",
       "7024              Yes    Credit card (automatic)          103.20   \n",
       "7025              Yes           Electronic check           29.60   \n",
       "7026              Yes               Mailed check           74.40   \n",
       "\n",
       "      TotalCharges  Churn  \n",
       "7022       1419.40      0  \n",
       "7023       1990.50      0  \n",
       "7024       7362.90      0  \n",
       "7025        346.45      0  \n",
       "7026        306.60      1  "
      ]
     },
     "execution_count": 7,
     "metadata": {},
     "output_type": "execute_result"
    }
   ],
   "source": [
    "df.tail()"
   ]
  },
  {
   "cell_type": "code",
   "execution_count": 8,
   "metadata": {
    "colab": {
     "base_uri": "https://localhost:8080/",
     "height": 280
    },
    "executionInfo": {
     "elapsed": 20,
     "status": "ok",
     "timestamp": 1645514160932,
     "user": {
      "displayName": "yunwoo oh",
      "photoUrl": "https://lh3.googleusercontent.com/a/default-user=s64",
      "userId": "01035531558844683999"
     },
     "user_tz": -540
    },
    "id": "Qp-Kap2r0FUG",
    "outputId": "251fddcf-08a5-47ab-9f5b-521ac535db24"
   },
   "outputs": [
    {
     "data": {
      "text/plain": [
       "<AxesSubplot:>"
      ]
     },
     "execution_count": 8,
     "metadata": {},
     "output_type": "execute_result"
    },
    {
     "data": {
      "image/png": "[encoded data removed]",
      "text/plain": [
       "<Figure size 640x480 with 1 Axes>"
      ]
     },
     "metadata": {},
     "output_type": "display_data"
    }
   ],
   "source": [
    "# Churn 레이블 불균형 \n",
    "df['Churn'].value_counts().plot(kind='bar')"
   ]
  },
  {
   "cell_type": "markdown",
   "metadata": {
    "id": "jIh8NmeQ0FUH"
   },
   "source": [
    "## ④ 데이터 전처리"
   ]
  },
  {
   "cell_type": "markdown",
   "metadata": {
    "id": "q-nhs1qF0FUH"
   },
   "source": [
    "+ 모든 데이터값들은 숫자형으로 되어야 한다. 즉, Ojbect 타입을 모든 숫자형 변경 필요\n",
    "+ Object 컬럼에 대해 Pandas get_dummies 함수 활용하여 One-Hot-Encoding"
   ]
  },
  {
   "cell_type": "code",
   "execution_count": 9,
   "metadata": {
    "colab": {
     "base_uri": "https://localhost:8080/",
     "height": 206
    },
    "executionInfo": {
     "elapsed": 15,
     "status": "ok",
     "timestamp": 1645514160932,
     "user": {
      "displayName": "yunwoo oh",
      "photoUrl": "https://lh3.googleusercontent.com/a/default-user=s64",
      "userId": "01035531558844683999"
     },
     "user_tz": -540
    },
    "id": "Blq556Xf0FUH",
    "outputId": "2564ea0a-1024-4d8a-dc9f-f86b7c8c9fcb"
   },
   "outputs": [
    {
     "data": {
      "text/html": [
       "<div>\n",
       "<style scoped>\n",
       "    .dataframe tbody tr th:only-of-type {\n",
       "        vertical-align: middle;\n",
       "    }\n",
       "\n",
       "    .dataframe tbody tr th {\n",
       "        vertical-align: top;\n",
       "    }\n",
       "\n",
       "    .dataframe thead th {\n",
       "        text-align: right;\n",
       "    }\n",
       "</style>\n",
       "<table border=\"1\" class=\"dataframe\">\n",
       "  <thead>\n",
       "    <tr style=\"text-align: right;\">\n",
       "      <th></th>\n",
       "      <th>MultipleLines</th>\n",
       "    </tr>\n",
       "  </thead>\n",
       "  <tbody>\n",
       "    <tr>\n",
       "      <th>0</th>\n",
       "      <td>No</td>\n",
       "    </tr>\n",
       "    <tr>\n",
       "      <th>1</th>\n",
       "      <td>No</td>\n",
       "    </tr>\n",
       "    <tr>\n",
       "      <th>2</th>\n",
       "      <td>No phone service</td>\n",
       "    </tr>\n",
       "    <tr>\n",
       "      <th>3</th>\n",
       "      <td>No</td>\n",
       "    </tr>\n",
       "    <tr>\n",
       "      <th>4</th>\n",
       "      <td>Yes</td>\n",
       "    </tr>\n",
       "  </tbody>\n",
       "</table>\n",
       "</div>"
      ],
      "text/plain": [
       "      MultipleLines\n",
       "0                No\n",
       "1                No\n",
       "2  No phone service\n",
       "3                No\n",
       "4               Yes"
      ]
     },
     "execution_count": 9,
     "metadata": {},
     "output_type": "execute_result"
    }
   ],
   "source": [
    "# MultipleLines 컬럼 내용 보기\n",
    "df[['MultipleLines']].head()"
   ]
  },
  {
   "cell_type": "code",
   "execution_count": 10,
   "metadata": {
    "colab": {
     "base_uri": "https://localhost:8080/"
    },
    "executionInfo": {
     "elapsed": 546,
     "status": "ok",
     "timestamp": 1645514161464,
     "user": {
      "displayName": "yunwoo oh",
      "photoUrl": "https://lh3.googleusercontent.com/a/default-user=s64",
      "userId": "01035531558844683999"
     },
     "user_tz": -540
    },
    "id": "dpzTPy9o0FUI",
    "outputId": "cfeff3a6-4482-4871-bbe3-111660097f01"
   },
   "outputs": [
    {
     "data": {
      "text/plain": [
       "No                  3380\n",
       "Yes                 2966\n",
       "No phone service     681\n",
       "Name: MultipleLines, dtype: int64"
      ]
     },
     "execution_count": 10,
     "metadata": {},
     "output_type": "execute_result"
    }
   ],
   "source": [
    "# MultipleLines 컬럼에 대한 분포 확인 : 3가지 되어 있음 확인\n",
    "df['MultipleLines'].value_counts()"
   ]
  },
  {
   "cell_type": "code",
   "execution_count": 11,
   "metadata": {
    "colab": {
     "base_uri": "https://localhost:8080/",
     "height": 731
    },
    "executionInfo": {
     "elapsed": 23,
     "status": "ok",
     "timestamp": 1645514161465,
     "user": {
      "displayName": "yunwoo oh",
      "photoUrl": "https://lh3.googleusercontent.com/a/default-user=s64",
      "userId": "01035531558844683999"
     },
     "user_tz": -540
    },
    "id": "CvSKdzeQ0FUI",
    "outputId": "b5896af7-c838-42f5-bd94-88cc068e161a"
   },
   "outputs": [
    {
     "data": {
      "text/html": [
       "<div>\n",
       "<style scoped>\n",
       "    .dataframe tbody tr th:only-of-type {\n",
       "        vertical-align: middle;\n",
       "    }\n",
       "\n",
       "    .dataframe tbody tr th {\n",
       "        vertical-align: top;\n",
       "    }\n",
       "\n",
       "    .dataframe thead th {\n",
       "        text-align: right;\n",
       "    }\n",
       "</style>\n",
       "<table border=\"1\" class=\"dataframe\">\n",
       "  <thead>\n",
       "    <tr style=\"text-align: right;\">\n",
       "      <th></th>\n",
       "      <th>gender</th>\n",
       "      <th>Partner</th>\n",
       "      <th>Dependents</th>\n",
       "      <th>tenure</th>\n",
       "      <th>InternetService</th>\n",
       "      <th>OnlineSecurity</th>\n",
       "      <th>OnlineBackup</th>\n",
       "      <th>TechSupport</th>\n",
       "      <th>StreamingTV</th>\n",
       "      <th>StreamingMovies</th>\n",
       "      <th>Contract</th>\n",
       "      <th>PaperlessBilling</th>\n",
       "      <th>PaymentMethod</th>\n",
       "      <th>MonthlyCharges</th>\n",
       "      <th>TotalCharges</th>\n",
       "      <th>Churn</th>\n",
       "      <th>MultipleLines_No</th>\n",
       "      <th>MultipleLines_No phone service</th>\n",
       "      <th>MultipleLines_Yes</th>\n",
       "    </tr>\n",
       "  </thead>\n",
       "  <tbody>\n",
       "    <tr>\n",
       "      <th>0</th>\n",
       "      <td>Male</td>\n",
       "      <td>No</td>\n",
       "      <td>No</td>\n",
       "      <td>34</td>\n",
       "      <td>DSL</td>\n",
       "      <td>Yes</td>\n",
       "      <td>No</td>\n",
       "      <td>No</td>\n",
       "      <td>No</td>\n",
       "      <td>No</td>\n",
       "      <td>One year</td>\n",
       "      <td>No</td>\n",
       "      <td>Mailed check</td>\n",
       "      <td>56.95</td>\n",
       "      <td>1889.50</td>\n",
       "      <td>0</td>\n",
       "      <td>1</td>\n",
       "      <td>0</td>\n",
       "      <td>0</td>\n",
       "    </tr>\n",
       "    <tr>\n",
       "      <th>1</th>\n",
       "      <td>Male</td>\n",
       "      <td>No</td>\n",
       "      <td>No</td>\n",
       "      <td>2</td>\n",
       "      <td>DSL</td>\n",
       "      <td>Yes</td>\n",
       "      <td>Yes</td>\n",
       "      <td>No</td>\n",
       "      <td>No</td>\n",
       "      <td>No</td>\n",
       "      <td>Month-to-month</td>\n",
       "      <td>Yes</td>\n",
       "      <td>Mailed check</td>\n",
       "      <td>53.85</td>\n",
       "      <td>108.15</td>\n",
       "      <td>1</td>\n",
       "      <td>1</td>\n",
       "      <td>0</td>\n",
       "      <td>0</td>\n",
       "    </tr>\n",
       "    <tr>\n",
       "      <th>2</th>\n",
       "      <td>Male</td>\n",
       "      <td>No</td>\n",
       "      <td>No</td>\n",
       "      <td>45</td>\n",
       "      <td>DSL</td>\n",
       "      <td>Yes</td>\n",
       "      <td>No</td>\n",
       "      <td>Yes</td>\n",
       "      <td>No</td>\n",
       "      <td>No</td>\n",
       "      <td>One year</td>\n",
       "      <td>No</td>\n",
       "      <td>Bank transfer (automatic)</td>\n",
       "      <td>42.30</td>\n",
       "      <td>1840.75</td>\n",
       "      <td>0</td>\n",
       "      <td>0</td>\n",
       "      <td>1</td>\n",
       "      <td>0</td>\n",
       "    </tr>\n",
       "    <tr>\n",
       "      <th>3</th>\n",
       "      <td>Female</td>\n",
       "      <td>No</td>\n",
       "      <td>No</td>\n",
       "      <td>2</td>\n",
       "      <td>Fiber optic</td>\n",
       "      <td>No</td>\n",
       "      <td>No</td>\n",
       "      <td>No</td>\n",
       "      <td>No</td>\n",
       "      <td>No</td>\n",
       "      <td>Month-to-month</td>\n",
       "      <td>Yes</td>\n",
       "      <td>Electronic check</td>\n",
       "      <td>70.70</td>\n",
       "      <td>151.65</td>\n",
       "      <td>1</td>\n",
       "      <td>1</td>\n",
       "      <td>0</td>\n",
       "      <td>0</td>\n",
       "    </tr>\n",
       "    <tr>\n",
       "      <th>4</th>\n",
       "      <td>Female</td>\n",
       "      <td>No</td>\n",
       "      <td>No</td>\n",
       "      <td>8</td>\n",
       "      <td>Fiber optic</td>\n",
       "      <td>No</td>\n",
       "      <td>No</td>\n",
       "      <td>No</td>\n",
       "      <td>Yes</td>\n",
       "      <td>Yes</td>\n",
       "      <td>Month-to-month</td>\n",
       "      <td>Yes</td>\n",
       "      <td>Electronic check</td>\n",
       "      <td>99.65</td>\n",
       "      <td>820.50</td>\n",
       "      <td>1</td>\n",
       "      <td>0</td>\n",
       "      <td>0</td>\n",
       "      <td>1</td>\n",
       "    </tr>\n",
       "    <tr>\n",
       "      <th>...</th>\n",
       "      <td>...</td>\n",
       "      <td>...</td>\n",
       "      <td>...</td>\n",
       "      <td>...</td>\n",
       "      <td>...</td>\n",
       "      <td>...</td>\n",
       "      <td>...</td>\n",
       "      <td>...</td>\n",
       "      <td>...</td>\n",
       "      <td>...</td>\n",
       "      <td>...</td>\n",
       "      <td>...</td>\n",
       "      <td>...</td>\n",
       "      <td>...</td>\n",
       "      <td>...</td>\n",
       "      <td>...</td>\n",
       "      <td>...</td>\n",
       "      <td>...</td>\n",
       "      <td>...</td>\n",
       "    </tr>\n",
       "    <tr>\n",
       "      <th>7022</th>\n",
       "      <td>Female</td>\n",
       "      <td>No</td>\n",
       "      <td>No</td>\n",
       "      <td>72</td>\n",
       "      <td>No</td>\n",
       "      <td>No internet service</td>\n",
       "      <td>No internet service</td>\n",
       "      <td>No internet service</td>\n",
       "      <td>No internet service</td>\n",
       "      <td>No internet service</td>\n",
       "      <td>Two year</td>\n",
       "      <td>Yes</td>\n",
       "      <td>Bank transfer (automatic)</td>\n",
       "      <td>21.15</td>\n",
       "      <td>1419.40</td>\n",
       "      <td>0</td>\n",
       "      <td>1</td>\n",
       "      <td>0</td>\n",
       "      <td>0</td>\n",
       "    </tr>\n",
       "    <tr>\n",
       "      <th>7023</th>\n",
       "      <td>Male</td>\n",
       "      <td>Yes</td>\n",
       "      <td>Yes</td>\n",
       "      <td>24</td>\n",
       "      <td>DSL</td>\n",
       "      <td>Yes</td>\n",
       "      <td>No</td>\n",
       "      <td>Yes</td>\n",
       "      <td>Yes</td>\n",
       "      <td>Yes</td>\n",
       "      <td>One year</td>\n",
       "      <td>Yes</td>\n",
       "      <td>Mailed check</td>\n",
       "      <td>84.80</td>\n",
       "      <td>1990.50</td>\n",
       "      <td>0</td>\n",
       "      <td>0</td>\n",
       "      <td>0</td>\n",
       "      <td>1</td>\n",
       "    </tr>\n",
       "    <tr>\n",
       "      <th>7024</th>\n",
       "      <td>Female</td>\n",
       "      <td>Yes</td>\n",
       "      <td>Yes</td>\n",
       "      <td>72</td>\n",
       "      <td>Fiber optic</td>\n",
       "      <td>No</td>\n",
       "      <td>Yes</td>\n",
       "      <td>No</td>\n",
       "      <td>Yes</td>\n",
       "      <td>Yes</td>\n",
       "      <td>One year</td>\n",
       "      <td>Yes</td>\n",
       "      <td>Credit card (automatic)</td>\n",
       "      <td>103.20</td>\n",
       "      <td>7362.90</td>\n",
       "      <td>0</td>\n",
       "      <td>0</td>\n",
       "      <td>0</td>\n",
       "      <td>1</td>\n",
       "    </tr>\n",
       "    <tr>\n",
       "      <th>7025</th>\n",
       "      <td>Female</td>\n",
       "      <td>Yes</td>\n",
       "      <td>Yes</td>\n",
       "      <td>11</td>\n",
       "      <td>DSL</td>\n",
       "      <td>Yes</td>\n",
       "      <td>No</td>\n",
       "      <td>No</td>\n",
       "      <td>No</td>\n",
       "      <td>No</td>\n",
       "      <td>Month-to-month</td>\n",
       "      <td>Yes</td>\n",
       "      <td>Electronic check</td>\n",
       "      <td>29.60</td>\n",
       "      <td>346.45</td>\n",
       "      <td>0</td>\n",
       "      <td>0</td>\n",
       "      <td>1</td>\n",
       "      <td>0</td>\n",
       "    </tr>\n",
       "    <tr>\n",
       "      <th>7026</th>\n",
       "      <td>Male</td>\n",
       "      <td>Yes</td>\n",
       "      <td>No</td>\n",
       "      <td>4</td>\n",
       "      <td>Fiber optic</td>\n",
       "      <td>No</td>\n",
       "      <td>No</td>\n",
       "      <td>No</td>\n",
       "      <td>No</td>\n",
       "      <td>No</td>\n",
       "      <td>Month-to-month</td>\n",
       "      <td>Yes</td>\n",
       "      <td>Mailed check</td>\n",
       "      <td>74.40</td>\n",
       "      <td>306.60</td>\n",
       "      <td>1</td>\n",
       "      <td>0</td>\n",
       "      <td>0</td>\n",
       "      <td>1</td>\n",
       "    </tr>\n",
       "  </tbody>\n",
       "</table>\n",
       "<p>7027 rows × 19 columns</p>\n",
       "</div>"
      ],
      "text/plain": [
       "      gender Partner Dependents  tenure InternetService       OnlineSecurity  \\\n",
       "0       Male      No         No      34             DSL                  Yes   \n",
       "1       Male      No         No       2             DSL                  Yes   \n",
       "2       Male      No         No      45             DSL                  Yes   \n",
       "3     Female      No         No       2     Fiber optic                   No   \n",
       "4     Female      No         No       8     Fiber optic                   No   \n",
       "...      ...     ...        ...     ...             ...                  ...   \n",
       "7022  Female      No         No      72              No  No internet service   \n",
       "7023    Male     Yes        Yes      24             DSL                  Yes   \n",
       "7024  Female     Yes        Yes      72     Fiber optic                   No   \n",
       "7025  Female     Yes        Yes      11             DSL                  Yes   \n",
       "7026    Male     Yes         No       4     Fiber optic                   No   \n",
       "\n",
       "             OnlineBackup          TechSupport          StreamingTV  \\\n",
       "0                      No                   No                   No   \n",
       "1                     Yes                   No                   No   \n",
       "2                      No                  Yes                   No   \n",
       "3                      No                   No                   No   \n",
       "4                      No                   No                  Yes   \n",
       "...                   ...                  ...                  ...   \n",
       "7022  No internet service  No internet service  No internet service   \n",
       "7023                   No                  Yes                  Yes   \n",
       "7024                  Yes                   No                  Yes   \n",
       "7025                   No                   No                   No   \n",
       "7026                   No                   No                   No   \n",
       "\n",
       "          StreamingMovies        Contract PaperlessBilling  \\\n",
       "0                      No        One year               No   \n",
       "1                      No  Month-to-month              Yes   \n",
       "2                      No        One year               No   \n",
       "3                      No  Month-to-month              Yes   \n",
       "4                     Yes  Month-to-month              Yes   \n",
       "...                   ...             ...              ...   \n",
       "7022  No internet service        Two year              Yes   \n",
       "7023                  Yes        One year              Yes   \n",
       "7024                  Yes        One year              Yes   \n",
       "7025                   No  Month-to-month              Yes   \n",
       "7026                   No  Month-to-month              Yes   \n",
       "\n",
       "                  PaymentMethod  MonthlyCharges  TotalCharges  Churn  \\\n",
       "0                  Mailed check           56.95       1889.50      0   \n",
       "1                  Mailed check           53.85        108.15      1   \n",
       "2     Bank transfer (automatic)           42.30       1840.75      0   \n",
       "3              Electronic check           70.70        151.65      1   \n",
       "4              Electronic check           99.65        820.50      1   \n",
       "...                         ...             ...           ...    ...   \n",
       "7022  Bank transfer (automatic)           21.15       1419.40      0   \n",
       "7023               Mailed check           84.80       1990.50      0   \n",
       "7024    Credit card (automatic)          103.20       7362.90      0   \n",
       "7025           Electronic check           29.60        346.45      0   \n",
       "7026               Mailed check           74.40        306.60      1   \n",
       "\n",
       "      MultipleLines_No  MultipleLines_No phone service  MultipleLines_Yes  \n",
       "0                    1                               0                  0  \n",
       "1                    1                               0                  0  \n",
       "2                    0                               1                  0  \n",
       "3                    1                               0                  0  \n",
       "4                    0                               0                  1  \n",
       "...                ...                             ...                ...  \n",
       "7022                 1                               0                  0  \n",
       "7023                 0                               0                  1  \n",
       "7024                 0                               0                  1  \n",
       "7025                 0                               1                  0  \n",
       "7026                 0                               0                  1  \n",
       "\n",
       "[7027 rows x 19 columns]"
      ]
     },
     "execution_count": 11,
     "metadata": {},
     "output_type": "execute_result"
    }
   ],
   "source": [
    "# MultipleLines 컬럼의 값들이 문자열로 되어 있어 숫자로 변환해야 함. 컴퓨터가 이해할수 있도록\n",
    "# Object 컬럼의 데이터를 원-핫-인코딩해서 숫자로 변경해 주는 함수 : Pandas get_dummies()\n",
    "\n",
    "pd.get_dummies(data=df, columns=['MultipleLines'])"
   ]
  },
  {
   "cell_type": "code",
   "execution_count": 12,
   "metadata": {
    "colab": {
     "base_uri": "https://localhost:8080/",
     "height": 259
    },
    "executionInfo": {
     "elapsed": 21,
     "status": "ok",
     "timestamp": 1645514161465,
     "user": {
      "displayName": "yunwoo oh",
      "photoUrl": "https://lh3.googleusercontent.com/a/default-user=s64",
      "userId": "01035531558844683999"
     },
     "user_tz": -540
    },
    "id": "2I33ocSP0FUJ",
    "outputId": "9093eade-6200-4aca-f97a-a71b6085fc7d"
   },
   "outputs": [
    {
     "data": {
      "text/html": [
       "<div>\n",
       "<style scoped>\n",
       "    .dataframe tbody tr th:only-of-type {\n",
       "        vertical-align: middle;\n",
       "    }\n",
       "\n",
       "    .dataframe tbody tr th {\n",
       "        vertical-align: top;\n",
       "    }\n",
       "\n",
       "    .dataframe thead th {\n",
       "        text-align: right;\n",
       "    }\n",
       "</style>\n",
       "<table border=\"1\" class=\"dataframe\">\n",
       "  <thead>\n",
       "    <tr style=\"text-align: right;\">\n",
       "      <th></th>\n",
       "      <th>gender</th>\n",
       "      <th>Partner</th>\n",
       "      <th>Dependents</th>\n",
       "      <th>MultipleLines</th>\n",
       "      <th>InternetService</th>\n",
       "      <th>OnlineSecurity</th>\n",
       "      <th>OnlineBackup</th>\n",
       "      <th>TechSupport</th>\n",
       "      <th>StreamingTV</th>\n",
       "      <th>StreamingMovies</th>\n",
       "      <th>Contract</th>\n",
       "      <th>PaperlessBilling</th>\n",
       "      <th>PaymentMethod</th>\n",
       "    </tr>\n",
       "  </thead>\n",
       "  <tbody>\n",
       "    <tr>\n",
       "      <th>0</th>\n",
       "      <td>Male</td>\n",
       "      <td>No</td>\n",
       "      <td>No</td>\n",
       "      <td>No</td>\n",
       "      <td>DSL</td>\n",
       "      <td>Yes</td>\n",
       "      <td>No</td>\n",
       "      <td>No</td>\n",
       "      <td>No</td>\n",
       "      <td>No</td>\n",
       "      <td>One year</td>\n",
       "      <td>No</td>\n",
       "      <td>Mailed check</td>\n",
       "    </tr>\n",
       "    <tr>\n",
       "      <th>1</th>\n",
       "      <td>Male</td>\n",
       "      <td>No</td>\n",
       "      <td>No</td>\n",
       "      <td>No</td>\n",
       "      <td>DSL</td>\n",
       "      <td>Yes</td>\n",
       "      <td>Yes</td>\n",
       "      <td>No</td>\n",
       "      <td>No</td>\n",
       "      <td>No</td>\n",
       "      <td>Month-to-month</td>\n",
       "      <td>Yes</td>\n",
       "      <td>Mailed check</td>\n",
       "    </tr>\n",
       "    <tr>\n",
       "      <th>2</th>\n",
       "      <td>Male</td>\n",
       "      <td>No</td>\n",
       "      <td>No</td>\n",
       "      <td>No phone service</td>\n",
       "      <td>DSL</td>\n",
       "      <td>Yes</td>\n",
       "      <td>No</td>\n",
       "      <td>Yes</td>\n",
       "      <td>No</td>\n",
       "      <td>No</td>\n",
       "      <td>One year</td>\n",
       "      <td>No</td>\n",
       "      <td>Bank transfer (automatic)</td>\n",
       "    </tr>\n",
       "  </tbody>\n",
       "</table>\n",
       "</div>"
      ],
      "text/plain": [
       "  gender Partner Dependents     MultipleLines InternetService OnlineSecurity  \\\n",
       "0   Male      No         No                No             DSL            Yes   \n",
       "1   Male      No         No                No             DSL            Yes   \n",
       "2   Male      No         No  No phone service             DSL            Yes   \n",
       "\n",
       "  OnlineBackup TechSupport StreamingTV StreamingMovies        Contract  \\\n",
       "0           No          No          No              No        One year   \n",
       "1          Yes          No          No              No  Month-to-month   \n",
       "2           No         Yes          No              No        One year   \n",
       "\n",
       "  PaperlessBilling              PaymentMethod  \n",
       "0               No               Mailed check  \n",
       "1              Yes               Mailed check  \n",
       "2               No  Bank transfer (automatic)  "
      ]
     },
     "execution_count": 12,
     "metadata": {},
     "output_type": "execute_result"
    }
   ],
   "source": [
    "# Object 컬럼 확인\n",
    "df.select_dtypes('object').head(3)"
   ]
  },
  {
   "cell_type": "code",
   "execution_count": 13,
   "metadata": {
    "colab": {
     "base_uri": "https://localhost:8080/"
    },
    "executionInfo": {
     "elapsed": 21,
     "status": "ok",
     "timestamp": 1645514161466,
     "user": {
      "displayName": "yunwoo oh",
      "photoUrl": "https://lh3.googleusercontent.com/a/default-user=s64",
      "userId": "01035531558844683999"
     },
     "user_tz": -540
    },
    "id": "fRuWYDVt0FUJ",
    "outputId": "3492eb46-8f8d-49ff-bb20-af2779113f77"
   },
   "outputs": [
    {
     "data": {
      "text/plain": [
       "array(['gender', 'Partner', 'Dependents', 'MultipleLines',\n",
       "       'InternetService', 'OnlineSecurity', 'OnlineBackup', 'TechSupport',\n",
       "       'StreamingTV', 'StreamingMovies', 'Contract', 'PaperlessBilling',\n",
       "       'PaymentMethod'], dtype=object)"
      ]
     },
     "execution_count": 13,
     "metadata": {},
     "output_type": "execute_result"
    }
   ],
   "source": [
    "# Object 컬럼명 수집\n",
    "\n",
    "cal_cols = df.select_dtypes('object').columns.values\n",
    "cal_cols"
   ]
  },
  {
   "cell_type": "markdown",
   "metadata": {
    "id": "J4ZK1acm0FUK"
   },
   "source": [
    "##### <font color=blue> **[문제] Object 컬럼에 대해 One-Hot-Encoding 수행하고 그 결과를 df1 변수에 저장하세요.** </font>"
   ]
  },
  {
   "cell_type": "code",
   "execution_count": 14,
   "metadata": {
    "id": "nrO_PFhQ0FUK"
   },
   "outputs": [],
   "source": [
    "# Pandas get_dummies() 함수 이용\n",
    "# 원-핫-인코딩 결과를 df1 저장\n",
    "col_g = ['gender', 'Partner', 'Dependents', 'MultipleLines',\n",
    "       'InternetService', 'OnlineSecurity', 'OnlineBackup', 'TechSupport',\n",
    "       'StreamingTV', 'StreamingMovies', 'Contract', 'PaperlessBilling',\n",
    "       'PaymentMethod']\n",
    "\n",
    "df1 = pd.get_dummies(data=df, columns=col_g)\n"
   ]
  },
  {
   "cell_type": "code",
   "execution_count": 15,
   "metadata": {
    "colab": {
     "base_uri": "https://localhost:8080/"
    },
    "executionInfo": {
     "elapsed": 19,
     "status": "ok",
     "timestamp": 1645514161468,
     "user": {
      "displayName": "yunwoo oh",
      "photoUrl": "https://lh3.googleusercontent.com/a/default-user=s64",
      "userId": "01035531558844683999"
     },
     "user_tz": -540
    },
    "id": "LKHLRV220FUK",
    "outputId": "f30ab895-a270-4c0e-e92f-850c1f608600"
   },
   "outputs": [
    {
     "name": "stdout",
     "output_type": "stream",
     "text": [
      "<class 'pandas.core.frame.DataFrame'>\n",
      "RangeIndex: 7027 entries, 0 to 7026\n",
      "Data columns (total 40 columns):\n",
      " #   Column                                   Non-Null Count  Dtype  \n",
      "---  ------                                   --------------  -----  \n",
      " 0   tenure                                   7027 non-null   int64  \n",
      " 1   MonthlyCharges                           7027 non-null   float64\n",
      " 2   TotalCharges                             7027 non-null   float64\n",
      " 3   Churn                                    7027 non-null   int64  \n",
      " 4   gender_Female                            7027 non-null   uint8  \n",
      " 5   gender_Male                              7027 non-null   uint8  \n",
      " 6   Partner_No                               7027 non-null   uint8  \n",
      " 7   Partner_Yes                              7027 non-null   uint8  \n",
      " 8   Dependents_No                            7027 non-null   uint8  \n",
      " 9   Dependents_Yes                           7027 non-null   uint8  \n",
      " 10  MultipleLines_No                         7027 non-null   uint8  \n",
      " 11  MultipleLines_No phone service           7027 non-null   uint8  \n",
      " 12  MultipleLines_Yes                        7027 non-null   uint8  \n",
      " 13  InternetService_DSL                      7027 non-null   uint8  \n",
      " 14  InternetService_Fiber optic              7027 non-null   uint8  \n",
      " 15  InternetService_No                       7027 non-null   uint8  \n",
      " 16  OnlineSecurity_No                        7027 non-null   uint8  \n",
      " 17  OnlineSecurity_No internet service       7027 non-null   uint8  \n",
      " 18  OnlineSecurity_Yes                       7027 non-null   uint8  \n",
      " 19  OnlineBackup_No                          7027 non-null   uint8  \n",
      " 20  OnlineBackup_No internet service         7027 non-null   uint8  \n",
      " 21  OnlineBackup_Yes                         7027 non-null   uint8  \n",
      " 22  TechSupport_No                           7027 non-null   uint8  \n",
      " 23  TechSupport_No internet service          7027 non-null   uint8  \n",
      " 24  TechSupport_Yes                          7027 non-null   uint8  \n",
      " 25  StreamingTV_No                           7027 non-null   uint8  \n",
      " 26  StreamingTV_No internet service          7027 non-null   uint8  \n",
      " 27  StreamingTV_Yes                          7027 non-null   uint8  \n",
      " 28  StreamingMovies_No                       7027 non-null   uint8  \n",
      " 29  StreamingMovies_No internet service      7027 non-null   uint8  \n",
      " 30  StreamingMovies_Yes                      7027 non-null   uint8  \n",
      " 31  Contract_Month-to-month                  7027 non-null   uint8  \n",
      " 32  Contract_One year                        7027 non-null   uint8  \n",
      " 33  Contract_Two year                        7027 non-null   uint8  \n",
      " 34  PaperlessBilling_No                      7027 non-null   uint8  \n",
      " 35  PaperlessBilling_Yes                     7027 non-null   uint8  \n",
      " 36  PaymentMethod_Bank transfer (automatic)  7027 non-null   uint8  \n",
      " 37  PaymentMethod_Credit card (automatic)    7027 non-null   uint8  \n",
      " 38  PaymentMethod_Electronic check           7027 non-null   uint8  \n",
      " 39  PaymentMethod_Mailed check               7027 non-null   uint8  \n",
      "dtypes: float64(2), int64(2), uint8(36)\n",
      "memory usage: 466.8 KB\n"
     ]
    }
   ],
   "source": [
    "# 모든 컬럼 데이터가 숫자되어 있음을 확인\n",
    "# 40컬럼, 7,027 라인\n",
    "\n",
    "df1.info()"
   ]
  },
  {
   "cell_type": "code",
   "execution_count": 16,
   "metadata": {
    "colab": {
     "base_uri": "https://localhost:8080/",
     "height": 242
    },
    "executionInfo": {
     "elapsed": 17,
     "status": "ok",
     "timestamp": 1645514161468,
     "user": {
      "displayName": "yunwoo oh",
      "photoUrl": "https://lh3.googleusercontent.com/a/default-user=s64",
      "userId": "01035531558844683999"
     },
     "user_tz": -540
    },
    "id": "jQV1XuM50FUL",
    "outputId": "2bc7170d-fa08-4681-87f3-b3b297e23105"
   },
   "outputs": [
    {
     "data": {
      "text/html": [
       "<div>\n",
       "<style scoped>\n",
       "    .dataframe tbody tr th:only-of-type {\n",
       "        vertical-align: middle;\n",
       "    }\n",
       "\n",
       "    .dataframe tbody tr th {\n",
       "        vertical-align: top;\n",
       "    }\n",
       "\n",
       "    .dataframe thead th {\n",
       "        text-align: right;\n",
       "    }\n",
       "</style>\n",
       "<table border=\"1\" class=\"dataframe\">\n",
       "  <thead>\n",
       "    <tr style=\"text-align: right;\">\n",
       "      <th></th>\n",
       "      <th>tenure</th>\n",
       "      <th>MonthlyCharges</th>\n",
       "      <th>TotalCharges</th>\n",
       "      <th>Churn</th>\n",
       "      <th>gender_Female</th>\n",
       "      <th>gender_Male</th>\n",
       "      <th>Partner_No</th>\n",
       "      <th>Partner_Yes</th>\n",
       "      <th>Dependents_No</th>\n",
       "      <th>Dependents_Yes</th>\n",
       "      <th>...</th>\n",
       "      <th>StreamingMovies_Yes</th>\n",
       "      <th>Contract_Month-to-month</th>\n",
       "      <th>Contract_One year</th>\n",
       "      <th>Contract_Two year</th>\n",
       "      <th>PaperlessBilling_No</th>\n",
       "      <th>PaperlessBilling_Yes</th>\n",
       "      <th>PaymentMethod_Bank transfer (automatic)</th>\n",
       "      <th>PaymentMethod_Credit card (automatic)</th>\n",
       "      <th>PaymentMethod_Electronic check</th>\n",
       "      <th>PaymentMethod_Mailed check</th>\n",
       "    </tr>\n",
       "  </thead>\n",
       "  <tbody>\n",
       "    <tr>\n",
       "      <th>0</th>\n",
       "      <td>34</td>\n",
       "      <td>56.95</td>\n",
       "      <td>1889.50</td>\n",
       "      <td>0</td>\n",
       "      <td>0</td>\n",
       "      <td>1</td>\n",
       "      <td>1</td>\n",
       "      <td>0</td>\n",
       "      <td>1</td>\n",
       "      <td>0</td>\n",
       "      <td>...</td>\n",
       "      <td>0</td>\n",
       "      <td>0</td>\n",
       "      <td>1</td>\n",
       "      <td>0</td>\n",
       "      <td>1</td>\n",
       "      <td>0</td>\n",
       "      <td>0</td>\n",
       "      <td>0</td>\n",
       "      <td>0</td>\n",
       "      <td>1</td>\n",
       "    </tr>\n",
       "    <tr>\n",
       "      <th>1</th>\n",
       "      <td>2</td>\n",
       "      <td>53.85</td>\n",
       "      <td>108.15</td>\n",
       "      <td>1</td>\n",
       "      <td>0</td>\n",
       "      <td>1</td>\n",
       "      <td>1</td>\n",
       "      <td>0</td>\n",
       "      <td>1</td>\n",
       "      <td>0</td>\n",
       "      <td>...</td>\n",
       "      <td>0</td>\n",
       "      <td>1</td>\n",
       "      <td>0</td>\n",
       "      <td>0</td>\n",
       "      <td>0</td>\n",
       "      <td>1</td>\n",
       "      <td>0</td>\n",
       "      <td>0</td>\n",
       "      <td>0</td>\n",
       "      <td>1</td>\n",
       "    </tr>\n",
       "    <tr>\n",
       "      <th>2</th>\n",
       "      <td>45</td>\n",
       "      <td>42.30</td>\n",
       "      <td>1840.75</td>\n",
       "      <td>0</td>\n",
       "      <td>0</td>\n",
       "      <td>1</td>\n",
       "      <td>1</td>\n",
       "      <td>0</td>\n",
       "      <td>1</td>\n",
       "      <td>0</td>\n",
       "      <td>...</td>\n",
       "      <td>0</td>\n",
       "      <td>0</td>\n",
       "      <td>1</td>\n",
       "      <td>0</td>\n",
       "      <td>1</td>\n",
       "      <td>0</td>\n",
       "      <td>1</td>\n",
       "      <td>0</td>\n",
       "      <td>0</td>\n",
       "      <td>0</td>\n",
       "    </tr>\n",
       "  </tbody>\n",
       "</table>\n",
       "<p>3 rows × 40 columns</p>\n",
       "</div>"
      ],
      "text/plain": [
       "   tenure  MonthlyCharges  TotalCharges  Churn  gender_Female  gender_Male  \\\n",
       "0      34           56.95       1889.50      0              0            1   \n",
       "1       2           53.85        108.15      1              0            1   \n",
       "2      45           42.30       1840.75      0              0            1   \n",
       "\n",
       "   Partner_No  Partner_Yes  Dependents_No  Dependents_Yes  ...  \\\n",
       "0           1            0              1               0  ...   \n",
       "1           1            0              1               0  ...   \n",
       "2           1            0              1               0  ...   \n",
       "\n",
       "   StreamingMovies_Yes  Contract_Month-to-month  Contract_One year  \\\n",
       "0                    0                        0                  1   \n",
       "1                    0                        1                  0   \n",
       "2                    0                        0                  1   \n",
       "\n",
       "   Contract_Two year  PaperlessBilling_No  PaperlessBilling_Yes  \\\n",
       "0                  0                    1                     0   \n",
       "1                  0                    0                     1   \n",
       "2                  0                    1                     0   \n",
       "\n",
       "   PaymentMethod_Bank transfer (automatic)  \\\n",
       "0                                        0   \n",
       "1                                        0   \n",
       "2                                        1   \n",
       "\n",
       "   PaymentMethod_Credit card (automatic)  PaymentMethod_Electronic check  \\\n",
       "0                                      0                               0   \n",
       "1                                      0                               0   \n",
       "2                                      0                               0   \n",
       "\n",
       "   PaymentMethod_Mailed check  \n",
       "0                           1  \n",
       "1                           1  \n",
       "2                           0  \n",
       "\n",
       "[3 rows x 40 columns]"
      ]
     },
     "execution_count": 16,
     "metadata": {},
     "output_type": "execute_result"
    }
   ],
   "source": [
    "df1.head(3)"
   ]
  },
  {
   "cell_type": "markdown",
   "metadata": {
    "id": "S_vS5S6s0FUL"
   },
   "source": [
    "## ⑤ Train, Test  데이터셋 분할"
   ]
  },
  {
   "cell_type": "markdown",
   "metadata": {
    "id": "6-OtRis00FUL"
   },
   "source": [
    "#### 입력(X)과 레이블(y) 나누기"
   ]
  },
  {
   "cell_type": "markdown",
   "metadata": {
    "id": "E3uUWsZA0FUM"
   },
   "source": [
    "##### <font color=blue> **[문제] df1 DataFrame에서 'Churn' 컬럼을 제외한 나머지 정보를 X에 저장하세요.** </font>"
   ]
  },
  {
   "cell_type": "code",
   "execution_count": 19,
   "metadata": {
    "id": "sOUAhknI0FUM"
   },
   "outputs": [],
   "source": [
    "# DataFrame drop 함수 활용\n",
    "# 'Churn' 컬럼 삭제\n",
    "# DataFrame에서 values만 X에 저장\n",
    "\n",
    "target = 'Churn'\n",
    "x = df1.drop(target, axis=1)\n",
    "x = x.values"
   ]
  },
  {
   "cell_type": "markdown",
   "metadata": {
    "id": "ZaSeXul50FUM"
   },
   "source": [
    "##### <font color=blue> **[문제] df DataFrame에서 'Churn' 컬럼을 y로 저장하세요.** </font>"
   ]
  },
  {
   "cell_type": "code",
   "execution_count": 22,
   "metadata": {
    "id": "VHOezJtl0FUM"
   },
   "outputs": [],
   "source": [
    "# DataFrame 'Churn' 컬럼 사용\n",
    "# DataFrame에서 values만 y에 저장\n",
    "\n",
    "y = df1.loc[:, target]\n",
    "y = y.values\n"
   ]
  },
  {
   "cell_type": "code",
   "execution_count": 24,
   "metadata": {
    "colab": {
     "base_uri": "https://localhost:8080/"
    },
    "executionInfo": {
     "elapsed": 17,
     "status": "ok",
     "timestamp": 1645514161470,
     "user": {
      "displayName": "yunwoo oh",
      "photoUrl": "https://lh3.googleusercontent.com/a/default-user=s64",
      "userId": "01035531558844683999"
     },
     "user_tz": -540
    },
    "id": "YjmW-mzK0FUM",
    "outputId": "32aa0f24-1497-4160-ebcf-f7ce3a71ee46"
   },
   "outputs": [
    {
     "data": {
      "text/plain": [
       "((7027, 39), (7027,))"
      ]
     },
     "execution_count": 24,
     "metadata": {},
     "output_type": "execute_result"
    }
   ],
   "source": [
    "x.shape, y.shape"
   ]
  },
  {
   "cell_type": "markdown",
   "metadata": {
    "id": "rfmrbAUZ0FUN"
   },
   "source": [
    "#### Train , Test dataset 나누기"
   ]
  },
  {
   "cell_type": "code",
   "execution_count": 25,
   "metadata": {
    "id": "IzvqcVmx0FUN"
   },
   "outputs": [],
   "source": [
    "from sklearn.model_selection import train_test_split"
   ]
  },
  {
   "cell_type": "markdown",
   "metadata": {
    "id": "5-pMRPi50FUN"
   },
   "source": [
    "##### <font color=blue> **[문제] Train dataset, Test dataset 나누세요.** </font>"
   ]
  },
  {
   "cell_type": "code",
   "execution_count": 30,
   "metadata": {
    "id": "J9Tpju4m0FUN"
   },
   "outputs": [],
   "source": [
    "# Train dataset, Test dataset 나누기 : train_test_split 함수 사용\n",
    "# 입력 : X, y \n",
    "# Train : Test 비율 = 7: 3  --> test_size=0.3\n",
    "# y Class 비율에 맞게 나누기 : stratify=y\n",
    "# 여러번 수행해도 같은 결과 나오게 고정하기 : random_state=42 \n",
    "# 결과 : X_train, X_test, y_train, y_test\n",
    "\n",
    "\n",
    "x_train, x_test, y_train, y_test = train_test_split(x, y, test_size=0.3,\n",
    "                                                  stratify=y, random_state=42)\n",
    "\n"
   ]
  },
  {
   "cell_type": "code",
   "execution_count": 31,
   "metadata": {
    "colab": {
     "base_uri": "https://localhost:8080/"
    },
    "executionInfo": {
     "elapsed": 9,
     "status": "ok",
     "timestamp": 1645514161766,
     "user": {
      "displayName": "yunwoo oh",
      "photoUrl": "https://lh3.googleusercontent.com/a/default-user=s64",
      "userId": "01035531558844683999"
     },
     "user_tz": -540
    },
    "id": "8ylQ-3700FUO",
    "outputId": "a04d9749-fb3c-4ed9-feda-cc18eda784ff"
   },
   "outputs": [
    {
     "data": {
      "text/plain": [
       "(4918, 39)"
      ]
     },
     "execution_count": 31,
     "metadata": {},
     "output_type": "execute_result"
    }
   ],
   "source": [
    "x_train.shape"
   ]
  },
  {
   "cell_type": "code",
   "execution_count": 32,
   "metadata": {
    "colab": {
     "base_uri": "https://localhost:8080/"
    },
    "executionInfo": {
     "elapsed": 7,
     "status": "ok",
     "timestamp": 1645514161766,
     "user": {
      "displayName": "yunwoo oh",
      "photoUrl": "https://lh3.googleusercontent.com/a/default-user=s64",
      "userId": "01035531558844683999"
     },
     "user_tz": -540
    },
    "id": "rg0_4PEk0FUO",
    "outputId": "3abd3937-ba2b-4116-96c2-9f28a679ffa3"
   },
   "outputs": [
    {
     "data": {
      "text/plain": [
       "(4918,)"
      ]
     },
     "execution_count": 32,
     "metadata": {},
     "output_type": "execute_result"
    }
   ],
   "source": [
    "y_train.shape"
   ]
  },
  {
   "cell_type": "markdown",
   "metadata": {
    "id": "6dcPNr_E0FUO"
   },
   "source": [
    "## ⑥ 데이터 정규화/스케일링(Normalizing/Scaling)"
   ]
  },
  {
   "cell_type": "code",
   "execution_count": 33,
   "metadata": {
    "colab": {
     "base_uri": "https://localhost:8080/",
     "height": 305
    },
    "executionInfo": {
     "elapsed": 307,
     "status": "ok",
     "timestamp": 1645514162069,
     "user": {
      "displayName": "yunwoo oh",
      "photoUrl": "https://lh3.googleusercontent.com/a/default-user=s64",
      "userId": "01035531558844683999"
     },
     "user_tz": -540
    },
    "id": "mHLW-CRf0FUP",
    "outputId": "9fbcc30f-41cf-4e84-d0e6-0b730d4400c9"
   },
   "outputs": [
    {
     "data": {
      "text/html": [
       "<div>\n",
       "<style scoped>\n",
       "    .dataframe tbody tr th:only-of-type {\n",
       "        vertical-align: middle;\n",
       "    }\n",
       "\n",
       "    .dataframe tbody tr th {\n",
       "        vertical-align: top;\n",
       "    }\n",
       "\n",
       "    .dataframe thead th {\n",
       "        text-align: right;\n",
       "    }\n",
       "</style>\n",
       "<table border=\"1\" class=\"dataframe\">\n",
       "  <thead>\n",
       "    <tr style=\"text-align: right;\">\n",
       "      <th></th>\n",
       "      <th>tenure</th>\n",
       "      <th>MonthlyCharges</th>\n",
       "      <th>TotalCharges</th>\n",
       "      <th>Churn</th>\n",
       "      <th>gender_Female</th>\n",
       "      <th>gender_Male</th>\n",
       "      <th>Partner_No</th>\n",
       "      <th>Partner_Yes</th>\n",
       "      <th>Dependents_No</th>\n",
       "      <th>Dependents_Yes</th>\n",
       "      <th>...</th>\n",
       "      <th>StreamingMovies_Yes</th>\n",
       "      <th>Contract_Month-to-month</th>\n",
       "      <th>Contract_One year</th>\n",
       "      <th>Contract_Two year</th>\n",
       "      <th>PaperlessBilling_No</th>\n",
       "      <th>PaperlessBilling_Yes</th>\n",
       "      <th>PaymentMethod_Bank transfer (automatic)</th>\n",
       "      <th>PaymentMethod_Credit card (automatic)</th>\n",
       "      <th>PaymentMethod_Electronic check</th>\n",
       "      <th>PaymentMethod_Mailed check</th>\n",
       "    </tr>\n",
       "  </thead>\n",
       "  <tbody>\n",
       "    <tr>\n",
       "      <th>7022</th>\n",
       "      <td>72</td>\n",
       "      <td>21.15</td>\n",
       "      <td>1419.40</td>\n",
       "      <td>0</td>\n",
       "      <td>1</td>\n",
       "      <td>0</td>\n",
       "      <td>1</td>\n",
       "      <td>0</td>\n",
       "      <td>1</td>\n",
       "      <td>0</td>\n",
       "      <td>...</td>\n",
       "      <td>0</td>\n",
       "      <td>0</td>\n",
       "      <td>0</td>\n",
       "      <td>1</td>\n",
       "      <td>0</td>\n",
       "      <td>1</td>\n",
       "      <td>1</td>\n",
       "      <td>0</td>\n",
       "      <td>0</td>\n",
       "      <td>0</td>\n",
       "    </tr>\n",
       "    <tr>\n",
       "      <th>7023</th>\n",
       "      <td>24</td>\n",
       "      <td>84.80</td>\n",
       "      <td>1990.50</td>\n",
       "      <td>0</td>\n",
       "      <td>0</td>\n",
       "      <td>1</td>\n",
       "      <td>0</td>\n",
       "      <td>1</td>\n",
       "      <td>0</td>\n",
       "      <td>1</td>\n",
       "      <td>...</td>\n",
       "      <td>1</td>\n",
       "      <td>0</td>\n",
       "      <td>1</td>\n",
       "      <td>0</td>\n",
       "      <td>0</td>\n",
       "      <td>1</td>\n",
       "      <td>0</td>\n",
       "      <td>0</td>\n",
       "      <td>0</td>\n",
       "      <td>1</td>\n",
       "    </tr>\n",
       "    <tr>\n",
       "      <th>7024</th>\n",
       "      <td>72</td>\n",
       "      <td>103.20</td>\n",
       "      <td>7362.90</td>\n",
       "      <td>0</td>\n",
       "      <td>1</td>\n",
       "      <td>0</td>\n",
       "      <td>0</td>\n",
       "      <td>1</td>\n",
       "      <td>0</td>\n",
       "      <td>1</td>\n",
       "      <td>...</td>\n",
       "      <td>1</td>\n",
       "      <td>0</td>\n",
       "      <td>1</td>\n",
       "      <td>0</td>\n",
       "      <td>0</td>\n",
       "      <td>1</td>\n",
       "      <td>0</td>\n",
       "      <td>1</td>\n",
       "      <td>0</td>\n",
       "      <td>0</td>\n",
       "    </tr>\n",
       "    <tr>\n",
       "      <th>7025</th>\n",
       "      <td>11</td>\n",
       "      <td>29.60</td>\n",
       "      <td>346.45</td>\n",
       "      <td>0</td>\n",
       "      <td>1</td>\n",
       "      <td>0</td>\n",
       "      <td>0</td>\n",
       "      <td>1</td>\n",
       "      <td>0</td>\n",
       "      <td>1</td>\n",
       "      <td>...</td>\n",
       "      <td>0</td>\n",
       "      <td>1</td>\n",
       "      <td>0</td>\n",
       "      <td>0</td>\n",
       "      <td>0</td>\n",
       "      <td>1</td>\n",
       "      <td>0</td>\n",
       "      <td>0</td>\n",
       "      <td>1</td>\n",
       "      <td>0</td>\n",
       "    </tr>\n",
       "    <tr>\n",
       "      <th>7026</th>\n",
       "      <td>4</td>\n",
       "      <td>74.40</td>\n",
       "      <td>306.60</td>\n",
       "      <td>1</td>\n",
       "      <td>0</td>\n",
       "      <td>1</td>\n",
       "      <td>0</td>\n",
       "      <td>1</td>\n",
       "      <td>1</td>\n",
       "      <td>0</td>\n",
       "      <td>...</td>\n",
       "      <td>0</td>\n",
       "      <td>1</td>\n",
       "      <td>0</td>\n",
       "      <td>0</td>\n",
       "      <td>0</td>\n",
       "      <td>1</td>\n",
       "      <td>0</td>\n",
       "      <td>0</td>\n",
       "      <td>0</td>\n",
       "      <td>1</td>\n",
       "    </tr>\n",
       "  </tbody>\n",
       "</table>\n",
       "<p>5 rows × 40 columns</p>\n",
       "</div>"
      ],
      "text/plain": [
       "      tenure  MonthlyCharges  TotalCharges  Churn  gender_Female  gender_Male  \\\n",
       "7022      72           21.15       1419.40      0              1            0   \n",
       "7023      24           84.80       1990.50      0              0            1   \n",
       "7024      72          103.20       7362.90      0              1            0   \n",
       "7025      11           29.60        346.45      0              1            0   \n",
       "7026       4           74.40        306.60      1              0            1   \n",
       "\n",
       "      Partner_No  Partner_Yes  Dependents_No  Dependents_Yes  ...  \\\n",
       "7022           1            0              1               0  ...   \n",
       "7023           0            1              0               1  ...   \n",
       "7024           0            1              0               1  ...   \n",
       "7025           0            1              0               1  ...   \n",
       "7026           0            1              1               0  ...   \n",
       "\n",
       "      StreamingMovies_Yes  Contract_Month-to-month  Contract_One year  \\\n",
       "7022                    0                        0                  0   \n",
       "7023                    1                        0                  1   \n",
       "7024                    1                        0                  1   \n",
       "7025                    0                        1                  0   \n",
       "7026                    0                        1                  0   \n",
       "\n",
       "      Contract_Two year  PaperlessBilling_No  PaperlessBilling_Yes  \\\n",
       "7022                  1                    0                     1   \n",
       "7023                  0                    0                     1   \n",
       "7024                  0                    0                     1   \n",
       "7025                  0                    0                     1   \n",
       "7026                  0                    0                     1   \n",
       "\n",
       "      PaymentMethod_Bank transfer (automatic)  \\\n",
       "7022                                        1   \n",
       "7023                                        0   \n",
       "7024                                        0   \n",
       "7025                                        0   \n",
       "7026                                        0   \n",
       "\n",
       "      PaymentMethod_Credit card (automatic)  PaymentMethod_Electronic check  \\\n",
       "7022                                      0                               0   \n",
       "7023                                      0                               0   \n",
       "7024                                      1                               0   \n",
       "7025                                      0                               1   \n",
       "7026                                      0                               0   \n",
       "\n",
       "      PaymentMethod_Mailed check  \n",
       "7022                           0  \n",
       "7023                           1  \n",
       "7024                           0  \n",
       "7025                           0  \n",
       "7026                           1  \n",
       "\n",
       "[5 rows x 40 columns]"
      ]
     },
     "execution_count": 33,
     "metadata": {},
     "output_type": "execute_result"
    }
   ],
   "source": [
    "# 숫자 분포 이루어진 컬럼 확인\n",
    "df1.tail()"
   ]
  },
  {
   "cell_type": "code",
   "execution_count": 34,
   "metadata": {
    "id": "Q-orGOfi0FUP"
   },
   "outputs": [],
   "source": [
    "from sklearn.preprocessing import MinMaxScaler"
   ]
  },
  {
   "cell_type": "markdown",
   "metadata": {
    "id": "YYL7jH_z0FUP"
   },
   "source": [
    "##### <font color=blue> **[문제] MinMaxScaler 함수를 'scaler'로 정의 하세요.** </font>"
   ]
  },
  {
   "cell_type": "code",
   "execution_count": 35,
   "metadata": {
    "id": "ml2_SprW0FUQ"
   },
   "outputs": [],
   "source": [
    "# 사이키런의 MinMaxScaler() 함수 활용\n",
    "# 정의할 결과를 'scaler'로 매핑\n",
    "\n",
    "scaler = MinMaxScaler()\n",
    "\n"
   ]
  },
  {
   "cell_type": "code",
   "execution_count": 36,
   "metadata": {},
   "outputs": [],
   "source": [
    "x_train = scaler.fit_transform(x_train)\n",
    "x_test = scaler.transform(x_test)"
   ]
  },
  {
   "cell_type": "code",
   "execution_count": 38,
   "metadata": {
    "colab": {
     "base_uri": "https://localhost:8080/"
    },
    "executionInfo": {
     "elapsed": 12,
     "status": "ok",
     "timestamp": 1645514162072,
     "user": {
      "displayName": "yunwoo oh",
      "photoUrl": "https://lh3.googleusercontent.com/a/default-user=s64",
      "userId": "01035531558844683999"
     },
     "user_tz": -540
    },
    "id": "tiM5HomM0FUQ",
    "outputId": "e70a43fc-b274-4f7b-93f9-6e32e595bbc2"
   },
   "outputs": [
    {
     "data": {
      "text/plain": [
       "(array([[0.65277778, 0.56851021, 0.40877722, 1.        , 0.        ,\n",
       "         1.        , 0.        , 1.        , 0.        , 1.        ,\n",
       "         0.        , 0.        , 0.        , 1.        , 0.        ,\n",
       "         0.        , 0.        , 1.        , 1.        , 0.        ,\n",
       "         0.        , 1.        , 0.        , 0.        , 1.        ,\n",
       "         0.        , 0.        , 1.        , 0.        , 0.        ,\n",
       "         1.        , 0.        , 0.        , 1.        , 0.        ,\n",
       "         0.        , 1.        , 0.        , 0.        ],\n",
       "        [0.27777778, 0.00498256, 0.04008671, 1.        , 0.        ,\n",
       "         1.        , 0.        , 1.        , 0.        , 1.        ,\n",
       "         0.        , 0.        , 0.        , 0.        , 1.        ,\n",
       "         0.        , 1.        , 0.        , 0.        , 1.        ,\n",
       "         0.        , 0.        , 1.        , 0.        , 0.        ,\n",
       "         1.        , 0.        , 0.        , 1.        , 0.        ,\n",
       "         1.        , 0.        , 0.        , 0.        , 1.        ,\n",
       "         0.        , 1.        , 0.        , 0.        ]]),\n",
       " array([0, 0], dtype=int64))"
      ]
     },
     "execution_count": 38,
     "metadata": {},
     "output_type": "execute_result"
    }
   ],
   "source": [
    "x_train[:2], y_train[:2]"
   ]
  },
  {
   "cell_type": "markdown",
   "metadata": {
    "id": "v5XRNq100FUQ"
   },
   "source": [
    "## ⑦ 모델 개발"
   ]
  },
  {
   "cell_type": "markdown",
   "metadata": {
    "id": "Yt9pqvyOGW0N"
   },
   "source": [
    "#### (참고) 모델별 바차트 그려주고 성능 확인을 위한 함수"
   ]
  },
  {
   "cell_type": "code",
   "execution_count": 39,
   "metadata": {
    "id": "gwA1iqfDGWkw"
   },
   "outputs": [],
   "source": [
    "# 모델별로 Recall 점수 저장\n",
    "# 모델 Recall 점수 순서대로 바차트를 그려 모델별로 성능 확인 가능\n",
    "\n",
    "from sklearn.metrics import accuracy_score\n",
    "\n",
    "my_predictions = {}\n",
    "\n",
    "colors = ['r', 'c', 'm', 'y', 'k', 'khaki', 'teal', 'orchid', 'sandybrown',\n",
    "          'greenyellow', 'dodgerblue', 'deepskyblue', 'rosybrown', 'firebrick',\n",
    "          'deeppink', 'crimson', 'salmon', 'darkred', 'olivedrab', 'olive', \n",
    "          'forestgreen', 'royalblue', 'indigo', 'navy', 'mediumpurple', 'chocolate',\n",
    "          'gold', 'darkorange', 'seagreen', 'turquoise', 'steelblue', 'slategray', \n",
    "          'peru', 'midnightblue', 'slateblue', 'dimgray', 'cadetblue', 'tomato'\n",
    "         ]\n",
    "\n",
    "# 모델명, 예측값, 실제값을 주면 위의 plot_predictions 함수 호출하여 Scatter 그래프 그리며\n",
    "# 모델별 MSE값을 Bar chart로 그려줌\n",
    "def recall_eval(name_, pred, actual):\n",
    "    global predictions\n",
    "    global colors\n",
    "\n",
    "    plt.figure(figsize=(12, 9))\n",
    "\n",
    "    #acc = accuracy_score(actual, pred)\n",
    "    acc = recall_score(actual, pred)\n",
    "    my_predictions[name_] = acc * 100\n",
    "\n",
    "    y_value = sorted(my_predictions.items(), key=lambda x: x[1], reverse=True)\n",
    "    \n",
    "    df = pd.DataFrame(y_value, columns=['model', 'recall'])\n",
    "    print(df)\n",
    "   \n",
    "    length = len(df)\n",
    "    \n",
    "    plt.figure(figsize=(10, length))\n",
    "    ax = plt.subplot()\n",
    "    ax.set_yticks(np.arange(len(df)))\n",
    "    ax.set_yticklabels(df['model'], fontsize=15)\n",
    "    bars = ax.barh(np.arange(len(df)), df['recall'])\n",
    "    \n",
    "    for i, v in enumerate(df['recall']):\n",
    "        idx = np.random.choice(len(colors))\n",
    "        bars[i].set_color(colors[idx])\n",
    "        ax.text(v + 2, i, str(round(v, 3)), color='k', fontsize=15, fontweight='bold')\n",
    "        \n",
    "    plt.title('recall', fontsize=18)\n",
    "    plt.xlim(0, 100)\n",
    "    \n",
    "    plt.show()"
   ]
  },
  {
   "cell_type": "markdown",
   "metadata": {
    "id": "aWIdyWeg0FUR"
   },
   "source": [
    "###  \n",
    "### 1) 로지스틱 회귀 (LogisticRegression, 분류)"
   ]
  },
  {
   "cell_type": "code",
   "execution_count": 40,
   "metadata": {
    "id": "L3x-qaHh0FUR"
   },
   "outputs": [],
   "source": [
    "from sklearn.linear_model import LogisticRegression\n",
    "from sklearn.metrics import confusion_matrix \n",
    "from sklearn.metrics import accuracy_score, precision_score, recall_score, f1_score\n",
    "from sklearn.metrics import classification_report"
   ]
  },
  {
   "cell_type": "markdown",
   "metadata": {
    "id": "2shWVpg00FUS"
   },
   "source": [
    "##### <font color=blue> **[문제] LogisticRegression 모델 정의하고 학습시키세요.** </font>"
   ]
  },
  {
   "cell_type": "code",
   "execution_count": 41,
   "metadata": {
    "colab": {
     "base_uri": "https://localhost:8080/"
    },
    "executionInfo": {
     "elapsed": 321,
     "status": "ok",
     "timestamp": 1645514162385,
     "user": {
      "displayName": "yunwoo oh",
      "photoUrl": "https://lh3.googleusercontent.com/a/default-user=s64",
      "userId": "01035531558844683999"
     },
     "user_tz": -540
    },
    "id": "qz_VjrEf0FUS",
    "outputId": "b24a00bb-8300-4b2e-b9d6-21ba486c7730"
   },
   "outputs": [
    {
     "data": {
      "text/plain": [
       "LogisticRegression()"
      ]
     },
     "execution_count": 41,
     "metadata": {},
     "output_type": "execute_result"
    }
   ],
   "source": [
    "# LogisticRegression 함수 사용 및 정의 : lg 저장\n",
    "# 정의된 LogisticRegression 학습 fit() : 입력값으로 X_train, y_train 준다.\n",
    "\n",
    "model_lg = LogisticRegression()\n",
    "model_lg.fit(x_train, y_train)\n",
    "\n"
   ]
  },
  {
   "cell_type": "code",
   "execution_count": 42,
   "metadata": {
    "colab": {
     "base_uri": "https://localhost:8080/"
    },
    "executionInfo": {
     "elapsed": 22,
     "status": "ok",
     "timestamp": 1645514162386,
     "user": {
      "displayName": "yunwoo oh",
      "photoUrl": "https://lh3.googleusercontent.com/a/default-user=s64",
      "userId": "01035531558844683999"
     },
     "user_tz": -540
    },
    "id": "mW7KXzVL0FUS",
    "outputId": "6f17a240-d5db-4fe2-f0ca-b59ac4395733"
   },
   "outputs": [
    {
     "data": {
      "text/plain": [
       "0.8060692271218587"
      ]
     },
     "execution_count": 42,
     "metadata": {},
     "output_type": "execute_result"
    }
   ],
   "source": [
    "# 분류기 성능 평가(score)\n",
    "model_lg.score(x_test, y_test)"
   ]
  },
  {
   "cell_type": "markdown",
   "metadata": {
    "id": "WjYV0iRS0FUS"
   },
   "source": [
    "- 분류기 성능 평가 지표"
   ]
  },
  {
   "cell_type": "code",
   "execution_count": 43,
   "metadata": {
    "id": "Cu1wy0Wt0FUS"
   },
   "outputs": [],
   "source": [
    "model_lg_pred = model_lg.predict(x_test)"
   ]
  },
  {
   "cell_type": "code",
   "execution_count": 44,
   "metadata": {
    "colab": {
     "base_uri": "https://localhost:8080/"
    },
    "executionInfo": {
     "elapsed": 20,
     "status": "ok",
     "timestamp": 1645514162387,
     "user": {
      "displayName": "yunwoo oh",
      "photoUrl": "https://lh3.googleusercontent.com/a/default-user=s64",
      "userId": "01035531558844683999"
     },
     "user_tz": -540
    },
    "id": "2DaZFSRr0FUT",
    "outputId": "ea84ed8c-db49-4f99-9744-39e3f4327789"
   },
   "outputs": [
    {
     "data": {
      "text/plain": [
       "array([[1386,  163],\n",
       "       [ 246,  314]], dtype=int64)"
      ]
     },
     "execution_count": 44,
     "metadata": {},
     "output_type": "execute_result"
    }
   ],
   "source": [
    "# 오차행렬\n",
    "# TN  FP\n",
    "# FN  TP\n",
    "\n",
    "confusion_matrix(y_test, model_lg_pred) "
   ]
  },
  {
   "cell_type": "code",
   "execution_count": 45,
   "metadata": {
    "colab": {
     "base_uri": "https://localhost:8080/"
    },
    "executionInfo": {
     "elapsed": 19,
     "status": "ok",
     "timestamp": 1645514162388,
     "user": {
      "displayName": "yunwoo oh",
      "photoUrl": "https://lh3.googleusercontent.com/a/default-user=s64",
      "userId": "01035531558844683999"
     },
     "user_tz": -540
    },
    "id": "GYM_m9JA0FUT",
    "outputId": "1e530416-548e-4417-b901-93270a1f0bde"
   },
   "outputs": [
    {
     "data": {
      "text/plain": [
       "0.8060692271218587"
      ]
     },
     "execution_count": 45,
     "metadata": {},
     "output_type": "execute_result"
    }
   ],
   "source": [
    "# 정확도\n",
    "accuracy_score(y_test, model_lg_pred)  "
   ]
  },
  {
   "cell_type": "code",
   "execution_count": 46,
   "metadata": {
    "colab": {
     "base_uri": "https://localhost:8080/"
    },
    "executionInfo": {
     "elapsed": 17,
     "status": "ok",
     "timestamp": 1645514162388,
     "user": {
      "displayName": "yunwoo oh",
      "photoUrl": "https://lh3.googleusercontent.com/a/default-user=s64",
      "userId": "01035531558844683999"
     },
     "user_tz": -540
    },
    "id": "mNorqDIl0FUT",
    "outputId": "ab079fd0-9dc8-4528-dff9-dca5e99c4560"
   },
   "outputs": [
    {
     "data": {
      "text/plain": [
       "0.6582809224318659"
      ]
     },
     "execution_count": 46,
     "metadata": {},
     "output_type": "execute_result"
    }
   ],
   "source": [
    "# 정밀도\n",
    "precision_score(y_test, model_lg_pred) "
   ]
  },
  {
   "cell_type": "code",
   "execution_count": 47,
   "metadata": {
    "colab": {
     "base_uri": "https://localhost:8080/"
    },
    "executionInfo": {
     "elapsed": 16,
     "status": "ok",
     "timestamp": 1645514162388,
     "user": {
      "displayName": "yunwoo oh",
      "photoUrl": "https://lh3.googleusercontent.com/a/default-user=s64",
      "userId": "01035531558844683999"
     },
     "user_tz": -540
    },
    "id": "XQ-B-7U40FUT",
    "outputId": "f9c18954-57fa-4992-f8cf-25c5c5edafe5"
   },
   "outputs": [
    {
     "data": {
      "text/plain": [
       "0.5607142857142857"
      ]
     },
     "execution_count": 47,
     "metadata": {},
     "output_type": "execute_result"
    }
   ],
   "source": [
    "# 재현율 : 낮다. \n",
    "recall_score(y_test, model_lg_pred)  "
   ]
  },
  {
   "cell_type": "code",
   "execution_count": 48,
   "metadata": {
    "colab": {
     "base_uri": "https://localhost:8080/"
    },
    "executionInfo": {
     "elapsed": 15,
     "status": "ok",
     "timestamp": 1645514162389,
     "user": {
      "displayName": "yunwoo oh",
      "photoUrl": "https://lh3.googleusercontent.com/a/default-user=s64",
      "userId": "01035531558844683999"
     },
     "user_tz": -540
    },
    "id": "KLMt1bRZ0FUU",
    "outputId": "05b01987-1c85-4471-bad4-0925163923bd"
   },
   "outputs": [
    {
     "data": {
      "text/plain": [
       "0.6055930568948892"
      ]
     },
     "execution_count": 48,
     "metadata": {},
     "output_type": "execute_result"
    }
   ],
   "source": [
    "# 정밀도 + 재현율\n",
    "f1_score(y_test, model_lg_pred) "
   ]
  },
  {
   "cell_type": "code",
   "execution_count": 49,
   "metadata": {
    "colab": {
     "base_uri": "https://localhost:8080/"
    },
    "executionInfo": {
     "elapsed": 13,
     "status": "ok",
     "timestamp": 1645514162389,
     "user": {
      "displayName": "yunwoo oh",
      "photoUrl": "https://lh3.googleusercontent.com/a/default-user=s64",
      "userId": "01035531558844683999"
     },
     "user_tz": -540
    },
    "id": "Nw8sNOr90FUU",
    "outputId": "1db6cd44-1c7e-448d-960a-a43be76cb9ce"
   },
   "outputs": [
    {
     "name": "stdout",
     "output_type": "stream",
     "text": [
      "              precision    recall  f1-score   support\n",
      "\n",
      "           0       0.85      0.89      0.87      1549\n",
      "           1       0.66      0.56      0.61       560\n",
      "\n",
      "    accuracy                           0.81      2109\n",
      "   macro avg       0.75      0.73      0.74      2109\n",
      "weighted avg       0.80      0.81      0.80      2109\n",
      "\n"
     ]
    }
   ],
   "source": [
    "print(classification_report(y_test, model_lg_pred))"
   ]
  },
  {
   "cell_type": "code",
   "execution_count": 50,
   "metadata": {
    "colab": {
     "base_uri": "https://localhost:8080/",
     "height": 177
    },
    "executionInfo": {
     "elapsed": 336,
     "status": "ok",
     "timestamp": 1645514162713,
     "user": {
      "displayName": "yunwoo oh",
      "photoUrl": "https://lh3.googleusercontent.com/a/default-user=s64",
      "userId": "01035531558844683999"
     },
     "user_tz": -540
    },
    "id": "gV4EhffS0FUU",
    "outputId": "c0ea60e6-825a-4eb1-a4c0-da48a4b639c0"
   },
   "outputs": [
    {
     "name": "stdout",
     "output_type": "stream",
     "text": [
      "                model     recall\n",
      "0  LogisticRegression  56.071429\n"
     ]
    },
    {
     "data": {
      "text/plain": [
       "<Figure size 1200x900 with 0 Axes>"
      ]
     },
     "metadata": {},
     "output_type": "display_data"
    },
    {
     "data": {
      "image/png": "[encoded data removed]",
      "text/plain": [
       "<Figure size 1000x100 with 1 Axes>"
      ]
     },
     "metadata": {},
     "output_type": "display_data"
    }
   ],
   "source": [
    "recall_eval('LogisticRegression', model_lg_pred, y_test)"
   ]
  },
  {
   "cell_type": "markdown",
   "metadata": {
    "id": "sjZAmlXp0FUU"
   },
   "source": [
    "###   \n",
    "### 2) KNN (K-Nearest Neighbor)"
   ]
  },
  {
   "cell_type": "code",
   "execution_count": 51,
   "metadata": {
    "id": "dTLMf6Og0FUU"
   },
   "outputs": [],
   "source": [
    "from sklearn.neighbors import KNeighborsClassifier"
   ]
  },
  {
   "cell_type": "code",
   "execution_count": 52,
   "metadata": {
    "colab": {
     "base_uri": "https://localhost:8080/"
    },
    "executionInfo": {
     "elapsed": 8,
     "status": "ok",
     "timestamp": 1645514162714,
     "user": {
      "displayName": "yunwoo oh",
      "photoUrl": "https://lh3.googleusercontent.com/a/default-user=s64",
      "userId": "01035531558844683999"
     },
     "user_tz": -540
    },
    "id": "JCAJy-pT0FUV",
    "outputId": "675ba845-6511-4cab-f235-71a33d8c37e2"
   },
   "outputs": [
    {
     "data": {
      "text/plain": [
       "KNeighborsClassifier()"
      ]
     },
     "execution_count": 52,
     "metadata": {},
     "output_type": "execute_result"
    }
   ],
   "source": [
    "knn = KNeighborsClassifier(n_neighbors=5)\n",
    "knn.fit(x_train, y_train)"
   ]
  },
  {
   "cell_type": "code",
   "execution_count": 53,
   "metadata": {
    "id": "RVPSryWO0FUV"
   },
   "outputs": [
    {
     "name": "stderr",
     "output_type": "stream",
     "text": [
      "C:\\Users\\User\\anaconda3\\lib\\site-packages\\sklearn\\neighbors\\_classification.py:228: FutureWarning: Unlike other reduction functions (e.g. `skew`, `kurtosis`), the default behavior of `mode` typically preserves the axis it acts along. In SciPy 1.11.0, this behavior will change: the default value of `keepdims` will become False, the `axis` over which the statistic is taken will be eliminated, and the value None will no longer be accepted. Set `keepdims` to True or False to avoid this warning.\n",
      "  mode, _ = stats.mode(_y[neigh_ind, k], axis=1)\n"
     ]
    }
   ],
   "source": [
    "knn_pred = knn.predict(x_test)"
   ]
  },
  {
   "cell_type": "code",
   "execution_count": 54,
   "metadata": {
    "colab": {
     "base_uri": "https://localhost:8080/",
     "height": 250
    },
    "executionInfo": {
     "elapsed": 9,
     "status": "ok",
     "timestamp": 1645514163240,
     "user": {
      "displayName": "yunwoo oh",
      "photoUrl": "https://lh3.googleusercontent.com/a/default-user=s64",
      "userId": "01035531558844683999"
     },
     "user_tz": -540
    },
    "id": "5LcFquWj0FUV",
    "outputId": "56d60c35-5b56-487d-d647-f090b69c1d72"
   },
   "outputs": [
    {
     "name": "stdout",
     "output_type": "stream",
     "text": [
      "                model     recall\n",
      "0  LogisticRegression  56.071429\n",
      "1  K-Nearest Neighbor  52.142857\n"
     ]
    },
    {
     "data": {
      "text/plain": [
       "<Figure size 1200x900 with 0 Axes>"
      ]
     },
     "metadata": {},
     "output_type": "display_data"
    },
    {
     "data": {
      "image/png": "[encoded data removed]",
      "text/plain": [
       "<Figure size 1000x200 with 1 Axes>"
      ]
     },
     "metadata": {},
     "output_type": "display_data"
    }
   ],
   "source": [
    "recall_eval('K-Nearest Neighbor', knn_pred, y_test)"
   ]
  },
  {
   "cell_type": "markdown",
   "metadata": {
    "id": "GkXh4Tgu0FUV"
   },
   "source": [
    "###  \n",
    "### 3) 결정트리(DecisionTree)"
   ]
  },
  {
   "cell_type": "code",
   "execution_count": 55,
   "metadata": {
    "id": "PEPkbbz80FUV"
   },
   "outputs": [],
   "source": [
    "from sklearn.tree import DecisionTreeClassifier"
   ]
  },
  {
   "cell_type": "code",
   "execution_count": 56,
   "metadata": {
    "colab": {
     "base_uri": "https://localhost:8080/"
    },
    "executionInfo": {
     "elapsed": 21,
     "status": "ok",
     "timestamp": 1645514163590,
     "user": {
      "displayName": "yunwoo oh",
      "photoUrl": "https://lh3.googleusercontent.com/a/default-user=s64",
      "userId": "01035531558844683999"
     },
     "user_tz": -540
    },
    "id": "AfIDKCCL0FUV",
    "outputId": "1d0b38b2-2220-4074-9968-d46c59888024"
   },
   "outputs": [
    {
     "data": {
      "text/plain": [
       "DecisionTreeClassifier(max_depth=10, random_state=42)"
      ]
     },
     "execution_count": 56,
     "metadata": {},
     "output_type": "execute_result"
    }
   ],
   "source": [
    "dt = DecisionTreeClassifier(max_depth=10, random_state=42)\n",
    "dt.fit(x_train, y_train)"
   ]
  },
  {
   "cell_type": "markdown",
   "metadata": {
    "id": "0qEMaN520FUW"
   },
   "source": [
    "##### <font color=blue> **[문제] 학습된 DecisionTreeClassifier 모델로 예측해 보기** </font>"
   ]
  },
  {
   "cell_type": "code",
   "execution_count": 57,
   "metadata": {
    "id": "_Csk9MqD0FUW"
   },
   "outputs": [],
   "source": [
    "# DecisionTreeClassifier 학습 모델 : dt\n",
    "# DecisionTreeClassifier 모델의 predict() 활용 : 입력값으로 X_test\n",
    "# 결과 : dt_pred 저장\n",
    "\n",
    "dt_pred = dt.predict(x_test)\n",
    "\n"
   ]
  },
  {
   "cell_type": "code",
   "execution_count": 58,
   "metadata": {
    "colab": {
     "base_uri": "https://localhost:8080/",
     "height": 323
    },
    "executionInfo": {
     "elapsed": 16,
     "status": "ok",
     "timestamp": 1645514163591,
     "user": {
      "displayName": "yunwoo oh",
      "photoUrl": "https://lh3.googleusercontent.com/a/default-user=s64",
      "userId": "01035531558844683999"
     },
     "user_tz": -540
    },
    "id": "qhgIeDvs0FUW",
    "outputId": "0df600cc-8607-46f9-8198-effe2b63daa1",
    "scrolled": true
   },
   "outputs": [
    {
     "name": "stdout",
     "output_type": "stream",
     "text": [
      "                model     recall\n",
      "0  LogisticRegression  56.071429\n",
      "1        DecisionTree  55.714286\n",
      "2  K-Nearest Neighbor  52.142857\n"
     ]
    },
    {
     "data": {
      "text/plain": [
       "<Figure size 1200x900 with 0 Axes>"
      ]
     },
     "metadata": {},
     "output_type": "display_data"
    },
    {
     "data": {
      "image/png": "[encoded data removed]",
      "text/plain": [
       "<Figure size 1000x300 with 1 Axes>"
      ]
     },
     "metadata": {},
     "output_type": "display_data"
    }
   ],
   "source": [
    "recall_eval('DecisionTree', dt_pred, y_test)"
   ]
  },
  {
   "cell_type": "markdown",
   "metadata": {
    "id": "5Y_f-BWX6CCA"
   },
   "source": [
    "###  \n",
    "### **앙상블 기법의 종류**\n",
    "- 배깅 (Bagging): 여러개의 DecisionTree 활용하고 샘플 중복 생성을 통해 결과 도출. RandomForest\n",
    "- 부스팅 (Boosting): 약한 학습기를 순차적으로 학습을 하되, 이전 학습에 대하여 잘못 예측된 데이터에 가중치를 부여해 오차를 보완해 나가는 방식. XGBoost, LGBM"
   ]
  },
  {
   "cell_type": "markdown",
   "metadata": {
    "id": "dtkXJlKj0FUW"
   },
   "source": [
    "![앙상블](https://teddylee777.github.io/images/2019-12-18/image-20191217144823555.png)"
   ]
  },
  {
   "cell_type": "markdown",
   "metadata": {
    "id": "A-rwJjK90FUX"
   },
   "source": [
    "###  \n",
    "### 4) 랜덤포레스트(RandomForest)\n",
    "+ Bagging 대표적인 모델로써, 훈련셋트를 무작위로 각기 다른 서브셋으로 데이터셋을 만들고\n",
    "+ 여러개의 DecisonTree로 학습하고 다수결로 결정하는 모델"
   ]
  },
  {
   "cell_type": "markdown",
   "metadata": {
    "id": "NpOEkIoCAdFd"
   },
   "source": [
    "**주요 Hyperparameter**\n",
    "- random_state: 랜덤 시드 고정 값. 고정해두고 튜닝할 것!\n",
    "- n_jobs: CPU 사용 갯수\n",
    "- max_depth: 깊어질 수 있는 최대 깊이. 과대적합 방지용\n",
    "- n_estimators: 앙상블하는 트리의 갯수\n",
    "- max_features: 최대로 사용할 feature의 갯수. 과대적합 방지용\n",
    "- min_samples_split: 트리가 분할할 때 최소 샘플의 갯수. default=2. 과대적합 방지용"
   ]
  },
  {
   "cell_type": "code",
   "execution_count": 59,
   "metadata": {
    "id": "LfzSa0N60FUX"
   },
   "outputs": [],
   "source": [
    "from sklearn.ensemble import RandomForestClassifier"
   ]
  },
  {
   "cell_type": "code",
   "execution_count": 60,
   "metadata": {
    "colab": {
     "base_uri": "https://localhost:8080/"
    },
    "executionInfo": {
     "elapsed": 14,
     "status": "ok",
     "timestamp": 1645514163592,
     "user": {
      "displayName": "yunwoo oh",
      "photoUrl": "https://lh3.googleusercontent.com/a/default-user=s64",
      "userId": "01035531558844683999"
     },
     "user_tz": -540
    },
    "id": "JegAZUoX0FUX",
    "outputId": "96e8729f-ee39-47fb-db82-a4f89ff28448"
   },
   "outputs": [
    {
     "data": {
      "text/plain": [
       "RandomForestClassifier(n_estimators=3, random_state=42)"
      ]
     },
     "execution_count": 60,
     "metadata": {},
     "output_type": "execute_result"
    }
   ],
   "source": [
    "rfc = RandomForestClassifier(n_estimators=3, random_state=42)\n",
    "rfc.fit(x_train, y_train)"
   ]
  },
  {
   "cell_type": "code",
   "execution_count": 61,
   "metadata": {
    "id": "yd3AA9mFa_0n"
   },
   "outputs": [],
   "source": [
    "rfc_pred = rfc.predict(x_test)"
   ]
  },
  {
   "cell_type": "code",
   "execution_count": 62,
   "metadata": {
    "colab": {
     "base_uri": "https://localhost:8080/",
     "height": 396
    },
    "executionInfo": {
     "elapsed": 388,
     "status": "ok",
     "timestamp": 1645514163968,
     "user": {
      "displayName": "yunwoo oh",
      "photoUrl": "https://lh3.googleusercontent.com/a/default-user=s64",
      "userId": "01035531558844683999"
     },
     "user_tz": -540
    },
    "id": "-RkzXSShS6ks",
    "outputId": "e3cdf947-b72d-4cef-d795-5ec334ab602d"
   },
   "outputs": [
    {
     "name": "stdout",
     "output_type": "stream",
     "text": [
      "                   model     recall\n",
      "0     LogisticRegression  56.071429\n",
      "1           DecisionTree  55.714286\n",
      "2     K-Nearest Neighbor  52.142857\n",
      "3  RandomForest Ensemble  52.142857\n"
     ]
    },
    {
     "data": {
      "text/plain": [
       "<Figure size 1200x900 with 0 Axes>"
      ]
     },
     "metadata": {},
     "output_type": "display_data"
    },
    {
     "data": {
      "image/png": "[encoded data removed]",
      "text/plain": [
       "<Figure size 1000x400 with 1 Axes>"
      ]
     },
     "metadata": {},
     "output_type": "display_data"
    }
   ],
   "source": [
    "recall_eval('RandomForest Ensemble', rfc_pred, y_test)"
   ]
  },
  {
   "cell_type": "markdown",
   "metadata": {
    "id": "vxLwe2Qw0FUY"
   },
   "source": [
    "###  \n",
    "### 5) XGBoost\n",
    "+ 여러개의 DecisionTree를 결합하여 Strong Learner 만드는 Boosting 앙상블 기법\n",
    "+ Kaggle 대회에서 자주 사용하는 모델이다."
   ]
  },
  {
   "cell_type": "markdown",
   "metadata": {
    "id": "xw17wJya85Ms"
   },
   "source": [
    "**주요 특징**\n",
    "- scikit-learn 패키지가 아닙니다.\n",
    "- 성능이 우수함\n",
    "- GBM보다는 빠르고 성능도 향상되었습니다.\n",
    "- 여전히 학습시간이 매우 느리다"
   ]
  },
  {
   "cell_type": "markdown",
   "metadata": {
    "id": "-fAjfIX9Jpcx"
   },
   "source": [
    "**주요 Hyperparameter**\n",
    "- random_state: 랜덤 시드 고정 값. 고정해두고 튜닝할 것!\n",
    "- n_jobs: CPU 사용 갯수\n",
    "- learning_rate: 학습율. 너무 큰 학습율은 성능을 떨어뜨리고, 너무 작은 학습율은 학습이 느리다. 적절한 값을 찾아야함. n_estimators와 같이 튜닝. default=0.1\n",
    "- n_estimators: 부스팅 스테이지 수. (랜덤포레스트 트리의 갯수 설정과 비슷한 개념). default=100\n",
    "- max_depth: 트리의 깊이. 과대적합 방지용. default=3. \n",
    "- subsample: 샘플 사용 비율. 과대적합 방지용. default=1.0\n",
    "- max_features: 최대로 사용할 feature의 비율. 과대적합 방지용. default=1.0"
   ]
  },
  {
   "cell_type": "code",
   "execution_count": null,
   "metadata": {
    "colab": {
     "base_uri": "https://localhost:8080/"
    },
    "executionInfo": {
     "elapsed": 3398,
     "status": "ok",
     "timestamp": 1645514167361,
     "user": {
      "displayName": "yunwoo oh",
      "photoUrl": "https://lh3.googleusercontent.com/a/default-user=s64",
      "userId": "01035531558844683999"
     },
     "user_tz": -540
    },
    "id": "ABeT1Opy0FUY",
    "outputId": "cec43e50-ffd1-4bab-af84-a87cefeb9aff"
   },
   "outputs": [
    {
     "name": "stdout",
     "output_type": "stream",
     "text": [
      "Requirement already satisfied: xgboost in /usr/local/lib/python3.7/dist-packages (0.90)\n",
      "Requirement already satisfied: scipy in /usr/local/lib/python3.7/dist-packages (from xgboost) (1.4.1)\n",
      "Requirement already satisfied: numpy in /usr/local/lib/python3.7/dist-packages (from xgboost) (1.21.5)\n"
     ]
    }
   ],
   "source": [
    "!pip install xgboost"
   ]
  },
  {
   "cell_type": "code",
   "execution_count": 63,
   "metadata": {
    "id": "LH2Plwt60FUZ"
   },
   "outputs": [],
   "source": [
    "from xgboost import XGBClassifier"
   ]
  },
  {
   "cell_type": "code",
   "execution_count": 64,
   "metadata": {
    "colab": {
     "base_uri": "https://localhost:8080/"
    },
    "executionInfo": {
     "elapsed": 13,
     "status": "ok",
     "timestamp": 1645514167362,
     "user": {
      "displayName": "yunwoo oh",
      "photoUrl": "https://lh3.googleusercontent.com/a/default-user=s64",
      "userId": "01035531558844683999"
     },
     "user_tz": -540
    },
    "id": "hygo7t_j0FUZ",
    "outputId": "74c1e08e-c7a9-4bea-b3dd-b23a57876167"
   },
   "outputs": [
    {
     "data": {
      "text/plain": [
       "XGBClassifier(base_score=None, booster=None, callbacks=None,\n",
       "              colsample_bylevel=None, colsample_bynode=None,\n",
       "              colsample_bytree=None, early_stopping_rounds=None,\n",
       "              enable_categorical=False, eval_metric=None, feature_types=None,\n",
       "              gamma=None, gpu_id=None, grow_policy=None, importance_type=None,\n",
       "              interaction_constraints=None, learning_rate=None, max_bin=None,\n",
       "              max_cat_threshold=None, max_cat_to_onehot=None,\n",
       "              max_delta_step=None, max_depth=None, max_leaves=None,\n",
       "              min_child_weight=None, missing=nan, monotone_constraints=None,\n",
       "              n_estimators=3, n_jobs=None, num_parallel_tree=None,\n",
       "              predictor=None, random_state=42, ...)"
      ]
     },
     "execution_count": 64,
     "metadata": {},
     "output_type": "execute_result"
    }
   ],
   "source": [
    "xgb = XGBClassifier(n_estimators=3, random_state=42)  \n",
    "xgb.fit(x_train, y_train)"
   ]
  },
  {
   "cell_type": "code",
   "execution_count": 65,
   "metadata": {
    "id": "YiIBtKi80FUZ"
   },
   "outputs": [],
   "source": [
    "xgb_pred = xgb.predict(x_test)"
   ]
  },
  {
   "cell_type": "code",
   "execution_count": 66,
   "metadata": {
    "colab": {
     "base_uri": "https://localhost:8080/",
     "height": 469
    },
    "executionInfo": {
     "elapsed": 14,
     "status": "ok",
     "timestamp": 1645514167852,
     "user": {
      "displayName": "yunwoo oh",
      "photoUrl": "https://lh3.googleusercontent.com/a/default-user=s64",
      "userId": "01035531558844683999"
     },
     "user_tz": -540
    },
    "id": "kAKKoLLh0FUZ",
    "outputId": "10d769a9-f45e-4d43-d577-4ab488d2a88c"
   },
   "outputs": [
    {
     "name": "stdout",
     "output_type": "stream",
     "text": [
      "                   model     recall\n",
      "0     LogisticRegression  56.071429\n",
      "1           DecisionTree  55.714286\n",
      "2     K-Nearest Neighbor  52.142857\n",
      "3  RandomForest Ensemble  52.142857\n",
      "4                XGBoost  52.142857\n"
     ]
    },
    {
     "data": {
      "text/plain": [
       "<Figure size 1200x900 with 0 Axes>"
      ]
     },
     "metadata": {},
     "output_type": "display_data"
    },
    {
     "data": {
      "image/png": "[encoded data removed]",
      "text/plain": [
       "<Figure size 1000x500 with 1 Axes>"
      ]
     },
     "metadata": {},
     "output_type": "display_data"
    }
   ],
   "source": [
    "recall_eval('XGBoost', xgb_pred, y_test)"
   ]
  },
  {
   "cell_type": "markdown",
   "metadata": {
    "id": "QUvyyQcM0FUZ"
   },
   "source": [
    "###  \n",
    "### 6) Light GBM\n",
    "+ XGBoost와 함께 주목받는 DecisionTree 알고리즘 기반의 Boosting 앙상블 기법\n",
    "+ XGBoost에 비해 학습시간이 짧은 편이다."
   ]
  },
  {
   "cell_type": "markdown",
   "metadata": {
    "id": "Unk2_LocLD_I"
   },
   "source": [
    "**주요 특징**\n",
    "- scikit-learn 패키지가 아닙니다.\n",
    "- 성능이 우수함\n",
    "- 속도도 매우 빠릅니다."
   ]
  },
  {
   "cell_type": "markdown",
   "metadata": {
    "id": "GaKdEHJpLrm4"
   },
   "source": [
    "**주요 Hyperparameter**\n",
    "- random_state: 랜덤 시드 고정 값. 고정해두고 튜닝할 것!\n",
    "- n_jobs: CPU 사용 갯수\n",
    "- learning_rate: 학습율. 너무 큰 학습율은 성능을 떨어뜨리고, 너무 작은 학습율은 학습이 느리다. 적절한 값을 찾아야함. n_estimators와 같이 튜닝. default=0.1\n",
    "- n_estimators: 부스팅 스테이지 수. (랜덤포레스트 트리의 갯수 설정과 비슷한 개념). default=100\n",
    "- max_depth: 트리의 깊이. 과대적합 방지용. default=3. \n",
    "- colsample_bytree: 샘플 사용 비율 (max_features와 비슷한 개념). 과대적합 방지용. default=1.0"
   ]
  },
  {
   "cell_type": "code",
   "execution_count": null,
   "metadata": {
    "colab": {
     "base_uri": "https://localhost:8080/"
    },
    "executionInfo": {
     "elapsed": 2813,
     "status": "ok",
     "timestamp": 1645514170658,
     "user": {
      "displayName": "yunwoo oh",
      "photoUrl": "https://lh3.googleusercontent.com/a/default-user=s64",
      "userId": "01035531558844683999"
     },
     "user_tz": -540
    },
    "id": "KeMfBOjQ0FUa",
    "outputId": "37b789ab-e898-463b-ea50-d37ffdb86515"
   },
   "outputs": [
    {
     "name": "stdout",
     "output_type": "stream",
     "text": [
      "Requirement already satisfied: lightgbm in /usr/local/lib/python3.7/dist-packages (2.2.3)\n",
      "Requirement already satisfied: scikit-learn in /usr/local/lib/python3.7/dist-packages (from lightgbm) (1.0.2)\n",
      "Requirement already satisfied: scipy in /usr/local/lib/python3.7/dist-packages (from lightgbm) (1.4.1)\n",
      "Requirement already satisfied: numpy in /usr/local/lib/python3.7/dist-packages (from lightgbm) (1.21.5)\n",
      "Requirement already satisfied: threadpoolctl>=2.0.0 in /usr/local/lib/python3.7/dist-packages (from scikit-learn->lightgbm) (3.1.0)\n",
      "Requirement already satisfied: joblib>=0.11 in /usr/local/lib/python3.7/dist-packages (from scikit-learn->lightgbm) (1.1.0)\n"
     ]
    }
   ],
   "source": [
    "!pip install lightgbm"
   ]
  },
  {
   "cell_type": "code",
   "execution_count": 67,
   "metadata": {
    "id": "190g_jQU0FUa"
   },
   "outputs": [],
   "source": [
    "from lightgbm import LGBMClassifier"
   ]
  },
  {
   "cell_type": "code",
   "execution_count": 71,
   "metadata": {
    "colab": {
     "base_uri": "https://localhost:8080/"
    },
    "executionInfo": {
     "elapsed": 24,
     "status": "ok",
     "timestamp": 1645514171396,
     "user": {
      "displayName": "yunwoo oh",
      "photoUrl": "https://lh3.googleusercontent.com/a/default-user=s64",
      "userId": "01035531558844683999"
     },
     "user_tz": -540
    },
    "id": "34NklLzz0FUa",
    "outputId": "bfde9023-41f3-481e-910d-7f7883c5018f"
   },
   "outputs": [
    {
     "data": {
      "text/plain": [
       "LGBMClassifier(n_estimators=3, random_state=42)"
      ]
     },
     "execution_count": 71,
     "metadata": {},
     "output_type": "execute_result"
    }
   ],
   "source": [
    "lgbm = LGBMClassifier(n_estimators=3, random_state=42)  \n",
    "lgbm.fit(x_train, y_train)"
   ]
  },
  {
   "cell_type": "code",
   "execution_count": 72,
   "metadata": {
    "id": "IqymXJLO0FUa"
   },
   "outputs": [],
   "source": [
    "lgbm_pred = lgbm.predict(x_test)"
   ]
  },
  {
   "cell_type": "code",
   "execution_count": 73,
   "metadata": {
    "colab": {
     "base_uri": "https://localhost:8080/",
     "height": 541
    },
    "executionInfo": {
     "elapsed": 18,
     "status": "ok",
     "timestamp": 1645514171398,
     "user": {
      "displayName": "yunwoo oh",
      "photoUrl": "https://lh3.googleusercontent.com/a/default-user=s64",
      "userId": "01035531558844683999"
     },
     "user_tz": -540
    },
    "id": "wBLc6O9q0FUb",
    "outputId": "dbe4570f-e313-4f9c-b30f-3a9d27110663"
   },
   "outputs": [
    {
     "name": "stdout",
     "output_type": "stream",
     "text": [
      "                   model     recall\n",
      "0     LogisticRegression  56.071429\n",
      "1           DecisionTree  55.714286\n",
      "2     K-Nearest Neighbor  52.142857\n",
      "3  RandomForest Ensemble  52.142857\n",
      "4                XGBoost  52.142857\n",
      "5                   LGBM   0.000000\n"
     ]
    },
    {
     "data": {
      "text/plain": [
       "<Figure size 1200x900 with 0 Axes>"
      ]
     },
     "metadata": {},
     "output_type": "display_data"
    },
    {
     "data": {
      "image/png": "[encoded data removed]",
      "text/plain": [
       "<Figure size 1000x600 with 1 Axes>"
      ]
     },
     "metadata": {},
     "output_type": "display_data"
    }
   ],
   "source": [
    "recall_eval('LGBM', lgbm_pred, y_test)"
   ]
  },
  {
   "cell_type": "code",
   "execution_count": 75,
   "metadata": {
    "colab": {
     "base_uri": "https://localhost:8080/"
    },
    "executionInfo": {
     "elapsed": 16,
     "status": "ok",
     "timestamp": 1645514171398,
     "user": {
      "displayName": "yunwoo oh",
      "photoUrl": "https://lh3.googleusercontent.com/a/default-user=s64",
      "userId": "01035531558844683999"
     },
     "user_tz": -540
    },
    "id": "iEYoahG80FUb",
    "outputId": "fed70c62-0759-409d-faa7-23c665d71609"
   },
   "outputs": [
    {
     "data": {
      "text/plain": [
       "0.7344713134186819"
      ]
     },
     "execution_count": 75,
     "metadata": {},
     "output_type": "execute_result"
    }
   ],
   "source": [
    "# 정확도는 73% 정도 나온다.\n",
    "lgbm.score(x_test, y_test)"
   ]
  },
  {
   "cell_type": "code",
   "execution_count": 76,
   "metadata": {
    "colab": {
     "base_uri": "https://localhost:8080/"
    },
    "executionInfo": {
     "elapsed": 15,
     "status": "ok",
     "timestamp": 1645514171399,
     "user": {
      "displayName": "yunwoo oh",
      "photoUrl": "https://lh3.googleusercontent.com/a/default-user=s64",
      "userId": "01035531558844683999"
     },
     "user_tz": -540
    },
    "id": "DzHQwJBf0FUb",
    "outputId": "8acaae40-8784-49ee-e595-b7be6661db57"
   },
   "outputs": [
    {
     "data": {
      "text/plain": [
       "0.0"
      ]
     },
     "execution_count": 76,
     "metadata": {},
     "output_type": "execute_result"
    }
   ],
   "source": [
    "# 재현율 0으로 나온다. \n",
    "recall_score(y_test, lgbm_pred)  "
   ]
  },
  {
   "cell_type": "markdown",
   "metadata": {
    "id": "dwF8m19w0FUb"
   },
   "source": [
    "##  \n",
    "# <font color=red>2. 재현율 성능이 너무 안나온다. 어떻게 해결할수 있을까?</font>"
   ]
  },
  {
   "cell_type": "code",
   "execution_count": null,
   "metadata": {
    "id": "w6mhbAam0FUb"
   },
   "outputs": [],
   "source": []
  },
  {
   "cell_type": "markdown",
   "metadata": {
    "id": "KLSjCzg80FUc"
   },
   "source": [
    "##  \n",
    "## 배운 내용 정리\n",
    "1. 머신러닝 모델 프로세스 <br>\n",
    "① 라이브러리 임포트(import)  \n",
    "② 데이터 가져오기(Loading the data)  \n",
    "③ 탐색적 데이터 분석(Exploratory Data Analysis)  \n",
    "④ 데이터 전처리(Data PreProcessing) : 데이터타입 변환, Null 데이터 처리, 누락데이터 처리, \n",
    "더미특성 생성, 특성 추출 (feature engineering) 등  \n",
    "⑤ Train, Test  데이터셋 분할  \n",
    "⑥ 데이터 정규화(Normalizing the Data)  \n",
    "⑦ 모델 개발(Creating the Model)  \n",
    "⑧ 모델 성능 평가\n",
    "2. 평가 지표 활용 : 모델별 성능 확인을 위한 함수 (가져다 쓰면 된다)\n",
    "3. 단일 회귀예측 모델 : LogisticRegression, KNN, DecisionTree\n",
    "4. 앙상블 (Ensemble) : RandomForest, XGBoost, LGBM\n",
    "5. 재현율 성능이 너무 안나온다. 어떻게 해결할수 있을까?"
   ]
  },
  {
   "cell_type": "markdown",
   "metadata": {
    "id": "DiZZH78kneDY"
   },
   "source": [
    "<p>\n",
    "<p>\n",
    "<p>"
   ]
  },
  {
   "cell_type": "markdown",
   "metadata": {
    "id": "gAOb2TJlnhyx"
   },
   "source": [
    "<p>\n",
    "<p>\n",
    "<p>"
   ]
  },
  {
   "cell_type": "markdown",
   "metadata": {
    "id": "dNiFmy0ani4a"
   },
   "source": [
    "<p>\n",
    "<p>\n",
    "<p>"
   ]
  },
  {
   "cell_type": "markdown",
   "metadata": {
    "id": "OE89vy1a0YH3"
   },
   "source": [
    "# [실습-퀴즈] Python을 활용한 AI 모델링 - 딥러닝 파트\n",
    "+ 이번시간에는 Python을 활용한 AI 모델링에서 딥러닝에 대해 실습해 보겠습니다.\n",
    "+ 여기서는 딥러닝 모델 DNN에 대해 코딩하여 모델 구축해 보겠습니다.\n",
    "+ 한가지 당부 드리고 싶은 말은 \"백문이불여일타\" 입니다. \n",
    "+ 이론보다 실습이 더 많은 시간과 노력이 투자 되어야 합니다."
   ]
  },
  {
   "cell_type": "markdown",
   "metadata": {
    "id": "jiPP1idv0YH8"
   },
   "source": [
    "## 학습목차\n",
    "1. 딥러닝 심층신경망(DNN) 모델 프로세스\n",
    " - 데이터 가져오기\n",
    " - 데이터 전처리\n",
    " - Train, Test 데이터셋 분할\n",
    " - 데이터 정규화\n",
    " - DNN 딥러닝 모델\n",
    "2. 재현율 성능이 좋지 않다. 어떻게 성능향상 할수 있나?"
   ]
  },
  {
   "cell_type": "markdown",
   "metadata": {
    "id": "Zr3QI2qG0YH9"
   },
   "source": [
    "#  \n",
    "# 1. 딥러닝 심층신경망(DNN) 모델 프로세스\n",
    "① 라이브러리 임포트(import)  \n",
    "② 데이터 가져오기(Loading the data)  \n",
    "③ 탐색적 데이터 분석(Exploratory Data Analysis)  \n",
    "④ 데이터 전처리(Data PreProcessing) : 데이터타입 변환, Null 데이터 처리, 누락데이터 처리, \n",
    "더미특성 생성, 특성 추출 (feature engineering) 등  \n",
    "⑤ Train, Test  데이터셋 분할  \n",
    "⑥ 데이터 정규화(Normalizing the Data)  \n",
    "⑦ 모델 개발(Creating the Model)  \n",
    "⑧ 모델 성능 평가\n",
    "\n",
    "### <font color='red'>1 ~ 6번까지 완료한 상태</font>"
   ]
  },
  {
   "cell_type": "markdown",
   "metadata": {
    "id": "fUKskwle0YIM"
   },
   "source": [
    "## ⑦ 딥러닝 심층신경망(DNN) 모델 구현"
   ]
  },
  {
   "cell_type": "markdown",
   "metadata": {
    "id": "-qtH1IV_0YIM"
   },
   "source": [
    "####  \n",
    "### 라이브러리 임포트"
   ]
  },
  {
   "cell_type": "code",
   "execution_count": 77,
   "metadata": {
    "id": "xZ-81qT80YIM"
   },
   "outputs": [],
   "source": [
    "import tensorflow as tf\n",
    "from tensorflow.keras.models import Sequential\n",
    "from tensorflow.keras.layers import Dense, Dropout\n",
    "\n",
    "tf.random.set_seed(100)"
   ]
  },
  {
   "cell_type": "markdown",
   "metadata": {
    "id": "VUDoigSc0YIM"
   },
   "source": [
    "####  \n",
    "### 하이퍼파라미터 설정 : batch_size, epochs"
   ]
  },
  {
   "cell_type": "code",
   "execution_count": 78,
   "metadata": {
    "id": "zmEdqNNS0YIM"
   },
   "outputs": [],
   "source": [
    "batch_size = 16\n",
    "epochs = 20"
   ]
  },
  {
   "cell_type": "markdown",
   "metadata": {
    "id": "PqXbXmeD0YIN"
   },
   "source": [
    "####  \n",
    "### 모델 입력(features) 갯수 확인"
   ]
  },
  {
   "cell_type": "code",
   "execution_count": 79,
   "metadata": {
    "colab": {
     "base_uri": "https://localhost:8080/"
    },
    "executionInfo": {
     "elapsed": 318,
     "status": "ok",
     "timestamp": 1647674530827,
     "user": {
      "displayName": "yunwoo oh",
      "photoUrl": "https://lh3.googleusercontent.com/a/default-user=s64",
      "userId": "01035531558844683999"
     },
     "user_tz": -540
    },
    "id": "zCUyUw6J0YIN",
    "outputId": "2454aff8-f6fd-485f-ee55-2ece1b943d39"
   },
   "outputs": [
    {
     "data": {
      "text/plain": [
       "(4918, 39)"
      ]
     },
     "execution_count": 79,
     "metadata": {},
     "output_type": "execute_result"
    }
   ],
   "source": [
    "x_train.shape"
   ]
  },
  {
   "cell_type": "markdown",
   "metadata": {
    "id": "L1mqWzpz0YIN"
   },
   "source": [
    "####  \n",
    "### 모델 출력(label) 갯수 확인"
   ]
  },
  {
   "cell_type": "code",
   "execution_count": 80,
   "metadata": {
    "colab": {
     "base_uri": "https://localhost:8080/"
    },
    "executionInfo": {
     "elapsed": 309,
     "status": "ok",
     "timestamp": 1647674563703,
     "user": {
      "displayName": "yunwoo oh",
      "photoUrl": "https://lh3.googleusercontent.com/a/default-user=s64",
      "userId": "01035531558844683999"
     },
     "user_tz": -540
    },
    "id": "kzVC8VGO0YIN",
    "outputId": "b95c5396-b919-4a99-b2bb-989ea9ea6790"
   },
   "outputs": [
    {
     "data": {
      "text/plain": [
       "(4918,)"
      ]
     },
     "execution_count": 80,
     "metadata": {},
     "output_type": "execute_result"
    }
   ],
   "source": [
    "y_train.shape"
   ]
  },
  {
   "cell_type": "markdown",
   "metadata": {
    "id": "1zLx5_rB0YIO"
   },
   "source": [
    "####  \n",
    "### A. 이진분류 DNN모델 구성 "
   ]
  },
  {
   "cell_type": "markdown",
   "metadata": {
    "id": "zKKe_aOJ0YIO"
   },
   "source": [
    "![hidden Layer](https://github.com/gzone2000/TEMP_TEST/raw/master/hidden_layer1.PNG)\n",
    "+ [출처] https://subscription.packtpub.com/book/data/9781788995207/1/ch01lvl1sec03/deep-learning-intuition"
   ]
  },
  {
   "cell_type": "markdown",
   "metadata": {
    "id": "2LX2K8Hu0YIO"
   },
   "source": [
    "##### <font color=blue> **[문제] 요구사항대로 Sequential 모델을 만들어 보세요.** </font>"
   ]
  },
  {
   "cell_type": "code",
   "execution_count": 83,
   "metadata": {
    "id": "Fygby0lS0YIO"
   },
   "outputs": [
    {
     "name": "stdout",
     "output_type": "stream",
     "text": [
      "Model: \"sequential_1\"\n",
      "_________________________________________________________________\n",
      " Layer (type)                Output Shape              Param #   \n",
      "=================================================================\n",
      " dense_4 (Dense)             (None, 4)                 160       \n",
      "                                                                 \n",
      " dense_5 (Dense)             (None, 3)                 15        \n",
      "                                                                 \n",
      " dense_6 (Dense)             (None, 1)                 4         \n",
      "                                                                 \n",
      "=================================================================\n",
      "Total params: 179\n",
      "Trainable params: 179\n",
      "Non-trainable params: 0\n",
      "_________________________________________________________________\n"
     ]
    }
   ],
   "source": [
    "# Sequential() 모델 정의 하고 model로 저장\n",
    "# input layer는 input_shape=() 옵션을 사용한다.\n",
    "# 39개 input layer\n",
    "# unit 4개 hidden layer\n",
    "# unit 3개 hidden layer \n",
    "# 1개 output layser : 이진분류\n",
    "n = x_train.shape[1]\n",
    "\n",
    "model = Sequential([Dense(4, input_shape=(39,), activation='relu')\n",
    "                   ,Dense(3, activation='relu')\n",
    "                   ,Dense(1, activation='sigmoid')])\n",
    "\n",
    "model.summary()\n",
    "\n"
   ]
  },
  {
   "cell_type": "markdown",
   "metadata": {
    "id": "gRD_erqd0YIO"
   },
   "source": [
    "####  \n",
    "### 모델 확인"
   ]
  },
  {
   "cell_type": "code",
   "execution_count": null,
   "metadata": {
    "colab": {
     "base_uri": "https://localhost:8080/"
    },
    "executionInfo": {
     "elapsed": 412,
     "status": "ok",
     "timestamp": 1647674972515,
     "user": {
      "displayName": "yunwoo oh",
      "photoUrl": "https://lh3.googleusercontent.com/a/default-user=s64",
      "userId": "01035531558844683999"
     },
     "user_tz": -540
    },
    "id": "_dWPN4Hf0YIP",
    "outputId": "c13286a7-2094-4e4f-aff2-aa7d7cd332fe"
   },
   "outputs": [
    {
     "name": "stdout",
     "output_type": "stream",
     "text": [
      "Model: \"sequential\"\n",
      "_________________________________________________________________\n",
      " Layer (type)                Output Shape              Param #   \n",
      "=================================================================\n",
      " dense (Dense)               (None, 4)                 160       \n",
      "                                                                 \n",
      " dense_1 (Dense)             (None, 3)                 15        \n",
      "                                                                 \n",
      " dense_2 (Dense)             (None, 1)                 4         \n",
      "                                                                 \n",
      "=================================================================\n",
      "Total params: 179\n",
      "Trainable params: 179\n",
      "Non-trainable params: 0\n",
      "_________________________________________________________________\n"
     ]
    }
   ],
   "source": [
    "model.summary()"
   ]
  },
  {
   "cell_type": "markdown",
   "metadata": {
    "id": "hArp-8W00YIP"
   },
   "source": [
    "####  \n",
    "### 모델 구성 -  과적합 방지"
   ]
  },
  {
   "cell_type": "markdown",
   "metadata": {
    "id": "P12SscRX0YIP"
   },
   "source": [
    "![dropout](https://github.com/gzone2000/TEMP_TEST/raw/master/dropout.PNG)\n",
    "+ [출처] https://medium.com/@amarbudhiraja/https-medium-com-amarbudhiraja-learning-less-to-learn-better-dropout-in-deep-machine-learning-74334da4bfc5"
   ]
  },
  {
   "cell_type": "code",
   "execution_count": 84,
   "metadata": {
    "id": "hTZ0lfsB0YIP"
   },
   "outputs": [],
   "source": [
    "model = Sequential()\n",
    "model.add(Dense(4, activation='relu', input_shape=(39,)))\n",
    "model.add(Dropout(0.3))\n",
    "model.add(Dense(3, activation='relu'))\n",
    "model.add(Dropout(0.3))\n",
    "model.add(Dense(1, activation='sigmoid'))"
   ]
  },
  {
   "cell_type": "code",
   "execution_count": 88,
   "metadata": {},
   "outputs": [
    {
     "name": "stdout",
     "output_type": "stream",
     "text": [
      "Model: \"sequential_3\"\n",
      "_________________________________________________________________\n",
      " Layer (type)                Output Shape              Param #   \n",
      "=================================================================\n",
      " dense_10 (Dense)            (None, 4)                 160       \n",
      "                                                                 \n",
      " dropout_2 (Dropout)         (None, 4)                 0         \n",
      "                                                                 \n",
      " dense_11 (Dense)            (None, 3)                 15        \n",
      "                                                                 \n",
      " dropout_3 (Dropout)         (None, 3)                 0         \n",
      "                                                                 \n",
      " dense_12 (Dense)            (None, 1)                 4         \n",
      "                                                                 \n",
      "=================================================================\n",
      "Total params: 179\n",
      "Trainable params: 179\n",
      "Non-trainable params: 0\n",
      "_________________________________________________________________\n"
     ]
    }
   ],
   "source": [
    "model1 = Sequential([Dense(4, input_shape=(39,), activation='relu')\n",
    "                   ,Dropout(0.3)\n",
    "                   ,Dense(3, activation='relu')\n",
    "                   ,Dropout(0.3)\n",
    "                   ,Dense(1, activation='sigmoid')])\n",
    "\n",
    "model1.summary()\n"
   ]
  },
  {
   "cell_type": "markdown",
   "metadata": {
    "id": "awF-BLSo0YIQ"
   },
   "source": [
    "####  \n",
    "### 과적합 방지 모델 확인"
   ]
  },
  {
   "cell_type": "code",
   "execution_count": 85,
   "metadata": {
    "colab": {
     "base_uri": "https://localhost:8080/"
    },
    "executionInfo": {
     "elapsed": 420,
     "status": "ok",
     "timestamp": 1647675163143,
     "user": {
      "displayName": "yunwoo oh",
      "photoUrl": "https://lh3.googleusercontent.com/a/default-user=s64",
      "userId": "01035531558844683999"
     },
     "user_tz": -540
    },
    "id": "5EPZjdj80YIQ",
    "outputId": "5c973173-027e-4d7f-80ab-9858a0f7cee4"
   },
   "outputs": [
    {
     "name": "stdout",
     "output_type": "stream",
     "text": [
      "Model: \"sequential_2\"\n",
      "_________________________________________________________________\n",
      " Layer (type)                Output Shape              Param #   \n",
      "=================================================================\n",
      " dense_7 (Dense)             (None, 4)                 160       \n",
      "                                                                 \n",
      " dropout (Dropout)           (None, 4)                 0         \n",
      "                                                                 \n",
      " dense_8 (Dense)             (None, 3)                 15        \n",
      "                                                                 \n",
      " dropout_1 (Dropout)         (None, 3)                 0         \n",
      "                                                                 \n",
      " dense_9 (Dense)             (None, 1)                 4         \n",
      "                                                                 \n",
      "=================================================================\n",
      "Total params: 179\n",
      "Trainable params: 179\n",
      "Non-trainable params: 0\n",
      "_________________________________________________________________\n"
     ]
    }
   ],
   "source": [
    "model.summary()"
   ]
  },
  {
   "cell_type": "markdown",
   "metadata": {
    "id": "1VOruMmv0YIQ"
   },
   "source": [
    "####  \n",
    "### 모델 컴파일 – 이진 분류 모델"
   ]
  },
  {
   "cell_type": "code",
   "execution_count": 89,
   "metadata": {
    "id": "nVZnbiNp0YIQ"
   },
   "outputs": [],
   "source": [
    "model.compile(optimizer='adam', \n",
    "              loss='binary_crossentropy', \n",
    "              metrics=['accuracy']) "
   ]
  },
  {
   "cell_type": "markdown",
   "metadata": {
    "id": "mHEfmI450YIQ"
   },
   "source": [
    "- 모델 컴파일 – 다중 분류 모델 (Y값을 One-Hot-Encoding 한경우) <br>\n",
    "model.compile(optimizer='adam', loss='categorical_crossentropy', metrics=['accuracy'])"
   ]
  },
  {
   "cell_type": "markdown",
   "metadata": {
    "id": "qvjLtvLO0YIR"
   },
   "source": [
    "- 모델 컴파일 – 다중 분류 모델  (Y값을 One-Hot-Encoding 하지 않은 경우) <br>\n",
    "model.compile(optimizer='adam', loss='sparse_categorical_crossentropy', metrics=['accuracy'])"
   ]
  },
  {
   "cell_type": "markdown",
   "metadata": {
    "id": "AK35wHQq0YIR"
   },
   "source": [
    "- 모델 컴파일 – 예측 모델\n",
    "model.compile(optimizer='adam', loss='mse')"
   ]
  },
  {
   "cell_type": "markdown",
   "metadata": {
    "id": "rTX4ExMb0YIR"
   },
   "source": [
    "####  \n",
    "### 모델 학습"
   ]
  },
  {
   "cell_type": "markdown",
   "metadata": {
    "id": "l-H8W9R80YIR"
   },
   "source": [
    "##### <font color=blue> **[문제] 요구사항대로 DNN 모델을 학습시키세요.** </font>\n",
    "+ 모델 이름 : model\n",
    "+ epoch : 10번\n",
    "+ batch_size : 10번"
   ]
  },
  {
   "cell_type": "code",
   "execution_count": 91,
   "metadata": {
    "colab": {
     "base_uri": "https://localhost:8080/"
    },
    "executionInfo": {
     "elapsed": 12487,
     "status": "ok",
     "timestamp": 1647675503001,
     "user": {
      "displayName": "yunwoo oh",
      "photoUrl": "https://lh3.googleusercontent.com/a/default-user=s64",
      "userId": "01035531558844683999"
     },
     "user_tz": -540
    },
    "id": "l0VkwonN0YIS",
    "outputId": "0bd4f847-c11e-4df6-938a-2507b165d3e5"
   },
   "outputs": [
    {
     "name": "stdout",
     "output_type": "stream",
     "text": [
      "Epoch 1/10\n",
      "492/492 [==============================] - 2s 2ms/step - loss: 0.5406 - accuracy: 0.7344 - val_loss: 0.4723 - val_accuracy: 0.7345\n",
      "Epoch 2/10\n",
      "492/492 [==============================] - 1s 2ms/step - loss: 0.5054 - accuracy: 0.7344 - val_loss: 0.4535 - val_accuracy: 0.7345\n",
      "Epoch 3/10\n",
      "492/492 [==============================] - 1s 2ms/step - loss: 0.4902 - accuracy: 0.7344 - val_loss: 0.4484 - val_accuracy: 0.7345\n",
      "Epoch 4/10\n",
      "492/492 [==============================] - 1s 2ms/step - loss: 0.4898 - accuracy: 0.7344 - val_loss: 0.4454 - val_accuracy: 0.7345\n",
      "Epoch 5/10\n",
      "492/492 [==============================] - 1s 2ms/step - loss: 0.4850 - accuracy: 0.7344 - val_loss: 0.4440 - val_accuracy: 0.7345\n",
      "Epoch 6/10\n",
      "492/492 [==============================] - 1s 2ms/step - loss: 0.4735 - accuracy: 0.7344 - val_loss: 0.4419 - val_accuracy: 0.7345\n",
      "Epoch 7/10\n",
      "492/492 [==============================] - 1s 2ms/step - loss: 0.4775 - accuracy: 0.7344 - val_loss: 0.4389 - val_accuracy: 0.7345\n",
      "Epoch 8/10\n",
      "492/492 [==============================] - 1s 2ms/step - loss: 0.4769 - accuracy: 0.7344 - val_loss: 0.4410 - val_accuracy: 0.7345\n",
      "Epoch 9/10\n",
      "492/492 [==============================] - 1s 2ms/step - loss: 0.4819 - accuracy: 0.7344 - val_loss: 0.4409 - val_accuracy: 0.7345\n",
      "Epoch 10/10\n",
      "492/492 [==============================] - 1s 2ms/step - loss: 0.4795 - accuracy: 0.7344 - val_loss: 0.4469 - val_accuracy: 0.7345\n"
     ]
    },
    {
     "data": {
      "text/plain": [
       "<keras.callbacks.History at 0x1733f844df0>"
      ]
     },
     "execution_count": 91,
     "metadata": {},
     "output_type": "execute_result"
    }
   ],
   "source": [
    "# 앞쪽에서 정의된 모델 이름 : model\n",
    "# Sequential 모델의 fit() 함수 사용\n",
    "# @인자\n",
    "### X, y : X_train, y_train\n",
    "### validation_data=(X_test, y_test)\n",
    "### epochs 10번\n",
    "### batch_size 10번\n",
    "\n",
    "model.fit(x_train, y_train, epochs=10, batch_size=10, validation_data=(x_test, y_test))\n",
    "\n",
    "\n"
   ]
  },
  {
   "cell_type": "markdown",
   "metadata": {
    "id": "WPZYzqib0YIS"
   },
   "source": [
    "####  \n",
    "### B. 다중 분류 DNN 구성\n",
    "+ 13개 input layer\n",
    "+ unit 5개 hidden layer\n",
    "+ dropout\n",
    "+ unit 4개 hidden layer \n",
    "+ dropout\n",
    "+ 2개 output layser : 이진분류"
   ]
  },
  {
   "cell_type": "markdown",
   "metadata": {
    "id": "Opb5-0OI0YIS"
   },
   "source": [
    "![다중분류](https://github.com/gzone2000/TEMP_TEST/raw/master/hidden_layer2.PNG)\n",
    "+ [출처] https://www.educba.com/dnn-neural-network/"
   ]
  },
  {
   "cell_type": "code",
   "execution_count": 97,
   "metadata": {},
   "outputs": [
    {
     "name": "stdout",
     "output_type": "stream",
     "text": [
      "Model: \"sequential_6\"\n",
      "_________________________________________________________________\n",
      " Layer (type)                Output Shape              Param #   \n",
      "=================================================================\n",
      " dense_19 (Dense)            (None, 5)                 70        \n",
      "                                                                 \n",
      " dropout_8 (Dropout)         (None, 5)                 0         \n",
      "                                                                 \n",
      " dense_20 (Dense)            (None, 4)                 24        \n",
      "                                                                 \n",
      " dropout_9 (Dropout)         (None, 4)                 0         \n",
      "                                                                 \n",
      " dense_21 (Dense)            (None, 2)                 10        \n",
      "                                                                 \n",
      "=================================================================\n",
      "Total params: 104\n",
      "Trainable params: 104\n",
      "Non-trainable params: 0\n",
      "_________________________________________________________________\n"
     ]
    }
   ],
   "source": [
    "model_b = Sequential([Dense(5, input_shape=(13,), activation='relu')\n",
    "                     ,Dropout(0.3)\n",
    "                     ,Dense(4, activation='relu')\n",
    "                     ,Dropout(0.3)\n",
    "                     ,Dense(2, activation='softmax')])\n",
    "\n",
    "model_b.summary()"
   ]
  },
  {
   "cell_type": "code",
   "execution_count": 93,
   "metadata": {
    "id": "k0Tiq3A40YIS"
   },
   "outputs": [],
   "source": [
    "# 39개 input layer\n",
    "# unit 5개 hidden layer\n",
    "# dropout\n",
    "# unit 4개 hidden layer \n",
    "# dropout\n",
    "# 2개 output layser : 다중분류\n",
    "\n",
    "model = Sequential()\n",
    "model.add(Dense(5, activation='relu', input_shape=(39,)))\n",
    "model.add(Dropout(0.3))\n",
    "model.add(Dense(4, activation='relu'))\n",
    "model.add(Dropout(0.3))\n",
    "model.add(Dense(2, activation='softmax'))"
   ]
  },
  {
   "cell_type": "markdown",
   "metadata": {
    "id": "sheeDtax0YIS"
   },
   "source": [
    "####  \n",
    "### 모델 확인"
   ]
  },
  {
   "cell_type": "code",
   "execution_count": 94,
   "metadata": {
    "colab": {
     "base_uri": "https://localhost:8080/"
    },
    "executionInfo": {
     "elapsed": 378,
     "status": "ok",
     "timestamp": 1647675778951,
     "user": {
      "displayName": "yunwoo oh",
      "photoUrl": "https://lh3.googleusercontent.com/a/default-user=s64",
      "userId": "01035531558844683999"
     },
     "user_tz": -540
    },
    "id": "sLGbErrf0YIT",
    "outputId": "a40264ba-9d7f-4f91-d501-7b9335c4ba38"
   },
   "outputs": [
    {
     "name": "stdout",
     "output_type": "stream",
     "text": [
      "Model: \"sequential_5\"\n",
      "_________________________________________________________________\n",
      " Layer (type)                Output Shape              Param #   \n",
      "=================================================================\n",
      " dense_16 (Dense)            (None, 5)                 200       \n",
      "                                                                 \n",
      " dropout_6 (Dropout)         (None, 5)                 0         \n",
      "                                                                 \n",
      " dense_17 (Dense)            (None, 4)                 24        \n",
      "                                                                 \n",
      " dropout_7 (Dropout)         (None, 4)                 0         \n",
      "                                                                 \n",
      " dense_18 (Dense)            (None, 2)                 10        \n",
      "                                                                 \n",
      "=================================================================\n",
      "Total params: 234\n",
      "Trainable params: 234\n",
      "Non-trainable params: 0\n",
      "_________________________________________________________________\n"
     ]
    }
   ],
   "source": [
    "model.summary()"
   ]
  },
  {
   "cell_type": "markdown",
   "metadata": {
    "id": "uSa3lsUp0YIT"
   },
   "source": [
    "####  \n",
    "### 모델 컴파일 – 다중 분류 모델"
   ]
  },
  {
   "cell_type": "code",
   "execution_count": 95,
   "metadata": {
    "colab": {
     "base_uri": "https://localhost:8080/"
    },
    "executionInfo": {
     "elapsed": 303,
     "status": "ok",
     "timestamp": 1647675817909,
     "user": {
      "displayName": "yunwoo oh",
      "photoUrl": "https://lh3.googleusercontent.com/a/default-user=s64",
      "userId": "01035531558844683999"
     },
     "user_tz": -540
    },
    "id": "DYEQKGgTIZ6S",
    "outputId": "5509172a-71d6-4b7e-e13e-e757eac4394f"
   },
   "outputs": [
    {
     "data": {
      "text/plain": [
       "(4918,)"
      ]
     },
     "execution_count": 95,
     "metadata": {},
     "output_type": "execute_result"
    }
   ],
   "source": [
    "y_train.shape"
   ]
  },
  {
   "cell_type": "code",
   "execution_count": 96,
   "metadata": {
    "id": "8uqwCzFC0YIT"
   },
   "outputs": [],
   "source": [
    "model.compile(optimizer='adam', \n",
    "              loss='sparse_categorical_crossentropy', \n",
    "              metrics=['accuracy']) "
   ]
  },
  {
   "cell_type": "markdown",
   "metadata": {
    "id": "RhUlTphR0YIT"
   },
   "source": [
    "####  \n",
    "### 모델 학습"
   ]
  },
  {
   "cell_type": "code",
   "execution_count": 99,
   "metadata": {
    "colab": {
     "base_uri": "https://localhost:8080/"
    },
    "executionInfo": {
     "elapsed": 15539,
     "status": "ok",
     "timestamp": 1647675887419,
     "user": {
      "displayName": "yunwoo oh",
      "photoUrl": "https://lh3.googleusercontent.com/a/default-user=s64",
      "userId": "01035531558844683999"
     },
     "user_tz": -540
    },
    "id": "FfooZ2jr0YIT",
    "outputId": "12da8856-e37a-4d85-eaf7-0e7cc0be755b"
   },
   "outputs": [
    {
     "name": "stdout",
     "output_type": "stream",
     "text": [
      "Epoch 1/20\n",
      "308/308 [==============================] - 1s 2ms/step - loss: 0.5892 - accuracy: 0.7344 - val_loss: 0.5148 - val_accuracy: 0.7345\n",
      "Epoch 2/20\n",
      "308/308 [==============================] - 1s 2ms/step - loss: 0.5252 - accuracy: 0.7344 - val_loss: 0.4775 - val_accuracy: 0.7345\n",
      "Epoch 3/20\n",
      "308/308 [==============================] - 1s 2ms/step - loss: 0.5023 - accuracy: 0.7344 - val_loss: 0.4596 - val_accuracy: 0.7345\n",
      "Epoch 4/20\n",
      "308/308 [==============================] - 1s 2ms/step - loss: 0.4975 - accuracy: 0.7344 - val_loss: 0.4555 - val_accuracy: 0.7345\n",
      "Epoch 5/20\n",
      "308/308 [==============================] - 1s 2ms/step - loss: 0.4877 - accuracy: 0.7344 - val_loss: 0.4501 - val_accuracy: 0.7345\n",
      "Epoch 6/20\n",
      "308/308 [==============================] - 1s 2ms/step - loss: 0.4870 - accuracy: 0.7344 - val_loss: 0.4528 - val_accuracy: 0.7345\n",
      "Epoch 7/20\n",
      "308/308 [==============================] - 1s 2ms/step - loss: 0.4724 - accuracy: 0.7344 - val_loss: 0.4434 - val_accuracy: 0.7345\n",
      "Epoch 8/20\n",
      "308/308 [==============================] - 1s 2ms/step - loss: 0.4810 - accuracy: 0.7344 - val_loss: 0.4455 - val_accuracy: 0.7345\n",
      "Epoch 9/20\n",
      "308/308 [==============================] - 1s 2ms/step - loss: 0.4757 - accuracy: 0.7344 - val_loss: 0.4427 - val_accuracy: 0.7345\n",
      "Epoch 10/20\n",
      "308/308 [==============================] - 1s 2ms/step - loss: 0.4818 - accuracy: 0.7344 - val_loss: 0.4464 - val_accuracy: 0.7345\n",
      "Epoch 11/20\n",
      "308/308 [==============================] - 1s 2ms/step - loss: 0.4770 - accuracy: 0.7344 - val_loss: 0.4445 - val_accuracy: 0.7345\n",
      "Epoch 12/20\n",
      "308/308 [==============================] - 1s 2ms/step - loss: 0.4737 - accuracy: 0.7344 - val_loss: 0.4420 - val_accuracy: 0.7345\n",
      "Epoch 13/20\n",
      "308/308 [==============================] - 1s 2ms/step - loss: 0.4774 - accuracy: 0.7344 - val_loss: 0.4436 - val_accuracy: 0.7345\n",
      "Epoch 14/20\n",
      "308/308 [==============================] - 1s 2ms/step - loss: 0.4812 - accuracy: 0.7344 - val_loss: 0.4469 - val_accuracy: 0.7345\n",
      "Epoch 15/20\n",
      "308/308 [==============================] - 1s 2ms/step - loss: 0.4779 - accuracy: 0.7344 - val_loss: 0.4427 - val_accuracy: 0.7345\n",
      "Epoch 16/20\n",
      "308/308 [==============================] - 1s 2ms/step - loss: 0.4808 - accuracy: 0.7344 - val_loss: 0.4457 - val_accuracy: 0.7345\n",
      "Epoch 17/20\n",
      "308/308 [==============================] - 1s 2ms/step - loss: 0.4770 - accuracy: 0.7344 - val_loss: 0.4446 - val_accuracy: 0.7345\n",
      "Epoch 18/20\n",
      "308/308 [==============================] - 1s 2ms/step - loss: 0.4739 - accuracy: 0.7344 - val_loss: 0.4413 - val_accuracy: 0.7345\n",
      "Epoch 19/20\n",
      "308/308 [==============================] - 1s 2ms/step - loss: 0.4760 - accuracy: 0.7344 - val_loss: 0.4412 - val_accuracy: 0.7345\n",
      "Epoch 20/20\n",
      "308/308 [==============================] - 1s 2ms/step - loss: 0.4801 - accuracy: 0.7344 - val_loss: 0.4430 - val_accuracy: 0.7345\n"
     ]
    }
   ],
   "source": [
    "history = model.fit(x_train, y_train, \n",
    "          validation_data=(x_test, y_test),\n",
    "          epochs=20, \n",
    "          batch_size=16)"
   ]
  },
  {
   "cell_type": "markdown",
   "metadata": {
    "id": "qsohXyXZ0YIT"
   },
   "source": [
    "####  \n",
    "### Callback : 조기종료, 모델 저장"
   ]
  },
  {
   "cell_type": "code",
   "execution_count": 100,
   "metadata": {
    "id": "z7d_nFMf0YIU"
   },
   "outputs": [],
   "source": [
    "from tensorflow.keras.callbacks import EarlyStopping, ModelCheckpoint"
   ]
  },
  {
   "cell_type": "code",
   "execution_count": 101,
   "metadata": {
    "id": "hoOULwhL0YIU"
   },
   "outputs": [],
   "source": [
    "# val_loss 모니터링해서 성능이 5번 지나도록 좋아지지 않으면 조기 종료\n",
    "early_stop = EarlyStopping(monitor='val_loss', mode='min', \n",
    "                           verbose=1, patience=5)"
   ]
  },
  {
   "cell_type": "code",
   "execution_count": 102,
   "metadata": {
    "id": "bKT5doN10YIU"
   },
   "outputs": [],
   "source": [
    "# val_loss 가장 낮은 값을 가질때마다 모델저장\n",
    "check_point = ModelCheckpoint('best_model.h5', verbose=1, \n",
    "                              monitor='val_loss', mode='min', save_best_only=True)"
   ]
  },
  {
   "cell_type": "markdown",
   "metadata": {
    "id": "3IUAfPnJ0YIU"
   },
   "source": [
    "####  \n",
    "### 모델 학습"
   ]
  },
  {
   "cell_type": "code",
   "execution_count": 104,
   "metadata": {
    "colab": {
     "base_uri": "https://localhost:8080/"
    },
    "executionInfo": {
     "elapsed": 7147,
     "status": "ok",
     "timestamp": 1647676031653,
     "user": {
      "displayName": "yunwoo oh",
      "photoUrl": "https://lh3.googleusercontent.com/a/default-user=s64",
      "userId": "01035531558844683999"
     },
     "user_tz": -540
    },
    "id": "-TYvrlT90YIU",
    "outputId": "09847321-27c5-47ac-b6ae-2d67258c5821"
   },
   "outputs": [
    {
     "name": "stdout",
     "output_type": "stream",
     "text": [
      "Epoch 1/50\n",
      "244/246 [============================>.] - ETA: 0s - loss: 0.4798 - accuracy: 0.7344\n",
      "Epoch 1: val_loss improved from inf to 0.44851, saving model to best_model.h5\n",
      "246/246 [==============================] - 1s 3ms/step - loss: 0.4805 - accuracy: 0.7344 - val_loss: 0.4485 - val_accuracy: 0.7345\n",
      "Epoch 2/50\n",
      "235/246 [===========================>..] - ETA: 0s - loss: 0.4744 - accuracy: 0.7334\n",
      "Epoch 2: val_loss improved from 0.44851 to 0.44103, saving model to best_model.h5\n",
      "246/246 [==============================] - 1s 2ms/step - loss: 0.4722 - accuracy: 0.7344 - val_loss: 0.4410 - val_accuracy: 0.7345\n",
      "Epoch 3/50\n",
      "237/246 [===========================>..] - ETA: 0s - loss: 0.4755 - accuracy: 0.7338\n",
      "Epoch 3: val_loss improved from 0.44103 to 0.44093, saving model to best_model.h5\n",
      "246/246 [==============================] - 1s 2ms/step - loss: 0.4763 - accuracy: 0.7344 - val_loss: 0.4409 - val_accuracy: 0.7345\n",
      "Epoch 4/50\n",
      "222/246 [==========================>...] - ETA: 0s - loss: 0.4830 - accuracy: 0.7320\n",
      "Epoch 4: val_loss did not improve from 0.44093\n",
      "246/246 [==============================] - 1s 2ms/step - loss: 0.4784 - accuracy: 0.7344 - val_loss: 0.4411 - val_accuracy: 0.7345\n",
      "Epoch 5/50\n",
      "223/246 [==========================>...] - ETA: 0s - loss: 0.4736 - accuracy: 0.7357\n",
      "Epoch 5: val_loss improved from 0.44093 to 0.44013, saving model to best_model.h5\n",
      "246/246 [==============================] - 1s 2ms/step - loss: 0.4721 - accuracy: 0.7344 - val_loss: 0.4401 - val_accuracy: 0.7345\n",
      "Epoch 6/50\n",
      "230/246 [===========================>..] - ETA: 0s - loss: 0.4803 - accuracy: 0.7335\n",
      "Epoch 6: val_loss did not improve from 0.44013\n",
      "246/246 [==============================] - 0s 2ms/step - loss: 0.4788 - accuracy: 0.7344 - val_loss: 0.4459 - val_accuracy: 0.7345\n",
      "Epoch 7/50\n",
      "230/246 [===========================>..] - ETA: 0s - loss: 0.4726 - accuracy: 0.7348\n",
      "Epoch 7: val_loss improved from 0.44013 to 0.43904, saving model to best_model.h5\n",
      "246/246 [==============================] - 1s 2ms/step - loss: 0.4716 - accuracy: 0.7344 - val_loss: 0.4390 - val_accuracy: 0.7345\n",
      "Epoch 8/50\n",
      "219/246 [=========================>....] - ETA: 0s - loss: 0.4766 - accuracy: 0.7365\n",
      "Epoch 8: val_loss did not improve from 0.43904\n",
      "246/246 [==============================] - 1s 2ms/step - loss: 0.4784 - accuracy: 0.7344 - val_loss: 0.4463 - val_accuracy: 0.7345\n",
      "Epoch 9/50\n",
      "238/246 [============================>.] - ETA: 0s - loss: 0.4755 - accuracy: 0.7368\n",
      "Epoch 9: val_loss did not improve from 0.43904\n",
      "246/246 [==============================] - 0s 2ms/step - loss: 0.4770 - accuracy: 0.7344 - val_loss: 0.4417 - val_accuracy: 0.7345\n",
      "Epoch 10/50\n",
      "234/246 [===========================>..] - ETA: 0s - loss: 0.4757 - accuracy: 0.7346\n",
      "Epoch 10: val_loss did not improve from 0.43904\n",
      "246/246 [==============================] - 0s 2ms/step - loss: 0.4767 - accuracy: 0.7344 - val_loss: 0.4411 - val_accuracy: 0.7345\n",
      "Epoch 11/50\n",
      "239/246 [============================>.] - ETA: 0s - loss: 0.4735 - accuracy: 0.7345\n",
      "Epoch 11: val_loss did not improve from 0.43904\n",
      "246/246 [==============================] - 1s 2ms/step - loss: 0.4733 - accuracy: 0.7344 - val_loss: 0.4415 - val_accuracy: 0.7345\n",
      "Epoch 12/50\n",
      "227/246 [==========================>...] - ETA: 0s - loss: 0.4696 - accuracy: 0.7355\n",
      "Epoch 12: val_loss did not improve from 0.43904\n",
      "246/246 [==============================] - 1s 2ms/step - loss: 0.4712 - accuracy: 0.7344 - val_loss: 0.4392 - val_accuracy: 0.7345\n",
      "Epoch 12: early stopping\n"
     ]
    }
   ],
   "source": [
    "history = model.fit(x=x_train, y=y_train, \n",
    "          epochs=50 , batch_size=20,\n",
    "          validation_data=(x_test, y_test), verbose=1,\n",
    "          callbacks=[early_stop, check_point])"
   ]
  },
  {
   "cell_type": "markdown",
   "metadata": {
    "id": "pWF_TAU-0YIV"
   },
   "source": [
    "####  \n",
    "## ⑧ 모델 성능 평가"
   ]
  },
  {
   "cell_type": "markdown",
   "metadata": {
    "id": "LwkmcZV90YIV"
   },
   "source": [
    "### 성능 시각화"
   ]
  },
  {
   "cell_type": "code",
   "execution_count": 105,
   "metadata": {
    "colab": {
     "base_uri": "https://localhost:8080/",
     "height": 295
    },
    "executionInfo": {
     "elapsed": 448,
     "status": "ok",
     "timestamp": 1647676116515,
     "user": {
      "displayName": "yunwoo oh",
      "photoUrl": "https://lh3.googleusercontent.com/a/default-user=s64",
      "userId": "01035531558844683999"
     },
     "user_tz": -540
    },
    "id": "p3Z4OGG40YIW",
    "outputId": "63083a11-6a14-488a-9efe-b5e9971ba85d",
    "scrolled": true
   },
   "outputs": [
    {
     "data": {
      "image/png": "[encoded data removed]",
      "text/plain": [
       "<Figure size 640x480 with 1 Axes>"
      ]
     },
     "metadata": {},
     "output_type": "display_data"
    }
   ],
   "source": [
    "plt.plot(history.history['accuracy'])\n",
    "plt.plot(history.history['val_accuracy'])\n",
    "plt.title('Accuracy')\n",
    "plt.xlabel('Epochs')\n",
    "plt.ylabel('Acc')\n",
    "plt.legend(['acc', 'val_acc'])\n",
    "plt.show()"
   ]
  },
  {
   "cell_type": "markdown",
   "metadata": {
    "id": "1u_eyBJL0YIW"
   },
   "source": [
    "### 성능 평가"
   ]
  },
  {
   "cell_type": "code",
   "execution_count": 106,
   "metadata": {
    "id": "7tztF7yi0YIW"
   },
   "outputs": [],
   "source": [
    "from sklearn.metrics import accuracy_score, precision_score, recall_score, f1_score\n",
    "from sklearn.metrics import classification_report"
   ]
  },
  {
   "cell_type": "code",
   "execution_count": 107,
   "metadata": {
    "id": "3IWrThr20YIW"
   },
   "outputs": [
    {
     "name": "stdout",
     "output_type": "stream",
     "text": [
      "66/66 [==============================] - 0s 1ms/step\n"
     ]
    }
   ],
   "source": [
    "pred = model.predict(x_test)"
   ]
  },
  {
   "cell_type": "code",
   "execution_count": 108,
   "metadata": {
    "colab": {
     "base_uri": "https://localhost:8080/"
    },
    "executionInfo": {
     "elapsed": 432,
     "status": "ok",
     "timestamp": 1647676138485,
     "user": {
      "displayName": "yunwoo oh",
      "photoUrl": "https://lh3.googleusercontent.com/a/default-user=s64",
      "userId": "01035531558844683999"
     },
     "user_tz": -540
    },
    "id": "y_q7Pz-j0YIW",
    "outputId": "cb2c251e-c8a3-4e9d-cba3-430daad593c4"
   },
   "outputs": [
    {
     "data": {
      "text/plain": [
       "(2109, 2)"
      ]
     },
     "execution_count": 108,
     "metadata": {},
     "output_type": "execute_result"
    }
   ],
   "source": [
    "pred.shape"
   ]
  },
  {
   "cell_type": "code",
   "execution_count": 109,
   "metadata": {
    "id": "ogC2i7810YIa"
   },
   "outputs": [],
   "source": [
    "y_pred = np.argmax(pred, axis=1)"
   ]
  },
  {
   "cell_type": "code",
   "execution_count": 110,
   "metadata": {
    "colab": {
     "base_uri": "https://localhost:8080/"
    },
    "executionInfo": {
     "elapsed": 3,
     "status": "ok",
     "timestamp": 1647676170886,
     "user": {
      "displayName": "yunwoo oh",
      "photoUrl": "https://lh3.googleusercontent.com/a/default-user=s64",
      "userId": "01035531558844683999"
     },
     "user_tz": -540
    },
    "id": "gI0BTOmJJxCd",
    "outputId": "ed2108fa-2fde-4489-cfe8-26becc001877"
   },
   "outputs": [
    {
     "data": {
      "text/plain": [
       "array([0, 0, 0, ..., 0, 0, 0], dtype=int64)"
      ]
     },
     "execution_count": 110,
     "metadata": {},
     "output_type": "execute_result"
    }
   ],
   "source": [
    "y_pred"
   ]
  },
  {
   "cell_type": "code",
   "execution_count": 111,
   "metadata": {
    "colab": {
     "base_uri": "https://localhost:8080/"
    },
    "executionInfo": {
     "elapsed": 379,
     "status": "ok",
     "timestamp": 1647676190311,
     "user": {
      "displayName": "yunwoo oh",
      "photoUrl": "https://lh3.googleusercontent.com/a/default-user=s64",
      "userId": "01035531558844683999"
     },
     "user_tz": -540
    },
    "id": "nEI_Exmv0YIa",
    "outputId": "65c6a540-5f32-48c9-ca7c-4146d0b46f50"
   },
   "outputs": [
    {
     "data": {
      "text/plain": [
       "0.7344713134186819"
      ]
     },
     "execution_count": 111,
     "metadata": {},
     "output_type": "execute_result"
    }
   ],
   "source": [
    "# 정확도 80%\n",
    "accuracy_score(y_test, y_pred)"
   ]
  },
  {
   "cell_type": "code",
   "execution_count": 112,
   "metadata": {
    "colab": {
     "base_uri": "https://localhost:8080/"
    },
    "executionInfo": {
     "elapsed": 442,
     "status": "ok",
     "timestamp": 1647676193072,
     "user": {
      "displayName": "yunwoo oh",
      "photoUrl": "https://lh3.googleusercontent.com/a/default-user=s64",
      "userId": "01035531558844683999"
     },
     "user_tz": -540
    },
    "id": "Ftb7Y6K_0YIa",
    "outputId": "59478c7f-58fc-4a82-ebfd-84a6e7ac4119"
   },
   "outputs": [
    {
     "data": {
      "text/plain": [
       "0.0"
      ]
     },
     "execution_count": 112,
     "metadata": {},
     "output_type": "execute_result"
    }
   ],
   "source": [
    "# 재현율 성능이 좋지 않다\n",
    "recall_score(y_test, y_pred)"
   ]
  },
  {
   "cell_type": "code",
   "execution_count": 113,
   "metadata": {
    "colab": {
     "base_uri": "https://localhost:8080/"
    },
    "executionInfo": {
     "elapsed": 278,
     "status": "ok",
     "timestamp": 1647676195909,
     "user": {
      "displayName": "yunwoo oh",
      "photoUrl": "https://lh3.googleusercontent.com/a/default-user=s64",
      "userId": "01035531558844683999"
     },
     "user_tz": -540
    },
    "id": "zEdx0ESm0YIb",
    "outputId": "041c0358-f521-4681-a2d1-1cf9ee5cc673"
   },
   "outputs": [
    {
     "name": "stdout",
     "output_type": "stream",
     "text": [
      "              precision    recall  f1-score   support\n",
      "\n",
      "           0       0.73      1.00      0.85      1549\n",
      "           1       0.00      0.00      0.00       560\n",
      "\n",
      "    accuracy                           0.73      2109\n",
      "   macro avg       0.37      0.50      0.42      2109\n",
      "weighted avg       0.54      0.73      0.62      2109\n",
      "\n"
     ]
    },
    {
     "name": "stderr",
     "output_type": "stream",
     "text": [
      "C:\\Users\\User\\anaconda3\\lib\\site-packages\\sklearn\\metrics\\_classification.py:1318: UndefinedMetricWarning: Precision and F-score are ill-defined and being set to 0.0 in labels with no predicted samples. Use `zero_division` parameter to control this behavior.\n",
      "  _warn_prf(average, modifier, msg_start, len(result))\n",
      "C:\\Users\\User\\anaconda3\\lib\\site-packages\\sklearn\\metrics\\_classification.py:1318: UndefinedMetricWarning: Precision and F-score are ill-defined and being set to 0.0 in labels with no predicted samples. Use `zero_division` parameter to control this behavior.\n",
      "  _warn_prf(average, modifier, msg_start, len(result))\n",
      "C:\\Users\\User\\anaconda3\\lib\\site-packages\\sklearn\\metrics\\_classification.py:1318: UndefinedMetricWarning: Precision and F-score are ill-defined and being set to 0.0 in labels with no predicted samples. Use `zero_division` parameter to control this behavior.\n",
      "  _warn_prf(average, modifier, msg_start, len(result))\n"
     ]
    }
   ],
   "source": [
    "# accuracy, recall, precision 성능 한번에 보기\n",
    "\n",
    "print(classification_report(y_test, y_pred))"
   ]
  },
  {
   "cell_type": "markdown",
   "metadata": {
    "id": "7897QYB80YIb"
   },
   "source": [
    "#  \n",
    "# 2. 재현율 성능이 좋지 않다. 어떻게 성능향상 할수 있나?\n",
    "+ 성능향상 할수 있는 방법은 여러가지 있습니다.\n",
    "+ DNN 하이퍼 파라미터 수정하면서 성능향상이 되는지 확인\n",
    "+ 데이터 줄이거나 늘리거나, Feature(컬럼)을 늘리거나 줄이거나 하는 식의 Feature Engineering 방법"
   ]
  },
  {
   "cell_type": "markdown",
   "metadata": {
    "id": "fiWiXYwK0YIb"
   },
   "source": [
    "####  \n",
    "## Feature Engineering 통한 성능향상\n",
    "+ 불균현 Churn 데이터 균형 맞추기 : OverSampling, UnderSampling\n",
    "+ OverSampling 기법 : SMOTE(Synthetic Minority Over-sampling Technique) \n",
    "+ 참조사이트 : https://datascienceschool.net/03%20machine%20learning/14.02%20%EB%B9%84%EB%8C%80%EC%B9%AD%20%EB%8D%B0%EC%9D%B4%ED%84%B0%20%EB%AC%B8%EC%A0%9C.html"
   ]
  },
  {
   "cell_type": "markdown",
   "metadata": {
    "id": "b3YkI1TY0YIb"
   },
   "source": [
    "![SMOTE](https://github.com/gzone2000/TEMP_TEST/raw/master/SMOTE.png)"
   ]
  },
  {
   "cell_type": "markdown",
   "metadata": {
    "id": "kstnDhLB0YIb"
   },
   "source": [
    "### imbalanced-learn 패키지 설치\n",
    "+ imbalanced data 문제를 해결하기 위한 다양한 샘플링 방법을 구현한 파이썬 패키지"
   ]
  },
  {
   "cell_type": "code",
   "execution_count": null,
   "metadata": {
    "colab": {
     "base_uri": "https://localhost:8080/"
    },
    "executionInfo": {
     "elapsed": 4200,
     "status": "ok",
     "timestamp": 1647676252402,
     "user": {
      "displayName": "yunwoo oh",
      "photoUrl": "https://lh3.googleusercontent.com/a/default-user=s64",
      "userId": "01035531558844683999"
     },
     "user_tz": -540
    },
    "id": "0Z0Qetyc0YIb",
    "outputId": "74f3982c-d77b-4ba4-af64-d75b2208854d",
    "scrolled": true
   },
   "outputs": [
    {
     "name": "stdout",
     "output_type": "stream",
     "text": [
      "Requirement already satisfied: imbalanced-learn in /usr/local/lib/python3.7/dist-packages (0.8.1)\n",
      "Collecting imbalanced-learn\n",
      "  Downloading imbalanced_learn-0.9.0-py3-none-any.whl (199 kB)\n",
      "\u001b[K     |████████████████████████████████| 199 kB 5.3 MB/s \n",
      "\u001b[?25hRequirement already satisfied: scipy>=1.1.0 in /usr/local/lib/python3.7/dist-packages (from imbalanced-learn) (1.4.1)\n",
      "Requirement already satisfied: threadpoolctl>=2.0.0 in /usr/local/lib/python3.7/dist-packages (from imbalanced-learn) (3.1.0)\n",
      "Requirement already satisfied: numpy>=1.14.6 in /usr/local/lib/python3.7/dist-packages (from imbalanced-learn) (1.21.5)\n",
      "Requirement already satisfied: scikit-learn>=1.0.1 in /usr/local/lib/python3.7/dist-packages (from imbalanced-learn) (1.0.2)\n",
      "Requirement already satisfied: joblib>=0.11 in /usr/local/lib/python3.7/dist-packages (from imbalanced-learn) (1.1.0)\n",
      "Installing collected packages: imbalanced-learn\n",
      "  Attempting uninstall: imbalanced-learn\n",
      "    Found existing installation: imbalanced-learn 0.8.1\n",
      "    Uninstalling imbalanced-learn-0.8.1:\n",
      "      Successfully uninstalled imbalanced-learn-0.8.1\n",
      "Successfully installed imbalanced-learn-0.9.0\n"
     ]
    }
   ],
   "source": [
    "!pip install -U imbalanced-learn"
   ]
  },
  {
   "cell_type": "markdown",
   "metadata": {
    "id": "3dvd2MA-0YIc"
   },
   "source": [
    "####  \n",
    "### SMOTE 함수 이용하여 Oversampling"
   ]
  },
  {
   "cell_type": "code",
   "execution_count": 114,
   "metadata": {
    "id": "wCdb2lYr0YIc"
   },
   "outputs": [],
   "source": [
    "from imblearn.over_sampling import SMOTE"
   ]
  },
  {
   "cell_type": "code",
   "execution_count": 116,
   "metadata": {
    "id": "Vr-FkjZC0YIc"
   },
   "outputs": [],
   "source": [
    "# SMOTE 함수 정의 및 Oversampling 수행\n",
    "\n",
    "smote = SMOTE(random_state=0)\n",
    "x_train_over, y_train_over = smote.fit_resample(x_train, y_train)"
   ]
  },
  {
   "cell_type": "code",
   "execution_count": 117,
   "metadata": {
    "colab": {
     "base_uri": "https://localhost:8080/"
    },
    "executionInfo": {
     "elapsed": 494,
     "status": "ok",
     "timestamp": 1647676282000,
     "user": {
      "displayName": "yunwoo oh",
      "photoUrl": "https://lh3.googleusercontent.com/a/default-user=s64",
      "userId": "01035531558844683999"
     },
     "user_tz": -540
    },
    "id": "AWs6dQU50YIc",
    "outputId": "3ddffd0c-ace0-48d4-b715-a8e281c1dedf"
   },
   "outputs": [
    {
     "name": "stdout",
     "output_type": "stream",
     "text": [
      "SMOTE 적용 전 학습용 피처/레이블 데이터 세트:  (4918, 39) (4918,)\n",
      "SMOTE 적용 후 학습용 피처/레이블 데이터 세트:  (7224, 39) (7224,)\n"
     ]
    }
   ],
   "source": [
    "print('SMOTE 적용 전 학습용 피처/레이블 데이터 세트: ', x_train.shape, y_train.shape)\n",
    "print('SMOTE 적용 후 학습용 피처/레이블 데이터 세트: ', x_train_over.shape, y_train_over.shape)"
   ]
  },
  {
   "cell_type": "code",
   "execution_count": 118,
   "metadata": {
    "colab": {
     "base_uri": "https://localhost:8080/"
    },
    "executionInfo": {
     "elapsed": 429,
     "status": "ok",
     "timestamp": 1647676300077,
     "user": {
      "displayName": "yunwoo oh",
      "photoUrl": "https://lh3.googleusercontent.com/a/default-user=s64",
      "userId": "01035531558844683999"
     },
     "user_tz": -540
    },
    "id": "RPPj3I2T0YId",
    "outputId": "e4e1ac8c-e05f-4bc4-b2d7-b4cfa5474f90"
   },
   "outputs": [
    {
     "data": {
      "text/plain": [
       "0    3612\n",
       "1    3612\n",
       "dtype: int64"
      ]
     },
     "execution_count": 118,
     "metadata": {},
     "output_type": "execute_result"
    }
   ],
   "source": [
    "# SMOTE 적용 후 레이블 값 분포 : 0과 1 갯수가 동일 \n",
    "pd.Series(y_train_over).value_counts()"
   ]
  },
  {
   "cell_type": "markdown",
   "metadata": {
    "id": "KWSRIlA20YId"
   },
   "source": [
    "####  \n",
    "### 데이터 정규화"
   ]
  },
  {
   "cell_type": "code",
   "execution_count": 119,
   "metadata": {
    "id": "2Ykxk8kL0YId"
   },
   "outputs": [],
   "source": [
    "# MinMaxScaler\n",
    "from sklearn.preprocessing import MinMaxScaler\n",
    "\n",
    "scaler = MinMaxScaler()\n",
    "scaler.fit(x_train)\n",
    "x_train_over = scaler.transform(x_train_over)\n",
    "x_test = scaler.transform(x_test)"
   ]
  },
  {
   "cell_type": "code",
   "execution_count": null,
   "metadata": {
    "colab": {
     "base_uri": "https://localhost:8080/"
    },
    "executionInfo": {
     "elapsed": 430,
     "status": "ok",
     "timestamp": 1647676312905,
     "user": {
      "displayName": "yunwoo oh",
      "photoUrl": "https://lh3.googleusercontent.com/a/default-user=s64",
      "userId": "01035531558844683999"
     },
     "user_tz": -540
    },
    "id": "Sg6z7eC30YId",
    "outputId": "136129d2-4374-4b85-e086-d12e29f52a6c"
   },
   "outputs": [
    {
     "data": {
      "text/plain": [
       "((7224, 39), (7224,), (2109, 39), (2109,))"
      ]
     },
     "execution_count": 56,
     "metadata": {},
     "output_type": "execute_result"
    }
   ],
   "source": [
    "X_train_over.shape, y_train_over.shape, X_test.shape, y_test.shape"
   ]
  },
  {
   "cell_type": "markdown",
   "metadata": {
    "id": "pXNCh5DU0YId"
   },
   "source": [
    "####  \n",
    "### 모델 개발(Creating the Model)"
   ]
  },
  {
   "cell_type": "code",
   "execution_count": 120,
   "metadata": {
    "id": "aqHIkUKF0YIe"
   },
   "outputs": [],
   "source": [
    "model = Sequential()\n",
    "model.add(Dense(64, activation='relu', input_shape=(39,)))\n",
    "model.add(Dropout(0.3))\n",
    "model.add(Dense(32, activation='relu'))\n",
    "model.add(Dropout(0.3))\n",
    "model.add(Dense(16, activation='relu'))\n",
    "model.add(Dropout(0.3))\n",
    "model.add(Dense(2, activation='softmax'))"
   ]
  },
  {
   "cell_type": "code",
   "execution_count": 121,
   "metadata": {
    "id": "Q11y4xL00YIe"
   },
   "outputs": [],
   "source": [
    "model.compile(optimizer='adam', \n",
    "              loss='sparse_categorical_crossentropy', \n",
    "              metrics=['accuracy']) "
   ]
  },
  {
   "cell_type": "code",
   "execution_count": 122,
   "metadata": {
    "id": "BEtI8XeR0YIe"
   },
   "outputs": [],
   "source": [
    "# 여기서는 val_accuracy 모니터링해서 성능이 좋아지지 않으면 조기 종료 하게 함.\n",
    "early_stop = EarlyStopping(monitor='val_accuracy', mode='max', \n",
    "                           verbose=1, patience=5)"
   ]
  },
  {
   "cell_type": "code",
   "execution_count": 123,
   "metadata": {
    "id": "Rby6O0xa0YIe"
   },
   "outputs": [],
   "source": [
    "check_point = ModelCheckpoint('best_model.h5', verbose=1,\n",
    "                              monitor='val_loss', mode='min', \n",
    "                              save_best_only=True)"
   ]
  },
  {
   "cell_type": "code",
   "execution_count": 124,
   "metadata": {
    "colab": {
     "base_uri": "https://localhost:8080/"
    },
    "executionInfo": {
     "elapsed": 13966,
     "status": "ok",
     "timestamp": 1647676343439,
     "user": {
      "displayName": "yunwoo oh",
      "photoUrl": "https://lh3.googleusercontent.com/a/default-user=s64",
      "userId": "01035531558844683999"
     },
     "user_tz": -540
    },
    "id": "-VXAZpC00YIe",
    "outputId": "444dab34-c2c3-4314-b2b8-8205e7fc37f6"
   },
   "outputs": [
    {
     "name": "stdout",
     "output_type": "stream",
     "text": [
      "Epoch 1/50\n",
      "226/226 [==============================] - ETA: 0s - loss: 0.5693 - accuracy: 0.7111\n",
      "Epoch 1: val_loss improved from inf to 0.48903, saving model to best_model.h5\n",
      "226/226 [==============================] - 1s 3ms/step - loss: 0.5693 - accuracy: 0.7111 - val_loss: 0.4890 - val_accuracy: 0.7416\n",
      "Epoch 2/50\n",
      "210/226 [==========================>...] - ETA: 0s - loss: 0.5164 - accuracy: 0.7551\n",
      "Epoch 2: val_loss did not improve from 0.48903\n",
      "226/226 [==============================] - 1s 2ms/step - loss: 0.5182 - accuracy: 0.7533 - val_loss: 0.5033 - val_accuracy: 0.7345\n",
      "Epoch 3/50\n",
      "221/226 [============================>.] - ETA: 0s - loss: 0.4995 - accuracy: 0.7660\n",
      "Epoch 3: val_loss did not improve from 0.48903\n",
      "226/226 [==============================] - 1s 2ms/step - loss: 0.5012 - accuracy: 0.7656 - val_loss: 0.4973 - val_accuracy: 0.7397\n",
      "Epoch 4/50\n",
      "226/226 [==============================] - ETA: 0s - loss: 0.4911 - accuracy: 0.7708\n",
      "Epoch 4: val_loss improved from 0.48903 to 0.48287, saving model to best_model.h5\n",
      "226/226 [==============================] - 1s 2ms/step - loss: 0.4911 - accuracy: 0.7708 - val_loss: 0.4829 - val_accuracy: 0.7501\n",
      "Epoch 5/50\n",
      "215/226 [===========================>..] - ETA: 0s - loss: 0.4840 - accuracy: 0.7744\n",
      "Epoch 5: val_loss did not improve from 0.48287\n",
      "226/226 [==============================] - 1s 2ms/step - loss: 0.4826 - accuracy: 0.7748 - val_loss: 0.5022 - val_accuracy: 0.7416\n",
      "Epoch 6/50\n",
      "215/226 [===========================>..] - ETA: 0s - loss: 0.4807 - accuracy: 0.7781\n",
      "Epoch 6: val_loss improved from 0.48287 to 0.47809, saving model to best_model.h5\n",
      "226/226 [==============================] - 1s 2ms/step - loss: 0.4821 - accuracy: 0.7770 - val_loss: 0.4781 - val_accuracy: 0.7563\n",
      "Epoch 7/50\n",
      "220/226 [============================>.] - ETA: 0s - loss: 0.4745 - accuracy: 0.7805\n",
      "Epoch 7: val_loss did not improve from 0.47809\n",
      "226/226 [==============================] - 1s 3ms/step - loss: 0.4751 - accuracy: 0.7798 - val_loss: 0.4955 - val_accuracy: 0.7383\n",
      "Epoch 8/50\n",
      "222/226 [============================>.] - ETA: 0s - loss: 0.4692 - accuracy: 0.7881\n",
      "Epoch 8: val_loss did not improve from 0.47809\n",
      "226/226 [==============================] - 1s 2ms/step - loss: 0.4697 - accuracy: 0.7878 - val_loss: 0.4881 - val_accuracy: 0.7473\n",
      "Epoch 9/50\n",
      "214/226 [===========================>..] - ETA: 0s - loss: 0.4669 - accuracy: 0.7865\n",
      "Epoch 9: val_loss improved from 0.47809 to 0.45671, saving model to best_model.h5\n",
      "226/226 [==============================] - 1s 2ms/step - loss: 0.4672 - accuracy: 0.7854 - val_loss: 0.4567 - val_accuracy: 0.7677\n",
      "Epoch 10/50\n",
      "216/226 [===========================>..] - ETA: 0s - loss: 0.4616 - accuracy: 0.7833\n",
      "Epoch 10: val_loss did not improve from 0.45671\n",
      "226/226 [==============================] - 1s 2ms/step - loss: 0.4591 - accuracy: 0.7850 - val_loss: 0.5077 - val_accuracy: 0.7264\n",
      "Epoch 11/50\n",
      "218/226 [===========================>..] - ETA: 0s - loss: 0.4600 - accuracy: 0.7901\n",
      "Epoch 11: val_loss did not improve from 0.45671\n",
      "226/226 [==============================] - 1s 2ms/step - loss: 0.4595 - accuracy: 0.7908 - val_loss: 0.4982 - val_accuracy: 0.7463\n",
      "Epoch 12/50\n",
      "215/226 [===========================>..] - ETA: 0s - loss: 0.4568 - accuracy: 0.7871\n",
      "Epoch 12: val_loss did not improve from 0.45671\n",
      "226/226 [==============================] - 1s 2ms/step - loss: 0.4559 - accuracy: 0.7870 - val_loss: 0.4949 - val_accuracy: 0.7411\n",
      "Epoch 13/50\n",
      "212/226 [===========================>..] - ETA: 0s - loss: 0.4512 - accuracy: 0.7904\n",
      "Epoch 13: val_loss did not improve from 0.45671\n",
      "226/226 [==============================] - 1s 2ms/step - loss: 0.4526 - accuracy: 0.7895 - val_loss: 0.4738 - val_accuracy: 0.7539\n",
      "Epoch 14/50\n",
      "220/226 [============================>.] - ETA: 0s - loss: 0.4454 - accuracy: 0.7973\n",
      "Epoch 14: val_loss did not improve from 0.45671\n",
      "226/226 [==============================] - 1s 2ms/step - loss: 0.4459 - accuracy: 0.7976 - val_loss: 0.4614 - val_accuracy: 0.7639\n",
      "Epoch 14: early stopping\n"
     ]
    }
   ],
   "source": [
    "history = model.fit(x=x_train_over, y=y_train_over, \n",
    "          epochs=50 , batch_size=32,\n",
    "          validation_data=(x_test, y_test), verbose=1,\n",
    "          callbacks=[early_stop, check_point])"
   ]
  },
  {
   "cell_type": "markdown",
   "metadata": {
    "id": "gEARelPF0YIf"
   },
   "source": [
    "####  \n",
    "### 모델 성능 평가"
   ]
  },
  {
   "cell_type": "markdown",
   "metadata": {
    "id": "D-Jy63Ku0YIf"
   },
   "source": [
    "#### 성능 시각화"
   ]
  },
  {
   "cell_type": "code",
   "execution_count": 125,
   "metadata": {
    "colab": {
     "base_uri": "https://localhost:8080/",
     "height": 295
    },
    "executionInfo": {
     "elapsed": 870,
     "status": "ok",
     "timestamp": 1647676387941,
     "user": {
      "displayName": "yunwoo oh",
      "photoUrl": "https://lh3.googleusercontent.com/a/default-user=s64",
      "userId": "01035531558844683999"
     },
     "user_tz": -540
    },
    "id": "Dscj1l_C0YIg",
    "outputId": "8a4e2fa5-157e-4028-83cb-a52a5fc9765b",
    "scrolled": true
   },
   "outputs": [
    {
     "data": {
      "image/png": "[encoded data removed]",
      "text/plain": [
       "<Figure size 640x480 with 1 Axes>"
      ]
     },
     "metadata": {},
     "output_type": "display_data"
    }
   ],
   "source": [
    "plt.plot(history.history['accuracy'])\n",
    "plt.plot(history.history['val_accuracy'])\n",
    "plt.title('Accuracy')\n",
    "plt.xlabel('Epochs')\n",
    "plt.ylabel('Acc')\n",
    "plt.legend(['acc', 'val_acc'])\n",
    "plt.show()"
   ]
  },
  {
   "cell_type": "markdown",
   "metadata": {
    "id": "JxdSoKeK0YIg"
   },
   "source": [
    "#### 성능 평가"
   ]
  },
  {
   "cell_type": "code",
   "execution_count": 126,
   "metadata": {
    "id": "RcFwYbAw0YIg"
   },
   "outputs": [],
   "source": [
    "from sklearn.metrics import accuracy_score, precision_score, recall_score, f1_score\n",
    "from sklearn.metrics import classification_report"
   ]
  },
  {
   "cell_type": "code",
   "execution_count": 127,
   "metadata": {
    "id": "K8q5K66K0YIg"
   },
   "outputs": [
    {
     "name": "stdout",
     "output_type": "stream",
     "text": [
      "66/66 [==============================] - 0s 1ms/step\n"
     ]
    }
   ],
   "source": [
    "pred = model.predict(x_test)"
   ]
  },
  {
   "cell_type": "code",
   "execution_count": 128,
   "metadata": {
    "colab": {
     "base_uri": "https://localhost:8080/"
    },
    "executionInfo": {
     "elapsed": 451,
     "status": "ok",
     "timestamp": 1647676408741,
     "user": {
      "displayName": "yunwoo oh",
      "photoUrl": "https://lh3.googleusercontent.com/a/default-user=s64",
      "userId": "01035531558844683999"
     },
     "user_tz": -540
    },
    "id": "o6aPdPsm0YIg",
    "outputId": "7ea305ea-02bb-4f1e-ce25-84949540d36e"
   },
   "outputs": [
    {
     "data": {
      "text/plain": [
       "(2109, 2)"
      ]
     },
     "execution_count": 128,
     "metadata": {},
     "output_type": "execute_result"
    }
   ],
   "source": [
    "pred.shape"
   ]
  },
  {
   "cell_type": "code",
   "execution_count": 129,
   "metadata": {
    "id": "DgLTZU3r0YIh"
   },
   "outputs": [],
   "source": [
    "y_pred = np.argmax(pred, axis=1)"
   ]
  },
  {
   "cell_type": "code",
   "execution_count": 130,
   "metadata": {
    "colab": {
     "base_uri": "https://localhost:8080/"
    },
    "executionInfo": {
     "elapsed": 334,
     "status": "ok",
     "timestamp": 1647676413495,
     "user": {
      "displayName": "yunwoo oh",
      "photoUrl": "https://lh3.googleusercontent.com/a/default-user=s64",
      "userId": "01035531558844683999"
     },
     "user_tz": -540
    },
    "id": "HnJuNtcG0YIh",
    "outputId": "867a9225-3ab6-4d5c-de09-754b7afe82bb"
   },
   "outputs": [
    {
     "data": {
      "text/plain": [
       "0.7638691322901849"
      ]
     },
     "execution_count": 130,
     "metadata": {},
     "output_type": "execute_result"
    }
   ],
   "source": [
    "# 정확도 70~80%\n",
    "accuracy_score(y_test, y_pred)"
   ]
  },
  {
   "cell_type": "code",
   "execution_count": 131,
   "metadata": {
    "colab": {
     "base_uri": "https://localhost:8080/"
    },
    "executionInfo": {
     "elapsed": 435,
     "status": "ok",
     "timestamp": 1647676416239,
     "user": {
      "displayName": "yunwoo oh",
      "photoUrl": "https://lh3.googleusercontent.com/a/default-user=s64",
      "userId": "01035531558844683999"
     },
     "user_tz": -540
    },
    "id": "29pLPidt0YIh",
    "outputId": "06379a7d-f204-4a83-cd8c-4ec2eb2220bb"
   },
   "outputs": [
    {
     "data": {
      "text/plain": [
       "0.7178571428571429"
      ]
     },
     "execution_count": 131,
     "metadata": {},
     "output_type": "execute_result"
    }
   ],
   "source": [
    "# 재현율 70% 정도로 이전보다 좋아졌다.\n",
    "recall_score(y_test, y_pred)"
   ]
  },
  {
   "cell_type": "code",
   "execution_count": 132,
   "metadata": {
    "colab": {
     "base_uri": "https://localhost:8080/"
    },
    "executionInfo": {
     "elapsed": 3,
     "status": "ok",
     "timestamp": 1647676425438,
     "user": {
      "displayName": "yunwoo oh",
      "photoUrl": "https://lh3.googleusercontent.com/a/default-user=s64",
      "userId": "01035531558844683999"
     },
     "user_tz": -540
    },
    "id": "-inYBRsx0YIh",
    "outputId": "4d363171-48e1-44de-fa0a-b67c3117e521"
   },
   "outputs": [
    {
     "name": "stdout",
     "output_type": "stream",
     "text": [
      "              precision    recall  f1-score   support\n",
      "\n",
      "           0       0.88      0.78      0.83      1549\n",
      "           1       0.54      0.72      0.62       560\n",
      "\n",
      "    accuracy                           0.76      2109\n",
      "   macro avg       0.71      0.75      0.72      2109\n",
      "weighted avg       0.79      0.76      0.77      2109\n",
      "\n"
     ]
    }
   ],
   "source": [
    "# recall 성능을 올렸지만, 반대급부로 precision 성능은 떨어진다.\n",
    "# accuracy, recall, precision 어떤것에 집중할지 선택하는것도 필요하다.\n",
    "\n",
    "print(classification_report(y_test, y_pred))"
   ]
  },
  {
   "cell_type": "markdown",
   "metadata": {
    "id": "KsnemPIy0YIi"
   },
   "source": [
    "###  \n",
    "## 배운 내용 정리\n",
    "1. 딥러닝 심층신경망(DNN) 모델 프로세스\n",
    " + 데이터 가져오기\n",
    " + 데이터 전처리\n",
    " + Train, Test 데이터셋 분할\n",
    " + 데이터 정규화\n",
    " + DNN 딥러닝 모델\n",
    "2. 재현율 성능이 좋지 않다. 어떻게 성능향상 방법은?\n",
    " + Feature Engineering : 성능 잘 나올수 있도록 데이터 가공\n",
    " + 불균현 데이터 문제 해소 : under-sampling, over-sampling\n",
    " + Over-Sampling 기법 : SMOTE"
   ]
  },
  {
   "cell_type": "code",
   "execution_count": null,
   "metadata": {
    "id": "cphLsim20YIi"
   },
   "outputs": [],
   "source": []
  },
  {
   "cell_type": "code",
   "execution_count": null,
   "metadata": {
    "id": "wlJpMmfenj3R"
   },
   "outputs": [],
   "source": []
  },
  {
   "cell_type": "code",
   "execution_count": null,
   "metadata": {
    "id": "2gEO7fRTnj0Y"
   },
   "outputs": [],
   "source": []
  }
 ],
 "metadata": {
  "colab": {
   "collapsed_sections": [],
   "provenance": [
    {
     "file_id": "1OA5fNiten9XWUtn-9dtpgqh-TiVHYBwu",
     "timestamp": 1645514594485
    }
   ]
  },
  "kernelspec": {
   "display_name": "Python 3 (ipykernel)",
   "language": "python",
   "name": "python3"
  },
  "language_info": {
   "codemirror_mode": {
    "name": "ipython",
    "version": 3
   },
   "file_extension": ".py",
   "mimetype": "text/x-python",
   "name": "python",
   "nbconvert_exporter": "python",
   "pygments_lexer": "ipython3",
   "version": "3.9.13"
  }
 },
 "nbformat": 4,
 "nbformat_minor": 4
}
