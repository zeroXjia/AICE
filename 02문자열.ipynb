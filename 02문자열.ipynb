{
 "cells": [
  {
   "cell_type": "markdown",
   "id": "2cf57f12-bb55-4375-afbf-294e699e8ff7",
   "metadata": {},
   "source": [
    "# AICE"
   ]
  },
  {
   "cell_type": "markdown",
   "id": "21834715-43c0-4780-8426-bd66427d022c",
   "metadata": {},
   "source": [
    "# 문자열"
   ]
  },
  {
   "cell_type": "markdown",
   "id": "a817c77c-c741-4a87-8a14-53e5a36e5adf",
   "metadata": {},
   "source": [
    "### 문자열에 사용되는 주요 함수"
   ]
  },
  {
   "cell_type": "code",
   "execution_count": 5,
   "id": "3ae52d44-10c2-45eb-986f-0f3394b9f1ea",
   "metadata": {},
   "outputs": [
    {
     "name": "stdout",
     "output_type": "stream",
     "text": [
      "i love you\n"
     ]
    }
   ],
   "source": [
    "# print(): 문자열 출력\n",
    "print('i love you')"
   ]
  },
  {
   "cell_type": "code",
   "execution_count": 6,
   "id": "3d673e6a-13d8-4437-8510-dcd925a9b99e",
   "metadata": {},
   "outputs": [
    {
     "name": "stdout",
     "output_type": "stream",
     "text": [
      "10\n"
     ]
    }
   ],
   "source": [
    "# len(): 문자열 길이\n",
    "print(len('i love you'))"
   ]
  },
  {
   "cell_type": "code",
   "execution_count": 3,
   "id": "f27cc55d-9bdb-4eca-98f3-1e542b888544",
   "metadata": {},
   "outputs": [
    {
     "name": "stdout",
     "output_type": "stream",
     "text": [
      "['i', ' ', 'l', 'o', 'v', 'e', ' ', 'y', 'o', 'u']\n"
     ]
    }
   ],
   "source": [
    "# list(): 각 문자의 리스트 생성\n",
    "print(list('i love you'))"
   ]
  },
  {
   "cell_type": "markdown",
   "id": "4550ffd6-37bc-428f-96a4-d15487ff1817",
   "metadata": {},
   "source": [
    "### 문자열 주요 메소드"
   ]
  },
  {
   "cell_type": "code",
   "execution_count": 10,
   "id": "d2125da2-b595-419e-93fe-806ab9ba4360",
   "metadata": {},
   "outputs": [
    {
     "data": {
      "text/plain": [
       "['i', 'love', 'you']"
      ]
     },
     "execution_count": 10,
     "metadata": {},
     "output_type": "execute_result"
    }
   ],
   "source": [
    "# .split(): 문자열 분리\n",
    "'i love you'.split()"
   ]
  },
  {
   "cell_type": "code",
   "execution_count": 18,
   "id": "49a84ec8-52b4-4174-8a68-dcc9da553b2d",
   "metadata": {},
   "outputs": [
    {
     "data": {
      "text/plain": [
       "'I love you'"
      ]
     },
     "execution_count": 18,
     "metadata": {},
     "output_type": "execute_result"
    }
   ],
   "source": [
    "# .join(): 문자열 병합\n",
    "\n",
    "b = ['I', 'love', 'you']\n",
    "\n",
    "' '.join(b)\n",
    "#  b리스트를 병합하는데 앞에 빈칸을 사이사이에 넣어서 병합함.\n",
    "# I' 'love' 'you"
   ]
  },
  {
   "cell_type": "code",
   "execution_count": 20,
   "id": "ae72d57d-004a-468c-bb5a-c3bb61c30b33",
   "metadata": {},
   "outputs": [
    {
     "data": {
      "text/plain": [
       "'L O V E'"
      ]
     },
     "execution_count": 20,
     "metadata": {},
     "output_type": "execute_result"
    }
   ],
   "source": [
    "# .strip(): 공백 문자열 제거\n",
    "\"        L O V E\".strip()"
   ]
  },
  {
   "cell_type": "code",
   "execution_count": 24,
   "id": "8c6f7d12-db9b-40b0-ac1f-2396bd08b6e9",
   "metadata": {},
   "outputs": [
    {
     "name": "stdout",
     "output_type": "stream",
     "text": [
      "i love you\n",
      "I LOVE YOU\n",
      "I love you\n"
     ]
    }
   ],
   "source": [
    "a = \"I love you\"\n",
    "\n",
    "# .lower(): 소문자로\n",
    "print(a.lower())\n",
    "\n",
    "# .upper(): 대문자로\n",
    "print(a.upper())\n",
    "\n",
    "# .capitalize(): 첫음절 대문자로\n",
    "print(a.capitalize())"
   ]
  },
  {
   "cell_type": "code",
   "execution_count": 27,
   "id": "2f5a8ac0-3b2e-486d-aab0-d6dd5e5d1167",
   "metadata": {},
   "outputs": [
    {
     "name": "stdout",
     "output_type": "stream",
     "text": [
      "2\n",
      "I love me\n"
     ]
    }
   ],
   "source": [
    "# .find(): 위치 찾기\n",
    "print(a.find('lo'))\n",
    "\n",
    "# .replace(x,y): x문자열을 y문자열로 교체\n",
    "print(a.replace('you', 'me'))"
   ]
  },
  {
   "cell_type": "markdown",
   "id": "edb38439-b6b3-4153-9a7a-68d4f895c673",
   "metadata": {},
   "source": [
    "##### **미션1**"
   ]
  },
  {
   "cell_type": "code",
   "execution_count": 58,
   "id": "c1b8fd29-1740-425d-9b6b-dde1962df172",
   "metadata": {
    "collapsed": true,
    "jupyter": {
     "outputs_hidden": true
    },
    "tags": []
   },
   "outputs": [
    {
     "data": {
      "text/plain": [
       "['i',\n",
       " 'stand',\n",
       " 'here',\n",
       " 'today',\n",
       " 'humbled',\n",
       " 'by',\n",
       " 'the',\n",
       " 'task',\n",
       " 'before',\n",
       " 'us',\n",
       " '',\n",
       " '',\n",
       " '',\n",
       " '',\n",
       " '',\n",
       " '',\n",
       " '',\n",
       " '',\n",
       " '',\n",
       " '',\n",
       " '',\n",
       " '',\n",
       " 'grateful',\n",
       " 'for',\n",
       " 'the',\n",
       " 'trust',\n",
       " 'you',\n",
       " 'have',\n",
       " 'bestowed',\n",
       " '',\n",
       " 'mindful',\n",
       " 'of',\n",
       " 'the',\n",
       " 'sacrifices',\n",
       " 'borne',\n",
       " '',\n",
       " '',\n",
       " '',\n",
       " '',\n",
       " '',\n",
       " '',\n",
       " '',\n",
       " '',\n",
       " '',\n",
       " '',\n",
       " '',\n",
       " 'by',\n",
       " 'our',\n",
       " 'ancestors',\n",
       " '',\n",
       " 'i',\n",
       " 'thank',\n",
       " 'president',\n",
       " 'bush',\n",
       " 'for',\n",
       " 'his',\n",
       " 'service',\n",
       " 'to',\n",
       " 'our',\n",
       " 'nation',\n",
       " '',\n",
       " '',\n",
       " '',\n",
       " '',\n",
       " '',\n",
       " '',\n",
       " '',\n",
       " '',\n",
       " '',\n",
       " '',\n",
       " '',\n",
       " '',\n",
       " 'as',\n",
       " 'well',\n",
       " 'as',\n",
       " 'the',\n",
       " 'generosity',\n",
       " 'and',\n",
       " 'cooperation',\n",
       " 'he',\n",
       " 'has',\n",
       " 'shown',\n",
       " 'throughout',\n",
       " '',\n",
       " '',\n",
       " '',\n",
       " '',\n",
       " '',\n",
       " '',\n",
       " '',\n",
       " '',\n",
       " '',\n",
       " '',\n",
       " '',\n",
       " '',\n",
       " 'this',\n",
       " 'transition',\n",
       " '',\n",
       " 'forty',\n",
       " 'four',\n",
       " 'americans',\n",
       " 'have',\n",
       " 'now',\n",
       " 'taken',\n",
       " 'the',\n",
       " 'presidential',\n",
       " 'oath',\n",
       " '',\n",
       " '',\n",
       " '',\n",
       " '',\n",
       " '',\n",
       " '',\n",
       " '',\n",
       " '',\n",
       " '',\n",
       " '',\n",
       " '',\n",
       " '',\n",
       " 'the',\n",
       " 'words',\n",
       " 'have',\n",
       " 'been',\n",
       " 'spoken',\n",
       " 'during',\n",
       " 'rising',\n",
       " 'tides',\n",
       " 'of',\n",
       " 'prosperity',\n",
       " 'and',\n",
       " 'the',\n",
       " 'still',\n",
       " '',\n",
       " '',\n",
       " '',\n",
       " '',\n",
       " '',\n",
       " '',\n",
       " '',\n",
       " '',\n",
       " '',\n",
       " '',\n",
       " '',\n",
       " '',\n",
       " 'waters',\n",
       " 'of',\n",
       " 'peace',\n",
       " '',\n",
       " 'yet',\n",
       " '',\n",
       " 'every',\n",
       " 'so',\n",
       " 'often',\n",
       " 'the',\n",
       " 'oath',\n",
       " 'is',\n",
       " 'taken',\n",
       " 'amidst',\n",
       " 'gathering',\n",
       " '',\n",
       " '',\n",
       " '',\n",
       " '',\n",
       " '',\n",
       " '',\n",
       " '',\n",
       " '',\n",
       " '',\n",
       " '',\n",
       " '',\n",
       " '',\n",
       " 'clouds',\n",
       " 'and',\n",
       " 'raging',\n",
       " 'storms',\n",
       " '',\n",
       " 'at',\n",
       " 'these',\n",
       " 'moments',\n",
       " '',\n",
       " 'america',\n",
       " 'has',\n",
       " 'carried',\n",
       " 'on',\n",
       " 'not',\n",
       " '',\n",
       " '',\n",
       " '',\n",
       " '',\n",
       " '',\n",
       " '',\n",
       " '',\n",
       " '',\n",
       " '',\n",
       " '',\n",
       " '',\n",
       " 'simply',\n",
       " 'because',\n",
       " 'of',\n",
       " 'the',\n",
       " 'skill',\n",
       " 'or',\n",
       " 'vision',\n",
       " 'of',\n",
       " 'those',\n",
       " 'in',\n",
       " 'high',\n",
       " 'office',\n",
       " '',\n",
       " 'but',\n",
       " '',\n",
       " '',\n",
       " '',\n",
       " '',\n",
       " '',\n",
       " '',\n",
       " '',\n",
       " '',\n",
       " '',\n",
       " '',\n",
       " '',\n",
       " '',\n",
       " 'because',\n",
       " 'we',\n",
       " 'the',\n",
       " 'people',\n",
       " 'have',\n",
       " 'remained',\n",
       " 'faithful',\n",
       " 'to',\n",
       " 'the',\n",
       " 'ideals',\n",
       " 'of',\n",
       " 'our',\n",
       " 'forbearers',\n",
       " '',\n",
       " '',\n",
       " '',\n",
       " '',\n",
       " '',\n",
       " '',\n",
       " '',\n",
       " '',\n",
       " '',\n",
       " '',\n",
       " '',\n",
       " '',\n",
       " 'and',\n",
       " 'true',\n",
       " 'to',\n",
       " 'our',\n",
       " 'founding',\n",
       " 'documents',\n",
       " 'so',\n",
       " 'it',\n",
       " 'has',\n",
       " 'been',\n",
       " '',\n",
       " '',\n",
       " '',\n",
       " '',\n",
       " '',\n",
       " '',\n",
       " '',\n",
       " '',\n",
       " '',\n",
       " '',\n",
       " '',\n",
       " '',\n",
       " 'so',\n",
       " 'it',\n",
       " 'must',\n",
       " 'be',\n",
       " 'with',\n",
       " 'this',\n",
       " 'generation',\n",
       " 'of',\n",
       " 'americans',\n",
       " '']"
      ]
     },
     "execution_count": 58,
     "metadata": {},
     "output_type": "execute_result"
    }
   ],
   "source": [
    "words"
   ]
  },
  {
   "cell_type": "code",
   "execution_count": 61,
   "id": "fa379fff-bede-48d7-a9f9-899632bc2bd4",
   "metadata": {},
   "outputs": [
    {
     "name": "stdout",
     "output_type": "stream",
     "text": [
      "['i', 'stand', 'here', 'today', 'humbled']\n",
      "{'i': 2, 'stand': 1, 'here': 1, 'today': 1, 'humbled': 1, 'by': 2, 'the': 11, 'task': 1, 'before': 1, 'us': 1, '': 139, 'grateful': 1, 'for': 2, 'trust': 1, 'you': 1, 'have': 4, 'bestowed': 1, 'mindful': 1, 'of': 7, 'sacrifices': 1, 'borne': 1, 'our': 4, 'ancestors': 1, 'thank': 1, 'president': 1, 'bush': 1, 'his': 1, 'service': 1, 'to': 3, 'nation': 1, 'as': 2, 'well': 1, 'generosity': 1, 'and': 4, 'cooperation': 1, 'he': 1, 'has': 3, 'shown': 1, 'throughout': 1, 'this': 2, 'transition': 1, 'forty': 1, 'four': 1, 'americans': 2, 'now': 1, 'taken': 2, 'presidential': 1, 'oath': 2, 'words': 1, 'been': 2, 'spoken': 1, 'during': 1, 'rising': 1, 'tides': 1, 'prosperity': 1, 'still': 1, 'waters': 1, 'peace': 1, 'yet': 1, 'every': 1, 'so': 3, 'often': 1, 'is': 1, 'amidst': 1, 'gathering': 1, 'clouds': 1, 'raging': 1, 'storms': 1, 'at': 1, 'these': 1, 'moments': 1, 'america': 1, 'carried': 1, 'on': 1, 'not': 1, 'simply': 1, 'because': 2, 'skill': 1, 'or': 1, 'vision': 1, 'those': 1, 'in': 1, 'high': 1, 'office': 1, 'but': 1, 'we': 1, 'people': 1, 'remained': 1, 'faithful': 1, 'ideals': 1, 'forbearers': 1, 'true': 1, 'founding': 1, 'documents': 1, 'it': 2, 'must': 1, 'be': 1, 'with': 1, 'generation': 1}\n"
     ]
    }
   ],
   "source": [
    "# 미션 1. 영문 문장에서 사용된 단어 개수 세기\n",
    "\n",
    "# 공백을 기준으로 단어를 분리, 단어별 개수 세기\n",
    "# 특수만자들/ 대소문자\n",
    "# 문장이 너무 길 경우 역슬래시(\\)를 사용해서 여러 줄로 나눠 줌\n",
    "lyrics = 'I stand here today humbled by the task before us,\\\n",
    "            grateful for the trust you have bestowed, mindful of the sacrifices borne\\\n",
    "            by our ancestors. I thank President Bush for his service to our nation,\\\n",
    "            as well as the generosity and cooperation he has shown throughout \\\n",
    "            this transition. Forty-four Americans have now taken the presidential oath.\\\n",
    "            The words have been spoken during rising tides of prosperity and the still \\\n",
    "            waters of peace. Yet, every so often the oath is taken amidst gathering \\\n",
    "            clouds and raging storms. At these moments, America has carried on not\\\n",
    "            simply because of the skill or vision of those in high office, but \\\n",
    "            because We the People have remained faithful to the ideals of our forbearers,\\\n",
    "            and true to our founding documents.So it has been.\\\n",
    "            So it must be with this generation of Americans.'\n",
    "\n",
    "\n",
    " # 모두 소문자로 바꿔라\n",
    "lyrics = lyrics.lower()   \n",
    "# 특수 문자 확인\n",
    "chars = set(lyrics) - set('qwertyuiopasdfghjklzxcvbnm') # a-z 확인하기\n",
    "# 특수 문자 제거\n",
    "for c in chars:\n",
    "    lyrics = lyrics.replace(c, ' ')   # chars에 들어있는 특수 문자를 공백으로 대처하기\n",
    "\n",
    "# 공백을 기준으로 단어들 분리    \n",
    "words = lyrics.split(' ')\n",
    "print(words[:5])\n",
    "\n",
    "\n",
    "# 단어뱔 개수 세기\n",
    "word_dict = {}              # 빈 딕셔너리 생성\n",
    "for w in words:           \n",
    "    if w in word_dict:      # word_dict에 단어가 있다면 \n",
    "        word_dict[w] += 1   # word_dict의 value값에 1을 더해라\n",
    "    else:\n",
    "        word_dict[w] = 1\n",
    "        \n",
    "print(word_dict)\n"
   ]
  },
  {
   "cell_type": "markdown",
   "id": "a2d801fc-44f0-4b18-80c7-06eccdecf759",
   "metadata": {},
   "source": [
    "##### **미션2**"
   ]
  },
  {
   "cell_type": "code",
   "execution_count": 54,
   "id": "149b3b42-9373-478c-a9cd-0dec999acb13",
   "metadata": {},
   "outputs": [
    {
     "name": "stdout",
     "output_type": "stream",
     "text": [
      "[160, 140, 180, 120]\n",
      "[{'id': 'a', 'point': 80}, {'id': 'c', 'point': 90}]\n",
      "[{'id': 'd', 'point': 60}, {'id': 'b', 'point': 70}, {'id': 'a', 'point': 80}, {'id': 'c', 'point': 90}]\n"
     ]
    }
   ],
   "source": [
    "# lambda 인자: 표현식\n",
    "\n",
    "members = [{'id':'a', 'point':80}\n",
    "          ,{'id':'b', 'point':70}\n",
    "          ,{'id':'c', 'point':90}\n",
    "          ,{'id':'d', 'point':60}]\n",
    "\n",
    "# 모든 요소를 제곱하여 새로운 리스트를 만듦.\n",
    "# map: 시퀀스(리스트, 튜플, 세트 등)의 모든 요소에 대해\n",
    "#     주어진 함수를 적용한 결과를 새로운 시퀀스로 반환\n",
    "print(list(map(lambda x: x['point']*2, members)))\n",
    "\n",
    "# filter\n",
    "print(list(filter(lambda x: x['point'] > 70, members)))  # members에서 'point'가 70이상을 뽑아줘\n",
    "\n",
    "# sorted\n",
    "print(sorted(members, key= lambda x: x['point'])) # point로 정렬해줘\n"
   ]
  },
  {
   "cell_type": "code",
   "execution_count": 60,
   "id": "16e72b50-26d0-40f9-ab9b-f653f812cdcd",
   "metadata": {},
   "outputs": [
    {
     "data": {
      "text/plain": [
       "[{'word': 'istandheretodayhumbledbythetaskbeforeusgratefulforthetrustyouhavebestowedmindfulofthesacrificesbornebyourancestorsithankpresidentbushforhisservicetoournationaswellasthegenerosityandcooperationhehasshownthroughoutthistransitionfortyfouramericanshavenowtakenthepresidentialoaththewordshavebeenspokenduringrisingtidesofprosperityandthestillwatersofpeaceyeteverysooftentheoathistakenamidstgatheringcloudsandragingstormsatthesemomentsamericahascarriedonnotsimplybecauseoftheskillorvisionofthoseinhighofficebutbecausewethepeoplehaveremainedfaithfultotheidealsofourforbearersandtruetoourfoundingdocumentssoithasbeensoitmustbewiththisgenerationofamericans',\n",
       "  'count': 1}]"
      ]
     },
     "execution_count": 60,
     "metadata": {},
     "output_type": "execute_result"
    }
   ],
   "source": [
    "# 가장 많이 쓰이는 단어 10개 추출\n",
    "# lambda 인자: 표현식\n",
    "\n",
    "# 1단계: 단어들을 리스트 형태로 변형\n",
    "trans = [{'word':k, 'count':v} for k, v in word_dict.items()]\n",
    "trans\n"
   ]
  },
  {
   "cell_type": "code",
   "execution_count": 56,
   "id": "5ef992f1-1d37-451e-9ed6-1c5bc4a5eafb",
   "metadata": {},
   "outputs": [
    {
     "data": {
      "text/plain": [
       "[{'word': '', 'count': 139},\n",
       " {'word': 'the', 'count': 11},\n",
       " {'word': 'of', 'count': 7},\n",
       " {'word': 'have', 'count': 4},\n",
       " {'word': 'our', 'count': 4},\n",
       " {'word': 'and', 'count': 4},\n",
       " {'word': 'to', 'count': 3},\n",
       " {'word': 'has', 'count': 3},\n",
       " {'word': 'so', 'count': 3},\n",
       " {'word': 'i', 'count': 2}]"
      ]
     },
     "execution_count": 56,
     "metadata": {},
     "output_type": "execute_result"
    }
   ],
   "source": [
    "# 2단계: 단어들을 횟수로 정렬\n",
    "trans = sorted(trans, key=lambda x: x['count'], reverse=True)\n",
    "trans[:10]  # 상위 10개만 보여줘"
   ]
  },
  {
   "cell_type": "markdown",
   "id": "ad82adf9-cb1a-496d-a366-b6f7974d02ca",
   "metadata": {},
   "source": [
    "---"
   ]
  },
  {
   "cell_type": "markdown",
   "id": "a7fa1259-2781-4482-8268-55223c93aa19",
   "metadata": {},
   "source": [
    "# Konlpy"
   ]
  },
  {
   "cell_type": "markdown",
   "id": "53669524-e3af-4a23-a980-54c6f0c44954",
   "metadata": {},
   "source": [
    "### Konlpy 주요 메소드\n",
    "- sentences: 문장 분리\n",
    "- nouns: 명사 분리\n",
    "- pos: 품사 분석"
   ]
  },
  {
   "cell_type": "code",
   "execution_count": 65,
   "id": "4c708a28-3755-45e0-ac70-c70d287b7945",
   "metadata": {},
   "outputs": [
    {
     "name": "stdout",
     "output_type": "stream",
     "text": [
      "Collecting konlpy\n",
      "  Downloading konlpy-0.6.0-py2.py3-none-any.whl (19.4 MB)\n",
      "     --------------------------------------- 19.4/19.4 MB 10.6 MB/s eta 0:00:00\n",
      "Requirement already satisfied: numpy>=1.6 in c:\\users\\user\\anaconda3\\lib\\site-packages (from konlpy) (1.21.5)\n",
      "Collecting JPype1>=0.7.0\n",
      "  Downloading JPype1-1.4.1-cp39-cp39-win_amd64.whl (345 kB)\n",
      "     -------------------------------------- 345.2/345.2 kB 7.1 MB/s eta 0:00:00\n",
      "Requirement already satisfied: lxml>=4.1.0 in c:\\users\\user\\anaconda3\\lib\\site-packages (from konlpy) (4.9.1)\n",
      "Requirement already satisfied: packaging in c:\\users\\user\\appdata\\roaming\\python\\python39\\site-packages (from JPype1>=0.7.0->konlpy) (22.0)\n",
      "Installing collected packages: JPype1, konlpy\n",
      "Successfully installed JPype1-1.4.1 konlpy-0.6.0\n"
     ]
    }
   ],
   "source": [
    "# 패키지 설치\n",
    "!pip install konlpy"
   ]
  },
  {
   "cell_type": "code",
   "execution_count": 9,
   "id": "dd7b1c93-c518-4b82-91e5-f30ea7655e97",
   "metadata": {
    "collapsed": true,
    "jupyter": {
     "outputs_hidden": true
    },
    "tags": []
   },
   "outputs": [
    {
     "ename": "JVMNotFoundException",
     "evalue": "No JVM shared library file (jvm.dll) found. Try setting up the JAVA_HOME environment variable properly.",
     "output_type": "error",
     "traceback": [
      "\u001b[1;31m---------------------------------------------------------------------------\u001b[0m",
      "\u001b[1;31mJVMNotFoundException\u001b[0m                      Traceback (most recent call last)",
      "Cell \u001b[1;32mIn[9], line 4\u001b[0m\n\u001b[0;32m      2\u001b[0m \u001b[38;5;28;01mfrom\u001b[39;00m \u001b[38;5;21;01mkonlpy\u001b[39;00m\u001b[38;5;21;01m.\u001b[39;00m\u001b[38;5;21;01mtag\u001b[39;00m \u001b[38;5;28;01mimport\u001b[39;00m Kkma\n\u001b[0;32m      3\u001b[0m \u001b[38;5;28;01mfrom\u001b[39;00m \u001b[38;5;21;01mkonlpy\u001b[39;00m\u001b[38;5;21;01m.\u001b[39;00m\u001b[38;5;21;01mutils\u001b[39;00m \u001b[38;5;28;01mimport\u001b[39;00m pprint\n\u001b[1;32m----> 4\u001b[0m kkma \u001b[38;5;241m=\u001b[39m \u001b[43mKkma\u001b[49m\u001b[43m(\u001b[49m\u001b[43m)\u001b[49m\n",
      "File \u001b[1;32m~\\anaconda3\\lib\\site-packages\\konlpy\\tag\\_kkma.py:44\u001b[0m, in \u001b[0;36mKkma.__init__\u001b[1;34m(self, jvmpath, max_heap_size)\u001b[0m\n\u001b[0;32m     42\u001b[0m \u001b[38;5;28;01mdef\u001b[39;00m \u001b[38;5;21m__init__\u001b[39m(\u001b[38;5;28mself\u001b[39m, jvmpath\u001b[38;5;241m=\u001b[39m\u001b[38;5;28;01mNone\u001b[39;00m, max_heap_size\u001b[38;5;241m=\u001b[39m\u001b[38;5;241m1024\u001b[39m):\n\u001b[0;32m     43\u001b[0m     \u001b[38;5;28;01mif\u001b[39;00m \u001b[38;5;129;01mnot\u001b[39;00m jpype\u001b[38;5;241m.\u001b[39misJVMStarted():\n\u001b[1;32m---> 44\u001b[0m         \u001b[43mjvm\u001b[49m\u001b[38;5;241;43m.\u001b[39;49m\u001b[43minit_jvm\u001b[49m\u001b[43m(\u001b[49m\u001b[43mjvmpath\u001b[49m\u001b[43m,\u001b[49m\u001b[43m \u001b[49m\u001b[43mmax_heap_size\u001b[49m\u001b[43m)\u001b[49m\n\u001b[0;32m     46\u001b[0m     kkmaJavaPackage \u001b[38;5;241m=\u001b[39m jpype\u001b[38;5;241m.\u001b[39mJPackage(\u001b[38;5;124m'\u001b[39m\u001b[38;5;124mkr.lucypark.kkma\u001b[39m\u001b[38;5;124m'\u001b[39m)\n\u001b[0;32m     47\u001b[0m     KkmaInterfaceJavaClass \u001b[38;5;241m=\u001b[39m kkmaJavaPackage\u001b[38;5;241m.\u001b[39mKkmaInterface\n",
      "File \u001b[1;32m~\\anaconda3\\lib\\site-packages\\konlpy\\jvm.py:55\u001b[0m, in \u001b[0;36minit_jvm\u001b[1;34m(jvmpath, max_heap_size)\u001b[0m\n\u001b[0;32m     52\u001b[0m args \u001b[38;5;241m=\u001b[39m [javadir, os\u001b[38;5;241m.\u001b[39msep]\n\u001b[0;32m     53\u001b[0m classpath \u001b[38;5;241m=\u001b[39m [f\u001b[38;5;241m.\u001b[39mformat(\u001b[38;5;241m*\u001b[39margs) \u001b[38;5;28;01mfor\u001b[39;00m f \u001b[38;5;129;01min\u001b[39;00m folder_suffix]\n\u001b[1;32m---> 55\u001b[0m jvmpath \u001b[38;5;241m=\u001b[39m jvmpath \u001b[38;5;129;01mor\u001b[39;00m \u001b[43mjpype\u001b[49m\u001b[38;5;241;43m.\u001b[39;49m\u001b[43mgetDefaultJVMPath\u001b[49m\u001b[43m(\u001b[49m\u001b[43m)\u001b[49m\n\u001b[0;32m     57\u001b[0m \u001b[38;5;66;03m# NOTE: Temporary patch for Issue #76. Erase when possible.\u001b[39;00m\n\u001b[0;32m     58\u001b[0m \u001b[38;5;28;01mif\u001b[39;00m sys\u001b[38;5;241m.\u001b[39mplatform \u001b[38;5;241m==\u001b[39m \u001b[38;5;124m'\u001b[39m\u001b[38;5;124mdarwin\u001b[39m\u001b[38;5;124m'\u001b[39m\\\n\u001b[0;32m     59\u001b[0m         \u001b[38;5;129;01mand\u001b[39;00m jvmpath\u001b[38;5;241m.\u001b[39mfind(\u001b[38;5;124m'\u001b[39m\u001b[38;5;124m1.8.0\u001b[39m\u001b[38;5;124m'\u001b[39m) \u001b[38;5;241m>\u001b[39m \u001b[38;5;241m0\u001b[39m\\\n\u001b[0;32m     60\u001b[0m         \u001b[38;5;129;01mand\u001b[39;00m jvmpath\u001b[38;5;241m.\u001b[39mendswith(\u001b[38;5;124m'\u001b[39m\u001b[38;5;124mlibjvm.dylib\u001b[39m\u001b[38;5;124m'\u001b[39m):\n",
      "File \u001b[1;32m~\\anaconda3\\lib\\site-packages\\jpype\\_jvmfinder.py:74\u001b[0m, in \u001b[0;36mgetDefaultJVMPath\u001b[1;34m()\u001b[0m\n\u001b[0;32m     72\u001b[0m \u001b[38;5;28;01melse\u001b[39;00m:\n\u001b[0;32m     73\u001b[0m     finder \u001b[38;5;241m=\u001b[39m LinuxJVMFinder()\n\u001b[1;32m---> 74\u001b[0m \u001b[38;5;28;01mreturn\u001b[39;00m \u001b[43mfinder\u001b[49m\u001b[38;5;241;43m.\u001b[39;49m\u001b[43mget_jvm_path\u001b[49m\u001b[43m(\u001b[49m\u001b[43m)\u001b[49m\n",
      "File \u001b[1;32m~\\anaconda3\\lib\\site-packages\\jpype\\_jvmfinder.py:212\u001b[0m, in \u001b[0;36mJVMFinder.get_jvm_path\u001b[1;34m(self)\u001b[0m\n\u001b[0;32m    210\u001b[0m \u001b[38;5;28;01mif\u001b[39;00m jvm_notsupport_ext \u001b[38;5;129;01mis\u001b[39;00m \u001b[38;5;129;01mnot\u001b[39;00m \u001b[38;5;28;01mNone\u001b[39;00m:\n\u001b[0;32m    211\u001b[0m     \u001b[38;5;28;01mraise\u001b[39;00m jvm_notsupport_ext\n\u001b[1;32m--> 212\u001b[0m \u001b[38;5;28;01mraise\u001b[39;00m JVMNotFoundException(\u001b[38;5;124m\"\u001b[39m\u001b[38;5;124mNo JVM shared library file (\u001b[39m\u001b[38;5;132;01m{0}\u001b[39;00m\u001b[38;5;124m) \u001b[39m\u001b[38;5;124m\"\u001b[39m\n\u001b[0;32m    213\u001b[0m                            \u001b[38;5;124m\"\u001b[39m\u001b[38;5;124mfound. Try setting up the JAVA_HOME \u001b[39m\u001b[38;5;124m\"\u001b[39m\n\u001b[0;32m    214\u001b[0m                            \u001b[38;5;124m\"\u001b[39m\u001b[38;5;124menvironment variable properly.\u001b[39m\u001b[38;5;124m\"\u001b[39m\n\u001b[0;32m    215\u001b[0m                            \u001b[38;5;241m.\u001b[39mformat(\u001b[38;5;28mself\u001b[39m\u001b[38;5;241m.\u001b[39m_libfile))\n",
      "\u001b[1;31mJVMNotFoundException\u001b[0m: No JVM shared library file (jvm.dll) found. Try setting up the JAVA_HOME environment variable properly."
     ]
    }
   ],
   "source": [
    "# 라이브러리 설치\n",
    "from konlpy.tag import Kkma\n",
    "from konlpy.utils import pprint\n",
    "kkma = Kkma()"
   ]
  },
  {
   "cell_type": "markdown",
   "id": "c3a9ab8e-afdc-4322-b1a2-60ee9759243b",
   "metadata": {},
   "source": [
    "---"
   ]
  },
  {
   "cell_type": "markdown",
   "id": "5539beb6-c669-473a-87cf-9cf70f095907",
   "metadata": {},
   "source": [
    "# 정규표현식"
   ]
  },
  {
   "cell_type": "markdown",
   "id": "91020890-bdb7-49f3-9132-efec6a93ac12",
   "metadata": {},
   "source": [
    "- library re: 정규 표현식을 지원하기 위해 기본 라이브러리로 re 모듈을 제공\n",
    "- 주요 메소드:\n",
    "    - match: 문자열 전체가 정규식과 매치되는지 확인\n",
    "    - search: 정규식과 매치되는 문자열이 있는지 확인\n",
    "    - findall: 정규식과 매치되는 모든 문자열을 리스트로 반환\n",
    "    - sub: 패턴을 찾아서 교체함"
   ]
  },
  {
   "cell_type": "code",
   "execution_count": 5,
   "id": "2e0462fc-47d1-466c-9b72-4f9b35b6bbb9",
   "metadata": {},
   "outputs": [],
   "source": [
    "# 라이브러리 불러오기\n",
    "import re"
   ]
  },
  {
   "attachments": {
    "fbfc354d-9829-4979-a9ec-5ad5473ddac8.png": {
     "image/png": "[encoded data removed]"
    }
   },
   "cell_type": "markdown",
   "id": "08092821-2e44-484b-a0a6-37bd5f29ceb1",
   "metadata": {},
   "source": [
    "**패턴 기본과 이스케이프**\n",
    "\n",
    "![image.png](attachment:fbfc354d-9829-4979-a9ec-5ad5473ddac8.png)"
   ]
  },
  {
   "attachments": {
    "500e400b-21b2-4fa0-ae7c-8eb1e47c11c4.png": {
     "image/png": "[encoded data removed]"
    }
   },
   "cell_type": "markdown",
   "id": "9115c195-c60d-4ca8-a202-20f678e6df43",
   "metadata": {},
   "source": [
    "**모든 문자 그룹**\n",
    "\n",
    "![image.png](attachment:500e400b-21b2-4fa0-ae7c-8eb1e47c11c4.png)"
   ]
  },
  {
   "attachments": {
    "a36d430f-7f1e-4051-bcfd-ca42722b0b44.png": {
     "image/png": "[encoded data removed]"
    }
   },
   "cell_type": "markdown",
   "id": "fdc5265b-1d83-4707-8614-53359613db7e",
   "metadata": {},
   "source": [
    "**특정 문자와 범위**\n",
    "\n",
    "![image.png](attachment:a36d430f-7f1e-4051-bcfd-ca42722b0b44.png)"
   ]
  },
  {
   "attachments": {
    "0c99f90e-f26a-4a61-8188-f633de43dbd7.png": {
     "image/png": "[encoded data removed]"
    }
   },
   "cell_type": "markdown",
   "id": "5f210869-8f78-49d6-a13f-5d58dd5ea4e9",
   "metadata": {},
   "source": [
    "**수량자**\n",
    "\n",
    "![image.png](attachment:0c99f90e-f26a-4a61-8188-f633de43dbd7.png)"
   ]
  },
  {
   "cell_type": "code",
   "execution_count": 10,
   "id": "837da84f-152b-4616-a98c-28386327439d",
   "metadata": {},
   "outputs": [],
   "source": [
    "# 문서에서 email을 추출\n",
    "\n",
    "text = '''\n",
    "당선을 축하드립니다.\n",
    "당선된 분들 email 목록입니다.\n",
    "\n",
    "blackdex7@gmail.com\n",
    "egoing@opentutorials.org\n",
    "hanaro@finecode.kr\n",
    "sookbun@dplus.company\n",
    "'''"
   ]
  },
  {
   "cell_type": "code",
   "execution_count": 11,
   "id": "e2b36d3e-23fc-4ca8-ac8d-26e6be74f3f2",
   "metadata": {},
   "outputs": [
    {
     "data": {
      "text/plain": [
       "[('blackdex7', 'gmail', 'com'),\n",
       " ('egoing', 'opentutorials', 'org'),\n",
       " ('hanaro', 'finecode', 'kr'),\n",
       " ('sookbun', 'dplus', 'compa')]"
      ]
     },
     "execution_count": 11,
     "metadata": {},
     "output_type": "execute_result"
    }
   ],
   "source": [
    "import re\n",
    "\n",
    "regex_email = re.compile('([a-zA-Z0-9_\\-\\.]+)@([a-zA-Z0-9_\\-\\.]+)\\.([a-zA-Z]{2,5})')\n",
    "                      # [a-zA-Z0-9-.] 는 문자, 숫자, 밑줄, 대시, 마침표 중 하나를 의미\n",
    "                      # + 기호는 해당 문자, 숫자, 밑줄, 대시, 마침표 중 하나가 한 번 이상 나타나는 모든 문자열    \n",
    "regex_email.findall(text)"
   ]
  },
  {
   "cell_type": "code",
   "execution_count": 12,
   "id": "eb640bee-c854-4aa1-ae20-c61aab88abc7",
   "metadata": {},
   "outputs": [
    {
     "name": "stdout",
     "output_type": "stream",
     "text": [
      "\n",
      "당선을 축하드립니다.\n",
      "당선된 분들 email 목록입니다.\n",
      "\n",
      "blackdex7@opentutorials.com\n",
      "egoing@opentutorials.com\n",
      "hanaro@opentutorials.com\n",
      "sookbun@opentutorials.comny\n",
      "\n"
     ]
    }
   ],
   "source": [
    "# \n",
    "print(regex_email.sub('\\g<1>@opentutorials.com', text))"
   ]
  }
 ],
 "metadata": {
  "kernelspec": {
   "display_name": "Python 3 (ipykernel)",
   "language": "python",
   "name": "python3"
  },
  "language_info": {
   "codemirror_mode": {
    "name": "ipython",
    "version": 3
   },
   "file_extension": ".py",
   "mimetype": "text/x-python",
   "name": "python",
   "nbconvert_exporter": "python",
   "pygments_lexer": "ipython3",
   "version": "3.9.13"
  }
 },
 "nbformat": 4,
 "nbformat_minor": 5
}
