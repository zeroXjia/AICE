{
 "cells": [
  {
   "cell_type": "markdown",
   "metadata": {
    "id": "JEYaVs-2FZbG"
   },
   "source": [
    "# 머신러닝, 딥러닝 TITANIC템플릿(HARD)"
   ]
  },
  {
   "cell_type": "markdown",
   "metadata": {
    "id": "YXy59gFnGy91"
   },
   "source": [
    "## > 머신러닝, 딥러닝 TITANIC템플릿 목적\n",
    "- 간단하게 쉽게 머신러닝, 딥러닝 모델링 만들기\n",
    "- 잘 몰라도 아래 순서에 맞게 , 이런식으로 실행하면 되겠구나 느끼기\n",
    "- 여러분이 처음 한다고 생각하고 템플릿 작성함"
   ]
  },
  {
   "cell_type": "markdown",
   "metadata": {
    "id": "38_o3kptFiCu"
   },
   "source": [
    "## > 모델링 프로세스\n",
    "1. 데이터 가져오기\n",
    "2. 데이터 분석\n",
    "3. 전처리\n",
    "4. X, y 나누기\n",
    "5. Train , Test 데이터셋 나누기\n",
    "6. 머신러닝 모델링\n",
    "7. 딥러닝 모델링\n",
    "8. 딥러닝 성능 평가"
   ]
  },
  {
   "cell_type": "markdown",
   "metadata": {
    "id": "ClCquuufGhTN"
   },
   "source": [
    "---"
   ]
  },
  {
   "cell_type": "markdown",
   "metadata": {
    "id": "lZV4wkNeGdMI"
   },
   "source": [
    "# 1. 데이터 가져오기\n",
    "- 먼저, 데이터가 있어야 모델링을 만들수 있다.\n",
    "- 데이터 가져오는 방법에는 여러가지 있다.\n",
    " - 본인 데이터를 직접 올리는 방법\n",
    " - 기존에 제공하는 데이터 가져다 쓰는 방법"
   ]
  },
  {
   "cell_type": "code",
   "execution_count": 1,
   "metadata": {
    "id": "bVGzC0YIFQR7"
   },
   "outputs": [],
   "source": [
    "# 필요한 라이브러리 가져오기\n",
    "# 그냥 무조건 가져온다고 생각하자 : pandas, numpy, seaborn, matplotlib.pyplot\n",
    "# seaborn 설치가 되어 있지 않으면 라이브러리는 설치 필요 : !pip install seaborn\n",
    "\n",
    "\n",
    "import pandas as pd\n",
    "import numpy as np\n",
    "import seaborn as sns\n",
    "import matplotlib.pyplot as plt\n",
    "%config inlinebackend.figure_format = 'retina'\n"
   ]
  },
  {
   "cell_type": "code",
   "execution_count": null,
   "metadata": {
    "colab": {
     "base_uri": "https://localhost:8080/"
    },
    "executionInfo": {
     "elapsed": 5,
     "status": "ok",
     "timestamp": 1649059494783,
     "user": {
      "displayName": "yunwoo oh",
      "userId": "01035531558844683999"
     },
     "user_tz": -540
    },
    "id": "GGckugMNFYRv",
    "outputId": "60825d11-eac6-4b63-89c7-150b3be682a2"
   },
   "outputs": [
    {
     "data": {
      "text/plain": [
       "['anagrams',\n",
       " 'anscombe',\n",
       " 'attention',\n",
       " 'brain_networks',\n",
       " 'car_crashes',\n",
       " 'diamonds',\n",
       " 'dots',\n",
       " 'exercise',\n",
       " 'flights',\n",
       " 'fmri',\n",
       " 'gammas',\n",
       " 'geyser',\n",
       " 'iris',\n",
       " 'mpg',\n",
       " 'penguins',\n",
       " 'planets',\n",
       " 'taxis',\n",
       " 'tips',\n",
       " 'titanic']"
      ]
     },
     "execution_count": 2,
     "metadata": {},
     "output_type": "execute_result"
    }
   ],
   "source": [
    "# Seaborn에서 제공하는 데이터셋 확인하기\n",
    "sns.get_dataset_names()"
   ]
  },
  {
   "cell_type": "markdown",
   "metadata": {
    "id": "7nj878hWLE7j"
   },
   "source": [
    "#### 타이타닉 데이터셋 가져오기"
   ]
  },
  {
   "cell_type": "markdown",
   "metadata": {
    "id": "tp4PpWSaE5eV"
   },
   "source": [
    "![타이타닉](https://encrypted-tbn0.gstatic.com/images?q=tbn:ANd9GcQav_aQ5prV7GD__U3dvOt8mkxzA6LAGd8Gfg&usqp=CAU)"
   ]
  },
  {
   "cell_type": "code",
   "execution_count": 3,
   "metadata": {
    "id": "EyIKpYwnK4ns"
   },
   "outputs": [
    {
     "data": {
      "text/html": [
       "<div>\n",
       "<style scoped>\n",
       "    .dataframe tbody tr th:only-of-type {\n",
       "        vertical-align: middle;\n",
       "    }\n",
       "\n",
       "    .dataframe tbody tr th {\n",
       "        vertical-align: top;\n",
       "    }\n",
       "\n",
       "    .dataframe thead th {\n",
       "        text-align: right;\n",
       "    }\n",
       "</style>\n",
       "<table border=\"1\" class=\"dataframe\">\n",
       "  <thead>\n",
       "    <tr style=\"text-align: right;\">\n",
       "      <th></th>\n",
       "      <th>survived</th>\n",
       "      <th>pclass</th>\n",
       "      <th>sex</th>\n",
       "      <th>age</th>\n",
       "      <th>sibsp</th>\n",
       "      <th>parch</th>\n",
       "      <th>fare</th>\n",
       "      <th>embarked</th>\n",
       "      <th>class</th>\n",
       "      <th>who</th>\n",
       "      <th>adult_male</th>\n",
       "      <th>deck</th>\n",
       "      <th>embark_town</th>\n",
       "      <th>alive</th>\n",
       "      <th>alone</th>\n",
       "    </tr>\n",
       "  </thead>\n",
       "  <tbody>\n",
       "    <tr>\n",
       "      <th>0</th>\n",
       "      <td>0</td>\n",
       "      <td>3</td>\n",
       "      <td>male</td>\n",
       "      <td>22.0</td>\n",
       "      <td>1</td>\n",
       "      <td>0</td>\n",
       "      <td>7.2500</td>\n",
       "      <td>S</td>\n",
       "      <td>Third</td>\n",
       "      <td>man</td>\n",
       "      <td>True</td>\n",
       "      <td>NaN</td>\n",
       "      <td>Southampton</td>\n",
       "      <td>no</td>\n",
       "      <td>False</td>\n",
       "    </tr>\n",
       "    <tr>\n",
       "      <th>1</th>\n",
       "      <td>1</td>\n",
       "      <td>1</td>\n",
       "      <td>female</td>\n",
       "      <td>38.0</td>\n",
       "      <td>1</td>\n",
       "      <td>0</td>\n",
       "      <td>71.2833</td>\n",
       "      <td>C</td>\n",
       "      <td>First</td>\n",
       "      <td>woman</td>\n",
       "      <td>False</td>\n",
       "      <td>C</td>\n",
       "      <td>Cherbourg</td>\n",
       "      <td>yes</td>\n",
       "      <td>False</td>\n",
       "    </tr>\n",
       "    <tr>\n",
       "      <th>2</th>\n",
       "      <td>1</td>\n",
       "      <td>3</td>\n",
       "      <td>female</td>\n",
       "      <td>26.0</td>\n",
       "      <td>0</td>\n",
       "      <td>0</td>\n",
       "      <td>7.9250</td>\n",
       "      <td>S</td>\n",
       "      <td>Third</td>\n",
       "      <td>woman</td>\n",
       "      <td>False</td>\n",
       "      <td>NaN</td>\n",
       "      <td>Southampton</td>\n",
       "      <td>yes</td>\n",
       "      <td>True</td>\n",
       "    </tr>\n",
       "    <tr>\n",
       "      <th>3</th>\n",
       "      <td>1</td>\n",
       "      <td>1</td>\n",
       "      <td>female</td>\n",
       "      <td>35.0</td>\n",
       "      <td>1</td>\n",
       "      <td>0</td>\n",
       "      <td>53.1000</td>\n",
       "      <td>S</td>\n",
       "      <td>First</td>\n",
       "      <td>woman</td>\n",
       "      <td>False</td>\n",
       "      <td>C</td>\n",
       "      <td>Southampton</td>\n",
       "      <td>yes</td>\n",
       "      <td>False</td>\n",
       "    </tr>\n",
       "    <tr>\n",
       "      <th>4</th>\n",
       "      <td>0</td>\n",
       "      <td>3</td>\n",
       "      <td>male</td>\n",
       "      <td>35.0</td>\n",
       "      <td>0</td>\n",
       "      <td>0</td>\n",
       "      <td>8.0500</td>\n",
       "      <td>S</td>\n",
       "      <td>Third</td>\n",
       "      <td>man</td>\n",
       "      <td>True</td>\n",
       "      <td>NaN</td>\n",
       "      <td>Southampton</td>\n",
       "      <td>no</td>\n",
       "      <td>True</td>\n",
       "    </tr>\n",
       "    <tr>\n",
       "      <th>...</th>\n",
       "      <td>...</td>\n",
       "      <td>...</td>\n",
       "      <td>...</td>\n",
       "      <td>...</td>\n",
       "      <td>...</td>\n",
       "      <td>...</td>\n",
       "      <td>...</td>\n",
       "      <td>...</td>\n",
       "      <td>...</td>\n",
       "      <td>...</td>\n",
       "      <td>...</td>\n",
       "      <td>...</td>\n",
       "      <td>...</td>\n",
       "      <td>...</td>\n",
       "      <td>...</td>\n",
       "    </tr>\n",
       "    <tr>\n",
       "      <th>886</th>\n",
       "      <td>0</td>\n",
       "      <td>2</td>\n",
       "      <td>male</td>\n",
       "      <td>27.0</td>\n",
       "      <td>0</td>\n",
       "      <td>0</td>\n",
       "      <td>13.0000</td>\n",
       "      <td>S</td>\n",
       "      <td>Second</td>\n",
       "      <td>man</td>\n",
       "      <td>True</td>\n",
       "      <td>NaN</td>\n",
       "      <td>Southampton</td>\n",
       "      <td>no</td>\n",
       "      <td>True</td>\n",
       "    </tr>\n",
       "    <tr>\n",
       "      <th>887</th>\n",
       "      <td>1</td>\n",
       "      <td>1</td>\n",
       "      <td>female</td>\n",
       "      <td>19.0</td>\n",
       "      <td>0</td>\n",
       "      <td>0</td>\n",
       "      <td>30.0000</td>\n",
       "      <td>S</td>\n",
       "      <td>First</td>\n",
       "      <td>woman</td>\n",
       "      <td>False</td>\n",
       "      <td>B</td>\n",
       "      <td>Southampton</td>\n",
       "      <td>yes</td>\n",
       "      <td>True</td>\n",
       "    </tr>\n",
       "    <tr>\n",
       "      <th>888</th>\n",
       "      <td>0</td>\n",
       "      <td>3</td>\n",
       "      <td>female</td>\n",
       "      <td>NaN</td>\n",
       "      <td>1</td>\n",
       "      <td>2</td>\n",
       "      <td>23.4500</td>\n",
       "      <td>S</td>\n",
       "      <td>Third</td>\n",
       "      <td>woman</td>\n",
       "      <td>False</td>\n",
       "      <td>NaN</td>\n",
       "      <td>Southampton</td>\n",
       "      <td>no</td>\n",
       "      <td>False</td>\n",
       "    </tr>\n",
       "    <tr>\n",
       "      <th>889</th>\n",
       "      <td>1</td>\n",
       "      <td>1</td>\n",
       "      <td>male</td>\n",
       "      <td>26.0</td>\n",
       "      <td>0</td>\n",
       "      <td>0</td>\n",
       "      <td>30.0000</td>\n",
       "      <td>C</td>\n",
       "      <td>First</td>\n",
       "      <td>man</td>\n",
       "      <td>True</td>\n",
       "      <td>C</td>\n",
       "      <td>Cherbourg</td>\n",
       "      <td>yes</td>\n",
       "      <td>True</td>\n",
       "    </tr>\n",
       "    <tr>\n",
       "      <th>890</th>\n",
       "      <td>0</td>\n",
       "      <td>3</td>\n",
       "      <td>male</td>\n",
       "      <td>32.0</td>\n",
       "      <td>0</td>\n",
       "      <td>0</td>\n",
       "      <td>7.7500</td>\n",
       "      <td>Q</td>\n",
       "      <td>Third</td>\n",
       "      <td>man</td>\n",
       "      <td>True</td>\n",
       "      <td>NaN</td>\n",
       "      <td>Queenstown</td>\n",
       "      <td>no</td>\n",
       "      <td>True</td>\n",
       "    </tr>\n",
       "  </tbody>\n",
       "</table>\n",
       "<p>891 rows × 15 columns</p>\n",
       "</div>"
      ],
      "text/plain": [
       "     survived  pclass     sex   age  sibsp  parch     fare embarked   class  \\\n",
       "0           0       3    male  22.0      1      0   7.2500        S   Third   \n",
       "1           1       1  female  38.0      1      0  71.2833        C   First   \n",
       "2           1       3  female  26.0      0      0   7.9250        S   Third   \n",
       "3           1       1  female  35.0      1      0  53.1000        S   First   \n",
       "4           0       3    male  35.0      0      0   8.0500        S   Third   \n",
       "..        ...     ...     ...   ...    ...    ...      ...      ...     ...   \n",
       "886         0       2    male  27.0      0      0  13.0000        S  Second   \n",
       "887         1       1  female  19.0      0      0  30.0000        S   First   \n",
       "888         0       3  female   NaN      1      2  23.4500        S   Third   \n",
       "889         1       1    male  26.0      0      0  30.0000        C   First   \n",
       "890         0       3    male  32.0      0      0   7.7500        Q   Third   \n",
       "\n",
       "       who  adult_male deck  embark_town alive  alone  \n",
       "0      man        True  NaN  Southampton    no  False  \n",
       "1    woman       False    C    Cherbourg   yes  False  \n",
       "2    woman       False  NaN  Southampton   yes   True  \n",
       "3    woman       False    C  Southampton   yes  False  \n",
       "4      man        True  NaN  Southampton    no   True  \n",
       "..     ...         ...  ...          ...   ...    ...  \n",
       "886    man        True  NaN  Southampton    no   True  \n",
       "887  woman       False    B  Southampton   yes   True  \n",
       "888  woman       False  NaN  Southampton    no  False  \n",
       "889    man        True    C    Cherbourg   yes   True  \n",
       "890    man        True  NaN   Queenstown    no   True  \n",
       "\n",
       "[891 rows x 15 columns]"
      ]
     },
     "execution_count": 3,
     "metadata": {},
     "output_type": "execute_result"
    }
   ],
   "source": [
    "# 많이 사용하는 데이터는 'iris' , 'tips' , 'titanic'\n",
    "# 이번에 titanic 데이터셋 가져오기 \n",
    "# seaborn load_dataset('titanic') 함수 활용 : 결과 titanic 저장\n",
    "\n",
    "data = sns.load_dataset('titanic')\n",
    "data"
   ]
  },
  {
   "cell_type": "code",
   "execution_count": 4,
   "metadata": {
    "colab": {
     "base_uri": "https://localhost:8080/",
     "height": 488
    },
    "executionInfo": {
     "elapsed": 11,
     "status": "ok",
     "timestamp": 1649059495182,
     "user": {
      "displayName": "yunwoo oh",
      "userId": "01035531558844683999"
     },
     "user_tz": -540
    },
    "id": "KMu3akWsK4i0",
    "outputId": "27040f18-6a01-4446-b3d8-75de90165159"
   },
   "outputs": [
    {
     "data": {
      "text/html": [
       "<div>\n",
       "<style scoped>\n",
       "    .dataframe tbody tr th:only-of-type {\n",
       "        vertical-align: middle;\n",
       "    }\n",
       "\n",
       "    .dataframe tbody tr th {\n",
       "        vertical-align: top;\n",
       "    }\n",
       "\n",
       "    .dataframe thead th {\n",
       "        text-align: right;\n",
       "    }\n",
       "</style>\n",
       "<table border=\"1\" class=\"dataframe\">\n",
       "  <thead>\n",
       "    <tr style=\"text-align: right;\">\n",
       "      <th></th>\n",
       "      <th>survived</th>\n",
       "      <th>pclass</th>\n",
       "      <th>sex</th>\n",
       "      <th>age</th>\n",
       "      <th>sibsp</th>\n",
       "      <th>parch</th>\n",
       "      <th>fare</th>\n",
       "      <th>embarked</th>\n",
       "      <th>class</th>\n",
       "      <th>who</th>\n",
       "      <th>adult_male</th>\n",
       "      <th>deck</th>\n",
       "      <th>embark_town</th>\n",
       "      <th>alive</th>\n",
       "      <th>alone</th>\n",
       "    </tr>\n",
       "  </thead>\n",
       "  <tbody>\n",
       "    <tr>\n",
       "      <th>0</th>\n",
       "      <td>0</td>\n",
       "      <td>3</td>\n",
       "      <td>male</td>\n",
       "      <td>22.0</td>\n",
       "      <td>1</td>\n",
       "      <td>0</td>\n",
       "      <td>7.2500</td>\n",
       "      <td>S</td>\n",
       "      <td>Third</td>\n",
       "      <td>man</td>\n",
       "      <td>True</td>\n",
       "      <td>NaN</td>\n",
       "      <td>Southampton</td>\n",
       "      <td>no</td>\n",
       "      <td>False</td>\n",
       "    </tr>\n",
       "    <tr>\n",
       "      <th>1</th>\n",
       "      <td>1</td>\n",
       "      <td>1</td>\n",
       "      <td>female</td>\n",
       "      <td>38.0</td>\n",
       "      <td>1</td>\n",
       "      <td>0</td>\n",
       "      <td>71.2833</td>\n",
       "      <td>C</td>\n",
       "      <td>First</td>\n",
       "      <td>woman</td>\n",
       "      <td>False</td>\n",
       "      <td>C</td>\n",
       "      <td>Cherbourg</td>\n",
       "      <td>yes</td>\n",
       "      <td>False</td>\n",
       "    </tr>\n",
       "    <tr>\n",
       "      <th>2</th>\n",
       "      <td>1</td>\n",
       "      <td>3</td>\n",
       "      <td>female</td>\n",
       "      <td>26.0</td>\n",
       "      <td>0</td>\n",
       "      <td>0</td>\n",
       "      <td>7.9250</td>\n",
       "      <td>S</td>\n",
       "      <td>Third</td>\n",
       "      <td>woman</td>\n",
       "      <td>False</td>\n",
       "      <td>NaN</td>\n",
       "      <td>Southampton</td>\n",
       "      <td>yes</td>\n",
       "      <td>True</td>\n",
       "    </tr>\n",
       "    <tr>\n",
       "      <th>3</th>\n",
       "      <td>1</td>\n",
       "      <td>1</td>\n",
       "      <td>female</td>\n",
       "      <td>35.0</td>\n",
       "      <td>1</td>\n",
       "      <td>0</td>\n",
       "      <td>53.1000</td>\n",
       "      <td>S</td>\n",
       "      <td>First</td>\n",
       "      <td>woman</td>\n",
       "      <td>False</td>\n",
       "      <td>C</td>\n",
       "      <td>Southampton</td>\n",
       "      <td>yes</td>\n",
       "      <td>False</td>\n",
       "    </tr>\n",
       "    <tr>\n",
       "      <th>4</th>\n",
       "      <td>0</td>\n",
       "      <td>3</td>\n",
       "      <td>male</td>\n",
       "      <td>35.0</td>\n",
       "      <td>0</td>\n",
       "      <td>0</td>\n",
       "      <td>8.0500</td>\n",
       "      <td>S</td>\n",
       "      <td>Third</td>\n",
       "      <td>man</td>\n",
       "      <td>True</td>\n",
       "      <td>NaN</td>\n",
       "      <td>Southampton</td>\n",
       "      <td>no</td>\n",
       "      <td>True</td>\n",
       "    </tr>\n",
       "  </tbody>\n",
       "</table>\n",
       "</div>"
      ],
      "text/plain": [
       "   survived  pclass     sex   age  sibsp  parch     fare embarked  class  \\\n",
       "0         0       3    male  22.0      1      0   7.2500        S  Third   \n",
       "1         1       1  female  38.0      1      0  71.2833        C  First   \n",
       "2         1       3  female  26.0      0      0   7.9250        S  Third   \n",
       "3         1       1  female  35.0      1      0  53.1000        S  First   \n",
       "4         0       3    male  35.0      0      0   8.0500        S  Third   \n",
       "\n",
       "     who  adult_male deck  embark_town alive  alone  \n",
       "0    man        True  NaN  Southampton    no  False  \n",
       "1  woman       False    C    Cherbourg   yes  False  \n",
       "2  woman       False  NaN  Southampton   yes   True  \n",
       "3  woman       False    C  Southampton   yes  False  \n",
       "4    man        True  NaN  Southampton    no   True  "
      ]
     },
     "execution_count": 4,
     "metadata": {},
     "output_type": "execute_result"
    }
   ],
   "source": [
    "# 가져온 titanic 데이터 확인 하기\n",
    "# 자동으로 판다스 데이터프레임 형식으로 읽어짐\n",
    "\n",
    "\n",
    "data.head()"
   ]
  },
  {
   "cell_type": "code",
   "execution_count": 5,
   "metadata": {
    "colab": {
     "base_uri": "https://localhost:8080/"
    },
    "executionInfo": {
     "elapsed": 10,
     "status": "ok",
     "timestamp": 1649059495183,
     "user": {
      "displayName": "yunwoo oh",
      "userId": "01035531558844683999"
     },
     "user_tz": -540
    },
    "id": "ELBizUYLGdOx",
    "outputId": "33a0d6d7-b47a-42b5-c7dc-1cefd2d7971a"
   },
   "outputs": [
    {
     "name": "stdout",
     "output_type": "stream",
     "text": [
      "<class 'pandas.core.frame.DataFrame'>\n",
      "RangeIndex: 891 entries, 0 to 890\n",
      "Data columns (total 15 columns):\n",
      " #   Column       Non-Null Count  Dtype   \n",
      "---  ------       --------------  -----   \n",
      " 0   survived     891 non-null    int64   \n",
      " 1   pclass       891 non-null    int64   \n",
      " 2   sex          891 non-null    object  \n",
      " 3   age          714 non-null    float64 \n",
      " 4   sibsp        891 non-null    int64   \n",
      " 5   parch        891 non-null    int64   \n",
      " 6   fare         891 non-null    float64 \n",
      " 7   embarked     889 non-null    object  \n",
      " 8   class        891 non-null    category\n",
      " 9   who          891 non-null    object  \n",
      " 10  adult_male   891 non-null    bool    \n",
      " 11  deck         203 non-null    category\n",
      " 12  embark_town  889 non-null    object  \n",
      " 13  alive        891 non-null    object  \n",
      " 14  alone        891 non-null    bool    \n",
      "dtypes: bool(2), category(2), float64(2), int64(4), object(5)\n",
      "memory usage: 80.7+ KB\n"
     ]
    }
   ],
   "source": [
    "# 타이타닉 데이터에 대한 전체적인 정보 보기 : info 함수\n",
    "\n",
    "data.info()"
   ]
  },
  {
   "cell_type": "markdown",
   "metadata": {
    "id": "e22J-MZ9Lxb7"
   },
   "source": [
    "#### 타이타닉 Data Dictionary\n",
    "- survived : 생존=1, 죽음=0\n",
    "- pclass : 승객 등급. 1등급=1, 2등급=2, 3등급=3\n",
    "- sibsp : 함께 탑승한 형제 또는 배우자 수\n",
    "- parch : 함께 탑승한 부모 또는 자녀 수\n",
    "- ticket : 티켓 번호\n",
    "- cabin : 선실 번호\n",
    "- embarked : 탑승장소 S=Southhampton, C=Cherbourg, Q=Queenstown\n"
   ]
  },
  {
   "cell_type": "markdown",
   "metadata": {
    "id": "gtGYasrCJlMV"
   },
   "source": [
    "# 2. 데이터 분석\n",
    "- 눈으로 데이터 수치를 보고 어떤 흐름인지 파악할수 있지만,\n",
    "- 시각화를 통한다면 쉽게 흐름을 파악할수 있으니, 할수 있으면 사용해라.\n",
    "- 여러분에게는 어려울수 있으니, 아, 이렇게 데이터를 가지고 시각화를 할수 있구나 느낀면 된다."
   ]
  },
  {
   "cell_type": "code",
   "execution_count": 6,
   "metadata": {
    "colab": {
     "base_uri": "https://localhost:8080/"
    },
    "executionInfo": {
     "elapsed": 7,
     "status": "ok",
     "timestamp": 1649059495183,
     "user": {
      "displayName": "yunwoo oh",
      "userId": "01035531558844683999"
     },
     "user_tz": -540
    },
    "id": "QJ1YjKp2FYZu",
    "outputId": "a7831211-a0f7-461f-981d-f44f37b3e926"
   },
   "outputs": [
    {
     "data": {
      "text/plain": [
       "0    549\n",
       "1    342\n",
       "Name: survived, dtype: int64"
      ]
     },
     "execution_count": 6,
     "metadata": {},
     "output_type": "execute_result"
    }
   ],
   "source": [
    "# 간단하게 시각화해 보기\n",
    "# 여러분은 잘 모르지만, 나중에 이렇게 시각화를 할수 있구나 알기\n",
    "\n",
    "# 판다스 value_counts 함수 이용해서 survived 컬럼 값 분포 확인\n",
    "\n",
    "\n",
    "data['survived'].value_counts()"
   ]
  },
  {
   "cell_type": "code",
   "execution_count": 7,
   "metadata": {
    "colab": {
     "base_uri": "https://localhost:8080/",
     "height": 280
    },
    "executionInfo": {
     "elapsed": 383,
     "status": "ok",
     "timestamp": 1649059495562,
     "user": {
      "displayName": "yunwoo oh",
      "userId": "01035531558844683999"
     },
     "user_tz": -540
    },
    "id": "S6DvrPRZoUfy",
    "outputId": "4aefe4f7-43aa-4bd7-d197-7579de4ae3fb"
   },
   "outputs": [
    {
     "data": {
      "text/plain": [
       "<AxesSubplot:>"
      ]
     },
     "execution_count": 7,
     "metadata": {},
     "output_type": "execute_result"
    },
    {
     "data": {
      "image/png": "[encoded data removed]",
      "text/plain": [
       "<Figure size 640x480 with 1 Axes>"
      ]
     },
     "metadata": {},
     "output_type": "display_data"
    }
   ],
   "source": [
    "# survived 컬럼 값 분포 확인에 대한 바차트 그리기\n",
    "\n",
    "\n",
    "data['survived'].value_counts().plot(kind='bar')"
   ]
  },
  {
   "cell_type": "code",
   "execution_count": 8,
   "metadata": {
    "colab": {
     "base_uri": "https://localhost:8080/"
    },
    "executionInfo": {
     "elapsed": 9,
     "status": "ok",
     "timestamp": 1649059495562,
     "user": {
      "displayName": "yunwoo oh",
      "userId": "01035531558844683999"
     },
     "user_tz": -540
    },
    "id": "Zs3HRY-vGaJ7",
    "outputId": "b7738b68-0e9c-4c14-9b21-c35d82852098"
   },
   "outputs": [
    {
     "data": {
      "text/plain": [
       "3    491\n",
       "1    216\n",
       "2    184\n",
       "Name: pclass, dtype: int64"
      ]
     },
     "execution_count": 8,
     "metadata": {},
     "output_type": "execute_result"
    }
   ],
   "source": [
    "# 판다스 value_counts 함수 이용해서 pclass 값 분포 확인\n",
    "data['pclass'].value_counts()\n",
    "\n"
   ]
  },
  {
   "cell_type": "code",
   "execution_count": 9,
   "metadata": {
    "colab": {
     "base_uri": "https://localhost:8080/",
     "height": 280
    },
    "executionInfo": {
     "elapsed": 434,
     "status": "ok",
     "timestamp": 1649059495989,
     "user": {
      "displayName": "yunwoo oh",
      "userId": "01035531558844683999"
     },
     "user_tz": -540
    },
    "id": "bhMbR8R8GaGY",
    "outputId": "e3c830e4-f620-47c3-ab38-43c71aefdecf"
   },
   "outputs": [
    {
     "data": {
      "text/plain": [
       "<AxesSubplot:>"
      ]
     },
     "execution_count": 9,
     "metadata": {},
     "output_type": "execute_result"
    },
    {
     "data": {
      "image/png": "[encoded data removed]",
      "text/plain": [
       "<Figure size 640x480 with 1 Axes>"
      ]
     },
     "metadata": {},
     "output_type": "display_data"
    }
   ],
   "source": [
    "# 판다스 value_counts 함수 이용해서 pclass 값 분포에 대한 바차트\n",
    "\n",
    "data['pclass'].value_counts().plot(kind='bar')\n"
   ]
  },
  {
   "cell_type": "code",
   "execution_count": 10,
   "metadata": {
    "colab": {
     "base_uri": "https://localhost:8080/",
     "height": 310
    },
    "executionInfo": {
     "elapsed": 8,
     "status": "ok",
     "timestamp": 1649059495990,
     "user": {
      "displayName": "yunwoo oh",
      "userId": "01035531558844683999"
     },
     "user_tz": -540
    },
    "id": "ssreGsJlGaDH",
    "outputId": "5b79530e-b460-41a7-da31-354bc7378b57"
   },
   "outputs": [
    {
     "data": {
      "text/plain": [
       "<AxesSubplot:>"
      ]
     },
     "execution_count": 10,
     "metadata": {},
     "output_type": "execute_result"
    },
    {
     "data": {
      "image/png": "[encoded data removed]",
      "text/plain": [
       "<Figure size 640x480 with 1 Axes>"
      ]
     },
     "metadata": {},
     "output_type": "display_data"
    }
   ],
   "source": [
    "# 판다스 value_counts 함수 이용해서 sex 값 분포에 대한 바차트\n",
    "\n",
    "\n",
    "data['sex'].value_counts().plot(kind='bar')"
   ]
  },
  {
   "cell_type": "code",
   "execution_count": 12,
   "metadata": {
    "colab": {
     "base_uri": "https://localhost:8080/",
     "height": 283
    },
    "executionInfo": {
     "elapsed": 645,
     "status": "ok",
     "timestamp": 1649059496631,
     "user": {
      "displayName": "yunwoo oh",
      "userId": "01035531558844683999"
     },
     "user_tz": -540
    },
    "id": "iHiFcH4pHWnR",
    "outputId": "47e81bf1-d514-4df6-a098-354bb2120d7a"
   },
   "outputs": [
    {
     "data": {
      "text/plain": [
       "<AxesSubplot:>"
      ]
     },
     "execution_count": 12,
     "metadata": {},
     "output_type": "execute_result"
    },
    {
     "data": {
      "image/png": "[encoded data removed]",
      "text/plain": [
       "<Figure size 640x480 with 1 Axes>"
      ]
     },
     "metadata": {},
     "output_type": "display_data"
    }
   ],
   "source": [
    "# age 컬럼에 대한 box 차트\n",
    "# 나이 분포를 볼때 중간값이 26 정도 되며, 전체적으로 나이가 많은쪽으로 넓게 있다.\n",
    "\n",
    "data['age'].plot(kind='box')"
   ]
  },
  {
   "cell_type": "code",
   "execution_count": 14,
   "metadata": {
    "colab": {
     "base_uri": "https://localhost:8080/",
     "height": 297
    },
    "executionInfo": {
     "elapsed": 10,
     "status": "ok",
     "timestamp": 1649059496632,
     "user": {
      "displayName": "yunwoo oh",
      "userId": "01035531558844683999"
     },
     "user_tz": -540
    },
    "id": "KJts35UKHdK6",
    "outputId": "ad3a1e8e-9071-4735-bd83-9358984ceff2"
   },
   "outputs": [
    {
     "data": {
      "text/plain": [
       "<AxesSubplot:xlabel='pclass', ylabel='age'>"
      ]
     },
     "execution_count": 14,
     "metadata": {},
     "output_type": "execute_result"
    },
    {
     "data": {
      "image/png": "[encoded data removed]",
      "text/plain": [
       "<Figure size 640x480 with 1 Axes>"
      ]
     },
     "metadata": {},
     "output_type": "display_data"
    }
   ],
   "source": [
    "# seaborn boxplot 이용하여 pclass별로 age 분포 확인.(data=titanic, x='pclass', y='age')\n",
    "# 1등급에 나이 있는 분들이 더 많고 등급이 낮아질수록 나이가 어리다.\n",
    "\n",
    "sns.boxplot(data=data, x='pclass', y='age')\n"
   ]
  },
  {
   "cell_type": "code",
   "execution_count": 15,
   "metadata": {
    "colab": {
     "base_uri": "https://localhost:8080/",
     "height": 297
    },
    "executionInfo": {
     "elapsed": 622,
     "status": "ok",
     "timestamp": 1649059497248,
     "user": {
      "displayName": "yunwoo oh",
      "userId": "01035531558844683999"
     },
     "user_tz": -540
    },
    "id": "X5s51rdHHdHh",
    "outputId": "f4774bb2-9815-43d5-f405-12f2aafe9e7d"
   },
   "outputs": [
    {
     "data": {
      "text/plain": [
       "<AxesSubplot:xlabel='pclass', ylabel='age'>"
      ]
     },
     "execution_count": 15,
     "metadata": {},
     "output_type": "execute_result"
    },
    {
     "data": {
      "image/png": "[encoded data removed]",
      "text/plain": [
       "<Figure size 640x480 with 1 Axes>"
      ]
     },
     "metadata": {},
     "output_type": "display_data"
    }
   ],
   "source": [
    "# boxplot 이용하여 pclass별로 age 분포 확인. 또한 survived 키로 분류해 보자.(hue='survived')\n",
    "# 1등급에 있는 분들이 다른 등급에 있는 분들보다 더 많이 살아남았음 알수 있따.\n",
    "\n",
    "sns.boxplot(data=data, x='pclass', y='age', hue='survived')\n"
   ]
  },
  {
   "cell_type": "code",
   "execution_count": 17,
   "metadata": {
    "colab": {
     "base_uri": "https://localhost:8080/"
    },
    "executionInfo": {
     "elapsed": 28,
     "status": "ok",
     "timestamp": 1649059497248,
     "user": {
      "displayName": "yunwoo oh",
      "userId": "01035531558844683999"
     },
     "user_tz": -540
    },
    "id": "Z9BlR0rXHdEr",
    "outputId": "4e51c8da-f96e-4985-ce0e-aae6bade1d9a"
   },
   "outputs": [
    {
     "data": {
      "text/plain": [
       "pclass\n",
       "1    0.629630\n",
       "2    0.472826\n",
       "3    0.242363\n",
       "Name: survived, dtype: float64"
      ]
     },
     "execution_count": 17,
     "metadata": {},
     "output_type": "execute_result"
    }
   ],
   "source": [
    "# pclass별로 어느정도 살아 남았는지 확인 : pclass에 대해 groupby 하고 survived 컬럼에 대한 평균값 구하기\n",
    "# groupby 한 결과를 pclass_grp 변수에 저장하고 출력하기\n",
    "\n",
    "\n",
    "pclass_grp = data.groupby(by='pclass')['survived'].mean()\n",
    "pclass_grp"
   ]
  },
  {
   "cell_type": "code",
   "execution_count": 18,
   "metadata": {
    "colab": {
     "base_uri": "https://localhost:8080/",
     "height": 294
    },
    "executionInfo": {
     "elapsed": 26,
     "status": "ok",
     "timestamp": 1649059497249,
     "user": {
      "displayName": "yunwoo oh",
      "userId": "01035531558844683999"
     },
     "user_tz": -540
    },
    "id": "tWfE_kADHdCf",
    "outputId": "6bd82319-377f-47b8-fd4f-b0a36c5fdcae"
   },
   "outputs": [
    {
     "data": {
      "text/plain": [
       "<AxesSubplot:xlabel='pclass'>"
      ]
     },
     "execution_count": 18,
     "metadata": {},
     "output_type": "execute_result"
    },
    {
     "data": {
      "image/png": "[encoded data removed]",
      "text/plain": [
       "<Figure size 640x480 with 1 Axes>"
      ]
     },
     "metadata": {},
     "output_type": "display_data"
    }
   ],
   "source": [
    "# pclass_grp 데이터프레임에서 x='pclass', y='survived' 해서 bar 차트 그리기\n",
    "\n",
    "pclass_grp.plot(x='pclass', y='survived', kind='bar')\n"
   ]
  },
  {
   "cell_type": "markdown",
   "metadata": {
    "id": "oOZzwql-M_RC"
   },
   "source": [
    "---"
   ]
  },
  {
   "cell_type": "markdown",
   "metadata": {
    "id": "UEBIaWYPP_DO"
   },
   "source": [
    "# 3. 전처리\n",
    "- 전처리를 왜 해야 할까요?\n",
    "- 불필요한 컬럼을 삭제하거나, 빈공간을 채우기등\n",
    "- 모든 데이터가 컴퓨터가 이해할수 있는 숫자로 되어야 한다.\n",
    "- 결국, 깔끔하고 깨끗한 숫자형 데이터로 만들어야 한다."
   ]
  },
  {
   "cell_type": "code",
   "execution_count": 19,
   "metadata": {
    "colab": {
     "base_uri": "https://localhost:8080/"
    },
    "executionInfo": {
     "elapsed": 23,
     "status": "ok",
     "timestamp": 1649059497249,
     "user": {
      "displayName": "yunwoo oh",
      "userId": "01035531558844683999"
     },
     "user_tz": -540
    },
    "id": "4WrOMn8JQHSV",
    "outputId": "d40dc48b-31df-4edd-e501-82c1f4e86dc6"
   },
   "outputs": [
    {
     "name": "stdout",
     "output_type": "stream",
     "text": [
      "<class 'pandas.core.frame.DataFrame'>\n",
      "RangeIndex: 891 entries, 0 to 890\n",
      "Data columns (total 15 columns):\n",
      " #   Column       Non-Null Count  Dtype   \n",
      "---  ------       --------------  -----   \n",
      " 0   survived     891 non-null    int64   \n",
      " 1   pclass       891 non-null    int64   \n",
      " 2   sex          891 non-null    object  \n",
      " 3   age          714 non-null    float64 \n",
      " 4   sibsp        891 non-null    int64   \n",
      " 5   parch        891 non-null    int64   \n",
      " 6   fare         891 non-null    float64 \n",
      " 7   embarked     889 non-null    object  \n",
      " 8   class        891 non-null    category\n",
      " 9   who          891 non-null    object  \n",
      " 10  adult_male   891 non-null    bool    \n",
      " 11  deck         203 non-null    category\n",
      " 12  embark_town  889 non-null    object  \n",
      " 13  alive        891 non-null    object  \n",
      " 14  alone        891 non-null    bool    \n",
      "dtypes: bool(2), category(2), float64(2), int64(4), object(5)\n",
      "memory usage: 80.7+ KB\n"
     ]
    }
   ],
   "source": [
    "# 타이타닉 정보 보기 : info 함수\n",
    "\n",
    "\n",
    "data.info()"
   ]
  },
  {
   "cell_type": "code",
   "execution_count": 20,
   "metadata": {
    "id": "5MY14s0gQHPP"
   },
   "outputs": [
    {
     "data": {
      "text/html": [
       "<div>\n",
       "<style scoped>\n",
       "    .dataframe tbody tr th:only-of-type {\n",
       "        vertical-align: middle;\n",
       "    }\n",
       "\n",
       "    .dataframe tbody tr th {\n",
       "        vertical-align: top;\n",
       "    }\n",
       "\n",
       "    .dataframe thead th {\n",
       "        text-align: right;\n",
       "    }\n",
       "</style>\n",
       "<table border=\"1\" class=\"dataframe\">\n",
       "  <thead>\n",
       "    <tr style=\"text-align: right;\">\n",
       "      <th></th>\n",
       "      <th>survived</th>\n",
       "      <th>pclass</th>\n",
       "      <th>sex</th>\n",
       "      <th>age</th>\n",
       "      <th>sibsp</th>\n",
       "      <th>parch</th>\n",
       "      <th>fare</th>\n",
       "      <th>embarked</th>\n",
       "      <th>who</th>\n",
       "      <th>adult_male</th>\n",
       "      <th>deck</th>\n",
       "      <th>embark_town</th>\n",
       "      <th>alone</th>\n",
       "    </tr>\n",
       "  </thead>\n",
       "  <tbody>\n",
       "    <tr>\n",
       "      <th>0</th>\n",
       "      <td>0</td>\n",
       "      <td>3</td>\n",
       "      <td>male</td>\n",
       "      <td>22.0</td>\n",
       "      <td>1</td>\n",
       "      <td>0</td>\n",
       "      <td>7.2500</td>\n",
       "      <td>S</td>\n",
       "      <td>man</td>\n",
       "      <td>True</td>\n",
       "      <td>NaN</td>\n",
       "      <td>Southampton</td>\n",
       "      <td>False</td>\n",
       "    </tr>\n",
       "    <tr>\n",
       "      <th>1</th>\n",
       "      <td>1</td>\n",
       "      <td>1</td>\n",
       "      <td>female</td>\n",
       "      <td>38.0</td>\n",
       "      <td>1</td>\n",
       "      <td>0</td>\n",
       "      <td>71.2833</td>\n",
       "      <td>C</td>\n",
       "      <td>woman</td>\n",
       "      <td>False</td>\n",
       "      <td>C</td>\n",
       "      <td>Cherbourg</td>\n",
       "      <td>False</td>\n",
       "    </tr>\n",
       "    <tr>\n",
       "      <th>2</th>\n",
       "      <td>1</td>\n",
       "      <td>3</td>\n",
       "      <td>female</td>\n",
       "      <td>26.0</td>\n",
       "      <td>0</td>\n",
       "      <td>0</td>\n",
       "      <td>7.9250</td>\n",
       "      <td>S</td>\n",
       "      <td>woman</td>\n",
       "      <td>False</td>\n",
       "      <td>NaN</td>\n",
       "      <td>Southampton</td>\n",
       "      <td>True</td>\n",
       "    </tr>\n",
       "    <tr>\n",
       "      <th>3</th>\n",
       "      <td>1</td>\n",
       "      <td>1</td>\n",
       "      <td>female</td>\n",
       "      <td>35.0</td>\n",
       "      <td>1</td>\n",
       "      <td>0</td>\n",
       "      <td>53.1000</td>\n",
       "      <td>S</td>\n",
       "      <td>woman</td>\n",
       "      <td>False</td>\n",
       "      <td>C</td>\n",
       "      <td>Southampton</td>\n",
       "      <td>False</td>\n",
       "    </tr>\n",
       "    <tr>\n",
       "      <th>4</th>\n",
       "      <td>0</td>\n",
       "      <td>3</td>\n",
       "      <td>male</td>\n",
       "      <td>35.0</td>\n",
       "      <td>0</td>\n",
       "      <td>0</td>\n",
       "      <td>8.0500</td>\n",
       "      <td>S</td>\n",
       "      <td>man</td>\n",
       "      <td>True</td>\n",
       "      <td>NaN</td>\n",
       "      <td>Southampton</td>\n",
       "      <td>True</td>\n",
       "    </tr>\n",
       "    <tr>\n",
       "      <th>...</th>\n",
       "      <td>...</td>\n",
       "      <td>...</td>\n",
       "      <td>...</td>\n",
       "      <td>...</td>\n",
       "      <td>...</td>\n",
       "      <td>...</td>\n",
       "      <td>...</td>\n",
       "      <td>...</td>\n",
       "      <td>...</td>\n",
       "      <td>...</td>\n",
       "      <td>...</td>\n",
       "      <td>...</td>\n",
       "      <td>...</td>\n",
       "    </tr>\n",
       "    <tr>\n",
       "      <th>886</th>\n",
       "      <td>0</td>\n",
       "      <td>2</td>\n",
       "      <td>male</td>\n",
       "      <td>27.0</td>\n",
       "      <td>0</td>\n",
       "      <td>0</td>\n",
       "      <td>13.0000</td>\n",
       "      <td>S</td>\n",
       "      <td>man</td>\n",
       "      <td>True</td>\n",
       "      <td>NaN</td>\n",
       "      <td>Southampton</td>\n",
       "      <td>True</td>\n",
       "    </tr>\n",
       "    <tr>\n",
       "      <th>887</th>\n",
       "      <td>1</td>\n",
       "      <td>1</td>\n",
       "      <td>female</td>\n",
       "      <td>19.0</td>\n",
       "      <td>0</td>\n",
       "      <td>0</td>\n",
       "      <td>30.0000</td>\n",
       "      <td>S</td>\n",
       "      <td>woman</td>\n",
       "      <td>False</td>\n",
       "      <td>B</td>\n",
       "      <td>Southampton</td>\n",
       "      <td>True</td>\n",
       "    </tr>\n",
       "    <tr>\n",
       "      <th>888</th>\n",
       "      <td>0</td>\n",
       "      <td>3</td>\n",
       "      <td>female</td>\n",
       "      <td>NaN</td>\n",
       "      <td>1</td>\n",
       "      <td>2</td>\n",
       "      <td>23.4500</td>\n",
       "      <td>S</td>\n",
       "      <td>woman</td>\n",
       "      <td>False</td>\n",
       "      <td>NaN</td>\n",
       "      <td>Southampton</td>\n",
       "      <td>False</td>\n",
       "    </tr>\n",
       "    <tr>\n",
       "      <th>889</th>\n",
       "      <td>1</td>\n",
       "      <td>1</td>\n",
       "      <td>male</td>\n",
       "      <td>26.0</td>\n",
       "      <td>0</td>\n",
       "      <td>0</td>\n",
       "      <td>30.0000</td>\n",
       "      <td>C</td>\n",
       "      <td>man</td>\n",
       "      <td>True</td>\n",
       "      <td>C</td>\n",
       "      <td>Cherbourg</td>\n",
       "      <td>True</td>\n",
       "    </tr>\n",
       "    <tr>\n",
       "      <th>890</th>\n",
       "      <td>0</td>\n",
       "      <td>3</td>\n",
       "      <td>male</td>\n",
       "      <td>32.0</td>\n",
       "      <td>0</td>\n",
       "      <td>0</td>\n",
       "      <td>7.7500</td>\n",
       "      <td>Q</td>\n",
       "      <td>man</td>\n",
       "      <td>True</td>\n",
       "      <td>NaN</td>\n",
       "      <td>Queenstown</td>\n",
       "      <td>True</td>\n",
       "    </tr>\n",
       "  </tbody>\n",
       "</table>\n",
       "<p>891 rows × 13 columns</p>\n",
       "</div>"
      ],
      "text/plain": [
       "     survived  pclass     sex   age  sibsp  parch     fare embarked    who  \\\n",
       "0           0       3    male  22.0      1      0   7.2500        S    man   \n",
       "1           1       1  female  38.0      1      0  71.2833        C  woman   \n",
       "2           1       3  female  26.0      0      0   7.9250        S  woman   \n",
       "3           1       1  female  35.0      1      0  53.1000        S  woman   \n",
       "4           0       3    male  35.0      0      0   8.0500        S    man   \n",
       "..        ...     ...     ...   ...    ...    ...      ...      ...    ...   \n",
       "886         0       2    male  27.0      0      0  13.0000        S    man   \n",
       "887         1       1  female  19.0      0      0  30.0000        S  woman   \n",
       "888         0       3  female   NaN      1      2  23.4500        S  woman   \n",
       "889         1       1    male  26.0      0      0  30.0000        C    man   \n",
       "890         0       3    male  32.0      0      0   7.7500        Q    man   \n",
       "\n",
       "     adult_male deck  embark_town  alone  \n",
       "0          True  NaN  Southampton  False  \n",
       "1         False    C    Cherbourg  False  \n",
       "2         False  NaN  Southampton   True  \n",
       "3         False    C  Southampton  False  \n",
       "4          True  NaN  Southampton   True  \n",
       "..          ...  ...          ...    ...  \n",
       "886        True  NaN  Southampton   True  \n",
       "887       False    B  Southampton   True  \n",
       "888       False  NaN  Southampton  False  \n",
       "889        True    C    Cherbourg   True  \n",
       "890        True  NaN   Queenstown   True  \n",
       "\n",
       "[891 rows x 13 columns]"
      ]
     },
     "execution_count": 20,
     "metadata": {},
     "output_type": "execute_result"
    }
   ],
   "source": [
    "# 중복 컬럼 삭제 : class, alive \n",
    "# 판다스 drop 함수 활용 : ['class', 'alive'], axis=1, inplace=True\n",
    "\n",
    "data.drop(['class', 'alive'], axis=1, inplace=True)\n",
    "data"
   ]
  },
  {
   "cell_type": "code",
   "execution_count": 22,
   "metadata": {
    "id": "LgS-Od1_QHMY"
   },
   "outputs": [
    {
     "data": {
      "text/html": [
       "<div>\n",
       "<style scoped>\n",
       "    .dataframe tbody tr th:only-of-type {\n",
       "        vertical-align: middle;\n",
       "    }\n",
       "\n",
       "    .dataframe tbody tr th {\n",
       "        vertical-align: top;\n",
       "    }\n",
       "\n",
       "    .dataframe thead th {\n",
       "        text-align: right;\n",
       "    }\n",
       "</style>\n",
       "<table border=\"1\" class=\"dataframe\">\n",
       "  <thead>\n",
       "    <tr style=\"text-align: right;\">\n",
       "      <th></th>\n",
       "      <th>survived</th>\n",
       "      <th>pclass</th>\n",
       "      <th>sex</th>\n",
       "      <th>age</th>\n",
       "      <th>sibsp</th>\n",
       "      <th>parch</th>\n",
       "      <th>fare</th>\n",
       "    </tr>\n",
       "  </thead>\n",
       "  <tbody>\n",
       "    <tr>\n",
       "      <th>0</th>\n",
       "      <td>0</td>\n",
       "      <td>3</td>\n",
       "      <td>male</td>\n",
       "      <td>22.0</td>\n",
       "      <td>1</td>\n",
       "      <td>0</td>\n",
       "      <td>7.2500</td>\n",
       "    </tr>\n",
       "    <tr>\n",
       "      <th>1</th>\n",
       "      <td>1</td>\n",
       "      <td>1</td>\n",
       "      <td>female</td>\n",
       "      <td>38.0</td>\n",
       "      <td>1</td>\n",
       "      <td>0</td>\n",
       "      <td>71.2833</td>\n",
       "    </tr>\n",
       "    <tr>\n",
       "      <th>2</th>\n",
       "      <td>1</td>\n",
       "      <td>3</td>\n",
       "      <td>female</td>\n",
       "      <td>26.0</td>\n",
       "      <td>0</td>\n",
       "      <td>0</td>\n",
       "      <td>7.9250</td>\n",
       "    </tr>\n",
       "    <tr>\n",
       "      <th>3</th>\n",
       "      <td>1</td>\n",
       "      <td>1</td>\n",
       "      <td>female</td>\n",
       "      <td>35.0</td>\n",
       "      <td>1</td>\n",
       "      <td>0</td>\n",
       "      <td>53.1000</td>\n",
       "    </tr>\n",
       "    <tr>\n",
       "      <th>4</th>\n",
       "      <td>0</td>\n",
       "      <td>3</td>\n",
       "      <td>male</td>\n",
       "      <td>35.0</td>\n",
       "      <td>0</td>\n",
       "      <td>0</td>\n",
       "      <td>8.0500</td>\n",
       "    </tr>\n",
       "    <tr>\n",
       "      <th>...</th>\n",
       "      <td>...</td>\n",
       "      <td>...</td>\n",
       "      <td>...</td>\n",
       "      <td>...</td>\n",
       "      <td>...</td>\n",
       "      <td>...</td>\n",
       "      <td>...</td>\n",
       "    </tr>\n",
       "    <tr>\n",
       "      <th>886</th>\n",
       "      <td>0</td>\n",
       "      <td>2</td>\n",
       "      <td>male</td>\n",
       "      <td>27.0</td>\n",
       "      <td>0</td>\n",
       "      <td>0</td>\n",
       "      <td>13.0000</td>\n",
       "    </tr>\n",
       "    <tr>\n",
       "      <th>887</th>\n",
       "      <td>1</td>\n",
       "      <td>1</td>\n",
       "      <td>female</td>\n",
       "      <td>19.0</td>\n",
       "      <td>0</td>\n",
       "      <td>0</td>\n",
       "      <td>30.0000</td>\n",
       "    </tr>\n",
       "    <tr>\n",
       "      <th>888</th>\n",
       "      <td>0</td>\n",
       "      <td>3</td>\n",
       "      <td>female</td>\n",
       "      <td>NaN</td>\n",
       "      <td>1</td>\n",
       "      <td>2</td>\n",
       "      <td>23.4500</td>\n",
       "    </tr>\n",
       "    <tr>\n",
       "      <th>889</th>\n",
       "      <td>1</td>\n",
       "      <td>1</td>\n",
       "      <td>male</td>\n",
       "      <td>26.0</td>\n",
       "      <td>0</td>\n",
       "      <td>0</td>\n",
       "      <td>30.0000</td>\n",
       "    </tr>\n",
       "    <tr>\n",
       "      <th>890</th>\n",
       "      <td>0</td>\n",
       "      <td>3</td>\n",
       "      <td>male</td>\n",
       "      <td>32.0</td>\n",
       "      <td>0</td>\n",
       "      <td>0</td>\n",
       "      <td>7.7500</td>\n",
       "    </tr>\n",
       "  </tbody>\n",
       "</table>\n",
       "<p>891 rows × 7 columns</p>\n",
       "</div>"
      ],
      "text/plain": [
       "     survived  pclass     sex   age  sibsp  parch     fare\n",
       "0           0       3    male  22.0      1      0   7.2500\n",
       "1           1       1  female  38.0      1      0  71.2833\n",
       "2           1       3  female  26.0      0      0   7.9250\n",
       "3           1       1  female  35.0      1      0  53.1000\n",
       "4           0       3    male  35.0      0      0   8.0500\n",
       "..        ...     ...     ...   ...    ...    ...      ...\n",
       "886         0       2    male  27.0      0      0  13.0000\n",
       "887         1       1  female  19.0      0      0  30.0000\n",
       "888         0       3  female   NaN      1      2  23.4500\n",
       "889         1       1    male  26.0      0      0  30.0000\n",
       "890         0       3    male  32.0      0      0   7.7500\n",
       "\n",
       "[891 rows x 7 columns]"
      ]
     },
     "execution_count": 22,
     "metadata": {},
     "output_type": "execute_result"
    }
   ],
   "source": [
    "# 내용을 간단하기 위해서 편의대로 컬럼을 drop함수 활용하여 삭제 : 'embarked', 'who', 'adult_male', 'deck', 'embark_town', 'alone'\n",
    "# 옵션 : axis=1, inplace=True\n",
    "\n",
    "drop_1 = ['embarked', 'who', 'adult_male', 'deck', 'embark_town', 'alone']\n",
    "data.drop(drop_1, axis=1, inplace=True)\n",
    "data"
   ]
  },
  {
   "cell_type": "code",
   "execution_count": 23,
   "metadata": {
    "colab": {
     "base_uri": "https://localhost:8080/",
     "height": 206
    },
    "executionInfo": {
     "elapsed": 22,
     "status": "ok",
     "timestamp": 1649059497250,
     "user": {
      "displayName": "yunwoo oh",
      "userId": "01035531558844683999"
     },
     "user_tz": -540
    },
    "id": "u_ax8H4bQHJx",
    "outputId": "487955d2-b0e1-4b65-9e48-c7e1ecde05e7"
   },
   "outputs": [
    {
     "data": {
      "text/html": [
       "<div>\n",
       "<style scoped>\n",
       "    .dataframe tbody tr th:only-of-type {\n",
       "        vertical-align: middle;\n",
       "    }\n",
       "\n",
       "    .dataframe tbody tr th {\n",
       "        vertical-align: top;\n",
       "    }\n",
       "\n",
       "    .dataframe thead th {\n",
       "        text-align: right;\n",
       "    }\n",
       "</style>\n",
       "<table border=\"1\" class=\"dataframe\">\n",
       "  <thead>\n",
       "    <tr style=\"text-align: right;\">\n",
       "      <th></th>\n",
       "      <th>survived</th>\n",
       "      <th>pclass</th>\n",
       "      <th>sex</th>\n",
       "      <th>age</th>\n",
       "      <th>sibsp</th>\n",
       "      <th>parch</th>\n",
       "      <th>fare</th>\n",
       "    </tr>\n",
       "  </thead>\n",
       "  <tbody>\n",
       "    <tr>\n",
       "      <th>0</th>\n",
       "      <td>0</td>\n",
       "      <td>3</td>\n",
       "      <td>male</td>\n",
       "      <td>22.0</td>\n",
       "      <td>1</td>\n",
       "      <td>0</td>\n",
       "      <td>7.2500</td>\n",
       "    </tr>\n",
       "    <tr>\n",
       "      <th>1</th>\n",
       "      <td>1</td>\n",
       "      <td>1</td>\n",
       "      <td>female</td>\n",
       "      <td>38.0</td>\n",
       "      <td>1</td>\n",
       "      <td>0</td>\n",
       "      <td>71.2833</td>\n",
       "    </tr>\n",
       "    <tr>\n",
       "      <th>2</th>\n",
       "      <td>1</td>\n",
       "      <td>3</td>\n",
       "      <td>female</td>\n",
       "      <td>26.0</td>\n",
       "      <td>0</td>\n",
       "      <td>0</td>\n",
       "      <td>7.9250</td>\n",
       "    </tr>\n",
       "    <tr>\n",
       "      <th>3</th>\n",
       "      <td>1</td>\n",
       "      <td>1</td>\n",
       "      <td>female</td>\n",
       "      <td>35.0</td>\n",
       "      <td>1</td>\n",
       "      <td>0</td>\n",
       "      <td>53.1000</td>\n",
       "    </tr>\n",
       "    <tr>\n",
       "      <th>4</th>\n",
       "      <td>0</td>\n",
       "      <td>3</td>\n",
       "      <td>male</td>\n",
       "      <td>35.0</td>\n",
       "      <td>0</td>\n",
       "      <td>0</td>\n",
       "      <td>8.0500</td>\n",
       "    </tr>\n",
       "  </tbody>\n",
       "</table>\n",
       "</div>"
      ],
      "text/plain": [
       "   survived  pclass     sex   age  sibsp  parch     fare\n",
       "0         0       3    male  22.0      1      0   7.2500\n",
       "1         1       1  female  38.0      1      0  71.2833\n",
       "2         1       3  female  26.0      0      0   7.9250\n",
       "3         1       1  female  35.0      1      0  53.1000\n",
       "4         0       3    male  35.0      0      0   8.0500"
      ]
     },
     "execution_count": 23,
     "metadata": {},
     "output_type": "execute_result"
    }
   ],
   "source": [
    "# 타이타닉 내용 앞 5개 보기 : head 함수\n",
    "data.head()\n",
    "\n"
   ]
  },
  {
   "cell_type": "code",
   "execution_count": 24,
   "metadata": {
    "id": "_BeJ6ZN-QHGp"
   },
   "outputs": [],
   "source": [
    "# sex 컬럼에 대해 male : 0 , female : 1로 변환 \n",
    "# 판다스 replace 함수 활용 : ['male', 'female'], [0, 1], inplace=True\n",
    "\n",
    "data['sex'] = data['sex'].replace({'male':0\n",
    "                                  ,'female':1})\n"
   ]
  },
  {
   "cell_type": "code",
   "execution_count": 25,
   "metadata": {
    "colab": {
     "base_uri": "https://localhost:8080/",
     "height": 206
    },
    "executionInfo": {
     "elapsed": 21,
     "status": "ok",
     "timestamp": 1649059497250,
     "user": {
      "displayName": "yunwoo oh",
      "userId": "01035531558844683999"
     },
     "user_tz": -540
    },
    "id": "q9A1TWv8QHEH",
    "outputId": "079771c1-8e34-41e4-b024-78c563c81a1e"
   },
   "outputs": [
    {
     "data": {
      "text/html": [
       "<div>\n",
       "<style scoped>\n",
       "    .dataframe tbody tr th:only-of-type {\n",
       "        vertical-align: middle;\n",
       "    }\n",
       "\n",
       "    .dataframe tbody tr th {\n",
       "        vertical-align: top;\n",
       "    }\n",
       "\n",
       "    .dataframe thead th {\n",
       "        text-align: right;\n",
       "    }\n",
       "</style>\n",
       "<table border=\"1\" class=\"dataframe\">\n",
       "  <thead>\n",
       "    <tr style=\"text-align: right;\">\n",
       "      <th></th>\n",
       "      <th>survived</th>\n",
       "      <th>pclass</th>\n",
       "      <th>sex</th>\n",
       "      <th>age</th>\n",
       "      <th>sibsp</th>\n",
       "      <th>parch</th>\n",
       "      <th>fare</th>\n",
       "    </tr>\n",
       "  </thead>\n",
       "  <tbody>\n",
       "    <tr>\n",
       "      <th>886</th>\n",
       "      <td>0</td>\n",
       "      <td>2</td>\n",
       "      <td>0</td>\n",
       "      <td>27.0</td>\n",
       "      <td>0</td>\n",
       "      <td>0</td>\n",
       "      <td>13.00</td>\n",
       "    </tr>\n",
       "    <tr>\n",
       "      <th>887</th>\n",
       "      <td>1</td>\n",
       "      <td>1</td>\n",
       "      <td>1</td>\n",
       "      <td>19.0</td>\n",
       "      <td>0</td>\n",
       "      <td>0</td>\n",
       "      <td>30.00</td>\n",
       "    </tr>\n",
       "    <tr>\n",
       "      <th>888</th>\n",
       "      <td>0</td>\n",
       "      <td>3</td>\n",
       "      <td>1</td>\n",
       "      <td>NaN</td>\n",
       "      <td>1</td>\n",
       "      <td>2</td>\n",
       "      <td>23.45</td>\n",
       "    </tr>\n",
       "    <tr>\n",
       "      <th>889</th>\n",
       "      <td>1</td>\n",
       "      <td>1</td>\n",
       "      <td>0</td>\n",
       "      <td>26.0</td>\n",
       "      <td>0</td>\n",
       "      <td>0</td>\n",
       "      <td>30.00</td>\n",
       "    </tr>\n",
       "    <tr>\n",
       "      <th>890</th>\n",
       "      <td>0</td>\n",
       "      <td>3</td>\n",
       "      <td>0</td>\n",
       "      <td>32.0</td>\n",
       "      <td>0</td>\n",
       "      <td>0</td>\n",
       "      <td>7.75</td>\n",
       "    </tr>\n",
       "  </tbody>\n",
       "</table>\n",
       "</div>"
      ],
      "text/plain": [
       "     survived  pclass  sex   age  sibsp  parch   fare\n",
       "886         0       2    0  27.0      0      0  13.00\n",
       "887         1       1    1  19.0      0      0  30.00\n",
       "888         0       3    1   NaN      1      2  23.45\n",
       "889         1       1    0  26.0      0      0  30.00\n",
       "890         0       3    0  32.0      0      0   7.75"
      ]
     },
     "execution_count": 25,
     "metadata": {},
     "output_type": "execute_result"
    }
   ],
   "source": [
    "# 타이타닉 내용 뒤 5개 보기 : tail 함수\n",
    "\n",
    "data.tail()\n"
   ]
  },
  {
   "cell_type": "code",
   "execution_count": 26,
   "metadata": {
    "colab": {
     "base_uri": "https://localhost:8080/"
    },
    "executionInfo": {
     "elapsed": 22,
     "status": "ok",
     "timestamp": 1649059497251,
     "user": {
      "displayName": "yunwoo oh",
      "userId": "01035531558844683999"
     },
     "user_tz": -540
    },
    "id": "oXKWqqiiSVOD",
    "outputId": "6be83977-cf4c-45a4-a493-dcc8c21e6138"
   },
   "outputs": [
    {
     "data": {
      "text/plain": [
       "survived      0\n",
       "pclass        0\n",
       "sex           0\n",
       "age         177\n",
       "sibsp         0\n",
       "parch         0\n",
       "fare          0\n",
       "dtype: int64"
      ]
     },
     "execution_count": 26,
     "metadata": {},
     "output_type": "execute_result"
    }
   ],
   "source": [
    "# null 여부 확인 \n",
    "\n",
    "data.isnull().sum()\n"
   ]
  },
  {
   "cell_type": "code",
   "execution_count": 28,
   "metadata": {
    "id": "Jl1Uwwg9SVK6"
   },
   "outputs": [],
   "source": [
    "# 1. age컬럼에 대한 평균값 구하고 age_mean 변수에 저장\n",
    "# 2. 판다스 fillna로 age 중간값으로 채우자. (inplace=True)\n",
    "\n",
    "age_mean = data['age'].mean()\n",
    "data['age'].fillna(age_mean, inplace=True)"
   ]
  },
  {
   "cell_type": "code",
   "execution_count": 29,
   "metadata": {
    "colab": {
     "base_uri": "https://localhost:8080/"
    },
    "executionInfo": {
     "elapsed": 23,
     "status": "ok",
     "timestamp": 1649059497255,
     "user": {
      "displayName": "yunwoo oh",
      "userId": "01035531558844683999"
     },
     "user_tz": -540
    },
    "id": "7aqTsLq0SVIC",
    "outputId": "ba4595a7-88c6-44b0-dbcb-34ecb9b2ebbf"
   },
   "outputs": [
    {
     "data": {
      "text/plain": [
       "survived    0\n",
       "pclass      0\n",
       "sex         0\n",
       "age         0\n",
       "sibsp       0\n",
       "parch       0\n",
       "fare        0\n",
       "dtype: int64"
      ]
     },
     "execution_count": 29,
     "metadata": {},
     "output_type": "execute_result"
    }
   ],
   "source": [
    "# null 여부 다시 확인\n",
    "\n",
    "data.isna().sum()\n"
   ]
  },
  {
   "cell_type": "markdown",
   "metadata": {
    "id": "Dso_eoKDM_HS"
   },
   "source": [
    "# 4. X, y 나누기\n",
    "- 지도학습 경우 데이터와 정답이 있어야 합니다.\n",
    "- 데이터에 해당하는 X와 정답에 해당하는 y가 있어야 합니다.\n",
    "- 아래와 같이 판다스를 이용하면 X, y를 쉽게 나눌수 있어요"
   ]
  },
  {
   "cell_type": "code",
   "execution_count": 30,
   "metadata": {
    "colab": {
     "base_uri": "https://localhost:8080/",
     "height": 206
    },
    "executionInfo": {
     "elapsed": 23,
     "status": "ok",
     "timestamp": 1649059497256,
     "user": {
      "displayName": "yunwoo oh",
      "userId": "01035531558844683999"
     },
     "user_tz": -540
    },
    "id": "Cv1pnGNEJdcX",
    "outputId": "4fe6a267-7eed-41bf-92b4-13cd09367641"
   },
   "outputs": [
    {
     "data": {
      "text/html": [
       "<div>\n",
       "<style scoped>\n",
       "    .dataframe tbody tr th:only-of-type {\n",
       "        vertical-align: middle;\n",
       "    }\n",
       "\n",
       "    .dataframe tbody tr th {\n",
       "        vertical-align: top;\n",
       "    }\n",
       "\n",
       "    .dataframe thead th {\n",
       "        text-align: right;\n",
       "    }\n",
       "</style>\n",
       "<table border=\"1\" class=\"dataframe\">\n",
       "  <thead>\n",
       "    <tr style=\"text-align: right;\">\n",
       "      <th></th>\n",
       "      <th>survived</th>\n",
       "      <th>pclass</th>\n",
       "      <th>sex</th>\n",
       "      <th>age</th>\n",
       "      <th>sibsp</th>\n",
       "      <th>parch</th>\n",
       "      <th>fare</th>\n",
       "    </tr>\n",
       "  </thead>\n",
       "  <tbody>\n",
       "    <tr>\n",
       "      <th>0</th>\n",
       "      <td>0</td>\n",
       "      <td>3</td>\n",
       "      <td>0</td>\n",
       "      <td>22.0</td>\n",
       "      <td>1</td>\n",
       "      <td>0</td>\n",
       "      <td>7.2500</td>\n",
       "    </tr>\n",
       "    <tr>\n",
       "      <th>1</th>\n",
       "      <td>1</td>\n",
       "      <td>1</td>\n",
       "      <td>1</td>\n",
       "      <td>38.0</td>\n",
       "      <td>1</td>\n",
       "      <td>0</td>\n",
       "      <td>71.2833</td>\n",
       "    </tr>\n",
       "    <tr>\n",
       "      <th>2</th>\n",
       "      <td>1</td>\n",
       "      <td>3</td>\n",
       "      <td>1</td>\n",
       "      <td>26.0</td>\n",
       "      <td>0</td>\n",
       "      <td>0</td>\n",
       "      <td>7.9250</td>\n",
       "    </tr>\n",
       "    <tr>\n",
       "      <th>3</th>\n",
       "      <td>1</td>\n",
       "      <td>1</td>\n",
       "      <td>1</td>\n",
       "      <td>35.0</td>\n",
       "      <td>1</td>\n",
       "      <td>0</td>\n",
       "      <td>53.1000</td>\n",
       "    </tr>\n",
       "    <tr>\n",
       "      <th>4</th>\n",
       "      <td>0</td>\n",
       "      <td>3</td>\n",
       "      <td>0</td>\n",
       "      <td>35.0</td>\n",
       "      <td>0</td>\n",
       "      <td>0</td>\n",
       "      <td>8.0500</td>\n",
       "    </tr>\n",
       "  </tbody>\n",
       "</table>\n",
       "</div>"
      ],
      "text/plain": [
       "   survived  pclass  sex   age  sibsp  parch     fare\n",
       "0         0       3    0  22.0      1      0   7.2500\n",
       "1         1       1    1  38.0      1      0  71.2833\n",
       "2         1       3    1  26.0      0      0   7.9250\n",
       "3         1       1    1  35.0      1      0  53.1000\n",
       "4         0       3    0  35.0      0      0   8.0500"
      ]
     },
     "execution_count": 30,
     "metadata": {},
     "output_type": "execute_result"
    }
   ],
   "source": [
    "# 다시 한번 타이타닉 데이터셋 보기\n",
    "# 타이타닉 데이터 앞 5개 보기 : head 함수\n",
    "data.head()\n",
    "\n"
   ]
  },
  {
   "cell_type": "code",
   "execution_count": 31,
   "metadata": {
    "id": "jezSR6XXJdfF"
   },
   "outputs": [],
   "source": [
    "# X 분리 \n",
    "# 판다스 drop 함수 활용하여 'survived' 컬럼 삭제하고 나머지를 X에 저장\n",
    "\n",
    "target = 'survived'\n",
    "\n",
    "x = data.drop(target, axis=1)"
   ]
  },
  {
   "cell_type": "code",
   "execution_count": 32,
   "metadata": {
    "colab": {
     "base_uri": "https://localhost:8080/",
     "height": 206
    },
    "executionInfo": {
     "elapsed": 22,
     "status": "ok",
     "timestamp": 1649059497256,
     "user": {
      "displayName": "yunwoo oh",
      "userId": "01035531558844683999"
     },
     "user_tz": -540
    },
    "id": "Mn-HcV07Jdhk",
    "outputId": "ea8885d0-6296-429d-cd95-04ddb09a71c8"
   },
   "outputs": [
    {
     "data": {
      "text/html": [
       "<div>\n",
       "<style scoped>\n",
       "    .dataframe tbody tr th:only-of-type {\n",
       "        vertical-align: middle;\n",
       "    }\n",
       "\n",
       "    .dataframe tbody tr th {\n",
       "        vertical-align: top;\n",
       "    }\n",
       "\n",
       "    .dataframe thead th {\n",
       "        text-align: right;\n",
       "    }\n",
       "</style>\n",
       "<table border=\"1\" class=\"dataframe\">\n",
       "  <thead>\n",
       "    <tr style=\"text-align: right;\">\n",
       "      <th></th>\n",
       "      <th>pclass</th>\n",
       "      <th>sex</th>\n",
       "      <th>age</th>\n",
       "      <th>sibsp</th>\n",
       "      <th>parch</th>\n",
       "      <th>fare</th>\n",
       "    </tr>\n",
       "  </thead>\n",
       "  <tbody>\n",
       "    <tr>\n",
       "      <th>0</th>\n",
       "      <td>3</td>\n",
       "      <td>0</td>\n",
       "      <td>22.0</td>\n",
       "      <td>1</td>\n",
       "      <td>0</td>\n",
       "      <td>7.2500</td>\n",
       "    </tr>\n",
       "    <tr>\n",
       "      <th>1</th>\n",
       "      <td>1</td>\n",
       "      <td>1</td>\n",
       "      <td>38.0</td>\n",
       "      <td>1</td>\n",
       "      <td>0</td>\n",
       "      <td>71.2833</td>\n",
       "    </tr>\n",
       "    <tr>\n",
       "      <th>2</th>\n",
       "      <td>3</td>\n",
       "      <td>1</td>\n",
       "      <td>26.0</td>\n",
       "      <td>0</td>\n",
       "      <td>0</td>\n",
       "      <td>7.9250</td>\n",
       "    </tr>\n",
       "    <tr>\n",
       "      <th>3</th>\n",
       "      <td>1</td>\n",
       "      <td>1</td>\n",
       "      <td>35.0</td>\n",
       "      <td>1</td>\n",
       "      <td>0</td>\n",
       "      <td>53.1000</td>\n",
       "    </tr>\n",
       "    <tr>\n",
       "      <th>4</th>\n",
       "      <td>3</td>\n",
       "      <td>0</td>\n",
       "      <td>35.0</td>\n",
       "      <td>0</td>\n",
       "      <td>0</td>\n",
       "      <td>8.0500</td>\n",
       "    </tr>\n",
       "  </tbody>\n",
       "</table>\n",
       "</div>"
      ],
      "text/plain": [
       "   pclass  sex   age  sibsp  parch     fare\n",
       "0       3    0  22.0      1      0   7.2500\n",
       "1       1    1  38.0      1      0  71.2833\n",
       "2       3    1  26.0      0      0   7.9250\n",
       "3       1    1  35.0      1      0  53.1000\n",
       "4       3    0  35.0      0      0   8.0500"
      ]
     },
     "execution_count": 32,
     "metadata": {},
     "output_type": "execute_result"
    }
   ],
   "source": [
    "# 분리된 X 데이터 앞 5개 보기 : head 함수\n",
    "\n",
    "x.head()\n"
   ]
  },
  {
   "cell_type": "code",
   "execution_count": 33,
   "metadata": {
    "id": "hh6e4OZlJdkc"
   },
   "outputs": [],
   "source": [
    "# y 분리 \n",
    "# survived 컬럼값을 y에 저장한다.\n",
    "\n",
    "y = data.loc[:, target]\n"
   ]
  },
  {
   "cell_type": "code",
   "execution_count": 34,
   "metadata": {
    "colab": {
     "base_uri": "https://localhost:8080/"
    },
    "executionInfo": {
     "elapsed": 22,
     "status": "ok",
     "timestamp": 1649059497257,
     "user": {
      "displayName": "yunwoo oh",
      "userId": "01035531558844683999"
     },
     "user_tz": -540
    },
    "id": "Ljxia0PhJdnF",
    "outputId": "03b9a5a2-6eca-4e5d-cfe3-8ce14115739e"
   },
   "outputs": [
    {
     "data": {
      "text/plain": [
       "0      0\n",
       "1      1\n",
       "2      1\n",
       "3      1\n",
       "4      0\n",
       "      ..\n",
       "886    0\n",
       "887    1\n",
       "888    0\n",
       "889    1\n",
       "890    0\n",
       "Name: survived, Length: 891, dtype: int64"
      ]
     },
     "execution_count": 34,
     "metadata": {},
     "output_type": "execute_result"
    }
   ],
   "source": [
    "# 분리된 y 확인\n",
    "y\n"
   ]
  },
  {
   "cell_type": "code",
   "execution_count": 37,
   "metadata": {
    "id": "xuKHL_8mwCHg"
   },
   "outputs": [],
   "source": [
    "# Series, DataFrame 형태를 numpy array 변경하기 \n",
    "# 뒤쪽에서 타입이 맞지 않아서 에러 날수 있기 때문에\n",
    "# X.values , y.values --> X , y 입력\n",
    "\n",
    "x = x.values\n",
    "y = y.values"
   ]
  },
  {
   "cell_type": "code",
   "execution_count": 39,
   "metadata": {
    "colab": {
     "base_uri": "https://localhost:8080/"
    },
    "executionInfo": {
     "elapsed": 21,
     "status": "ok",
     "timestamp": 1649059497258,
     "user": {
      "displayName": "yunwoo oh",
      "userId": "01035531558844683999"
     },
     "user_tz": -540
    },
    "id": "MUjrp_fbwmXw",
    "outputId": "1a0e261c-2162-4bbe-ef9f-09ae008bcb9a"
   },
   "outputs": [
    {
     "name": "stdout",
     "output_type": "stream",
     "text": [
      "[[ 3.      0.     22.      1.      0.      7.25  ]\n",
      " [ 1.      1.     38.      1.      0.     71.2833]]\n",
      "[0 1]\n"
     ]
    }
   ],
   "source": [
    "print(x[:2])\n",
    "print(y[:2])"
   ]
  },
  {
   "cell_type": "markdown",
   "metadata": {
    "id": "1HomJYHgTwhm"
   },
   "source": [
    "---"
   ]
  },
  {
   "cell_type": "markdown",
   "metadata": {
    "id": "yv2O9eSjTwTP"
   },
   "source": [
    "# 5. Train , Test 데이터셋 나누기\n",
    "- 데이터를 가지고 모델을 학습 시키고 나서 모델 평가를 해야 하는데\n",
    "- 모델이 학습한 데이터를 가지고 평가를 하지 않고 \n",
    "- 모델이 모르는 데이터로 평가를 해야 공정하고 평가 결과가 잘 나온다면 배포(일반화) 가능하다."
   ]
  },
  {
   "cell_type": "code",
   "execution_count": 40,
   "metadata": {
    "id": "67EKq0wtT-Ip"
   },
   "outputs": [],
   "source": [
    "# Train / Test 데이터셋 나누어주는 함수 : train_test_split\n",
    "\n",
    "from sklearn.model_selection import train_test_split"
   ]
  },
  {
   "cell_type": "code",
   "execution_count": 41,
   "metadata": {
    "id": "Nvn0qV7AT-EP"
   },
   "outputs": [],
   "source": [
    "# train_test_split 함수 활용\n",
    "# 입력 : X, y \n",
    "# Train : Test => 8 : 2  비율로 나누기 : test_size=0.2\n",
    "# 매번 같은 결과 나오도록 값 고정 : random_state=42\n",
    "# 결과 저장 : X_train, X_test, y_train, y_test\n",
    "\n",
    "x_train, x_test, y_train, y_test = train_test_split(x, y, test_size=0.2,\n",
    "                                                   random_state=42)\n",
    "\n"
   ]
  },
  {
   "cell_type": "code",
   "execution_count": 42,
   "metadata": {
    "colab": {
     "base_uri": "https://localhost:8080/"
    },
    "executionInfo": {
     "elapsed": 6,
     "status": "ok",
     "timestamp": 1649059497619,
     "user": {
      "displayName": "yunwoo oh",
      "userId": "01035531558844683999"
     },
     "user_tz": -540
    },
    "id": "XF2C537KT-Bp",
    "outputId": "8570c615-7e76-4110-a99c-a013ba5c193b"
   },
   "outputs": [
    {
     "data": {
      "text/plain": [
       "(712, 6)"
      ]
     },
     "execution_count": 42,
     "metadata": {},
     "output_type": "execute_result"
    }
   ],
   "source": [
    "# Train 과 Test 데이터셋 사이즈 확인\n",
    "# X_train.shape, X_test.shape, y_train.shape, y_test.shape 확인\n",
    "\n",
    "x_train.shape\n"
   ]
  },
  {
   "cell_type": "markdown",
   "metadata": {
    "id": "D09MIrrx4XPT"
   },
   "source": [
    "---"
   ]
  },
  {
   "cell_type": "markdown",
   "metadata": {
    "id": "fn-wa12h4XkZ"
   },
   "source": [
    "# 6. 머신러닝 모델링\n",
    "- DecisionTree 결정트리\n",
    "- RandomForest 앙상블"
   ]
  },
  {
   "cell_type": "markdown",
   "metadata": {
    "id": "QjxLNoAM9Y48"
   },
   "source": [
    "#### DecisionTree"
   ]
  },
  {
   "cell_type": "markdown",
   "metadata": {
    "id": "U5m8_YDK47kF"
   },
   "source": [
    "![결정트리](http://gavinln.github.io/blog-site/img/decision_trees/tree-depth-2.png)"
   ]
  },
  {
   "cell_type": "code",
   "execution_count": 43,
   "metadata": {
    "id": "CcrjpZUJtP9E"
   },
   "outputs": [],
   "source": [
    "# DecisionTree 머신러닝 모델링\n",
    "from sklearn.tree import DecisionTreeClassifier"
   ]
  },
  {
   "cell_type": "code",
   "execution_count": 44,
   "metadata": {
    "colab": {
     "base_uri": "https://localhost:8080/"
    },
    "executionInfo": {
     "elapsed": 5,
     "status": "ok",
     "timestamp": 1649059497619,
     "user": {
      "displayName": "yunwoo oh",
      "userId": "01035531558844683999"
     },
     "user_tz": -540
    },
    "id": "dQ6Up1i6Jdqs",
    "outputId": "d5163cb3-6d2f-4216-99d1-0a4721671204"
   },
   "outputs": [
    {
     "data": {
      "text/plain": [
       "0.7597765363128491"
      ]
     },
     "execution_count": 44,
     "metadata": {},
     "output_type": "execute_result"
    }
   ],
   "source": [
    "# 1. DecisionTreeClassifier 모델 정의 -> dt 저장\n",
    "# 2. dt 모델 학습(fit) : X_train, y_train\n",
    "# 3. dt 모델 성능확인(score) : X_test, y_test\n",
    "\n",
    "model_dt = DecisionTreeClassifier()\n",
    "model_dt.fit(x_train, y_train)\n",
    "model_dt.score(x_test, y_test)"
   ]
  },
  {
   "cell_type": "markdown",
   "metadata": {
    "id": "M5rch0yM9c1b"
   },
   "source": [
    "#### RandomForest"
   ]
  },
  {
   "cell_type": "markdown",
   "metadata": {
    "id": "fb45zXH99gzk"
   },
   "source": [
    "![RandomForest](https://img1.daumcdn.net/thumb/R1280x0/?scode=mtistory2&fname=https%3A%2F%2Fblog.kakaocdn.net%2Fdn%2FdDE2Rk%2FbtqvUzlulvU%2F6UbCGO8rHAhDJDCE3dyRr0%2Fimg.png)"
   ]
  },
  {
   "cell_type": "code",
   "execution_count": 45,
   "metadata": {
    "id": "FE63-KpUuwfM"
   },
   "outputs": [],
   "source": [
    "# RandomForest 머신러닝 모델링\n",
    "from sklearn.ensemble import RandomForestClassifier"
   ]
  },
  {
   "cell_type": "code",
   "execution_count": 46,
   "metadata": {
    "colab": {
     "base_uri": "https://localhost:8080/"
    },
    "executionInfo": {
     "elapsed": 374,
     "status": "ok",
     "timestamp": 1649059498373,
     "user": {
      "displayName": "yunwoo oh",
      "userId": "01035531558844683999"
     },
     "user_tz": -540
    },
    "id": "zN6yO2Zj9f5D",
    "outputId": "f9589add-1fb2-4adc-ce30-bcb9b167cd98"
   },
   "outputs": [
    {
     "data": {
      "text/plain": [
       "0.8044692737430168"
      ]
     },
     "execution_count": 46,
     "metadata": {},
     "output_type": "execute_result"
    }
   ],
   "source": [
    "# 1. RandomForestClassifier 모델 정의 -> rf 저장\n",
    "# 2. rf 모델 학습(fit) : X_train, y_train\n",
    "# 3. rf 모델 성능확인(score) : X_test, y_test\n",
    "\n",
    "model_rf = RandomForestClassifier()\n",
    "model_rf.fit(x_train, y_train)\n",
    "model_rf.score(x_test, y_test)"
   ]
  },
  {
   "cell_type": "code",
   "execution_count": 47,
   "metadata": {
    "colab": {
     "base_uri": "https://localhost:8080/"
    },
    "executionInfo": {
     "elapsed": 8,
     "status": "ok",
     "timestamp": 1649059498373,
     "user": {
      "displayName": "yunwoo oh",
      "userId": "01035531558844683999"
     },
     "user_tz": -540
    },
    "id": "Y3DiRXasw6fJ",
    "outputId": "6f671174-f8ef-4b25-ecb5-5817a04c1223"
   },
   "outputs": [
    {
     "data": {
      "text/plain": [
       "array([ 3.        ,  0.        , 29.69911765,  1.        ,  1.        ,\n",
       "       15.2458    ])"
      ]
     },
     "execution_count": 47,
     "metadata": {},
     "output_type": "execute_result"
    }
   ],
   "source": [
    "# X_test 첫번째 데이터 보기\n",
    "\n",
    "x_test[0]\n"
   ]
  },
  {
   "cell_type": "code",
   "execution_count": 49,
   "metadata": {
    "colab": {
     "base_uri": "https://localhost:8080/"
    },
    "executionInfo": {
     "elapsed": 4,
     "status": "ok",
     "timestamp": 1649059498373,
     "user": {
      "displayName": "yunwoo oh",
      "userId": "01035531558844683999"
     },
     "user_tz": -540
    },
    "id": "P0yLt7db9f2z",
    "outputId": "2a3fcbdd-cc1c-4477-a8ef-53ea0464ab0e"
   },
   "outputs": [
    {
     "data": {
      "text/plain": [
       "array([0], dtype=int64)"
      ]
     },
     "execution_count": 49,
     "metadata": {},
     "output_type": "execute_result"
    }
   ],
   "source": [
    "# 예측해 보기\n",
    "# rf 모델 predict 함수 활용 \n",
    "# 입력 : 첫번재 데이터 --> [X_test[0]]\n",
    "# 예측 결과를 rf_pred 저장 및 출력\n",
    "\n",
    "pred_rf = model_rf.predict([x_test[0]])\n",
    "pred_rf\n"
   ]
  },
  {
   "cell_type": "markdown",
   "metadata": {
    "id": "1U_4IXyG5WJf"
   },
   "source": [
    "---"
   ]
  },
  {
   "cell_type": "markdown",
   "metadata": {
    "id": "9tXPnSlN5WCw"
   },
   "source": [
    "# 7. 딥러닝 모델링"
   ]
  },
  {
   "cell_type": "code",
   "execution_count": 50,
   "metadata": {
    "id": "yGZebTd6FYii"
   },
   "outputs": [],
   "source": [
    "# 딥러닝 필요한 라이브러리 가져오기\n",
    "\n",
    "import tensorflow as tf\n",
    "from tensorflow.keras.models import Sequential\n",
    "from tensorflow.keras.layers import Dense"
   ]
  },
  {
   "cell_type": "markdown",
   "metadata": {
    "id": "TSCCMe-o5gyW"
   },
   "source": [
    "![DNN](https://www.kdnuggets.com/wp-content/uploads/neural-network-input-hidden-output.jpg)"
   ]
  },
  {
   "cell_type": "code",
   "execution_count": 52,
   "metadata": {},
   "outputs": [
    {
     "data": {
      "text/plain": [
       "6"
      ]
     },
     "execution_count": 52,
     "metadata": {},
     "output_type": "execute_result"
    }
   ],
   "source": [
    "n = x_train.shape[1]\n",
    "n"
   ]
  },
  {
   "cell_type": "code",
   "execution_count": 53,
   "metadata": {
    "id": "Q9oj9TspFYla"
   },
   "outputs": [
    {
     "name": "stdout",
     "output_type": "stream",
     "text": [
      "Model: \"sequential\"\n",
      "_________________________________________________________________\n",
      " Layer (type)                Output Shape              Param #   \n",
      "=================================================================\n",
      " dense (Dense)               (None, 6)                 42        \n",
      "                                                                 \n",
      " dense_1 (Dense)             (None, 10)                70        \n",
      "                                                                 \n",
      " dense_2 (Dense)             (None, 2)                 22        \n",
      "                                                                 \n",
      "=================================================================\n",
      "Total params: 134\n",
      "Trainable params: 134\n",
      "Non-trainable params: 0\n",
      "_________________________________________________________________\n"
     ]
    }
   ],
   "source": [
    "# Sequential 모델 만들기 --> model 변수 저장\n",
    "# input layer : (6, )\n",
    "# hidden layer : 10 unit , activation='relu'\n",
    "# output layer : 2 unit , activation='softmax'\n",
    "\n",
    "n = x_train.shape[1]\n",
    "\n",
    "model = Sequential([Dense(6, input_shape=(n,), activation='relu')\n",
    "                   ,Dense(10, activation='relu')\n",
    "                   ,Dense(2, activation='softmax')])\n",
    "\n",
    "model.summary()"
   ]
  },
  {
   "cell_type": "code",
   "execution_count": 54,
   "metadata": {
    "id": "GH1c25hG5lx-"
   },
   "outputs": [],
   "source": [
    "# 모델 컴파일 : compile\n",
    "# loss='sparse_categorical_crossentropy'\n",
    "# optimizer='adam'\n",
    "# metrics=['accuracy']\n",
    "model.compile(loss='sparse_categorical_crossentropy', optimizer='adam', metrics=['accuracy'])\n",
    "\n"
   ]
  },
  {
   "cell_type": "code",
   "execution_count": 55,
   "metadata": {
    "colab": {
     "base_uri": "https://localhost:8080/"
    },
    "executionInfo": {
     "elapsed": 6521,
     "status": "ok",
     "timestamp": 1649059510061,
     "user": {
      "displayName": "yunwoo oh",
      "userId": "01035531558844683999"
     },
     "user_tz": -540
    },
    "id": "LrOR1yOZyHhr",
    "outputId": "36829f03-f064-4cda-f8a8-c3c2cc1150c5"
   },
   "outputs": [
    {
     "name": "stdout",
     "output_type": "stream",
     "text": [
      "Epoch 1/10\n",
      "89/89 [==============================] - 1s 1ms/step - loss: 4.4534 - accuracy: 0.6278\n",
      "Epoch 2/10\n",
      "89/89 [==============================] - 0s 2ms/step - loss: 0.7117 - accuracy: 0.6924\n",
      "Epoch 3/10\n",
      "89/89 [==============================] - 0s 2ms/step - loss: 0.6486 - accuracy: 0.6840\n",
      "Epoch 4/10\n",
      "89/89 [==============================] - 0s 1ms/step - loss: 0.6243 - accuracy: 0.6826\n",
      "Epoch 5/10\n",
      "89/89 [==============================] - 0s 1ms/step - loss: 0.6132 - accuracy: 0.6980\n",
      "Epoch 6/10\n",
      "89/89 [==============================] - 0s 1ms/step - loss: 0.5973 - accuracy: 0.7022\n",
      "Epoch 7/10\n",
      "89/89 [==============================] - 0s 1ms/step - loss: 0.6004 - accuracy: 0.7037\n",
      "Epoch 8/10\n",
      "89/89 [==============================] - 0s 1ms/step - loss: 0.5775 - accuracy: 0.7233\n",
      "Epoch 9/10\n",
      "89/89 [==============================] - 0s 1ms/step - loss: 0.5776 - accuracy: 0.7121\n",
      "Epoch 10/10\n",
      "89/89 [==============================] - 0s 1ms/step - loss: 0.5712 - accuracy: 0.7219\n"
     ]
    }
   ],
   "source": [
    "# 모델 학습 : fit\n",
    "# X_train, y_train, epochs=10, batch_size=8\n",
    "# 학습결과 저장 : history\n",
    "\n",
    "history = model.fit(x_train, y_train, epochs=10, batch_size=8)\n"
   ]
  },
  {
   "cell_type": "markdown",
   "metadata": {
    "id": "LKCU29k38hnN"
   },
   "source": [
    "## epochs 늘려 좀더 공부시키자.\n",
    "- 아무리 공부해도 성능이 더 이상 오르지 않는구나"
   ]
  },
  {
   "cell_type": "code",
   "execution_count": 56,
   "metadata": {
    "colab": {
     "base_uri": "https://localhost:8080/"
    },
    "executionInfo": {
     "elapsed": 10337,
     "status": "ok",
     "timestamp": 1649059520387,
     "user": {
      "displayName": "yunwoo oh",
      "userId": "01035531558844683999"
     },
     "user_tz": -540
    },
    "id": "lQVPJjrb8rzb",
    "outputId": "d3e6fb73-252c-490f-87c9-fcc11926cc6a"
   },
   "outputs": [
    {
     "name": "stdout",
     "output_type": "stream",
     "text": [
      "Epoch 1/30\n",
      "89/89 [==============================] - 0s 1ms/step - loss: 0.5696 - accuracy: 0.7149\n",
      "Epoch 2/30\n",
      "89/89 [==============================] - 0s 1ms/step - loss: 0.5549 - accuracy: 0.7247\n",
      "Epoch 3/30\n",
      "89/89 [==============================] - 0s 1ms/step - loss: 0.5603 - accuracy: 0.7303\n",
      "Epoch 4/30\n",
      "89/89 [==============================] - 0s 1ms/step - loss: 0.5463 - accuracy: 0.7444\n",
      "Epoch 5/30\n",
      "89/89 [==============================] - 0s 1ms/step - loss: 0.5430 - accuracy: 0.7303\n",
      "Epoch 6/30\n",
      "89/89 [==============================] - 0s 1ms/step - loss: 0.5357 - accuracy: 0.7598\n",
      "Epoch 7/30\n",
      "89/89 [==============================] - 0s 1ms/step - loss: 0.5275 - accuracy: 0.7542\n",
      "Epoch 8/30\n",
      "89/89 [==============================] - 0s 2ms/step - loss: 0.5280 - accuracy: 0.7486\n",
      "Epoch 9/30\n",
      "89/89 [==============================] - 0s 1ms/step - loss: 0.5231 - accuracy: 0.7514\n",
      "Epoch 10/30\n",
      "89/89 [==============================] - 0s 1ms/step - loss: 0.5240 - accuracy: 0.7612\n",
      "Epoch 11/30\n",
      "89/89 [==============================] - 0s 1ms/step - loss: 0.5278 - accuracy: 0.7528\n",
      "Epoch 12/30\n",
      "89/89 [==============================] - 0s 1ms/step - loss: 0.5055 - accuracy: 0.7907\n",
      "Epoch 13/30\n",
      "89/89 [==============================] - 0s 1ms/step - loss: 0.5088 - accuracy: 0.7612\n",
      "Epoch 14/30\n",
      "89/89 [==============================] - 0s 1ms/step - loss: 0.5051 - accuracy: 0.7725\n",
      "Epoch 15/30\n",
      "89/89 [==============================] - 0s 1ms/step - loss: 0.4962 - accuracy: 0.8020\n",
      "Epoch 16/30\n",
      "89/89 [==============================] - 0s 1ms/step - loss: 0.4998 - accuracy: 0.7921\n",
      "Epoch 17/30\n",
      "89/89 [==============================] - 0s 1ms/step - loss: 0.4882 - accuracy: 0.7921\n",
      "Epoch 18/30\n",
      "89/89 [==============================] - 0s 2ms/step - loss: 0.4889 - accuracy: 0.7949\n",
      "Epoch 19/30\n",
      "89/89 [==============================] - 0s 1ms/step - loss: 0.4853 - accuracy: 0.7921\n",
      "Epoch 20/30\n",
      "89/89 [==============================] - 0s 2ms/step - loss: 0.4817 - accuracy: 0.7823\n",
      "Epoch 21/30\n",
      "89/89 [==============================] - 0s 1ms/step - loss: 0.4828 - accuracy: 0.7893\n",
      "Epoch 22/30\n",
      "89/89 [==============================] - 0s 1ms/step - loss: 0.4813 - accuracy: 0.7851\n",
      "Epoch 23/30\n",
      "89/89 [==============================] - 0s 1ms/step - loss: 0.4830 - accuracy: 0.7978\n",
      "Epoch 24/30\n",
      "89/89 [==============================] - 0s 2ms/step - loss: 0.4813 - accuracy: 0.8006\n",
      "Epoch 25/30\n",
      "89/89 [==============================] - 0s 2ms/step - loss: 0.4705 - accuracy: 0.7893\n",
      "Epoch 26/30\n",
      "89/89 [==============================] - 0s 1ms/step - loss: 0.4795 - accuracy: 0.7921\n",
      "Epoch 27/30\n",
      "89/89 [==============================] - 0s 1ms/step - loss: 0.4732 - accuracy: 0.7935\n",
      "Epoch 28/30\n",
      "89/89 [==============================] - 0s 2ms/step - loss: 0.4836 - accuracy: 0.7907\n",
      "Epoch 29/30\n",
      "89/89 [==============================] - 0s 2ms/step - loss: 0.4746 - accuracy: 0.7893\n",
      "Epoch 30/30\n",
      "89/89 [==============================] - 0s 1ms/step - loss: 0.4688 - accuracy: 0.7992\n"
     ]
    }
   ],
   "source": [
    "# epochs 횟수 증가하여 모델 학습 : fit\n",
    "# X_train, y_train, epochs=30, batch_size=8 --> epochs 30으로 변경\n",
    "# 학습결과 저장 : history\n",
    "\n",
    "\n",
    "history = model.fit(x_train, y_train, epochs=30, batch_size=8)\n",
    "\n"
   ]
  },
  {
   "cell_type": "markdown",
   "metadata": {
    "id": "LNT10AV60Gnm"
   },
   "source": [
    "## 히든 레이어 더 쌓아 학습해 보자"
   ]
  },
  {
   "cell_type": "markdown",
   "metadata": {
    "id": "9NyuhjCa0aM_"
   },
   "source": [
    "![레이어추가](https://cdn.educba.com/academy/wp-content/uploads/2020/03/DNN-Neural-Network-1.png.webp)"
   ]
  },
  {
   "cell_type": "code",
   "execution_count": 57,
   "metadata": {
    "id": "9laMtozc0Fnq"
   },
   "outputs": [
    {
     "name": "stdout",
     "output_type": "stream",
     "text": [
      "Model: \"sequential_1\"\n",
      "_________________________________________________________________\n",
      " Layer (type)                Output Shape              Param #   \n",
      "=================================================================\n",
      " dense_3 (Dense)             (None, 6)                 42        \n",
      "                                                                 \n",
      " dense_4 (Dense)             (None, 32)                224       \n",
      "                                                                 \n",
      " dense_5 (Dense)             (None, 16)                528       \n",
      "                                                                 \n",
      " dense_6 (Dense)             (None, 2)                 34        \n",
      "                                                                 \n",
      "=================================================================\n",
      "Total params: 828\n",
      "Trainable params: 828\n",
      "Non-trainable params: 0\n",
      "_________________________________________________________________\n"
     ]
    }
   ],
   "source": [
    "# Sequential 모델 만들기 --> model 변수 저장\n",
    "# input layer : (6, )\n",
    "# hidden layer : 32 unit , activation='relu'\n",
    "# hidden layer : 16 unit , activation='relu'\n",
    "# output layer : 2 unit , activation='softmax'\n",
    "\n",
    "\n",
    "model = Sequential([Dense(6, input_shape=(n,), activation='relu')\n",
    "                   ,Dense(32, activation='relu')\n",
    "                   ,Dense(16, activation='relu')\n",
    "                   ,Dense(2, activation='softmax')])\n",
    "\n",
    "model.summary()"
   ]
  },
  {
   "cell_type": "code",
   "execution_count": 58,
   "metadata": {
    "id": "zD7bT9nk0Fh8"
   },
   "outputs": [],
   "source": [
    "# 모델 컴파일 : compile\n",
    "# loss='sparse_categorical_crossentropy'\n",
    "# optimizer='adam'\n",
    "# metrics=['accuracy']\n",
    "\n",
    "model.compile(loss='sparse_categorical_crossentropy', optimizer='adam', metrics=['accuracy'])\n",
    "\n",
    "\n",
    "\n"
   ]
  },
  {
   "cell_type": "code",
   "execution_count": 59,
   "metadata": {
    "colab": {
     "base_uri": "https://localhost:8080/"
    },
    "executionInfo": {
     "elapsed": 9370,
     "status": "ok",
     "timestamp": 1649059529749,
     "user": {
      "displayName": "yunwoo oh",
      "userId": "01035531558844683999"
     },
     "user_tz": -540
    },
    "id": "uSL1tasi0FeI",
    "outputId": "22d1319e-3dfc-4f97-d055-fde0666382bf"
   },
   "outputs": [
    {
     "name": "stdout",
     "output_type": "stream",
     "text": [
      "Epoch 1/30\n",
      "89/89 [==============================] - 1s 1ms/step - loss: 0.6748 - accuracy: 0.6643\n",
      "Epoch 2/30\n",
      "89/89 [==============================] - 0s 1ms/step - loss: 0.6331 - accuracy: 0.6671\n",
      "Epoch 3/30\n",
      "89/89 [==============================] - 0s 1ms/step - loss: 0.6247 - accuracy: 0.6798\n",
      "Epoch 4/30\n",
      "89/89 [==============================] - 0s 2ms/step - loss: 0.6162 - accuracy: 0.6756\n",
      "Epoch 5/30\n",
      "89/89 [==============================] - 0s 2ms/step - loss: 0.6090 - accuracy: 0.6854\n",
      "Epoch 6/30\n",
      "89/89 [==============================] - 0s 2ms/step - loss: 0.6082 - accuracy: 0.6798\n",
      "Epoch 7/30\n",
      "89/89 [==============================] - 0s 1ms/step - loss: 0.6047 - accuracy: 0.6756\n",
      "Epoch 8/30\n",
      "89/89 [==============================] - 0s 1ms/step - loss: 0.5935 - accuracy: 0.6854\n",
      "Epoch 9/30\n",
      "89/89 [==============================] - 0s 1ms/step - loss: 0.5797 - accuracy: 0.7008\n",
      "Epoch 10/30\n",
      "89/89 [==============================] - 0s 2ms/step - loss: 0.5929 - accuracy: 0.6896\n",
      "Epoch 11/30\n",
      "89/89 [==============================] - 0s 1ms/step - loss: 0.5773 - accuracy: 0.6924\n",
      "Epoch 12/30\n",
      "89/89 [==============================] - 0s 2ms/step - loss: 0.5610 - accuracy: 0.7079\n",
      "Epoch 13/30\n",
      "89/89 [==============================] - 0s 2ms/step - loss: 0.5504 - accuracy: 0.6994\n",
      "Epoch 14/30\n",
      "89/89 [==============================] - 0s 2ms/step - loss: 0.5460 - accuracy: 0.7135\n",
      "Epoch 15/30\n",
      "89/89 [==============================] - 0s 2ms/step - loss: 0.5394 - accuracy: 0.7402\n",
      "Epoch 16/30\n",
      "89/89 [==============================] - 0s 2ms/step - loss: 0.5292 - accuracy: 0.7486\n",
      "Epoch 17/30\n",
      "89/89 [==============================] - 0s 2ms/step - loss: 0.5372 - accuracy: 0.7261\n",
      "Epoch 18/30\n",
      "89/89 [==============================] - 0s 2ms/step - loss: 0.5149 - accuracy: 0.7500\n",
      "Epoch 19/30\n",
      "89/89 [==============================] - 0s 2ms/step - loss: 0.5125 - accuracy: 0.7514\n",
      "Epoch 20/30\n",
      "89/89 [==============================] - 0s 2ms/step - loss: 0.5138 - accuracy: 0.7612\n",
      "Epoch 21/30\n",
      "89/89 [==============================] - 0s 1ms/step - loss: 0.5236 - accuracy: 0.7388\n",
      "Epoch 22/30\n",
      "89/89 [==============================] - 0s 2ms/step - loss: 0.5024 - accuracy: 0.7612\n",
      "Epoch 23/30\n",
      "89/89 [==============================] - 0s 1ms/step - loss: 0.5153 - accuracy: 0.7711\n",
      "Epoch 24/30\n",
      "89/89 [==============================] - 0s 2ms/step - loss: 0.5043 - accuracy: 0.7753\n",
      "Epoch 25/30\n",
      "89/89 [==============================] - 0s 2ms/step - loss: 0.4939 - accuracy: 0.7851\n",
      "Epoch 26/30\n",
      "89/89 [==============================] - 0s 2ms/step - loss: 0.4920 - accuracy: 0.7837\n",
      "Epoch 27/30\n",
      "89/89 [==============================] - 0s 1ms/step - loss: 0.4887 - accuracy: 0.7823\n",
      "Epoch 28/30\n",
      "89/89 [==============================] - 0s 1ms/step - loss: 0.4881 - accuracy: 0.7865\n",
      "Epoch 29/30\n",
      "89/89 [==============================] - 0s 2ms/step - loss: 0.4895 - accuracy: 0.7907\n",
      "Epoch 30/30\n",
      "89/89 [==============================] - 0s 1ms/step - loss: 0.4872 - accuracy: 0.7949\n"
     ]
    }
   ],
   "source": [
    "# 모델 학습 : fit\n",
    "# X_train, y_train, epochs=30, batch_size=8\n",
    "# 학습결과 저장 : history\n",
    "\n",
    "\n",
    "history = model.fit(x_train, y_train, epochs=30, batch_size=8)\n"
   ]
  },
  {
   "cell_type": "markdown",
   "metadata": {
    "id": "SBBUlGfr1wK2"
   },
   "source": [
    "## DNN 학습때 학습이 잘되는지 보기 위해 모르는 데이터(valid data)로 평가해 보자"
   ]
  },
  {
   "cell_type": "code",
   "execution_count": 61,
   "metadata": {},
   "outputs": [],
   "source": [
    "from keras.backend import clear_session"
   ]
  },
  {
   "cell_type": "code",
   "execution_count": 62,
   "metadata": {
    "id": "rr3-7qK-DWnk"
   },
   "outputs": [
    {
     "name": "stdout",
     "output_type": "stream",
     "text": [
      "Model: \"sequential\"\n",
      "_________________________________________________________________\n",
      " Layer (type)                Output Shape              Param #   \n",
      "=================================================================\n",
      " dense (Dense)               (None, 6)                 42        \n",
      "                                                                 \n",
      " dense_1 (Dense)             (None, 32)                224       \n",
      "                                                                 \n",
      " dense_2 (Dense)             (None, 16)                528       \n",
      "                                                                 \n",
      " dense_3 (Dense)             (None, 2)                 34        \n",
      "                                                                 \n",
      "=================================================================\n",
      "Total params: 828\n",
      "Trainable params: 828\n",
      "Non-trainable params: 0\n",
      "_________________________________________________________________\n"
     ]
    }
   ],
   "source": [
    "# Sequential 모델 만들기 --> model 변수 저장\n",
    "# input layer : (6, )\n",
    "# hidden layer : 32 unit , activation='relu'\n",
    "# hidden layer : 16 unit , activation='relu'\n",
    "# output layer : 2 unit , activation='softmax'\n",
    "\n",
    "\n",
    "clear_session()\n",
    "\n",
    "\n",
    "model = Sequential([Dense(6, input_shape=(n,), activation='relu')\n",
    "                   ,Dense(32, activation='relu')\n",
    "                   ,Dense(16, activation='relu')\n",
    "                   ,Dense(2, activation='softmax')])\n",
    "\n",
    "model.summary()\n"
   ]
  },
  {
   "cell_type": "code",
   "execution_count": 63,
   "metadata": {
    "id": "JLGdzDTa25Ga"
   },
   "outputs": [],
   "source": [
    "# 모델 컴파일 : compile\n",
    "# loss='sparse_categorical_crossentropy'\n",
    "# optimizer='adam'\n",
    "# metrics=['accuracy']\n",
    "\n",
    "model.compile(loss='sparse_categorical_crossentropy', optimizer='adam', metrics=['accuracy'])\n",
    "\n"
   ]
  },
  {
   "cell_type": "code",
   "execution_count": 65,
   "metadata": {
    "colab": {
     "base_uri": "https://localhost:8080/"
    },
    "executionInfo": {
     "elapsed": 10434,
     "status": "ok",
     "timestamp": 1649059540179,
     "user": {
      "displayName": "yunwoo oh",
      "userId": "01035531558844683999"
     },
     "user_tz": -540
    },
    "id": "8ZIdzv_u1_nN",
    "outputId": "03b26e66-d2c3-4348-fd5c-b73f4e9fbef1"
   },
   "outputs": [
    {
     "name": "stdout",
     "output_type": "stream",
     "text": [
      "Epoch 1/30\n",
      "89/89 [==============================] - 1s 4ms/step - loss: 0.7935 - accuracy: 0.6067 - val_loss: 0.5912 - val_accuracy: 0.7207\n",
      "Epoch 2/30\n",
      "89/89 [==============================] - 0s 2ms/step - loss: 0.6232 - accuracy: 0.6573 - val_loss: 0.5686 - val_accuracy: 0.7151\n",
      "Epoch 3/30\n",
      "89/89 [==============================] - 0s 2ms/step - loss: 0.5971 - accuracy: 0.6756 - val_loss: 0.6239 - val_accuracy: 0.5866\n",
      "Epoch 4/30\n",
      "89/89 [==============================] - 0s 2ms/step - loss: 0.6042 - accuracy: 0.6587 - val_loss: 0.5709 - val_accuracy: 0.7207\n",
      "Epoch 5/30\n",
      "89/89 [==============================] - 0s 2ms/step - loss: 0.5923 - accuracy: 0.6601 - val_loss: 0.5493 - val_accuracy: 0.7318\n",
      "Epoch 6/30\n",
      "89/89 [==============================] - 0s 2ms/step - loss: 0.5990 - accuracy: 0.6826 - val_loss: 0.5770 - val_accuracy: 0.7263\n",
      "Epoch 7/30\n",
      "89/89 [==============================] - 0s 2ms/step - loss: 0.5848 - accuracy: 0.6854 - val_loss: 0.5305 - val_accuracy: 0.7430\n",
      "Epoch 8/30\n",
      "89/89 [==============================] - 0s 2ms/step - loss: 0.5766 - accuracy: 0.6812 - val_loss: 0.5545 - val_accuracy: 0.7318\n",
      "Epoch 9/30\n",
      "89/89 [==============================] - 0s 2ms/step - loss: 0.5761 - accuracy: 0.6938 - val_loss: 0.5524 - val_accuracy: 0.7542\n",
      "Epoch 10/30\n",
      "89/89 [==============================] - 0s 2ms/step - loss: 0.5666 - accuracy: 0.6826 - val_loss: 0.5360 - val_accuracy: 0.7151\n",
      "Epoch 11/30\n",
      "89/89 [==============================] - 0s 2ms/step - loss: 0.5543 - accuracy: 0.7149 - val_loss: 0.5143 - val_accuracy: 0.7318\n",
      "Epoch 12/30\n",
      "89/89 [==============================] - 0s 2ms/step - loss: 0.5385 - accuracy: 0.7374 - val_loss: 0.5013 - val_accuracy: 0.7598\n",
      "Epoch 13/30\n",
      "89/89 [==============================] - 0s 2ms/step - loss: 0.5183 - accuracy: 0.7570 - val_loss: 0.4832 - val_accuracy: 0.7765\n",
      "Epoch 14/30\n",
      "89/89 [==============================] - 0s 2ms/step - loss: 0.5195 - accuracy: 0.7598 - val_loss: 0.4765 - val_accuracy: 0.7654\n",
      "Epoch 15/30\n",
      "89/89 [==============================] - 0s 2ms/step - loss: 0.5114 - accuracy: 0.7683 - val_loss: 0.4747 - val_accuracy: 0.7821\n",
      "Epoch 16/30\n",
      "89/89 [==============================] - 0s 2ms/step - loss: 0.4956 - accuracy: 0.7809 - val_loss: 0.4633 - val_accuracy: 0.8101\n",
      "Epoch 17/30\n",
      "89/89 [==============================] - 0s 2ms/step - loss: 0.5129 - accuracy: 0.7683 - val_loss: 0.5175 - val_accuracy: 0.7765\n",
      "Epoch 18/30\n",
      "89/89 [==============================] - 0s 2ms/step - loss: 0.5000 - accuracy: 0.7907 - val_loss: 0.4644 - val_accuracy: 0.8101\n",
      "Epoch 19/30\n",
      "89/89 [==============================] - 0s 2ms/step - loss: 0.4938 - accuracy: 0.7767 - val_loss: 0.4777 - val_accuracy: 0.7933\n",
      "Epoch 20/30\n",
      "89/89 [==============================] - 0s 2ms/step - loss: 0.5237 - accuracy: 0.7542 - val_loss: 0.4632 - val_accuracy: 0.7821\n",
      "Epoch 21/30\n",
      "89/89 [==============================] - 0s 2ms/step - loss: 0.4926 - accuracy: 0.7781 - val_loss: 0.4708 - val_accuracy: 0.7989\n",
      "Epoch 22/30\n",
      "89/89 [==============================] - 0s 3ms/step - loss: 0.4806 - accuracy: 0.7992 - val_loss: 0.4547 - val_accuracy: 0.8156\n",
      "Epoch 23/30\n",
      "89/89 [==============================] - 0s 2ms/step - loss: 0.4996 - accuracy: 0.7753 - val_loss: 0.4566 - val_accuracy: 0.8045\n",
      "Epoch 24/30\n",
      "89/89 [==============================] - 0s 2ms/step - loss: 0.4937 - accuracy: 0.7865 - val_loss: 0.4675 - val_accuracy: 0.8045\n",
      "Epoch 25/30\n",
      "89/89 [==============================] - 0s 2ms/step - loss: 0.4713 - accuracy: 0.8174 - val_loss: 0.4480 - val_accuracy: 0.8045\n",
      "Epoch 26/30\n",
      "89/89 [==============================] - 0s 2ms/step - loss: 0.4987 - accuracy: 0.7823 - val_loss: 0.4371 - val_accuracy: 0.8101\n",
      "Epoch 27/30\n",
      "89/89 [==============================] - 0s 2ms/step - loss: 0.4565 - accuracy: 0.8188 - val_loss: 0.4608 - val_accuracy: 0.8101\n",
      "Epoch 28/30\n",
      "89/89 [==============================] - 0s 2ms/step - loss: 0.4641 - accuracy: 0.8090 - val_loss: 0.4307 - val_accuracy: 0.8045\n",
      "Epoch 29/30\n",
      "89/89 [==============================] - 0s 2ms/step - loss: 0.4524 - accuracy: 0.8076 - val_loss: 0.4242 - val_accuracy: 0.8156\n",
      "Epoch 30/30\n",
      "89/89 [==============================] - 0s 3ms/step - loss: 0.4685 - accuracy: 0.8034 - val_loss: 0.4420 - val_accuracy: 0.7821\n"
     ]
    }
   ],
   "source": [
    "# 모델 학습 : fit\n",
    "# X_train, y_train, epochs=30, batch_size=8, validation_data=(X_test, y_test)\n",
    "# 학습결과 저장 : history\n",
    "\n",
    "# validation_data 옵션을 추가해서 모델 학습에 대한 평가를 할수 있다.\n",
    "# 즉, 모르는 데이터에 대해 성능평가 잘 나온다면 좋은것이다. \n",
    "\n",
    "\n",
    "history = model.fit(x_train, y_train, epochs=30, batch_size=8, validation_data=(x_test, y_test))\n",
    "\n",
    "\n"
   ]
  },
  {
   "cell_type": "markdown",
   "metadata": {
    "id": "lXayjZaA515j"
   },
   "source": [
    "---"
   ]
  },
  {
   "cell_type": "markdown",
   "metadata": {
    "id": "-368-McM51w8"
   },
   "source": [
    "# 8. 딥러닝 성능 평가"
   ]
  },
  {
   "cell_type": "code",
   "execution_count": 66,
   "metadata": {
    "colab": {
     "base_uri": "https://localhost:8080/"
    },
    "executionInfo": {
     "elapsed": 451,
     "status": "ok",
     "timestamp": 1649059540617,
     "user": {
      "displayName": "yunwoo oh",
      "userId": "01035531558844683999"
     },
     "user_tz": -540
    },
    "id": "M3XEaVEP2o1T",
    "outputId": "f2626dbb-7e59-460a-92b1-e5ecdf7676ab"
   },
   "outputs": [
    {
     "data": {
      "text/plain": [
       "dict_keys(['loss', 'accuracy', 'val_loss', 'val_accuracy'])"
      ]
     },
     "execution_count": 66,
     "metadata": {},
     "output_type": "execute_result"
    }
   ],
   "source": [
    "history.history.keys()"
   ]
  },
  {
   "cell_type": "code",
   "execution_count": null,
   "metadata": {
    "colab": {
     "base_uri": "https://localhost:8080/",
     "height": 295
    },
    "executionInfo": {
     "elapsed": 4,
     "status": "ok",
     "timestamp": 1649059540617,
     "user": {
      "displayName": "yunwoo oh",
      "userId": "01035531558844683999"
     },
     "user_tz": -540
    },
    "id": "F3Q5YHap5lvG",
    "outputId": "5e736707-e2f2-4df8-ccaa-7a90b5b63c86"
   },
   "outputs": [
    {
     "data": {
      "image/png": "[encoded data removed]",
      "text/plain": [
       "<Figure size 432x288 with 1 Axes>"
      ]
     },
     "metadata": {
      "needs_background": "light"
     },
     "output_type": "display_data"
    }
   ],
   "source": [
    "# matplotlib 이용하여 그래프 그리기\n",
    "# 1. plot 그리기 : 입력  history.history['loss'], 'r'\n",
    "# 2. plot 그리기 : 입력  history.history['accuracy'], 'b'\n",
    "# 3. plot 그리기 : 입력  history.history['val_loss'], 'y'\n",
    "# 4. plot 그리기 : 입력  history.history['val_accuracy'], 'k'\n",
    "# 5. title : 'Loss and Accuracy'\n",
    "# 6. xlabel : \"Epochs\"\n",
    "# 7. ylabel : \"Loss\"\n",
    "# 8. [\"Loss\", \"Accuracy\", 'val_loss', 'val_accuracy']\n",
    "# 7. plt.show()\n",
    "\n",
    "\n",
    "\n",
    "\n",
    "\n"
   ]
  },
  {
   "cell_type": "code",
   "execution_count": 72,
   "metadata": {
    "id": "NZIekizc5lsG"
   },
   "outputs": [
    {
     "data": {
      "image/png": "[encoded data removed]",
      "text/plain": [
       "<Figure size 640x480 with 1 Axes>"
      ]
     },
     "metadata": {},
     "output_type": "display_data"
    }
   ],
   "source": [
    "plt.plot(history.history['loss'], 'r')\n",
    "plt.plot(history.history['accuracy'], 'b')\n",
    "plt.plot(history.history['val_loss'], 'y')\n",
    "plt.plot(history.history['val_accuracy'], 'k')\n",
    "plt.title('Loss and Accuracy')\n",
    "plt.xlabel('Epochs')\n",
    "plt.ylabel(\"Loss\")\n",
    "plt.legend([\"Loss\", \"Accuracy\", 'val_loss', 'val_accuracy'], loc='best')\n",
    "\n",
    "plt.show()"
   ]
  }
 ],
 "metadata": {
  "colab": {
   "authorship_tag": "ABX9TyNO+HtFuEy84hW+KJsov0Le",
   "collapsed_sections": [],
   "name": "머신러닝-딥러닝-TITANIC템플릿_HARD.ipynb",
   "provenance": [
    {
     "file_id": "1n2cXh6gl8BnF-_q3wgrVNBqXd09FIODD",
     "timestamp": 1649059577435
    },
    {
     "file_id": "100WgAWSo5XRBX--WD7-r3ztd9uQhTql9",
     "timestamp": 1648815355128
    }
   ]
  },
  "kernelspec": {
   "display_name": "Python 3 (ipykernel)",
   "language": "python",
   "name": "python3"
  },
  "language_info": {
   "codemirror_mode": {
    "name": "ipython",
    "version": 3
   },
   "file_extension": ".py",
   "mimetype": "text/x-python",
   "name": "python",
   "nbconvert_exporter": "python",
   "pygments_lexer": "ipython3",
   "version": "3.9.13"
  }
 },
 "nbformat": 4,
 "nbformat_minor": 4
}
