{
 "cells": [
  {
   "cell_type": "markdown",
   "id": "997f6ed0-15c1-4552-8ee5-33312b826190",
   "metadata": {},
   "source": [
    "Python"
   ]
  },
  {
   "cell_type": "markdown",
   "id": "5fe3c680-8cea-4e50-ad31-479ac0fb38b9",
   "metadata": {},
   "source": [
    "# 파이썬"
   ]
  },
  {
   "cell_type": "markdown",
   "id": "3b5e24ce-bd20-4821-a06b-6a52918f67e7",
   "metadata": {},
   "source": [
    "### 파이썬 활용 분야\n",
    "- 웹 애플리케이션 개발: django, flask\n",
    "- 크롤링: Beautiful soup, selenium, scrapy\n",
    "- 데이터 과학: numpy, pandas, spicy\n",
    "- 머신러닝: scikit-learn, tensor flow"
   ]
  },
  {
   "cell_type": "markdown",
   "id": "9d32657c-d4b4-4ad7-b01c-365674d7cfe0",
   "metadata": {},
   "source": [
    "##### 1) **변수(variable)**\n",
    "- 할당연산자\n",
    "    - 특수기호 등호(=) 사용\n",
    "    - 데이터를 변수에 담으라고 지시하는 연산자\n",
    "- 특징\n",
    "    - 대소문자 구분\n",
    "    - 알파벳, 숫자, 언더바(_)를 조합하여 사용\n",
    "    - 숫자로는 시작할 수 없음"
   ]
  },
  {
   "cell_type": "code",
   "execution_count": 1,
   "id": "2dbd3267-4d83-4d90-881a-40fc533e7b74",
   "metadata": {},
   "outputs": [
    {
     "name": "stdout",
     "output_type": "stream",
     "text": [
      "Hello, Python World!\n"
     ]
    }
   ],
   "source": [
    "# 환영인사를 mes라는 변수에 담아 화면에 출력\n",
    "\n",
    "mes = 'Hello, Python World!'\n",
    "print(mes)"
   ]
  },
  {
   "cell_type": "markdown",
   "id": "e68a86bc-dc1b-47ad-b006-9504a674d477",
   "metadata": {},
   "source": [
    "##### 2) **데이터 타입**\n",
    "- **Number**\n",
    "    - int(): 정수\n",
    "    - float(): 실수\n",
    "    - complex(): 복소수\n",
    "- **Boolean**\n",
    "    - 참과 거짓을 표현하는 데이터\n",
    "    - 논리 연산자를 이용하여 연산\n",
    "        - and, or, not, ==, !=, >, >=, <, <=, is, in\n",
    "- **string**        \n",
    "    - 문자와 단어로 이루어진 집합\n",
    "    - 따옴표(\"\",'') 기호로 생성"
   ]
  },
  {
   "cell_type": "code",
   "execution_count": 3,
   "id": "b1f499c7-f4ea-42ab-88ca-430fce4bd21e",
   "metadata": {},
   "outputs": [
    {
     "name": "stdout",
     "output_type": "stream",
     "text": [
      "안녕하세요. 홍길동님, 환영합니다. 3회 방문이에요.\n",
      "안녕하세요. 이순신님, 환영합니다. 5회 방문이에요.\n"
     ]
    }
   ],
   "source": [
    "# 문자열 포맷팅 \n",
    "# \"\".format()\n",
    "\n",
    "# 문자열 출력 활용\n",
    "email = '안녕하세요. {0}님, 환영합니다. {1}회 방문이에요.'\n",
    "\n",
    "print(email.format('홍길동', 3))\n",
    "print(email.format('이순신', 5))"
   ]
  },
  {
   "cell_type": "code",
   "execution_count": 4,
   "id": "47d2da0c-e7d7-4065-a1d8-c300c089cb87",
   "metadata": {},
   "outputs": [
    {
     "name": "stdin",
     "output_type": "stream",
     "text": [
      "숫자를 입력하세요: 5\n"
     ]
    },
    {
     "name": "stdout",
     "output_type": "stream",
     "text": [
      "입력한 값은 5입니다\n"
     ]
    }
   ],
   "source": [
    "# input // print\n",
    "\n",
    "a = int(input(\"숫자를 입력하세요:\"))\n",
    "print('입력한 값은 {0}입니다'.format(a))"
   ]
  },
  {
   "cell_type": "markdown",
   "id": "d5b90465-df23-42b2-ab29-be64d95227ea",
   "metadata": {},
   "source": [
    "$ $"
   ]
  },
  {
   "cell_type": "markdown",
   "id": "4879d0e5-2087-4782-b570-09e4f20b916e",
   "metadata": {},
   "source": [
    "**실습**\n",
    "- 1. message 변수 선언하기\n",
    "- 2. 필요한 부분 입력받아 변수에 담기\n",
    "- 3. 메일 내용을 완성하여 출력하기"
   ]
  },
  {
   "cell_type": "code",
   "execution_count": 5,
   "id": "a1ad243b-1e72-45b5-b596-a147666c77de",
   "metadata": {},
   "outputs": [],
   "source": [
    "message = '''안녕하세요 {0}님,\n",
    "파이썬 수업에 오신 걸 환영합니다.\n",
    "오늘은 {1}일차 수업입니다.\n",
    "{0}님과 함께할 우리의 공부가 즐거운 시간이 되기를 바랍니다.\n",
    "'''"
   ]
  },
  {
   "cell_type": "code",
   "execution_count": 6,
   "id": "31ade39b-8dbe-4190-8948-e2e94037e025",
   "metadata": {},
   "outputs": [
    {
     "name": "stdout",
     "output_type": "stream",
     "text": [
      "안녕하세요 홍길동님,\n",
      "파이썬 수업에 오신 걸 환영합니다.\n",
      "오늘은 1일차 수업입니다.\n",
      "홍길동님과 함께할 우리의 공부가 즐거운 시간이 되기를 바랍니다.\n",
      "\n",
      "안녕하세요 임꺽정님,\n",
      "파이썬 수업에 오신 걸 환영합니다.\n",
      "오늘은 3일차 수업입니다.\n",
      "임꺽정님과 함께할 우리의 공부가 즐거운 시간이 되기를 바랍니다.\n",
      "\n"
     ]
    }
   ],
   "source": [
    "print(message.format('홍길동',1))\n",
    "print(message.format('임꺽정',3))"
   ]
  },
  {
   "cell_type": "markdown",
   "id": "99128533-a9ea-4ac3-af9a-a8e38d7dbc4c",
   "metadata": {},
   "source": [
    "---"
   ]
  },
  {
   "cell_type": "markdown",
   "id": "3ae8c2a7-094d-4df6-9759-1edb31abb010",
   "metadata": {},
   "source": [
    "### 문법 제어문 소개"
   ]
  },
  {
   "cell_type": "markdown",
   "id": "08bb04d2-6fa8-4b01-bef2-23966015ee57",
   "metadata": {},
   "source": [
    "**조건문**\n",
    "- if-elif-else\n",
    "- boolean-True/False"
   ]
  },
  {
   "cell_type": "code",
   "execution_count": 13,
   "id": "af339a52-e39b-46ee-9da0-28216278dbc9",
   "metadata": {},
   "outputs": [
    {
     "name": "stdin",
     "output_type": "stream",
     "text": [
      "점수를 입력하세요: 46\n"
     ]
    },
    {
     "name": "stdout",
     "output_type": "stream",
     "text": [
      "F 46점\n"
     ]
    }
   ],
   "source": [
    "# if\n",
    "num = int(input(\"점수를 입력하세요:\"))\n",
    "\n",
    "if num >= 100:\n",
    "    print('T', f'{num}점')\n",
    "else:\n",
    "    print('F', f'{num}점')\n",
    "    "
   ]
  },
  {
   "cell_type": "markdown",
   "id": "1cbe5bae-a9f0-40cb-8a34-5351a79ad2b7",
   "metadata": {},
   "source": [
    "**반복문**\n",
    "- while: 조건이 True인 동안 반복\n",
    "- for/in: 집합의 element를 하나씩 사용하여 반복\n",
    "- break: 반복문을 강제로 마침"
   ]
  },
  {
   "cell_type": "code",
   "execution_count": 14,
   "id": "8d09ffac-cfe3-4ede-b083-46a66e66c829",
   "metadata": {},
   "outputs": [
    {
     "name": "stdout",
     "output_type": "stream",
     "text": [
      "0\n",
      "1\n",
      "2\n",
      "3\n",
      "4\n",
      "5\n",
      "6\n"
     ]
    }
   ],
   "source": [
    "# for\n",
    "\n",
    "for i in range(7):\n",
    "    print(i)"
   ]
  },
  {
   "cell_type": "markdown",
   "id": "c4928e85-2350-4464-859f-51d893c35a81",
   "metadata": {},
   "source": [
    "---\n"
   ]
  },
  {
   "cell_type": "markdown",
   "id": "98d38578-22e5-44aa-aaa4-89c90ebc89f5",
   "metadata": {},
   "source": [
    "### 1. List\n",
    "- 여러 타입의 데이터를 혼합해서 가질 수 있다\n",
    "- 자유롭게 확장할 수 있는 구조: 동적배열\n",
    "- 요소 추가, 갱신, 삭제 가능"
   ]
  },
  {
   "cell_type": "markdown",
   "id": "9b5809bb-4482-40c2-b9c1-55111d7c3426",
   "metadata": {},
   "source": [
    "##### 1) 리스트 생성"
   ]
  },
  {
   "cell_type": "code",
   "execution_count": 16,
   "id": "8cc0b73d-05aa-45b5-90a9-8ea690e0bade",
   "metadata": {},
   "outputs": [
    {
     "name": "stdout",
     "output_type": "stream",
     "text": [
      "<class 'list'>\n",
      "Geo Hinton\n"
     ]
    }
   ],
   "source": [
    "# 리스트 생성\n",
    "\n",
    "stu01 = ['Geo Hinton', 96, 65, 90]\n",
    "stu02 = ['Yaan Lecun', 80, 80, 90]\n",
    "stu03 = ['Yoshua Ben', 92, 88, 84]\n",
    "stu04 = ['Andrew Ng', 75, 85, 100]\n",
    "\n",
    "# 타입 조회\n",
    "print(type(stu01))\n",
    "\n",
    "# 리스트 요소 조회\n",
    "print(stu01[0])"
   ]
  },
  {
   "cell_type": "code",
   "execution_count": 18,
   "id": "470b5fad-6740-431d-844b-05fa272f4d97",
   "metadata": {},
   "outputs": [
    {
     "name": "stdout",
     "output_type": "stream",
     "text": [
      "<class 'list'>\n"
     ]
    },
    {
     "data": {
      "text/plain": [
       "'Geo Hinton'"
      ]
     },
     "execution_count": 18,
     "metadata": {},
     "output_type": "execute_result"
    }
   ],
   "source": [
    "# 2차원 리스트\n",
    "stu = [stu01, stu02, stu03, stu04]\n",
    "\n",
    "# 타입 조회\n",
    "print(type(stu01))\n",
    "\n",
    "# 2차원 리스트 요소 조회\n",
    "stu[0][0]"
   ]
  },
  {
   "cell_type": "markdown",
   "id": "fb38ed61-85cc-4972-94f1-edfefdf085ba",
   "metadata": {},
   "source": [
    "##### 2) 리스트 메소드\n",
    "- append(): 추가\n",
    "- insert(): 삽입\n",
    "- remove(): 제거\n",
    "- sort(): 정렬"
   ]
  },
  {
   "cell_type": "code",
   "execution_count": 29,
   "id": "2e1ff1be-e61a-49a0-be86-732e0355941b",
   "metadata": {},
   "outputs": [
    {
     "name": "stdout",
     "output_type": "stream",
     "text": [
      "['Ella', 80, 90, 70, 100, 'ee', 88]\n"
     ]
    }
   ],
   "source": [
    "# list 생성\n",
    "ga = ['Ella', 80, 90, 70, 100, 'ee']\n",
    "\n",
    "# append\n",
    "ga.append(88)   # 마지막에 '88'추가\n",
    " \n",
    "print(ga)"
   ]
  },
  {
   "cell_type": "code",
   "execution_count": 30,
   "id": "d3068d59-95b0-49ac-8157-2b62b1c6a671",
   "metadata": {},
   "outputs": [
    {
     "name": "stdout",
     "output_type": "stream",
     "text": [
      "[80, 90, 70, 100, 'ee', 88]\n"
     ]
    }
   ],
   "source": [
    "# del\n",
    "del ga[0]  # 'Ella' 삭제\n",
    "print(ga)"
   ]
  },
  {
   "cell_type": "code",
   "execution_count": 31,
   "id": "9c6899d4-a3b5-48fd-ae2e-b1896acb0740",
   "metadata": {},
   "outputs": [
    {
     "name": "stdout",
     "output_type": "stream",
     "text": [
      "[80, 90, 70, 100, 88]\n"
     ]
    }
   ],
   "source": [
    "# remove\n",
    "ga.remove('ee')  # 'ee' 제거하기\n",
    "print(ga)"
   ]
  },
  {
   "cell_type": "code",
   "execution_count": 32,
   "id": "ce2219f6-6d40-4965-8b78-6ee81e3cce75",
   "metadata": {},
   "outputs": [
    {
     "name": "stdout",
     "output_type": "stream",
     "text": [
      "[70, 80, 88, 90, 100]\n"
     ]
    }
   ],
   "source": [
    "# sort\n",
    "ga.sort()\n",
    "print(ga)"
   ]
  },
  {
   "attachments": {
    "a9db0c47-86cf-4878-82fc-6901a60aa070.png": {
     "image/png": "[encoded data removed]"
    }
   },
   "cell_type": "markdown",
   "id": "6ec9f249-7539-4c63-b162-a564392022b2",
   "metadata": {},
   "source": [
    "##### 3) 슬라이싱\n",
    "![image.png](attachment:a9db0c47-86cf-4878-82fc-6901a60aa070.png)"
   ]
  },
  {
   "cell_type": "code",
   "execution_count": 33,
   "id": "c44dcd11-99bf-4763-b661-d7791f5f254b",
   "metadata": {},
   "outputs": [
    {
     "name": "stdout",
     "output_type": "stream",
     "text": [
      "[0, 1, 2, 3, 4, 5, 6, 7, 8, 9]\n",
      "[3, 4, 5, 6, 7, 8, 9]\n",
      "[1, 3, 5, 7, 9]\n"
     ]
    }
   ],
   "source": [
    "# 10까지 정수 목록 만들기\n",
    "nums = list(range(10))\n",
    "print(nums)\n",
    "\n",
    "nums1 = list(range(3,10))\n",
    "print(nums1)\n",
    "\n",
    "nums2 = list(range(1, 10, 2))\n",
    "print(nums2)"
   ]
  },
  {
   "cell_type": "code",
   "execution_count": 34,
   "id": "2255f486-77c5-4aba-8b0f-fe51fa5d4b1d",
   "metadata": {},
   "outputs": [
    {
     "name": "stdout",
     "output_type": "stream",
     "text": [
      "[2, 3]\n",
      "[7, 8, 9]\n",
      "[7, 8, 9]\n",
      "[0, 1, 2, 3, 4, 5, 6, 7]\n"
     ]
    }
   ],
   "source": [
    "# 슬라이싱\n",
    "print(nums[2:4])  # 2 3 \n",
    "print(nums[7:])   # 7 8 9\n",
    "print(nums[-3:])  # 7 8 9\n",
    "print(nums[:-2])  # 0 1 2 3 4 5 6 7"
   ]
  },
  {
   "cell_type": "markdown",
   "id": "4d022575-e49c-4610-880c-103711174546",
   "metadata": {},
   "source": [
    "##### 4) 반복문\n",
    "- for 문은 집합 데이터의 요소를 가지고 반복한다.\n",
    "- enumerate함수 순서와 데이터를 함께 처리\n"
   ]
  },
  {
   "cell_type": "code",
   "execution_count": 36,
   "id": "2a3abcd2-9ed6-4911-946e-94a28769a6c1",
   "metadata": {},
   "outputs": [
    {
     "name": "stdout",
     "output_type": "stream",
     "text": [
      "kitty\n",
      "puppy\n",
      "zebra\n"
     ]
    }
   ],
   "source": [
    "# 반복문 (LOOPS)\n",
    "animals = ['kitty', 'puppy', 'zebra']\n",
    "\n",
    "for a in animals:\n",
    "    print(a)"
   ]
  },
  {
   "cell_type": "code",
   "execution_count": 37,
   "id": "e9afba8b-cf10-4993-8a02-3184319d4c30",
   "metadata": {},
   "outputs": [
    {
     "name": "stdout",
     "output_type": "stream",
     "text": [
      "#1: kitty\n",
      "#2: puppy\n",
      "#3: zebra\n"
     ]
    }
   ],
   "source": [
    "# 반복문 (LOOPS)_ enumerate\n",
    "animals = ['kitty', 'puppy', 'zebra']\n",
    "\n",
    "for idx, a in enumerate(animals):\n",
    "    print('#%d: %s' % (idx+1, a))\n",
    "    \n",
    "# '%' 기호를 사용하여 문자열 서식화  \n",
    "# '%d'와 '%s'는 각각 정수와 문자열을 나타내는 포맷 코드"
   ]
  },
  {
   "cell_type": "markdown",
   "id": "a8395f3e-1513-4cf3-acac-c8d2b54065ed",
   "metadata": {},
   "source": [
    "**cf) List Comprehension**\n",
    "- for + if 문을 조합하여 데이터를 처리하는 구문\n",
    "- 직관적이고 간결한 표현법"
   ]
  },
  {
   "cell_type": "code",
   "execution_count": 38,
   "id": "3afd4141-e184-464f-a994-de605e3f848f",
   "metadata": {},
   "outputs": [
    {
     "name": "stdout",
     "output_type": "stream",
     "text": [
      "[0, 1, 4, 9, 16]\n"
     ]
    }
   ],
   "source": [
    "# 반복문\n",
    "nums = list(range(5))   # 0 1 2 3 4\n",
    "squares = []            # 빈 리스트 만들기\n",
    "\n",
    "for x in nums:\n",
    "    squares.append(x**2)\n",
    "print(squares)"
   ]
  },
  {
   "cell_type": "code",
   "execution_count": 39,
   "id": "3277fc22-d93a-4357-9652-f4e8457b0392",
   "metadata": {},
   "outputs": [
    {
     "name": "stdout",
     "output_type": "stream",
     "text": [
      "[0, 1, 4, 9, 16]\n"
     ]
    }
   ],
   "source": [
    "# 확장 문법_반복문\n",
    "nums = list(range(5))\n",
    "squares = [x ** 2 for x in nums]\n",
    "print(squares)"
   ]
  },
  {
   "cell_type": "code",
   "execution_count": 40,
   "id": "2028bb1d-0519-4b5a-ab9c-042942a5959f",
   "metadata": {},
   "outputs": [
    {
     "name": "stdout",
     "output_type": "stream",
     "text": [
      "[0, 4, 16]\n"
     ]
    }
   ],
   "source": [
    "# 확장 문법_반복문+조건문\n",
    "nums = list(range(5))\n",
    "\n",
    "even_s = [x ** 2 for x in nums if x % 2 == 0]   # 짝수인 것만 제곱 \n",
    "print(even_s)  # 0 4 16"
   ]
  },
  {
   "cell_type": "markdown",
   "id": "21870765-70e4-4a5a-8437-dbb5a9b14f95",
   "metadata": {},
   "source": [
    "---"
   ]
  },
  {
   "attachments": {
    "98dc7584-ffe8-4f6f-9876-f45cae3d5573.png": {
     "image/png": "[encoded data removed]"
    }
   },
   "cell_type": "markdown",
   "id": "31d60602-5662-4faf-9856-b658f1b07953",
   "metadata": {},
   "source": [
    "### 2. 딕셔너리 Dictionary\n",
    "- \"키(key)-값(value)\" 쌍\n",
    "- 키로 신속하게 값을 찾아낸다. (index)\n",
    "- 키는 중복될 수 없다\n",
    "\n",
    "![image.png](attachment:98dc7584-ffe8-4f6f-9876-f45cae3d5573.png)"
   ]
  },
  {
   "cell_type": "markdown",
   "id": "89d5facd-8088-4450-8ba3-23ea44b46fbf",
   "metadata": {},
   "source": [
    "##### 1) 딕셔너리 생성"
   ]
  },
  {
   "cell_type": "code",
   "execution_count": 41,
   "id": "0f1b6bc7-16e1-448e-b6ae-2150ee52a006",
   "metadata": {},
   "outputs": [
    {
     "name": "stdout",
     "output_type": "stream",
     "text": [
      "{'cat': 'kitty', 'dog': 'puppy'}\n"
     ]
    }
   ],
   "source": [
    "# dictionary 생성\n",
    "d = {'cat': 'kitty', 'dog': 'puppy'}\n",
    "print(d)"
   ]
  },
  {
   "cell_type": "code",
   "execution_count": 43,
   "id": "c7744f60-bd9d-48c1-98a6-22fdecd4390f",
   "metadata": {},
   "outputs": [
    {
     "name": "stdout",
     "output_type": "stream",
     "text": [
      "kitty\n"
     ]
    }
   ],
   "source": [
    "# dictionary 특정 값 조회\n",
    "print(d['cat'])     # 'kitty'"
   ]
  },
  {
   "cell_type": "code",
   "execution_count": 44,
   "id": "2a0b7068-7d25-46d5-b5b9-589e414044dd",
   "metadata": {},
   "outputs": [
    {
     "name": "stdout",
     "output_type": "stream",
     "text": [
      "True\n",
      "False\n"
     ]
    }
   ],
   "source": [
    "# key값이 들어있는지 확인\n",
    "print('cat' in d)          # True\n",
    "print('sheep' in d)        # False"
   ]
  },
  {
   "cell_type": "code",
   "execution_count": 45,
   "id": "f7e585a4-3892-4176-9aa7-135848d073cb",
   "metadata": {},
   "outputs": [
    {
     "name": "stdout",
     "output_type": "stream",
     "text": [
      "wet\n"
     ]
    }
   ],
   "source": [
    "# 새로운 (key, value) 추가\n",
    "d['fish'] = 'wet'       # fish라는 key를 추가하고, fish의 value는 wet\n",
    "print(d['fish'])"
   ]
  },
  {
   "cell_type": "code",
   "execution_count": 46,
   "id": "e6621b8e-5879-4ffd-bd4a-e1e335beb75d",
   "metadata": {},
   "outputs": [
    {
     "name": "stdout",
     "output_type": "stream",
     "text": [
      "N/A\n",
      "wet\n"
     ]
    }
   ],
   "source": [
    "# key가 없는 경우, default value 사용\n",
    "print(d.get('monkey', 'N/A'))\n",
    "print(d.get('fish', 'N/A'))"
   ]
  },
  {
   "cell_type": "code",
   "execution_count": 47,
   "id": "bacf1b44-ddbc-4294-b1b4-8fcec0f8bd75",
   "metadata": {},
   "outputs": [
    {
     "name": "stdout",
     "output_type": "stream",
     "text": [
      "N/A\n"
     ]
    }
   ],
   "source": [
    "# 요소 삭제\n",
    "del d['fish']\n",
    "print(d.get('fish', 'N/A'))"
   ]
  },
  {
   "cell_type": "markdown",
   "id": "2140b9f9-3a79-4c7c-9654-16f68cbe52d7",
   "metadata": {},
   "source": [
    "##### 2) 딕셔너리를 이용한 반복문"
   ]
  },
  {
   "cell_type": "code",
   "execution_count": 48,
   "id": "c82c2752-c42a-479c-8b51-808ee1883805",
   "metadata": {},
   "outputs": [
    {
     "name": "stdout",
     "output_type": "stream",
     "text": [
      "A person has 2 legs\n",
      "A cat has 4 legs\n",
      "A spider has 8 legs\n"
     ]
    }
   ],
   "source": [
    "d = {'person': 2, 'cat': 4, 'spider': 8}\n",
    "\n",
    "for key in d:\n",
    "    value = d[key]\n",
    "    print('A %s has %d legs' % (key, value))"
   ]
  },
  {
   "cell_type": "markdown",
   "id": "ec36c28d-b1c4-4236-bae4-0116fad0ffdd",
   "metadata": {},
   "source": [
    "**cf) List Comprehension**"
   ]
  },
  {
   "cell_type": "code",
   "execution_count": 49,
   "id": "f615657c-7977-447b-8ac8-beb2e6285fea",
   "metadata": {},
   "outputs": [
    {
     "name": "stdout",
     "output_type": "stream",
     "text": [
      "{'cat': 11, 'fish': 15}\n"
     ]
    }
   ],
   "source": [
    "# 확장 문법_반복문+제어문\n",
    "\n",
    "animals = {'cat': 11, 'dog': 7, 'fish': 15, 'horse':3}\n",
    "animals_o = {k: v for k, v in animals.items() if v > 10}\n",
    "print(animals_o)"
   ]
  },
  {
   "cell_type": "markdown",
   "id": "bd349926-cf5d-4d1d-8411-757166f4adae",
   "metadata": {},
   "source": [
    "---"
   ]
  },
  {
   "cell_type": "markdown",
   "id": "d1561239-d1f2-4ef7-9790-1cdf9415ef13",
   "metadata": {},
   "source": [
    "### 3. 튜플 Tuple\n",
    "- immutable\n",
    "- 변경 불가능한 리스트\n",
    "- 추가, 삭제 수장 불가 "
   ]
  },
  {
   "cell_type": "code",
   "execution_count": 51,
   "id": "d185a62f-de88-43e6-b348-7027c089cc5b",
   "metadata": {},
   "outputs": [
    {
     "name": "stdout",
     "output_type": "stream",
     "text": [
      "<class 'tuple'>\n",
      "(5, 6)\n",
      "5\n"
     ]
    }
   ],
   "source": [
    "# 튜플 생성\n",
    "t = (5, 6)\n",
    "print(type(t))\n",
    "print(t)\n",
    "\n",
    "print(t[0])"
   ]
  },
  {
   "cell_type": "code",
   "execution_count": 52,
   "id": "912ea8f0-acb7-410e-ba8d-7669ba9085b3",
   "metadata": {},
   "outputs": [
    {
     "name": "stdout",
     "output_type": "stream",
     "text": [
      "10\n",
      "1\n"
     ]
    }
   ],
   "source": [
    "# dictionary의 키로 사용되는 tuple\n",
    "d = {(1, 0): 10, (2, 0): 20, (0, 1): 1}\n",
    "print(d[1,0])    # \"10\"\n",
    "print(d[0,1])    # '1' "
   ]
  },
  {
   "cell_type": "markdown",
   "id": "9f031039-5818-4dcd-96ee-663e1a9ebbf0",
   "metadata": {},
   "source": [
    "---"
   ]
  },
  {
   "cell_type": "markdown",
   "id": "6cb97932-5d47-417b-8924-8bd92aca4f87",
   "metadata": {},
   "source": [
    "### 4. 집합 Set\n",
    "- unique elements로 구성 \n",
    "- 중복이 되지 않는다\n",
    "- 교집합, 합집합, 차집합"
   ]
  },
  {
   "cell_type": "code",
   "execution_count": 53,
   "id": "7ccd9c6b-b65f-4b5c-8ac5-7879592dd23b",
   "metadata": {},
   "outputs": [
    {
     "name": "stdout",
     "output_type": "stream",
     "text": [
      "{'cat', 'dog'}\n"
     ]
    }
   ],
   "source": [
    "animals = {'cat', 'dog'}\n",
    "print(animals)"
   ]
  },
  {
   "cell_type": "code",
   "execution_count": 54,
   "id": "24afd35a-33cd-4c9f-814d-8e6e91f71a22",
   "metadata": {},
   "outputs": [
    {
     "name": "stdout",
     "output_type": "stream",
     "text": [
      "True\n",
      "False\n"
     ]
    }
   ],
   "source": [
    "# 요소가 있는지 체크\n",
    "print('cat' in animals)   # True\n",
    "print('fish' in animals)  # False"
   ]
  },
  {
   "cell_type": "code",
   "execution_count": 55,
   "id": "f1d73f4a-9cdd-40e3-a91d-2c662f83a692",
   "metadata": {},
   "outputs": [
    {
     "name": "stdout",
     "output_type": "stream",
     "text": [
      "True\n",
      "{'cat', 'dog', 'fish'}\n"
     ]
    }
   ],
   "source": [
    "# 요소 추가\n",
    "animals.add('fish')\n",
    "print('fish' in animals)  # True\n",
    "print(animals)"
   ]
  },
  {
   "cell_type": "code",
   "execution_count": 59,
   "id": "347607be-ccba-4bb6-8188-28574f9de4cd",
   "metadata": {},
   "outputs": [
    {
     "name": "stdout",
     "output_type": "stream",
     "text": [
      "3\n",
      "3\n",
      "{'cat', 'dog', 'fish'}\n"
     ]
    }
   ],
   "source": [
    "# set 요소 갯수\n",
    "print(len(animals))   # 3\n",
    "animals.add('cat')    # 중복은 추가가 되지 않는다.\n",
    "print(len(animals))\n",
    "print(animals)"
   ]
  },
  {
   "cell_type": "code",
   "execution_count": 60,
   "id": "81364b74-b8fc-4b72-bcca-4c8c108134f8",
   "metadata": {},
   "outputs": [
    {
     "name": "stdout",
     "output_type": "stream",
     "text": [
      "2\n"
     ]
    }
   ],
   "source": [
    "# 요소 삭제 \n",
    "animals.remove('cat')\n",
    "print(len(animals))     # 2"
   ]
  },
  {
   "cell_type": "markdown",
   "id": "31fd270e-d649-4c27-8ed7-569969777b90",
   "metadata": {},
   "source": [
    "---"
   ]
  },
  {
   "cell_type": "markdown",
   "id": "f1b0a6f9-f292-432e-a829-92aa9f74da89",
   "metadata": {},
   "source": [
    "### **함수 만들기**"
   ]
  },
  {
   "cell_type": "code",
   "execution_count": 61,
   "id": "17d5cea9-31d3-4199-86ae-bc28f2f9bc7f",
   "metadata": {},
   "outputs": [
    {
     "name": "stdout",
     "output_type": "stream",
     "text": [
      "negative\n",
      "zero\n",
      "Positive\n"
     ]
    }
   ],
   "source": [
    "def sign(x):\n",
    "    if x > 0:\n",
    "        return 'Positive'\n",
    "    elif x < 0:\n",
    "        return 'negative'\n",
    "    else:\n",
    "        return 'zero'\n",
    "    \n",
    "for x in [-1, 0, 1]:\n",
    "    print(sign(x))"
   ]
  }
 ],
 "metadata": {
  "kernelspec": {
   "display_name": "Python 3 (ipykernel)",
   "language": "python",
   "name": "python3"
  },
  "language_info": {
   "codemirror_mode": {
    "name": "ipython",
    "version": 3
   },
   "file_extension": ".py",
   "mimetype": "text/x-python",
   "name": "python",
   "nbconvert_exporter": "python",
   "pygments_lexer": "ipython3",
   "version": "3.9.13"
  }
 },
 "nbformat": 4,
 "nbformat_minor": 5
}
